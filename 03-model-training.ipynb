{
 "cells": [
  {
   "cell_type": "code",
   "execution_count": null,
   "metadata": {},
   "outputs": [
    {
     "name": "stdout",
     "output_type": "stream",
     "text": [
      "Using device: cuda:0\n",
      "Downloading and preparing CIFAR-10 dataset...\n",
      "Dataset loaded with 45000 training, 5000 validation, and 10000 test images.\n",
      "Number of classes: 10\n",
      "Testing Baseline CNN:\n",
      "Forward pass successful!\n",
      "Input shape: torch.Size([1, 3, 32, 32])\n",
      "Output shape: torch.Size([1, 10])\n",
      "\n",
      "Testing SE-CNN:\n",
      "Forward pass successful!\n",
      "Input shape: torch.Size([1, 3, 32, 32])\n",
      "Output shape: torch.Size([1, 10])\n",
      "\n",
      "Testing CBAM-CNN:\n",
      "Forward pass successful!\n",
      "Input shape: torch.Size([1, 3, 32, 32])\n",
      "Output shape: torch.Size([1, 10])\n",
      "\n",
      "Parameter Counts:\n",
      "Baseline CNN: 259,338 parameters\n",
      "SE-CNN: 264,074 parameters\n",
      "CBAM-CNN: 264,466 parameters\n",
      "\n",
      "SE-CNN has 1.83% more parameters than baseline\n",
      "CBAM-CNN has 1.98% more parameters than baseline\n",
      "Using device: cuda\n"
     ]
    }
   ],
   "source": [
    "# Import necessary libraries\n",
    "import os\n",
    "import torch\n",
    "import torch.nn as nn\n",
    "import torch.optim as optim\n",
    "import matplotlib.pyplot as plt\n",
    "import numpy as np\n",
    "import time\n",
    "from tqdm import tqdm\n",
    "import json\n",
    "from datetime import datetime\n",
    "from torch.nn.utils import clip_grad_norm_\n",
    "\n",
    "\n",
    "# Import from previous notebooks\n",
    "# (Use %run or import directly if you've created Python modules)\n",
    "%run \"01-data-preperation.ipynb\"  # For data loaders\n",
    "%run \"02-model-implementation.ipynb\"  # For model definitions\n",
    "\n",
    "# Set up directories for saving results\n",
    "base_dir = \"results\"\n",
    "model_dir = os.path.join(base_dir, \"models\")\n",
    "log_dir = os.path.join(base_dir, \"logs\")\n",
    "plot_dir = os.path.join(base_dir, \"plots\")\n",
    "\n",
    "# Create directories if they don't exist\n",
    "os.makedirs(model_dir, exist_ok=True)\n",
    "os.makedirs(log_dir, exist_ok=True)\n",
    "os.makedirs(plot_dir, exist_ok=True)\n",
    "\n",
    "# Set device\n",
    "device = torch.device(\"cuda\" if torch.cuda.is_available() else \"cpu\")\n",
    "print(f\"Using device: {device}\")\n",
    "\n",
    "# Set random seeds for reproducibility\n",
    "torch.manual_seed(42)\n",
    "if torch.cuda.is_available():\n",
    "    torch.cuda.manual_seed_all(42)"
   ]
  },
  {
   "cell_type": "code",
   "execution_count": 3,
   "metadata": {},
   "outputs": [],
   "source": [
    "# Define hyperparameters\n",
    "config = {\n",
    "    # Common training parameters\n",
    "    \"num_epochs\": 50,\n",
    "    \"batch_size\": 128,\n",
    "    \"learning_rate\": 0.01,  # Higher learning rate often works well for CIFAR-10\n",
    "    \"weight_decay\": 5e-4,  # Standard for CIFAR-10\n",
    "    \"early_stopping_patience\": 15,\n",
    "    \"scheduler_step_size\": 30,\n",
    "    \"scheduler_gamma\": 0.1,\n",
    "    \n",
    "    # Model-specific parameters (can be adjusted per model if needed)\n",
    "    \"baseline\": {\n",
    "        \"dropout\": 0.3,  # Lower dropout often works better for CIFAR-10\n",
    "    },\n",
    "    \"se\": {\n",
    "        \"dropout\": 0.3,\n",
    "        \"reduction_ratio\": 16,\n",
    "    },\n",
    "    \"cbam\": {\n",
    "        \"dropout\": 0.3,\n",
    "        \"reduction_ratio\": 16,\n",
    "        \"spatial_kernel_size\": 7,\n",
    "    }\n",
    "}\n",
    "\n",
    "# Save configuration for reproducibility\n",
    "with open(os.path.join(log_dir, \"config.json\"), \"w\") as f:\n",
    "    json.dump(config, f, indent=4)"
   ]
  },
  {
   "cell_type": "code",
   "execution_count": 4,
   "metadata": {},
   "outputs": [],
   "source": [
    "def train_one_epoch(model, dataloader, criterion, optimizer, scheduler=None, clip_value=None, device='cuda'):\n",
    "    \"\"\"\n",
    "    Train for one epoch with enhanced metrics and monitoring\n",
    "    \n",
    "    Args:\n",
    "        model: The neural network model\n",
    "        dataloader: Training data loader\n",
    "        criterion: Loss function\n",
    "        optimizer: Optimizer\n",
    "        scheduler: Learning rate scheduler (optional)\n",
    "        clip_value: Gradient clipping threshold (optional)\n",
    "        device: Device to use for training ('cuda' or 'cpu')\n",
    "        \n",
    "    Returns:\n",
    "        dict: Dictionary containing all metrics\n",
    "    \"\"\"\n",
    "    model.train()\n",
    "    start_time = time.time()\n",
    "    \n",
    "    running_loss = 0.0\n",
    "    running_corrects = 0\n",
    "    running_top5_corrects = 0\n",
    "    processed_size = 0\n",
    "    batch_times = []\n",
    "    grad_norms = []\n",
    "    \n",
    "    # Get initial memory usage\n",
    "    initial_memory = torch.cuda.memory_allocated() if torch.cuda.is_available() else 0\n",
    "    \n",
    "    for inputs, labels in tqdm(dataloader, desc=\"Training\"):\n",
    "        batch_start = time.time()\n",
    "        inputs = inputs.to(device)\n",
    "        labels = labels.to(device)\n",
    "        \n",
    "        # Zero the parameter gradients\n",
    "        optimizer.zero_grad()\n",
    "        \n",
    "        # Forward pass\n",
    "        outputs = model(inputs)\n",
    "        _, preds = torch.max(outputs, 1)\n",
    "        loss = criterion(outputs, labels)\n",
    "        \n",
    "        # Calculate top-5 accuracy\n",
    "        _, top5_preds = torch.topk(outputs, 5, dim=1)\n",
    "        correct_top5 = 0\n",
    "        for i, label in enumerate(labels):\n",
    "            correct_top5 += (label == top5_preds[i]).any().item()\n",
    "        \n",
    "        # Backward pass and optimize\n",
    "        loss.backward()\n",
    "        \n",
    "        # Track gradient norms\n",
    "        total_norm = 0\n",
    "        for p in model.parameters():\n",
    "            if p.grad is not None:\n",
    "                param_norm = p.grad.data.norm(2)\n",
    "                total_norm += param_norm.item() ** 2\n",
    "        total_norm = total_norm ** 0.5\n",
    "        grad_norms.append(total_norm)\n",
    "        \n",
    "        # Apply gradient clipping if specified\n",
    "        if clip_value is not None:\n",
    "            clip_grad_norm_(model.parameters(), clip_value)\n",
    "        \n",
    "        optimizer.step()\n",
    "        \n",
    "        # Update learning rate if scheduler is provided\n",
    "        if scheduler is not None and isinstance(scheduler, torch.optim.lr_scheduler.OneCycleLR):\n",
    "            scheduler.step()\n",
    "            \n",
    "        # Statistics\n",
    "        batch_size = inputs.size(0)\n",
    "        running_loss += loss.item() * batch_size\n",
    "        running_corrects += torch.sum(preds == labels.data).item()\n",
    "        running_top5_corrects += correct_top5\n",
    "        processed_size += batch_size\n",
    "        \n",
    "        # Track batch processing time\n",
    "        batch_times.append(time.time() - batch_start)\n",
    "    \n",
    "    # Calculate metrics\n",
    "    epoch_loss = running_loss / processed_size\n",
    "    epoch_acc = running_corrects / processed_size\n",
    "    epoch_top5_acc = running_top5_corrects / processed_size\n",
    "    epoch_time = time.time() - start_time\n",
    "    avg_batch_time = np.mean(batch_times)\n",
    "    avg_grad_norm = np.mean(grad_norms)\n",
    "    \n",
    "    # Calculate peak memory usage\n",
    "    peak_memory = torch.cuda.max_memory_allocated() if torch.cuda.is_available() else 0\n",
    "    memory_usage = peak_memory - initial_memory\n",
    "    \n",
    "    # Update learning rate for epoch-based schedulers\n",
    "    if scheduler is not None and not isinstance(scheduler, torch.optim.lr_scheduler.OneCycleLR):\n",
    "        scheduler.step()\n",
    "    \n",
    "    # Return all metrics\n",
    "    metrics = {\n",
    "        'loss': epoch_loss,\n",
    "        'acc': epoch_acc,\n",
    "        'top5_acc': epoch_top5_acc,\n",
    "        'time': epoch_time,\n",
    "        'avg_batch_time': avg_batch_time,\n",
    "        'memory_usage': memory_usage,\n",
    "        'avg_grad_norm': avg_grad_norm,\n",
    "        'current_lr': optimizer.param_groups[0]['lr']\n",
    "    }\n",
    "    \n",
    "    return metrics\n",
    "\n",
    "\n",
    "def evaluate(model, dataloader, criterion, device='cuda'):\n",
    "    \"\"\"\n",
    "    Evaluate the model with enhanced metrics\n",
    "    \n",
    "    Args:\n",
    "        model: The neural network model\n",
    "        dataloader: Validation/test data loader\n",
    "        criterion: Loss function\n",
    "        device: Device to use for evaluation ('cuda' or 'cpu')\n",
    "        \n",
    "    Returns:\n",
    "        dict: Dictionary containing all metrics\n",
    "    \"\"\"\n",
    "    model.eval()\n",
    "    start_time = time.time()\n",
    "    \n",
    "    running_loss = 0.0\n",
    "    running_corrects = 0\n",
    "    running_top5_corrects = 0\n",
    "    processed_size = 0\n",
    "    \n",
    "    # Store predictions and targets for confusion matrix\n",
    "    all_preds = []\n",
    "    all_labels = []\n",
    "    class_correct = {}\n",
    "    class_total = {}\n",
    "    \n",
    "    # Get initial memory usage\n",
    "    initial_memory = torch.cuda.memory_allocated() if torch.cuda.is_available() else 0\n",
    "    \n",
    "    inference_times = []\n",
    "    \n",
    "    with torch.no_grad():\n",
    "        for inputs, labels in tqdm(dataloader, desc=\"Evaluating\"):\n",
    "            inputs = inputs.to(device)\n",
    "            labels = labels.to(device)\n",
    "            \n",
    "            # Measure inference time\n",
    "            inf_start = time.time()\n",
    "            outputs = model(inputs)\n",
    "            inference_times.append(time.time() - inf_start)\n",
    "            \n",
    "            _, preds = torch.max(outputs, 1)\n",
    "            loss = criterion(outputs, labels)\n",
    "            \n",
    "            # Calculate top-5 accuracy\n",
    "            _, top5_preds = torch.topk(outputs, 5, dim=1)\n",
    "            correct_top5 = 0\n",
    "            for i, label in enumerate(labels):\n",
    "                correct_top5 += (label == top5_preds[i]).any().item()\n",
    "            \n",
    "            # Track predictions for confusion matrix\n",
    "            all_preds.extend(preds.cpu().numpy())\n",
    "            all_labels.extend(labels.cpu().numpy())\n",
    "            \n",
    "            # Class-wise accuracy\n",
    "            for i in range(len(labels)):\n",
    "                label = labels[i].item()\n",
    "                if label not in class_correct:\n",
    "                    class_correct[label] = 0\n",
    "                    class_total[label] = 0\n",
    "                \n",
    "                class_total[label] += 1\n",
    "                if preds[i] == label:\n",
    "                    class_correct[label] += 1\n",
    "            \n",
    "            # Statistics\n",
    "            batch_size = inputs.size(0)\n",
    "            running_loss += loss.item() * batch_size\n",
    "            running_corrects += torch.sum(preds == labels.data).item()\n",
    "            running_top5_corrects += correct_top5\n",
    "            processed_size += batch_size\n",
    "    \n",
    "    # Calculate metrics\n",
    "    epoch_loss = running_loss / processed_size\n",
    "    epoch_acc = running_corrects / processed_size\n",
    "    epoch_top5_acc = running_top5_corrects / processed_size\n",
    "    epoch_time = time.time() - start_time\n",
    "    avg_inference_time = np.mean(inference_times)\n",
    "    \n",
    "    # Calculate class-wise accuracy\n",
    "    class_accuracy = {class_id: (class_correct.get(class_id, 0) / class_total.get(class_id, 1)) \n",
    "                     for class_id in class_total.keys()}\n",
    "    \n",
    "    # Calculate peak memory usage\n",
    "    peak_memory = torch.cuda.max_memory_allocated() if torch.cuda.is_available() else 0\n",
    "    memory_usage = peak_memory - initial_memory\n",
    "    \n",
    "    # Return all metrics\n",
    "    metrics = {\n",
    "        'loss': epoch_loss,\n",
    "        'acc': epoch_acc,\n",
    "        'top5_acc': epoch_top5_acc,\n",
    "        'time': epoch_time,\n",
    "        'avg_inference_time': avg_inference_time,\n",
    "        'memory_usage': memory_usage,\n",
    "        'class_accuracy': class_accuracy,\n",
    "        'predictions': all_preds,\n",
    "        'ground_truth': all_labels\n",
    "    }\n",
    "    \n",
    "    return metrics"
   ]
  },
  {
   "cell_type": "code",
   "execution_count": 5,
   "metadata": {},
   "outputs": [],
   "source": [
    "def train_model(model, train_loader, val_loader, model_name, config, device):\n",
    "    \"\"\"\n",
    "    Complete training pipeline with logging and early stopping\n",
    "    \n",
    "    Args:\n",
    "        model: PyTorch model to train\n",
    "        train_loader: Training data loader\n",
    "        val_loader: Validation data loader\n",
    "        model_name: Name of the model (for saving)\n",
    "        config: Configuration dictionary\n",
    "        device: Device to train on\n",
    "        \n",
    "    Returns:\n",
    "        model: Trained model\n",
    "        history: Dictionary containing training history\n",
    "    \"\"\"\n",
    "    # Initialize model\n",
    "    model = model.to(device)\n",
    "    \n",
    "    # Define loss function and optimizer\n",
    "    criterion = nn.CrossEntropyLoss()\n",
    "    optimizer = optim.Adam(\n",
    "        model.parameters(), \n",
    "        lr=config[\"learning_rate\"], \n",
    "        weight_decay=config[\"weight_decay\"]\n",
    "    )\n",
    "    \n",
    "    # Learning rate scheduler\n",
    "    scheduler = optim.lr_scheduler.StepLR(\n",
    "        optimizer, \n",
    "        step_size=config[\"scheduler_step_size\"], \n",
    "        gamma=config[\"scheduler_gamma\"]\n",
    "    )\n",
    "    \n",
    "    # Initialize history dictionary\n",
    "    history = {\n",
    "        'train_loss': [], 'train_acc': [], 'train_top5_acc': [],\n",
    "        'val_loss': [], 'val_acc': [], 'val_top5_acc': [],\n",
    "        'learning_rate': []\n",
    "    }\n",
    "    \n",
    "    # Early stopping variables\n",
    "    best_val_acc = 0\n",
    "    patience_counter = 0\n",
    "    \n",
    "    # Training loop\n",
    "    for epoch in range(config[\"num_epochs\"]):\n",
    "        print(f\"Epoch {epoch+1}/{config['num_epochs']}\")\n",
    "        \n",
    "        # Train for one epoch\n",
    "        train_metrics = train_one_epoch(\n",
    "            model, train_loader, criterion, optimizer, \n",
    "            scheduler, device=device\n",
    "        )\n",
    "        \n",
    "        # Evaluate on validation set\n",
    "        val_metrics = evaluate(model, val_loader, criterion, device=device)\n",
    "        \n",
    "        # Update history\n",
    "        history['train_loss'].append(train_metrics['loss'])\n",
    "        history['train_acc'].append(train_metrics['acc'])\n",
    "        history['train_top5_acc'].append(train_metrics['top5_acc'])\n",
    "        history['val_loss'].append(val_metrics['loss'])\n",
    "        history['val_acc'].append(val_metrics['acc'])\n",
    "        history['val_top5_acc'].append(val_metrics['top5_acc'])\n",
    "        history['learning_rate'].append(optimizer.param_groups[0]['lr'])\n",
    "        \n",
    "        # Print epoch results\n",
    "        print(f\"Train Loss: {train_metrics['loss']:.4f}, Acc: {train_metrics['acc']:.4f}, Top-5: {train_metrics['top5_acc']:.4f}\")\n",
    "        print(f\"Val Loss: {val_metrics['loss']:.4f}, Acc: {val_metrics['acc']:.4f}, Top-5: {val_metrics['top5_acc']:.4f}\")\n",
    "        \n",
    "        # Check for improvement\n",
    "        if val_metrics['acc'] > best_val_acc:\n",
    "            best_val_acc = val_metrics['acc']\n",
    "            patience_counter = 0\n",
    "            \n",
    "            # Save the best model\n",
    "            torch.save(model.state_dict(), os.path.join(model_dir, f\"{model_name}_best.pth\"))\n",
    "            print(f\"Saved best model with validation accuracy: {best_val_acc:.4f}\")\n",
    "        else:\n",
    "            patience_counter += 1\n",
    "            print(f\"No improvement for {patience_counter} epochs\")\n",
    "        \n",
    "        # Early stopping\n",
    "        if patience_counter >= config[\"early_stopping_patience\"]:\n",
    "            print(f\"Early stopping triggered after {epoch+1} epochs\")\n",
    "            break\n",
    "    \n",
    "    # Save final model and history\n",
    "    torch.save(model.state_dict(), os.path.join(model_dir, f\"{model_name}_final.pth\"))\n",
    "    with open(os.path.join(log_dir, f\"{model_name}_history.json\"), \"w\") as f:\n",
    "        json.dump(history, f)\n",
    "    \n",
    "    # Load best model\n",
    "    model.load_state_dict(torch.load(os.path.join(model_dir, f\"{model_name}_best.pth\")))\n",
    "    \n",
    "    return model, history"
   ]
  },
  {
   "cell_type": "code",
   "execution_count": null,
   "metadata": {},
   "outputs": [],
   "source": []
  },
  {
   "cell_type": "code",
   "execution_count": 5,
   "metadata": {},
   "outputs": [
    {
     "name": "stdout",
     "output_type": "stream",
     "text": [
      "=== Training Baseline CNN ===\n",
      "Epoch 1/50\n"
     ]
    },
    {
     "data": {
      "application/vnd.jupyter.widget-view+json": {
       "model_id": "56793759662c42d8bc26c2e0aa1bfe3c",
       "version_major": 2,
       "version_minor": 0
      },
      "text/plain": [
       "Training:   0%|          | 0/352 [00:00<?, ?it/s]"
      ]
     },
     "metadata": {},
     "output_type": "display_data"
    },
    {
     "data": {
      "application/vnd.jupyter.widget-view+json": {
       "model_id": "78f31ae020104c08b15e27bfc0c3c35d",
       "version_major": 2,
       "version_minor": 0
      },
      "text/plain": [
       "Evaluating:   0%|          | 0/40 [00:00<?, ?it/s]"
      ]
     },
     "metadata": {},
     "output_type": "display_data"
    },
    {
     "name": "stdout",
     "output_type": "stream",
     "text": [
      "Train Loss: 1.6768, Acc: 0.3562, Top-5: 0.8799\n",
      "Val Loss: 2.7483, Acc: 0.2524, Top-5: 0.7936\n",
      "Saved best model with validation accuracy: 0.2524\n",
      "Epoch 2/50\n"
     ]
    },
    {
     "data": {
      "application/vnd.jupyter.widget-view+json": {
       "model_id": "3a3637b2d68649a09215ba734a915197",
       "version_major": 2,
       "version_minor": 0
      },
      "text/plain": [
       "Training:   0%|          | 0/352 [00:00<?, ?it/s]"
      ]
     },
     "metadata": {},
     "output_type": "display_data"
    },
    {
     "data": {
      "application/vnd.jupyter.widget-view+json": {
       "model_id": "39dcacac122147a7931bf452ebbe057a",
       "version_major": 2,
       "version_minor": 0
      },
      "text/plain": [
       "Evaluating:   0%|          | 0/40 [00:00<?, ?it/s]"
      ]
     },
     "metadata": {},
     "output_type": "display_data"
    },
    {
     "name": "stdout",
     "output_type": "stream",
     "text": [
      "Train Loss: 1.3618, Acc: 0.5041, Top-5: 0.9351\n",
      "Val Loss: 1.4227, Acc: 0.4944, Top-5: 0.9342\n",
      "Saved best model with validation accuracy: 0.4944\n",
      "Epoch 3/50\n"
     ]
    },
    {
     "data": {
      "application/vnd.jupyter.widget-view+json": {
       "model_id": "6e76ec59bcf643edbdc5c2ae3be13290",
       "version_major": 2,
       "version_minor": 0
      },
      "text/plain": [
       "Training:   0%|          | 0/352 [00:00<?, ?it/s]"
      ]
     },
     "metadata": {},
     "output_type": "display_data"
    },
    {
     "data": {
      "application/vnd.jupyter.widget-view+json": {
       "model_id": "4bb3889364a54731b0f3c8b4f133d84b",
       "version_major": 2,
       "version_minor": 0
      },
      "text/plain": [
       "Evaluating:   0%|          | 0/40 [00:00<?, ?it/s]"
      ]
     },
     "metadata": {},
     "output_type": "display_data"
    },
    {
     "name": "stdout",
     "output_type": "stream",
     "text": [
      "Train Loss: 1.2157, Acc: 0.5682, Top-5: 0.9470\n",
      "Val Loss: 1.2441, Acc: 0.5490, Top-5: 0.9428\n",
      "Saved best model with validation accuracy: 0.5490\n",
      "Epoch 4/50\n"
     ]
    },
    {
     "data": {
      "application/vnd.jupyter.widget-view+json": {
       "model_id": "b6863306ef4e49f88777eb7730004f91",
       "version_major": 2,
       "version_minor": 0
      },
      "text/plain": [
       "Training:   0%|          | 0/352 [00:00<?, ?it/s]"
      ]
     },
     "metadata": {},
     "output_type": "display_data"
    },
    {
     "data": {
      "application/vnd.jupyter.widget-view+json": {
       "model_id": "234d0458d6644856997dca21ad070ed6",
       "version_major": 2,
       "version_minor": 0
      },
      "text/plain": [
       "Evaluating:   0%|          | 0/40 [00:00<?, ?it/s]"
      ]
     },
     "metadata": {},
     "output_type": "display_data"
    },
    {
     "name": "stdout",
     "output_type": "stream",
     "text": [
      "Train Loss: 1.1394, Acc: 0.5967, Top-5: 0.9549\n",
      "Val Loss: 1.1602, Acc: 0.5958, Top-5: 0.9398\n",
      "Saved best model with validation accuracy: 0.5958\n",
      "Epoch 5/50\n"
     ]
    },
    {
     "data": {
      "application/vnd.jupyter.widget-view+json": {
       "model_id": "a55d5ebe095b4afb8526cc73ad0e425f",
       "version_major": 2,
       "version_minor": 0
      },
      "text/plain": [
       "Training:   0%|          | 0/352 [00:00<?, ?it/s]"
      ]
     },
     "metadata": {},
     "output_type": "display_data"
    },
    {
     "data": {
      "application/vnd.jupyter.widget-view+json": {
       "model_id": "3b3746a5eab2441c832cb7eb297b7930",
       "version_major": 2,
       "version_minor": 0
      },
      "text/plain": [
       "Evaluating:   0%|          | 0/40 [00:00<?, ?it/s]"
      ]
     },
     "metadata": {},
     "output_type": "display_data"
    },
    {
     "name": "stdout",
     "output_type": "stream",
     "text": [
      "Train Loss: 1.0830, Acc: 0.6163, Top-5: 0.9606\n",
      "Val Loss: 1.1797, Acc: 0.5884, Top-5: 0.9388\n",
      "No improvement for 1 epochs\n",
      "Epoch 6/50\n"
     ]
    },
    {
     "data": {
      "application/vnd.jupyter.widget-view+json": {
       "model_id": "8b23ce3082d34205ac836715c7d2051f",
       "version_major": 2,
       "version_minor": 0
      },
      "text/plain": [
       "Training:   0%|          | 0/352 [00:00<?, ?it/s]"
      ]
     },
     "metadata": {},
     "output_type": "display_data"
    },
    {
     "data": {
      "application/vnd.jupyter.widget-view+json": {
       "model_id": "68847f0764c642c084ed09a5005b5cae",
       "version_major": 2,
       "version_minor": 0
      },
      "text/plain": [
       "Evaluating:   0%|          | 0/40 [00:00<?, ?it/s]"
      ]
     },
     "metadata": {},
     "output_type": "display_data"
    },
    {
     "name": "stdout",
     "output_type": "stream",
     "text": [
      "Train Loss: 1.0460, Acc: 0.6330, Top-5: 0.9627\n",
      "Val Loss: 1.1851, Acc: 0.5862, Top-5: 0.9556\n",
      "No improvement for 2 epochs\n",
      "Epoch 7/50\n"
     ]
    },
    {
     "data": {
      "application/vnd.jupyter.widget-view+json": {
       "model_id": "3367b19a42d0450496d309ee08bccae4",
       "version_major": 2,
       "version_minor": 0
      },
      "text/plain": [
       "Training:   0%|          | 0/352 [00:00<?, ?it/s]"
      ]
     },
     "metadata": {},
     "output_type": "display_data"
    },
    {
     "data": {
      "application/vnd.jupyter.widget-view+json": {
       "model_id": "31e8ac4be6d1423d8a675a96dc5f9242",
       "version_major": 2,
       "version_minor": 0
      },
      "text/plain": [
       "Evaluating:   0%|          | 0/40 [00:00<?, ?it/s]"
      ]
     },
     "metadata": {},
     "output_type": "display_data"
    },
    {
     "name": "stdout",
     "output_type": "stream",
     "text": [
      "Train Loss: 1.0273, Acc: 0.6406, Top-5: 0.9625\n",
      "Val Loss: 1.2254, Acc: 0.5872, Top-5: 0.9332\n",
      "No improvement for 3 epochs\n",
      "Epoch 8/50\n"
     ]
    },
    {
     "data": {
      "application/vnd.jupyter.widget-view+json": {
       "model_id": "1897b8db953f4172aedcab4d8ddce82e",
       "version_major": 2,
       "version_minor": 0
      },
      "text/plain": [
       "Training:   0%|          | 0/352 [00:00<?, ?it/s]"
      ]
     },
     "metadata": {},
     "output_type": "display_data"
    },
    {
     "data": {
      "application/vnd.jupyter.widget-view+json": {
       "model_id": "9dac88266b65425c9eb94374387b0d7a",
       "version_major": 2,
       "version_minor": 0
      },
      "text/plain": [
       "Evaluating:   0%|          | 0/40 [00:00<?, ?it/s]"
      ]
     },
     "metadata": {},
     "output_type": "display_data"
    },
    {
     "name": "stdout",
     "output_type": "stream",
     "text": [
      "Train Loss: 1.0119, Acc: 0.6507, Top-5: 0.9648\n",
      "Val Loss: 1.1449, Acc: 0.5942, Top-5: 0.9530\n",
      "No improvement for 4 epochs\n",
      "Epoch 9/50\n"
     ]
    },
    {
     "data": {
      "application/vnd.jupyter.widget-view+json": {
       "model_id": "75a99001aafa466e829f02be1a54ae0a",
       "version_major": 2,
       "version_minor": 0
      },
      "text/plain": [
       "Training:   0%|          | 0/352 [00:00<?, ?it/s]"
      ]
     },
     "metadata": {},
     "output_type": "display_data"
    },
    {
     "data": {
      "application/vnd.jupyter.widget-view+json": {
       "model_id": "adfa67f8e19640068e751f613bbdcdce",
       "version_major": 2,
       "version_minor": 0
      },
      "text/plain": [
       "Evaluating:   0%|          | 0/40 [00:00<?, ?it/s]"
      ]
     },
     "metadata": {},
     "output_type": "display_data"
    },
    {
     "name": "stdout",
     "output_type": "stream",
     "text": [
      "Train Loss: 0.9864, Acc: 0.6571, Top-5: 0.9651\n",
      "Val Loss: 1.0071, Acc: 0.6442, Top-5: 0.9602\n",
      "Saved best model with validation accuracy: 0.6442\n",
      "Epoch 10/50\n"
     ]
    },
    {
     "data": {
      "application/vnd.jupyter.widget-view+json": {
       "model_id": "2cd5faba508a4abb9783259fe511f95e",
       "version_major": 2,
       "version_minor": 0
      },
      "text/plain": [
       "Training:   0%|          | 0/352 [00:00<?, ?it/s]"
      ]
     },
     "metadata": {},
     "output_type": "display_data"
    },
    {
     "data": {
      "application/vnd.jupyter.widget-view+json": {
       "model_id": "fd96c1b14eb04a2984609394b8b6b057",
       "version_major": 2,
       "version_minor": 0
      },
      "text/plain": [
       "Evaluating:   0%|          | 0/40 [00:00<?, ?it/s]"
      ]
     },
     "metadata": {},
     "output_type": "display_data"
    },
    {
     "name": "stdout",
     "output_type": "stream",
     "text": [
      "Train Loss: 0.9722, Acc: 0.6641, Top-5: 0.9674\n",
      "Val Loss: 1.1314, Acc: 0.5986, Top-5: 0.9568\n",
      "No improvement for 1 epochs\n",
      "Epoch 11/50\n"
     ]
    },
    {
     "data": {
      "application/vnd.jupyter.widget-view+json": {
       "model_id": "8f86a7efc9414f048a55ba6f8cb08423",
       "version_major": 2,
       "version_minor": 0
      },
      "text/plain": [
       "Training:   0%|          | 0/352 [00:00<?, ?it/s]"
      ]
     },
     "metadata": {},
     "output_type": "display_data"
    },
    {
     "data": {
      "application/vnd.jupyter.widget-view+json": {
       "model_id": "fa85882fca5243ada7a1c0571cc82dd2",
       "version_major": 2,
       "version_minor": 0
      },
      "text/plain": [
       "Evaluating:   0%|          | 0/40 [00:00<?, ?it/s]"
      ]
     },
     "metadata": {},
     "output_type": "display_data"
    },
    {
     "name": "stdout",
     "output_type": "stream",
     "text": [
      "Train Loss: 0.9637, Acc: 0.6696, Top-5: 0.9684\n",
      "Val Loss: 0.9650, Acc: 0.6628, Top-5: 0.9658\n",
      "Saved best model with validation accuracy: 0.6628\n",
      "Epoch 12/50\n"
     ]
    },
    {
     "data": {
      "application/vnd.jupyter.widget-view+json": {
       "model_id": "ff27a40cdcca4ae282d17b6b9a5cee6c",
       "version_major": 2,
       "version_minor": 0
      },
      "text/plain": [
       "Training:   0%|          | 0/352 [00:00<?, ?it/s]"
      ]
     },
     "metadata": {},
     "output_type": "display_data"
    },
    {
     "data": {
      "application/vnd.jupyter.widget-view+json": {
       "model_id": "7058d3732da24663ba570a260452d1a0",
       "version_major": 2,
       "version_minor": 0
      },
      "text/plain": [
       "Evaluating:   0%|          | 0/40 [00:00<?, ?it/s]"
      ]
     },
     "metadata": {},
     "output_type": "display_data"
    },
    {
     "name": "stdout",
     "output_type": "stream",
     "text": [
      "Train Loss: 0.9588, Acc: 0.6725, Top-5: 0.9669\n",
      "Val Loss: 1.1747, Acc: 0.5972, Top-5: 0.9544\n",
      "No improvement for 1 epochs\n",
      "Epoch 13/50\n"
     ]
    },
    {
     "data": {
      "application/vnd.jupyter.widget-view+json": {
       "model_id": "c1ffa31544ab48dd94c836f3ead2cc3e",
       "version_major": 2,
       "version_minor": 0
      },
      "text/plain": [
       "Training:   0%|          | 0/352 [00:00<?, ?it/s]"
      ]
     },
     "metadata": {},
     "output_type": "display_data"
    },
    {
     "data": {
      "application/vnd.jupyter.widget-view+json": {
       "model_id": "f64dc9b052254a65a73b9ed79ad86f04",
       "version_major": 2,
       "version_minor": 0
      },
      "text/plain": [
       "Evaluating:   0%|          | 0/40 [00:00<?, ?it/s]"
      ]
     },
     "metadata": {},
     "output_type": "display_data"
    },
    {
     "name": "stdout",
     "output_type": "stream",
     "text": [
      "Train Loss: 0.9411, Acc: 0.6784, Top-5: 0.9689\n",
      "Val Loss: 1.0387, Acc: 0.6284, Top-5: 0.9578\n",
      "No improvement for 2 epochs\n",
      "Epoch 14/50\n"
     ]
    },
    {
     "data": {
      "application/vnd.jupyter.widget-view+json": {
       "model_id": "6afde715027f4fac8317db71e060c207",
       "version_major": 2,
       "version_minor": 0
      },
      "text/plain": [
       "Training:   0%|          | 0/352 [00:00<?, ?it/s]"
      ]
     },
     "metadata": {},
     "output_type": "display_data"
    },
    {
     "data": {
      "application/vnd.jupyter.widget-view+json": {
       "model_id": "5e09a8d18bcc49e096ec88422e1f3199",
       "version_major": 2,
       "version_minor": 0
      },
      "text/plain": [
       "Evaluating:   0%|          | 0/40 [00:00<?, ?it/s]"
      ]
     },
     "metadata": {},
     "output_type": "display_data"
    },
    {
     "name": "stdout",
     "output_type": "stream",
     "text": [
      "Train Loss: 0.9418, Acc: 0.6793, Top-5: 0.9677\n",
      "Val Loss: 1.0701, Acc: 0.6298, Top-5: 0.9552\n",
      "No improvement for 3 epochs\n",
      "Epoch 15/50\n"
     ]
    },
    {
     "data": {
      "application/vnd.jupyter.widget-view+json": {
       "model_id": "fb1b89fbc81c406c88456f08bed0d893",
       "version_major": 2,
       "version_minor": 0
      },
      "text/plain": [
       "Training:   0%|          | 0/352 [00:00<?, ?it/s]"
      ]
     },
     "metadata": {},
     "output_type": "display_data"
    },
    {
     "data": {
      "application/vnd.jupyter.widget-view+json": {
       "model_id": "a968d8d0cf6b44e7aee198e38729f238",
       "version_major": 2,
       "version_minor": 0
      },
      "text/plain": [
       "Evaluating:   0%|          | 0/40 [00:00<?, ?it/s]"
      ]
     },
     "metadata": {},
     "output_type": "display_data"
    },
    {
     "name": "stdout",
     "output_type": "stream",
     "text": [
      "Train Loss: 0.9358, Acc: 0.6785, Top-5: 0.9685\n",
      "Val Loss: 1.0435, Acc: 0.6424, Top-5: 0.9686\n",
      "No improvement for 4 epochs\n",
      "Epoch 16/50\n"
     ]
    },
    {
     "data": {
      "application/vnd.jupyter.widget-view+json": {
       "model_id": "371d7b44d1fb4078a9f7a9d752917719",
       "version_major": 2,
       "version_minor": 0
      },
      "text/plain": [
       "Training:   0%|          | 0/352 [00:00<?, ?it/s]"
      ]
     },
     "metadata": {},
     "output_type": "display_data"
    },
    {
     "data": {
      "application/vnd.jupyter.widget-view+json": {
       "model_id": "64fe05f6e3e042fcbb0d63a2b8cfa887",
       "version_major": 2,
       "version_minor": 0
      },
      "text/plain": [
       "Evaluating:   0%|          | 0/40 [00:00<?, ?it/s]"
      ]
     },
     "metadata": {},
     "output_type": "display_data"
    },
    {
     "name": "stdout",
     "output_type": "stream",
     "text": [
      "Train Loss: 0.9268, Acc: 0.6839, Top-5: 0.9690\n",
      "Val Loss: 0.9570, Acc: 0.6622, Top-5: 0.9704\n",
      "No improvement for 5 epochs\n",
      "Epoch 17/50\n"
     ]
    },
    {
     "data": {
      "application/vnd.jupyter.widget-view+json": {
       "model_id": "04113ee28a74447b856ff45fa7be2b49",
       "version_major": 2,
       "version_minor": 0
      },
      "text/plain": [
       "Training:   0%|          | 0/352 [00:00<?, ?it/s]"
      ]
     },
     "metadata": {},
     "output_type": "display_data"
    },
    {
     "data": {
      "application/vnd.jupyter.widget-view+json": {
       "model_id": "e94b5bf5d66e4ab5868734f8372603b7",
       "version_major": 2,
       "version_minor": 0
      },
      "text/plain": [
       "Evaluating:   0%|          | 0/40 [00:00<?, ?it/s]"
      ]
     },
     "metadata": {},
     "output_type": "display_data"
    },
    {
     "name": "stdout",
     "output_type": "stream",
     "text": [
      "Train Loss: 0.9214, Acc: 0.6873, Top-5: 0.9679\n",
      "Val Loss: 0.9560, Acc: 0.6708, Top-5: 0.9696\n",
      "Saved best model with validation accuracy: 0.6708\n",
      "Epoch 18/50\n"
     ]
    },
    {
     "data": {
      "application/vnd.jupyter.widget-view+json": {
       "model_id": "9f4aed0a5630482ea2356e991de01e76",
       "version_major": 2,
       "version_minor": 0
      },
      "text/plain": [
       "Training:   0%|          | 0/352 [00:00<?, ?it/s]"
      ]
     },
     "metadata": {},
     "output_type": "display_data"
    },
    {
     "data": {
      "application/vnd.jupyter.widget-view+json": {
       "model_id": "b2c205a097e64ca280d0f91410030a17",
       "version_major": 2,
       "version_minor": 0
      },
      "text/plain": [
       "Evaluating:   0%|          | 0/40 [00:00<?, ?it/s]"
      ]
     },
     "metadata": {},
     "output_type": "display_data"
    },
    {
     "name": "stdout",
     "output_type": "stream",
     "text": [
      "Train Loss: 0.9120, Acc: 0.6919, Top-5: 0.9702\n",
      "Val Loss: 0.9142, Acc: 0.6726, Top-5: 0.9742\n",
      "Saved best model with validation accuracy: 0.6726\n",
      "Epoch 19/50\n"
     ]
    },
    {
     "data": {
      "application/vnd.jupyter.widget-view+json": {
       "model_id": "b0fe888d3c7c4a329270c9023b176adf",
       "version_major": 2,
       "version_minor": 0
      },
      "text/plain": [
       "Training:   0%|          | 0/352 [00:00<?, ?it/s]"
      ]
     },
     "metadata": {},
     "output_type": "display_data"
    },
    {
     "data": {
      "application/vnd.jupyter.widget-view+json": {
       "model_id": "13227637704a40deb59adcdc9f53cd4e",
       "version_major": 2,
       "version_minor": 0
      },
      "text/plain": [
       "Evaluating:   0%|          | 0/40 [00:00<?, ?it/s]"
      ]
     },
     "metadata": {},
     "output_type": "display_data"
    },
    {
     "name": "stdout",
     "output_type": "stream",
     "text": [
      "Train Loss: 0.9164, Acc: 0.6859, Top-5: 0.9708\n",
      "Val Loss: 0.9336, Acc: 0.6692, Top-5: 0.9736\n",
      "No improvement for 1 epochs\n",
      "Epoch 20/50\n"
     ]
    },
    {
     "data": {
      "application/vnd.jupyter.widget-view+json": {
       "model_id": "94d0fabddc054e2b8bb1a081ec4ceb4e",
       "version_major": 2,
       "version_minor": 0
      },
      "text/plain": [
       "Training:   0%|          | 0/352 [00:00<?, ?it/s]"
      ]
     },
     "metadata": {},
     "output_type": "display_data"
    },
    {
     "data": {
      "application/vnd.jupyter.widget-view+json": {
       "model_id": "07f9532863d94742bd3ec85e84335b31",
       "version_major": 2,
       "version_minor": 0
      },
      "text/plain": [
       "Evaluating:   0%|          | 0/40 [00:00<?, ?it/s]"
      ]
     },
     "metadata": {},
     "output_type": "display_data"
    },
    {
     "name": "stdout",
     "output_type": "stream",
     "text": [
      "Train Loss: 0.9127, Acc: 0.6900, Top-5: 0.9698\n",
      "Val Loss: 0.9264, Acc: 0.6784, Top-5: 0.9710\n",
      "Saved best model with validation accuracy: 0.6784\n",
      "Epoch 21/50\n"
     ]
    },
    {
     "data": {
      "application/vnd.jupyter.widget-view+json": {
       "model_id": "1a440bd158bc44d6b501fa4bab66d23a",
       "version_major": 2,
       "version_minor": 0
      },
      "text/plain": [
       "Training:   0%|          | 0/352 [00:00<?, ?it/s]"
      ]
     },
     "metadata": {},
     "output_type": "display_data"
    },
    {
     "data": {
      "application/vnd.jupyter.widget-view+json": {
       "model_id": "35fa061abb4a40b58eba94a4c740cd08",
       "version_major": 2,
       "version_minor": 0
      },
      "text/plain": [
       "Evaluating:   0%|          | 0/40 [00:00<?, ?it/s]"
      ]
     },
     "metadata": {},
     "output_type": "display_data"
    },
    {
     "name": "stdout",
     "output_type": "stream",
     "text": [
      "Train Loss: 0.9125, Acc: 0.6912, Top-5: 0.9690\n",
      "Val Loss: 0.9127, Acc: 0.6798, Top-5: 0.9754\n",
      "Saved best model with validation accuracy: 0.6798\n",
      "Epoch 22/50\n"
     ]
    },
    {
     "data": {
      "application/vnd.jupyter.widget-view+json": {
       "model_id": "f20df12137be4d559789fa7191076e91",
       "version_major": 2,
       "version_minor": 0
      },
      "text/plain": [
       "Training:   0%|          | 0/352 [00:00<?, ?it/s]"
      ]
     },
     "metadata": {},
     "output_type": "display_data"
    },
    {
     "data": {
      "application/vnd.jupyter.widget-view+json": {
       "model_id": "d91c3bbca75c4d219b7e7085dccee770",
       "version_major": 2,
       "version_minor": 0
      },
      "text/plain": [
       "Evaluating:   0%|          | 0/40 [00:00<?, ?it/s]"
      ]
     },
     "metadata": {},
     "output_type": "display_data"
    },
    {
     "name": "stdout",
     "output_type": "stream",
     "text": [
      "Train Loss: 0.9048, Acc: 0.6945, Top-5: 0.9689\n",
      "Val Loss: 1.0701, Acc: 0.6364, Top-5: 0.9586\n",
      "No improvement for 1 epochs\n",
      "Epoch 23/50\n"
     ]
    },
    {
     "data": {
      "application/vnd.jupyter.widget-view+json": {
       "model_id": "342ce06356ab487eb4fd1797800cb5a0",
       "version_major": 2,
       "version_minor": 0
      },
      "text/plain": [
       "Training:   0%|          | 0/352 [00:00<?, ?it/s]"
      ]
     },
     "metadata": {},
     "output_type": "display_data"
    },
    {
     "data": {
      "application/vnd.jupyter.widget-view+json": {
       "model_id": "93240e7edeb74b4397b1b6a0bfe29bc2",
       "version_major": 2,
       "version_minor": 0
      },
      "text/plain": [
       "Evaluating:   0%|          | 0/40 [00:00<?, ?it/s]"
      ]
     },
     "metadata": {},
     "output_type": "display_data"
    },
    {
     "name": "stdout",
     "output_type": "stream",
     "text": [
      "Train Loss: 0.9042, Acc: 0.6928, Top-5: 0.9706\n",
      "Val Loss: 0.9790, Acc: 0.6534, Top-5: 0.9718\n",
      "No improvement for 2 epochs\n",
      "Epoch 24/50\n"
     ]
    },
    {
     "data": {
      "application/vnd.jupyter.widget-view+json": {
       "model_id": "655f51a160ec4e3598605ab88b11b681",
       "version_major": 2,
       "version_minor": 0
      },
      "text/plain": [
       "Training:   0%|          | 0/352 [00:00<?, ?it/s]"
      ]
     },
     "metadata": {},
     "output_type": "display_data"
    },
    {
     "data": {
      "application/vnd.jupyter.widget-view+json": {
       "model_id": "819f7b523ec643778a7caa4b3c19a0cd",
       "version_major": 2,
       "version_minor": 0
      },
      "text/plain": [
       "Evaluating:   0%|          | 0/40 [00:00<?, ?it/s]"
      ]
     },
     "metadata": {},
     "output_type": "display_data"
    },
    {
     "name": "stdout",
     "output_type": "stream",
     "text": [
      "Train Loss: 0.8934, Acc: 0.6944, Top-5: 0.9711\n",
      "Val Loss: 1.0016, Acc: 0.6528, Top-5: 0.9690\n",
      "No improvement for 3 epochs\n",
      "Epoch 25/50\n"
     ]
    },
    {
     "data": {
      "application/vnd.jupyter.widget-view+json": {
       "model_id": "9f36964b93bc47db96e58a643357e66b",
       "version_major": 2,
       "version_minor": 0
      },
      "text/plain": [
       "Training:   0%|          | 0/352 [00:00<?, ?it/s]"
      ]
     },
     "metadata": {},
     "output_type": "display_data"
    },
    {
     "data": {
      "application/vnd.jupyter.widget-view+json": {
       "model_id": "4e96e945c2314497b068d7605f4796d5",
       "version_major": 2,
       "version_minor": 0
      },
      "text/plain": [
       "Evaluating:   0%|          | 0/40 [00:00<?, ?it/s]"
      ]
     },
     "metadata": {},
     "output_type": "display_data"
    },
    {
     "name": "stdout",
     "output_type": "stream",
     "text": [
      "Train Loss: 0.8878, Acc: 0.6998, Top-5: 0.9716\n",
      "Val Loss: 1.1178, Acc: 0.6378, Top-5: 0.9438\n",
      "No improvement for 4 epochs\n",
      "Epoch 26/50\n"
     ]
    },
    {
     "data": {
      "application/vnd.jupyter.widget-view+json": {
       "model_id": "4e6284f0b1484a23b51925d36044bfd1",
       "version_major": 2,
       "version_minor": 0
      },
      "text/plain": [
       "Training:   0%|          | 0/352 [00:00<?, ?it/s]"
      ]
     },
     "metadata": {},
     "output_type": "display_data"
    },
    {
     "data": {
      "application/vnd.jupyter.widget-view+json": {
       "model_id": "6706b1ea897f4565b6f7bdf0822ed247",
       "version_major": 2,
       "version_minor": 0
      },
      "text/plain": [
       "Evaluating:   0%|          | 0/40 [00:00<?, ?it/s]"
      ]
     },
     "metadata": {},
     "output_type": "display_data"
    },
    {
     "name": "stdout",
     "output_type": "stream",
     "text": [
      "Train Loss: 0.8913, Acc: 0.6986, Top-5: 0.9710\n",
      "Val Loss: 1.0833, Acc: 0.6336, Top-5: 0.9540\n",
      "No improvement for 5 epochs\n",
      "Epoch 27/50\n"
     ]
    },
    {
     "data": {
      "application/vnd.jupyter.widget-view+json": {
       "model_id": "6bc1dc90e708476c96caaa2221dddfac",
       "version_major": 2,
       "version_minor": 0
      },
      "text/plain": [
       "Training:   0%|          | 0/352 [00:00<?, ?it/s]"
      ]
     },
     "metadata": {},
     "output_type": "display_data"
    },
    {
     "data": {
      "application/vnd.jupyter.widget-view+json": {
       "model_id": "4ed36d7d690545cd8f0ddc9954f799a5",
       "version_major": 2,
       "version_minor": 0
      },
      "text/plain": [
       "Evaluating:   0%|          | 0/40 [00:00<?, ?it/s]"
      ]
     },
     "metadata": {},
     "output_type": "display_data"
    },
    {
     "name": "stdout",
     "output_type": "stream",
     "text": [
      "Train Loss: 0.8877, Acc: 0.6980, Top-5: 0.9705\n",
      "Val Loss: 1.0211, Acc: 0.6510, Top-5: 0.9574\n",
      "No improvement for 6 epochs\n",
      "Epoch 28/50\n"
     ]
    },
    {
     "data": {
      "application/vnd.jupyter.widget-view+json": {
       "model_id": "d42b44d08dd64457a1d20c2c81738266",
       "version_major": 2,
       "version_minor": 0
      },
      "text/plain": [
       "Training:   0%|          | 0/352 [00:00<?, ?it/s]"
      ]
     },
     "metadata": {},
     "output_type": "display_data"
    },
    {
     "data": {
      "application/vnd.jupyter.widget-view+json": {
       "model_id": "f1cc9e0e390f48138c2952a903ebce81",
       "version_major": 2,
       "version_minor": 0
      },
      "text/plain": [
       "Evaluating:   0%|          | 0/40 [00:00<?, ?it/s]"
      ]
     },
     "metadata": {},
     "output_type": "display_data"
    },
    {
     "name": "stdout",
     "output_type": "stream",
     "text": [
      "Train Loss: 0.8889, Acc: 0.7000, Top-5: 0.9713\n",
      "Val Loss: 0.9772, Acc: 0.6618, Top-5: 0.9722\n",
      "No improvement for 7 epochs\n",
      "Epoch 29/50\n"
     ]
    },
    {
     "data": {
      "application/vnd.jupyter.widget-view+json": {
       "model_id": "d0302510c30e4a4aa22a731d7bff1e13",
       "version_major": 2,
       "version_minor": 0
      },
      "text/plain": [
       "Training:   0%|          | 0/352 [00:00<?, ?it/s]"
      ]
     },
     "metadata": {},
     "output_type": "display_data"
    },
    {
     "data": {
      "application/vnd.jupyter.widget-view+json": {
       "model_id": "3037c11b92ba40a0af9a55dee77a52d1",
       "version_major": 2,
       "version_minor": 0
      },
      "text/plain": [
       "Evaluating:   0%|          | 0/40 [00:00<?, ?it/s]"
      ]
     },
     "metadata": {},
     "output_type": "display_data"
    },
    {
     "name": "stdout",
     "output_type": "stream",
     "text": [
      "Train Loss: 0.8832, Acc: 0.7027, Top-5: 0.9733\n",
      "Val Loss: 0.9031, Acc: 0.6800, Top-5: 0.9722\n",
      "Saved best model with validation accuracy: 0.6800\n",
      "Epoch 30/50\n"
     ]
    },
    {
     "data": {
      "application/vnd.jupyter.widget-view+json": {
       "model_id": "0d144b1c44684eac8a6ff200a476fcad",
       "version_major": 2,
       "version_minor": 0
      },
      "text/plain": [
       "Training:   0%|          | 0/352 [00:00<?, ?it/s]"
      ]
     },
     "metadata": {},
     "output_type": "display_data"
    },
    {
     "data": {
      "application/vnd.jupyter.widget-view+json": {
       "model_id": "2c67ab6a4712458f9bd813fda92e0421",
       "version_major": 2,
       "version_minor": 0
      },
      "text/plain": [
       "Evaluating:   0%|          | 0/40 [00:00<?, ?it/s]"
      ]
     },
     "metadata": {},
     "output_type": "display_data"
    },
    {
     "name": "stdout",
     "output_type": "stream",
     "text": [
      "Train Loss: 0.8860, Acc: 0.6979, Top-5: 0.9702\n",
      "Val Loss: 0.9924, Acc: 0.6574, Top-5: 0.9644\n",
      "No improvement for 1 epochs\n",
      "Epoch 31/50\n"
     ]
    },
    {
     "data": {
      "application/vnd.jupyter.widget-view+json": {
       "model_id": "350e153bbb3d4fcf935cfcdd7714e9f7",
       "version_major": 2,
       "version_minor": 0
      },
      "text/plain": [
       "Training:   0%|          | 0/352 [00:00<?, ?it/s]"
      ]
     },
     "metadata": {},
     "output_type": "display_data"
    },
    {
     "data": {
      "application/vnd.jupyter.widget-view+json": {
       "model_id": "5a93f02fde3e46ab9fa1cc3679765188",
       "version_major": 2,
       "version_minor": 0
      },
      "text/plain": [
       "Evaluating:   0%|          | 0/40 [00:00<?, ?it/s]"
      ]
     },
     "metadata": {},
     "output_type": "display_data"
    },
    {
     "name": "stdout",
     "output_type": "stream",
     "text": [
      "Train Loss: 0.7433, Acc: 0.7494, Top-5: 0.9799\n",
      "Val Loss: 0.6813, Acc: 0.7640, Top-5: 0.9840\n",
      "Saved best model with validation accuracy: 0.7640\n",
      "Epoch 32/50\n"
     ]
    },
    {
     "data": {
      "application/vnd.jupyter.widget-view+json": {
       "model_id": "42b6c8935e704c4c90c1f1fedfb7bc8f",
       "version_major": 2,
       "version_minor": 0
      },
      "text/plain": [
       "Training:   0%|          | 0/352 [00:00<?, ?it/s]"
      ]
     },
     "metadata": {},
     "output_type": "display_data"
    },
    {
     "data": {
      "application/vnd.jupyter.widget-view+json": {
       "model_id": "5ef54f69ad8545ae826a55e734f50d47",
       "version_major": 2,
       "version_minor": 0
      },
      "text/plain": [
       "Evaluating:   0%|          | 0/40 [00:00<?, ?it/s]"
      ]
     },
     "metadata": {},
     "output_type": "display_data"
    },
    {
     "name": "stdout",
     "output_type": "stream",
     "text": [
      "Train Loss: 0.7068, Acc: 0.7618, Top-5: 0.9817\n",
      "Val Loss: 0.6813, Acc: 0.7652, Top-5: 0.9822\n",
      "Saved best model with validation accuracy: 0.7652\n",
      "Epoch 33/50\n"
     ]
    },
    {
     "data": {
      "application/vnd.jupyter.widget-view+json": {
       "model_id": "c42d2a40791f4b51b417f51afbd2fc59",
       "version_major": 2,
       "version_minor": 0
      },
      "text/plain": [
       "Training:   0%|          | 0/352 [00:00<?, ?it/s]"
      ]
     },
     "metadata": {},
     "output_type": "display_data"
    },
    {
     "data": {
      "application/vnd.jupyter.widget-view+json": {
       "model_id": "a54ad4ae995e485cb06ccfcc647fa78c",
       "version_major": 2,
       "version_minor": 0
      },
      "text/plain": [
       "Evaluating:   0%|          | 0/40 [00:00<?, ?it/s]"
      ]
     },
     "metadata": {},
     "output_type": "display_data"
    },
    {
     "name": "stdout",
     "output_type": "stream",
     "text": [
      "Train Loss: 0.6905, Acc: 0.7681, Top-5: 0.9830\n",
      "Val Loss: 0.6638, Acc: 0.7654, Top-5: 0.9858\n",
      "Saved best model with validation accuracy: 0.7654\n",
      "Epoch 34/50\n"
     ]
    },
    {
     "data": {
      "application/vnd.jupyter.widget-view+json": {
       "model_id": "4d1386a97263439a9e46c6d7c1a420fe",
       "version_major": 2,
       "version_minor": 0
      },
      "text/plain": [
       "Training:   0%|          | 0/352 [00:00<?, ?it/s]"
      ]
     },
     "metadata": {},
     "output_type": "display_data"
    },
    {
     "data": {
      "application/vnd.jupyter.widget-view+json": {
       "model_id": "2f73dce462654d4ebe69dc09decfb590",
       "version_major": 2,
       "version_minor": 0
      },
      "text/plain": [
       "Evaluating:   0%|          | 0/40 [00:00<?, ?it/s]"
      ]
     },
     "metadata": {},
     "output_type": "display_data"
    },
    {
     "name": "stdout",
     "output_type": "stream",
     "text": [
      "Train Loss: 0.6775, Acc: 0.7727, Top-5: 0.9828\n",
      "Val Loss: 0.6512, Acc: 0.7726, Top-5: 0.9848\n",
      "Saved best model with validation accuracy: 0.7726\n",
      "Epoch 35/50\n"
     ]
    },
    {
     "data": {
      "application/vnd.jupyter.widget-view+json": {
       "model_id": "d46690e5bb3444b597041478972386cd",
       "version_major": 2,
       "version_minor": 0
      },
      "text/plain": [
       "Training:   0%|          | 0/352 [00:00<?, ?it/s]"
      ]
     },
     "metadata": {},
     "output_type": "display_data"
    },
    {
     "data": {
      "application/vnd.jupyter.widget-view+json": {
       "model_id": "62b317151266491093d9ae89ce4c21f9",
       "version_major": 2,
       "version_minor": 0
      },
      "text/plain": [
       "Evaluating:   0%|          | 0/40 [00:00<?, ?it/s]"
      ]
     },
     "metadata": {},
     "output_type": "display_data"
    },
    {
     "name": "stdout",
     "output_type": "stream",
     "text": [
      "Train Loss: 0.6695, Acc: 0.7749, Top-5: 0.9830\n",
      "Val Loss: 0.6665, Acc: 0.7630, Top-5: 0.9868\n",
      "No improvement for 1 epochs\n",
      "Epoch 36/50\n"
     ]
    },
    {
     "data": {
      "application/vnd.jupyter.widget-view+json": {
       "model_id": "ec1d79e97dbe4360b9aaea7f64d26787",
       "version_major": 2,
       "version_minor": 0
      },
      "text/plain": [
       "Training:   0%|          | 0/352 [00:00<?, ?it/s]"
      ]
     },
     "metadata": {},
     "output_type": "display_data"
    },
    {
     "data": {
      "application/vnd.jupyter.widget-view+json": {
       "model_id": "9d588f1c151c48ff8498b47947cbb1d6",
       "version_major": 2,
       "version_minor": 0
      },
      "text/plain": [
       "Evaluating:   0%|          | 0/40 [00:00<?, ?it/s]"
      ]
     },
     "metadata": {},
     "output_type": "display_data"
    },
    {
     "name": "stdout",
     "output_type": "stream",
     "text": [
      "Train Loss: 0.6647, Acc: 0.7767, Top-5: 0.9835\n",
      "Val Loss: 0.6473, Acc: 0.7732, Top-5: 0.9854\n",
      "Saved best model with validation accuracy: 0.7732\n",
      "Epoch 37/50\n"
     ]
    },
    {
     "data": {
      "application/vnd.jupyter.widget-view+json": {
       "model_id": "7857efca9a47475b9c6ed9120ce35617",
       "version_major": 2,
       "version_minor": 0
      },
      "text/plain": [
       "Training:   0%|          | 0/352 [00:00<?, ?it/s]"
      ]
     },
     "metadata": {},
     "output_type": "display_data"
    },
    {
     "data": {
      "application/vnd.jupyter.widget-view+json": {
       "model_id": "9635911618e04eb9aa27fbf4e424f623",
       "version_major": 2,
       "version_minor": 0
      },
      "text/plain": [
       "Evaluating:   0%|          | 0/40 [00:00<?, ?it/s]"
      ]
     },
     "metadata": {},
     "output_type": "display_data"
    },
    {
     "name": "stdout",
     "output_type": "stream",
     "text": [
      "Train Loss: 0.6559, Acc: 0.7784, Top-5: 0.9845\n",
      "Val Loss: 0.6383, Acc: 0.7818, Top-5: 0.9870\n",
      "Saved best model with validation accuracy: 0.7818\n",
      "Epoch 38/50\n"
     ]
    },
    {
     "data": {
      "application/vnd.jupyter.widget-view+json": {
       "model_id": "0a7add086d7d4001a70608b6f2365a80",
       "version_major": 2,
       "version_minor": 0
      },
      "text/plain": [
       "Training:   0%|          | 0/352 [00:00<?, ?it/s]"
      ]
     },
     "metadata": {},
     "output_type": "display_data"
    },
    {
     "data": {
      "application/vnd.jupyter.widget-view+json": {
       "model_id": "311e95fa1d174e38a5b06388a9bce8c7",
       "version_major": 2,
       "version_minor": 0
      },
      "text/plain": [
       "Evaluating:   0%|          | 0/40 [00:00<?, ?it/s]"
      ]
     },
     "metadata": {},
     "output_type": "display_data"
    },
    {
     "name": "stdout",
     "output_type": "stream",
     "text": [
      "Train Loss: 0.6580, Acc: 0.7791, Top-5: 0.9850\n",
      "Val Loss: 0.6473, Acc: 0.7782, Top-5: 0.9862\n",
      "No improvement for 1 epochs\n",
      "Epoch 39/50\n"
     ]
    },
    {
     "data": {
      "application/vnd.jupyter.widget-view+json": {
       "model_id": "eb1d36d4019f402995a97bf688d7a4f4",
       "version_major": 2,
       "version_minor": 0
      },
      "text/plain": [
       "Training:   0%|          | 0/352 [00:00<?, ?it/s]"
      ]
     },
     "metadata": {},
     "output_type": "display_data"
    },
    {
     "data": {
      "application/vnd.jupyter.widget-view+json": {
       "model_id": "64b9638be9884bb4946ef9f24b566bc4",
       "version_major": 2,
       "version_minor": 0
      },
      "text/plain": [
       "Evaluating:   0%|          | 0/40 [00:00<?, ?it/s]"
      ]
     },
     "metadata": {},
     "output_type": "display_data"
    },
    {
     "name": "stdout",
     "output_type": "stream",
     "text": [
      "Train Loss: 0.6491, Acc: 0.7836, Top-5: 0.9845\n",
      "Val Loss: 0.6491, Acc: 0.7774, Top-5: 0.9832\n",
      "No improvement for 2 epochs\n",
      "Epoch 40/50\n"
     ]
    },
    {
     "data": {
      "application/vnd.jupyter.widget-view+json": {
       "model_id": "f234083878ef4be4929a546d3825654a",
       "version_major": 2,
       "version_minor": 0
      },
      "text/plain": [
       "Training:   0%|          | 0/352 [00:00<?, ?it/s]"
      ]
     },
     "metadata": {},
     "output_type": "display_data"
    },
    {
     "data": {
      "application/vnd.jupyter.widget-view+json": {
       "model_id": "460e2851a0ab4a928d59767f801c49ac",
       "version_major": 2,
       "version_minor": 0
      },
      "text/plain": [
       "Evaluating:   0%|          | 0/40 [00:00<?, ?it/s]"
      ]
     },
     "metadata": {},
     "output_type": "display_data"
    },
    {
     "name": "stdout",
     "output_type": "stream",
     "text": [
      "Train Loss: 0.6463, Acc: 0.7841, Top-5: 0.9847\n",
      "Val Loss: 0.6239, Acc: 0.7830, Top-5: 0.9846\n",
      "Saved best model with validation accuracy: 0.7830\n",
      "Epoch 41/50\n"
     ]
    },
    {
     "data": {
      "application/vnd.jupyter.widget-view+json": {
       "model_id": "108684e50918416e9f0e0a32de4ccc37",
       "version_major": 2,
       "version_minor": 0
      },
      "text/plain": [
       "Training:   0%|          | 0/352 [00:00<?, ?it/s]"
      ]
     },
     "metadata": {},
     "output_type": "display_data"
    },
    {
     "data": {
      "application/vnd.jupyter.widget-view+json": {
       "model_id": "07ed6abeee654d6d8c662ecd8750448c",
       "version_major": 2,
       "version_minor": 0
      },
      "text/plain": [
       "Evaluating:   0%|          | 0/40 [00:00<?, ?it/s]"
      ]
     },
     "metadata": {},
     "output_type": "display_data"
    },
    {
     "name": "stdout",
     "output_type": "stream",
     "text": [
      "Train Loss: 0.6449, Acc: 0.7826, Top-5: 0.9844\n",
      "Val Loss: 0.6430, Acc: 0.7732, Top-5: 0.9862\n",
      "No improvement for 1 epochs\n",
      "Epoch 42/50\n"
     ]
    },
    {
     "data": {
      "application/vnd.jupyter.widget-view+json": {
       "model_id": "22c4d16036544e03bb80e34c2644c1aa",
       "version_major": 2,
       "version_minor": 0
      },
      "text/plain": [
       "Training:   0%|          | 0/352 [00:00<?, ?it/s]"
      ]
     },
     "metadata": {},
     "output_type": "display_data"
    },
    {
     "data": {
      "application/vnd.jupyter.widget-view+json": {
       "model_id": "0e028a2aaeff4b97bdc95264bc6dcc28",
       "version_major": 2,
       "version_minor": 0
      },
      "text/plain": [
       "Evaluating:   0%|          | 0/40 [00:00<?, ?it/s]"
      ]
     },
     "metadata": {},
     "output_type": "display_data"
    },
    {
     "name": "stdout",
     "output_type": "stream",
     "text": [
      "Train Loss: 0.6391, Acc: 0.7842, Top-5: 0.9852\n",
      "Val Loss: 0.6325, Acc: 0.7812, Top-5: 0.9886\n",
      "No improvement for 2 epochs\n",
      "Epoch 43/50\n"
     ]
    },
    {
     "data": {
      "application/vnd.jupyter.widget-view+json": {
       "model_id": "3100fa0bdc67406e9980f90577b47ba2",
       "version_major": 2,
       "version_minor": 0
      },
      "text/plain": [
       "Training:   0%|          | 0/352 [00:00<?, ?it/s]"
      ]
     },
     "metadata": {},
     "output_type": "display_data"
    },
    {
     "data": {
      "application/vnd.jupyter.widget-view+json": {
       "model_id": "45c6bbdd4d4a4128a7df07093c02c387",
       "version_major": 2,
       "version_minor": 0
      },
      "text/plain": [
       "Evaluating:   0%|          | 0/40 [00:00<?, ?it/s]"
      ]
     },
     "metadata": {},
     "output_type": "display_data"
    },
    {
     "name": "stdout",
     "output_type": "stream",
     "text": [
      "Train Loss: 0.6364, Acc: 0.7847, Top-5: 0.9858\n",
      "Val Loss: 0.6276, Acc: 0.7764, Top-5: 0.9884\n",
      "No improvement for 3 epochs\n",
      "Epoch 44/50\n"
     ]
    },
    {
     "data": {
      "application/vnd.jupyter.widget-view+json": {
       "model_id": "7c165e86cfb64d05919c44cfccaea954",
       "version_major": 2,
       "version_minor": 0
      },
      "text/plain": [
       "Training:   0%|          | 0/352 [00:00<?, ?it/s]"
      ]
     },
     "metadata": {},
     "output_type": "display_data"
    },
    {
     "data": {
      "application/vnd.jupyter.widget-view+json": {
       "model_id": "0cd39028e9c84d658f5985ec1e7b1e57",
       "version_major": 2,
       "version_minor": 0
      },
      "text/plain": [
       "Evaluating:   0%|          | 0/40 [00:00<?, ?it/s]"
      ]
     },
     "metadata": {},
     "output_type": "display_data"
    },
    {
     "name": "stdout",
     "output_type": "stream",
     "text": [
      "Train Loss: 0.6366, Acc: 0.7880, Top-5: 0.9848\n",
      "Val Loss: 0.6409, Acc: 0.7774, Top-5: 0.9854\n",
      "No improvement for 4 epochs\n",
      "Epoch 45/50\n"
     ]
    },
    {
     "data": {
      "application/vnd.jupyter.widget-view+json": {
       "model_id": "ac3ebe448f624d62bcc1ee6cd61553d8",
       "version_major": 2,
       "version_minor": 0
      },
      "text/plain": [
       "Training:   0%|          | 0/352 [00:00<?, ?it/s]"
      ]
     },
     "metadata": {},
     "output_type": "display_data"
    },
    {
     "data": {
      "application/vnd.jupyter.widget-view+json": {
       "model_id": "8a2de0ff64464d53b19aa73b8382a290",
       "version_major": 2,
       "version_minor": 0
      },
      "text/plain": [
       "Evaluating:   0%|          | 0/40 [00:00<?, ?it/s]"
      ]
     },
     "metadata": {},
     "output_type": "display_data"
    },
    {
     "name": "stdout",
     "output_type": "stream",
     "text": [
      "Train Loss: 0.6345, Acc: 0.7859, Top-5: 0.9854\n",
      "Val Loss: 0.6130, Acc: 0.7842, Top-5: 0.9886\n",
      "Saved best model with validation accuracy: 0.7842\n",
      "Epoch 46/50\n"
     ]
    },
    {
     "data": {
      "application/vnd.jupyter.widget-view+json": {
       "model_id": "caef7c7deeb04df5b5c9961503186033",
       "version_major": 2,
       "version_minor": 0
      },
      "text/plain": [
       "Training:   0%|          | 0/352 [00:00<?, ?it/s]"
      ]
     },
     "metadata": {},
     "output_type": "display_data"
    },
    {
     "data": {
      "application/vnd.jupyter.widget-view+json": {
       "model_id": "aa655df80dd444649b5f261ec6d59f5f",
       "version_major": 2,
       "version_minor": 0
      },
      "text/plain": [
       "Evaluating:   0%|          | 0/40 [00:00<?, ?it/s]"
      ]
     },
     "metadata": {},
     "output_type": "display_data"
    },
    {
     "name": "stdout",
     "output_type": "stream",
     "text": [
      "Train Loss: 0.6322, Acc: 0.7885, Top-5: 0.9850\n",
      "Val Loss: 0.6419, Acc: 0.7724, Top-5: 0.9870\n",
      "No improvement for 1 epochs\n",
      "Epoch 47/50\n"
     ]
    },
    {
     "data": {
      "application/vnd.jupyter.widget-view+json": {
       "model_id": "cf2d0971dd7d4d40b7e95f827bd383fd",
       "version_major": 2,
       "version_minor": 0
      },
      "text/plain": [
       "Training:   0%|          | 0/352 [00:00<?, ?it/s]"
      ]
     },
     "metadata": {},
     "output_type": "display_data"
    },
    {
     "data": {
      "application/vnd.jupyter.widget-view+json": {
       "model_id": "47ecf41a5fee4ea1bf0c76e193b7fead",
       "version_major": 2,
       "version_minor": 0
      },
      "text/plain": [
       "Evaluating:   0%|          | 0/40 [00:00<?, ?it/s]"
      ]
     },
     "metadata": {},
     "output_type": "display_data"
    },
    {
     "name": "stdout",
     "output_type": "stream",
     "text": [
      "Train Loss: 0.6281, Acc: 0.7901, Top-5: 0.9856\n",
      "Val Loss: 0.6122, Acc: 0.7880, Top-5: 0.9862\n",
      "Saved best model with validation accuracy: 0.7880\n",
      "Epoch 48/50\n"
     ]
    },
    {
     "data": {
      "application/vnd.jupyter.widget-view+json": {
       "model_id": "20b87298730c498a893e68cd2833a72c",
       "version_major": 2,
       "version_minor": 0
      },
      "text/plain": [
       "Training:   0%|          | 0/352 [00:00<?, ?it/s]"
      ]
     },
     "metadata": {},
     "output_type": "display_data"
    },
    {
     "data": {
      "application/vnd.jupyter.widget-view+json": {
       "model_id": "3d695d1088e64e259b2ad11522b51d63",
       "version_major": 2,
       "version_minor": 0
      },
      "text/plain": [
       "Evaluating:   0%|          | 0/40 [00:00<?, ?it/s]"
      ]
     },
     "metadata": {},
     "output_type": "display_data"
    },
    {
     "name": "stdout",
     "output_type": "stream",
     "text": [
      "Train Loss: 0.6290, Acc: 0.7896, Top-5: 0.9851\n",
      "Val Loss: 0.6370, Acc: 0.7810, Top-5: 0.9884\n",
      "No improvement for 1 epochs\n",
      "Epoch 49/50\n"
     ]
    },
    {
     "data": {
      "application/vnd.jupyter.widget-view+json": {
       "model_id": "6db835d34d7e4a07b276c7ba2952ca3e",
       "version_major": 2,
       "version_minor": 0
      },
      "text/plain": [
       "Training:   0%|          | 0/352 [00:00<?, ?it/s]"
      ]
     },
     "metadata": {},
     "output_type": "display_data"
    },
    {
     "data": {
      "application/vnd.jupyter.widget-view+json": {
       "model_id": "12c971fbdf394de3a12282057896b5c7",
       "version_major": 2,
       "version_minor": 0
      },
      "text/plain": [
       "Evaluating:   0%|          | 0/40 [00:00<?, ?it/s]"
      ]
     },
     "metadata": {},
     "output_type": "display_data"
    },
    {
     "name": "stdout",
     "output_type": "stream",
     "text": [
      "Train Loss: 0.6255, Acc: 0.7896, Top-5: 0.9866\n",
      "Val Loss: 0.6283, Acc: 0.7864, Top-5: 0.9866\n",
      "No improvement for 2 epochs\n",
      "Epoch 50/50\n"
     ]
    },
    {
     "data": {
      "application/vnd.jupyter.widget-view+json": {
       "model_id": "6659157504554c7ba5bb0a28d5514c1e",
       "version_major": 2,
       "version_minor": 0
      },
      "text/plain": [
       "Training:   0%|          | 0/352 [00:00<?, ?it/s]"
      ]
     },
     "metadata": {},
     "output_type": "display_data"
    },
    {
     "data": {
      "application/vnd.jupyter.widget-view+json": {
       "model_id": "078977c633b442f885ab5ec26e1128d9",
       "version_major": 2,
       "version_minor": 0
      },
      "text/plain": [
       "Evaluating:   0%|          | 0/40 [00:00<?, ?it/s]"
      ]
     },
     "metadata": {},
     "output_type": "display_data"
    },
    {
     "name": "stdout",
     "output_type": "stream",
     "text": [
      "Train Loss: 0.6235, Acc: 0.7916, Top-5: 0.9862\n",
      "Val Loss: 0.5978, Acc: 0.7912, Top-5: 0.9872\n",
      "Saved best model with validation accuracy: 0.7912\n"
     ]
    }
   ],
   "source": [
    "# 5.1 Train Baseline CNN\n",
    "print(\"=== Training Baseline CNN ===\")\n",
    "baseline_model = BaselineCNN(num_classes=10)\n",
    "baseline_model, baseline_history = train_model(\n",
    "    baseline_model, trainloader, valloader, \n",
    "    \"baseline\", config, device\n",
    ")"
   ]
  },
  {
   "cell_type": "code",
   "execution_count": 6,
   "metadata": {},
   "outputs": [
    {
     "ename": "KeyboardInterrupt",
     "evalue": "",
     "output_type": "error",
     "traceback": [
      "\u001b[31m---------------------------------------------------------------------------\u001b[39m",
      "\u001b[31mKeyboardInterrupt\u001b[39m                         Traceback (most recent call last)",
      "\u001b[36mCell\u001b[39m\u001b[36m \u001b[39m\u001b[32mIn[6]\u001b[39m\u001b[32m, line 4\u001b[39m\n\u001b[32m      1\u001b[39m \u001b[38;5;28;01mimport\u001b[39;00m \u001b[34;01mtime\u001b[39;00m\n\u001b[32m      3\u001b[39m \u001b[38;5;66;03m# Wait for 1 minute\u001b[39;00m\n\u001b[32m----> \u001b[39m\u001b[32m4\u001b[39m \u001b[43mtime\u001b[49m\u001b[43m.\u001b[49m\u001b[43msleep\u001b[49m\u001b[43m(\u001b[49m\u001b[32;43m60\u001b[39;49m\u001b[43m)\u001b[49m\n",
      "\u001b[31mKeyboardInterrupt\u001b[39m: "
     ]
    }
   ],
   "source": [
    "import time\n",
    "\n",
    "# Wait for 1 minute\n",
    "time.sleep(60)"
   ]
  },
  {
   "cell_type": "code",
   "execution_count": 7,
   "metadata": {},
   "outputs": [
    {
     "name": "stdout",
     "output_type": "stream",
     "text": [
      "\n",
      "=== Training SE-Net ===\n",
      "Epoch 1/50\n"
     ]
    },
    {
     "data": {
      "application/vnd.jupyter.widget-view+json": {
       "model_id": "5ec222e774e94d85910062f0d9e0045b",
       "version_major": 2,
       "version_minor": 0
      },
      "text/plain": [
       "Training:   0%|          | 0/352 [00:00<?, ?it/s]"
      ]
     },
     "metadata": {},
     "output_type": "display_data"
    },
    {
     "data": {
      "application/vnd.jupyter.widget-view+json": {
       "model_id": "7e9f716944874025903e0afa2b31ec77",
       "version_major": 2,
       "version_minor": 0
      },
      "text/plain": [
       "Evaluating:   0%|          | 0/40 [00:00<?, ?it/s]"
      ]
     },
     "metadata": {},
     "output_type": "display_data"
    },
    {
     "name": "stdout",
     "output_type": "stream",
     "text": [
      "Train Loss: 1.6846, Acc: 0.3446, Top-5: 0.8794\n",
      "Val Loss: 1.5175, Acc: 0.4240, Top-5: 0.9086\n",
      "Saved best model with validation accuracy: 0.4240\n",
      "Epoch 2/50\n"
     ]
    },
    {
     "data": {
      "application/vnd.jupyter.widget-view+json": {
       "model_id": "c6592bffcf92437baf139d4bacf93c12",
       "version_major": 2,
       "version_minor": 0
      },
      "text/plain": [
       "Training:   0%|          | 0/352 [00:00<?, ?it/s]"
      ]
     },
     "metadata": {},
     "output_type": "display_data"
    },
    {
     "data": {
      "application/vnd.jupyter.widget-view+json": {
       "model_id": "649de29a77de43d087ea47cbc04f4dd5",
       "version_major": 2,
       "version_minor": 0
      },
      "text/plain": [
       "Evaluating:   0%|          | 0/40 [00:00<?, ?it/s]"
      ]
     },
     "metadata": {},
     "output_type": "display_data"
    },
    {
     "name": "stdout",
     "output_type": "stream",
     "text": [
      "Train Loss: 1.3396, Acc: 0.5080, Top-5: 0.9386\n",
      "Val Loss: 1.7004, Acc: 0.4540, Top-5: 0.9084\n",
      "Saved best model with validation accuracy: 0.4540\n",
      "Epoch 3/50\n"
     ]
    },
    {
     "data": {
      "application/vnd.jupyter.widget-view+json": {
       "model_id": "ef6b94ae82564e37800723b0a65589b2",
       "version_major": 2,
       "version_minor": 0
      },
      "text/plain": [
       "Training:   0%|          | 0/352 [00:00<?, ?it/s]"
      ]
     },
     "metadata": {},
     "output_type": "display_data"
    },
    {
     "data": {
      "application/vnd.jupyter.widget-view+json": {
       "model_id": "4eb4b13a762d414c8e2e284d51ca7378",
       "version_major": 2,
       "version_minor": 0
      },
      "text/plain": [
       "Evaluating:   0%|          | 0/40 [00:00<?, ?it/s]"
      ]
     },
     "metadata": {},
     "output_type": "display_data"
    },
    {
     "name": "stdout",
     "output_type": "stream",
     "text": [
      "Train Loss: 1.1985, Acc: 0.5720, Top-5: 0.9497\n",
      "Val Loss: 1.2387, Acc: 0.5576, Top-5: 0.9318\n",
      "Saved best model with validation accuracy: 0.5576\n",
      "Epoch 4/50\n"
     ]
    },
    {
     "data": {
      "application/vnd.jupyter.widget-view+json": {
       "model_id": "0550473744ef4511b1dfa0c36570f6f9",
       "version_major": 2,
       "version_minor": 0
      },
      "text/plain": [
       "Training:   0%|          | 0/352 [00:00<?, ?it/s]"
      ]
     },
     "metadata": {},
     "output_type": "display_data"
    },
    {
     "data": {
      "application/vnd.jupyter.widget-view+json": {
       "model_id": "ee0d9a670f784adfab1806e25b8c4764",
       "version_major": 2,
       "version_minor": 0
      },
      "text/plain": [
       "Evaluating:   0%|          | 0/40 [00:00<?, ?it/s]"
      ]
     },
     "metadata": {},
     "output_type": "display_data"
    },
    {
     "name": "stdout",
     "output_type": "stream",
     "text": [
      "Train Loss: 1.1354, Acc: 0.5970, Top-5: 0.9555\n",
      "Val Loss: 1.3931, Acc: 0.5098, Top-5: 0.9244\n",
      "No improvement for 1 epochs\n",
      "Epoch 5/50\n"
     ]
    },
    {
     "data": {
      "application/vnd.jupyter.widget-view+json": {
       "model_id": "5befac5cb0c441bf8b3080ae977c288e",
       "version_major": 2,
       "version_minor": 0
      },
      "text/plain": [
       "Training:   0%|          | 0/352 [00:00<?, ?it/s]"
      ]
     },
     "metadata": {},
     "output_type": "display_data"
    },
    {
     "data": {
      "application/vnd.jupyter.widget-view+json": {
       "model_id": "ef77cb1aaf6f4c4d9344627df67fe5bd",
       "version_major": 2,
       "version_minor": 0
      },
      "text/plain": [
       "Evaluating:   0%|          | 0/40 [00:00<?, ?it/s]"
      ]
     },
     "metadata": {},
     "output_type": "display_data"
    },
    {
     "name": "stdout",
     "output_type": "stream",
     "text": [
      "Train Loss: 1.1013, Acc: 0.6122, Top-5: 0.9581\n",
      "Val Loss: 1.2088, Acc: 0.5592, Top-5: 0.9572\n",
      "Saved best model with validation accuracy: 0.5592\n",
      "Epoch 6/50\n"
     ]
    },
    {
     "data": {
      "application/vnd.jupyter.widget-view+json": {
       "model_id": "c0a61569f1cb4807be5a2ed626e0bf9f",
       "version_major": 2,
       "version_minor": 0
      },
      "text/plain": [
       "Training:   0%|          | 0/352 [00:00<?, ?it/s]"
      ]
     },
     "metadata": {},
     "output_type": "display_data"
    },
    {
     "data": {
      "application/vnd.jupyter.widget-view+json": {
       "model_id": "44c9dde3ba4c4cc6986d9ea9a9a2e972",
       "version_major": 2,
       "version_minor": 0
      },
      "text/plain": [
       "Evaluating:   0%|          | 0/40 [00:00<?, ?it/s]"
      ]
     },
     "metadata": {},
     "output_type": "display_data"
    },
    {
     "name": "stdout",
     "output_type": "stream",
     "text": [
      "Train Loss: 1.0642, Acc: 0.6271, Top-5: 0.9604\n",
      "Val Loss: 1.0964, Acc: 0.6064, Top-5: 0.9608\n",
      "Saved best model with validation accuracy: 0.6064\n",
      "Epoch 7/50\n"
     ]
    },
    {
     "data": {
      "application/vnd.jupyter.widget-view+json": {
       "model_id": "7940759c1e124856ac4185ed6b74a395",
       "version_major": 2,
       "version_minor": 0
      },
      "text/plain": [
       "Training:   0%|          | 0/352 [00:00<?, ?it/s]"
      ]
     },
     "metadata": {},
     "output_type": "display_data"
    },
    {
     "data": {
      "application/vnd.jupyter.widget-view+json": {
       "model_id": "f9bea63f274f442bb78b0741f2bfaadd",
       "version_major": 2,
       "version_minor": 0
      },
      "text/plain": [
       "Evaluating:   0%|          | 0/40 [00:00<?, ?it/s]"
      ]
     },
     "metadata": {},
     "output_type": "display_data"
    },
    {
     "name": "stdout",
     "output_type": "stream",
     "text": [
      "Train Loss: 1.0455, Acc: 0.6296, Top-5: 0.9628\n",
      "Val Loss: 1.1781, Acc: 0.6024, Top-5: 0.9608\n",
      "No improvement for 1 epochs\n",
      "Epoch 8/50\n"
     ]
    },
    {
     "data": {
      "application/vnd.jupyter.widget-view+json": {
       "model_id": "5746c3a8c8dc4e3e81cd4a940e1cd61b",
       "version_major": 2,
       "version_minor": 0
      },
      "text/plain": [
       "Training:   0%|          | 0/352 [00:00<?, ?it/s]"
      ]
     },
     "metadata": {},
     "output_type": "display_data"
    },
    {
     "data": {
      "application/vnd.jupyter.widget-view+json": {
       "model_id": "adcec8b49dce4f18be29e74d1a364b75",
       "version_major": 2,
       "version_minor": 0
      },
      "text/plain": [
       "Evaluating:   0%|          | 0/40 [00:00<?, ?it/s]"
      ]
     },
     "metadata": {},
     "output_type": "display_data"
    },
    {
     "name": "stdout",
     "output_type": "stream",
     "text": [
      "Train Loss: 1.0298, Acc: 0.6402, Top-5: 0.9641\n",
      "Val Loss: 1.0664, Acc: 0.6128, Top-5: 0.9636\n",
      "Saved best model with validation accuracy: 0.6128\n",
      "Epoch 9/50\n"
     ]
    },
    {
     "data": {
      "application/vnd.jupyter.widget-view+json": {
       "model_id": "e8ea2429508c4f7fb5cf0144ee1299ee",
       "version_major": 2,
       "version_minor": 0
      },
      "text/plain": [
       "Training:   0%|          | 0/352 [00:00<?, ?it/s]"
      ]
     },
     "metadata": {},
     "output_type": "display_data"
    },
    {
     "data": {
      "application/vnd.jupyter.widget-view+json": {
       "model_id": "73e446f8903d4b29b403dca175d751fc",
       "version_major": 2,
       "version_minor": 0
      },
      "text/plain": [
       "Evaluating:   0%|          | 0/40 [00:00<?, ?it/s]"
      ]
     },
     "metadata": {},
     "output_type": "display_data"
    },
    {
     "name": "stdout",
     "output_type": "stream",
     "text": [
      "Train Loss: 1.0104, Acc: 0.6467, Top-5: 0.9657\n",
      "Val Loss: 1.1801, Acc: 0.5952, Top-5: 0.9372\n",
      "No improvement for 1 epochs\n",
      "Epoch 10/50\n"
     ]
    },
    {
     "data": {
      "application/vnd.jupyter.widget-view+json": {
       "model_id": "22a9446b4bd44ec9b4c616fa6a1b6921",
       "version_major": 2,
       "version_minor": 0
      },
      "text/plain": [
       "Training:   0%|          | 0/352 [00:00<?, ?it/s]"
      ]
     },
     "metadata": {},
     "output_type": "display_data"
    },
    {
     "data": {
      "application/vnd.jupyter.widget-view+json": {
       "model_id": "0725ad03301349f4b2837a2677a0ab0b",
       "version_major": 2,
       "version_minor": 0
      },
      "text/plain": [
       "Evaluating:   0%|          | 0/40 [00:00<?, ?it/s]"
      ]
     },
     "metadata": {},
     "output_type": "display_data"
    },
    {
     "name": "stdout",
     "output_type": "stream",
     "text": [
      "Train Loss: 0.9903, Acc: 0.6565, Top-5: 0.9678\n",
      "Val Loss: 1.0042, Acc: 0.6466, Top-5: 0.9708\n",
      "Saved best model with validation accuracy: 0.6466\n",
      "Epoch 11/50\n"
     ]
    },
    {
     "data": {
      "application/vnd.jupyter.widget-view+json": {
       "model_id": "b056c82111684fb784446df1563ee346",
       "version_major": 2,
       "version_minor": 0
      },
      "text/plain": [
       "Training:   0%|          | 0/352 [00:00<?, ?it/s]"
      ]
     },
     "metadata": {},
     "output_type": "display_data"
    },
    {
     "data": {
      "application/vnd.jupyter.widget-view+json": {
       "model_id": "1f2ec3cda1d64fc494c17196b9ce6a3f",
       "version_major": 2,
       "version_minor": 0
      },
      "text/plain": [
       "Evaluating:   0%|          | 0/40 [00:00<?, ?it/s]"
      ]
     },
     "metadata": {},
     "output_type": "display_data"
    },
    {
     "name": "stdout",
     "output_type": "stream",
     "text": [
      "Train Loss: 0.9842, Acc: 0.6570, Top-5: 0.9678\n",
      "Val Loss: 1.1203, Acc: 0.6132, Top-5: 0.9544\n",
      "No improvement for 1 epochs\n",
      "Epoch 12/50\n"
     ]
    },
    {
     "data": {
      "application/vnd.jupyter.widget-view+json": {
       "model_id": "65bbdd1c3284424b9d1cf095dd11289f",
       "version_major": 2,
       "version_minor": 0
      },
      "text/plain": [
       "Training:   0%|          | 0/352 [00:00<?, ?it/s]"
      ]
     },
     "metadata": {},
     "output_type": "display_data"
    },
    {
     "data": {
      "application/vnd.jupyter.widget-view+json": {
       "model_id": "b47c77de8052496a9bac3b228a3c622d",
       "version_major": 2,
       "version_minor": 0
      },
      "text/plain": [
       "Evaluating:   0%|          | 0/40 [00:00<?, ?it/s]"
      ]
     },
     "metadata": {},
     "output_type": "display_data"
    },
    {
     "name": "stdout",
     "output_type": "stream",
     "text": [
      "Train Loss: 0.9697, Acc: 0.6679, Top-5: 0.9674\n",
      "Val Loss: 1.1376, Acc: 0.6000, Top-5: 0.9584\n",
      "No improvement for 2 epochs\n",
      "Epoch 13/50\n"
     ]
    },
    {
     "data": {
      "application/vnd.jupyter.widget-view+json": {
       "model_id": "290d53607ee54b4c967f52eb213a4134",
       "version_major": 2,
       "version_minor": 0
      },
      "text/plain": [
       "Training:   0%|          | 0/352 [00:00<?, ?it/s]"
      ]
     },
     "metadata": {},
     "output_type": "display_data"
    },
    {
     "data": {
      "application/vnd.jupyter.widget-view+json": {
       "model_id": "5d3e829ccc6347f491743bf0b67a5d26",
       "version_major": 2,
       "version_minor": 0
      },
      "text/plain": [
       "Evaluating:   0%|          | 0/40 [00:00<?, ?it/s]"
      ]
     },
     "metadata": {},
     "output_type": "display_data"
    },
    {
     "name": "stdout",
     "output_type": "stream",
     "text": [
      "Train Loss: 0.9572, Acc: 0.6693, Top-5: 0.9685\n",
      "Val Loss: 1.1941, Acc: 0.5854, Top-5: 0.9562\n",
      "No improvement for 3 epochs\n",
      "Epoch 14/50\n"
     ]
    },
    {
     "data": {
      "application/vnd.jupyter.widget-view+json": {
       "model_id": "a34c3df5650b4561a0214bea16bf50c3",
       "version_major": 2,
       "version_minor": 0
      },
      "text/plain": [
       "Training:   0%|          | 0/352 [00:00<?, ?it/s]"
      ]
     },
     "metadata": {},
     "output_type": "display_data"
    },
    {
     "data": {
      "application/vnd.jupyter.widget-view+json": {
       "model_id": "8f84315fb21d4484acddb4bfd3dc7e25",
       "version_major": 2,
       "version_minor": 0
      },
      "text/plain": [
       "Evaluating:   0%|          | 0/40 [00:00<?, ?it/s]"
      ]
     },
     "metadata": {},
     "output_type": "display_data"
    },
    {
     "name": "stdout",
     "output_type": "stream",
     "text": [
      "Train Loss: 0.9621, Acc: 0.6695, Top-5: 0.9682\n",
      "Val Loss: 1.0958, Acc: 0.6146, Top-5: 0.9672\n",
      "No improvement for 4 epochs\n",
      "Epoch 15/50\n"
     ]
    },
    {
     "data": {
      "application/vnd.jupyter.widget-view+json": {
       "model_id": "8e660e4c719a492aa754c77bcc0b461d",
       "version_major": 2,
       "version_minor": 0
      },
      "text/plain": [
       "Training:   0%|          | 0/352 [00:00<?, ?it/s]"
      ]
     },
     "metadata": {},
     "output_type": "display_data"
    },
    {
     "data": {
      "application/vnd.jupyter.widget-view+json": {
       "model_id": "99a46d85cb024b30b84465c64285c9b2",
       "version_major": 2,
       "version_minor": 0
      },
      "text/plain": [
       "Evaluating:   0%|          | 0/40 [00:00<?, ?it/s]"
      ]
     },
     "metadata": {},
     "output_type": "display_data"
    },
    {
     "name": "stdout",
     "output_type": "stream",
     "text": [
      "Train Loss: 0.9460, Acc: 0.6745, Top-5: 0.9684\n",
      "Val Loss: 0.9605, Acc: 0.6714, Top-5: 0.9652\n",
      "Saved best model with validation accuracy: 0.6714\n",
      "Epoch 16/50\n"
     ]
    },
    {
     "data": {
      "application/vnd.jupyter.widget-view+json": {
       "model_id": "2fc7cfca9c4a41d7b067e3101f976809",
       "version_major": 2,
       "version_minor": 0
      },
      "text/plain": [
       "Training:   0%|          | 0/352 [00:00<?, ?it/s]"
      ]
     },
     "metadata": {},
     "output_type": "display_data"
    },
    {
     "data": {
      "application/vnd.jupyter.widget-view+json": {
       "model_id": "43bc156a8f2e4a1a88979466a0c6f4ab",
       "version_major": 2,
       "version_minor": 0
      },
      "text/plain": [
       "Evaluating:   0%|          | 0/40 [00:00<?, ?it/s]"
      ]
     },
     "metadata": {},
     "output_type": "display_data"
    },
    {
     "name": "stdout",
     "output_type": "stream",
     "text": [
      "Train Loss: 0.9222, Acc: 0.6864, Top-5: 0.9697\n",
      "Val Loss: 1.2286, Acc: 0.5870, Top-5: 0.9452\n",
      "No improvement for 1 epochs\n",
      "Epoch 17/50\n"
     ]
    },
    {
     "data": {
      "application/vnd.jupyter.widget-view+json": {
       "model_id": "c73c886cab35421a978fc8a2a9671325",
       "version_major": 2,
       "version_minor": 0
      },
      "text/plain": [
       "Training:   0%|          | 0/352 [00:00<?, ?it/s]"
      ]
     },
     "metadata": {},
     "output_type": "display_data"
    },
    {
     "data": {
      "application/vnd.jupyter.widget-view+json": {
       "model_id": "e0844df59dab429fa7f42a29031581e4",
       "version_major": 2,
       "version_minor": 0
      },
      "text/plain": [
       "Evaluating:   0%|          | 0/40 [00:00<?, ?it/s]"
      ]
     },
     "metadata": {},
     "output_type": "display_data"
    },
    {
     "name": "stdout",
     "output_type": "stream",
     "text": [
      "Train Loss: 0.9244, Acc: 0.6854, Top-5: 0.9703\n",
      "Val Loss: 1.0441, Acc: 0.6468, Top-5: 0.9656\n",
      "No improvement for 2 epochs\n",
      "Epoch 18/50\n"
     ]
    },
    {
     "data": {
      "application/vnd.jupyter.widget-view+json": {
       "model_id": "607aa1d1e9794265bee9615077ca7c6e",
       "version_major": 2,
       "version_minor": 0
      },
      "text/plain": [
       "Training:   0%|          | 0/352 [00:00<?, ?it/s]"
      ]
     },
     "metadata": {},
     "output_type": "display_data"
    },
    {
     "data": {
      "application/vnd.jupyter.widget-view+json": {
       "model_id": "9634f43e6f9148b38b13e3742e790ba5",
       "version_major": 2,
       "version_minor": 0
      },
      "text/plain": [
       "Evaluating:   0%|          | 0/40 [00:00<?, ?it/s]"
      ]
     },
     "metadata": {},
     "output_type": "display_data"
    },
    {
     "name": "stdout",
     "output_type": "stream",
     "text": [
      "Train Loss: 0.9168, Acc: 0.6872, Top-5: 0.9705\n",
      "Val Loss: 1.0052, Acc: 0.6560, Top-5: 0.9580\n",
      "No improvement for 3 epochs\n",
      "Epoch 19/50\n"
     ]
    },
    {
     "data": {
      "application/vnd.jupyter.widget-view+json": {
       "model_id": "f1d1a932a63b4bebaebb26df1c7b461d",
       "version_major": 2,
       "version_minor": 0
      },
      "text/plain": [
       "Training:   0%|          | 0/352 [00:00<?, ?it/s]"
      ]
     },
     "metadata": {},
     "output_type": "display_data"
    },
    {
     "data": {
      "application/vnd.jupyter.widget-view+json": {
       "model_id": "e59a6de6e4db455a91e7af48bc8a8dc3",
       "version_major": 2,
       "version_minor": 0
      },
      "text/plain": [
       "Evaluating:   0%|          | 0/40 [00:00<?, ?it/s]"
      ]
     },
     "metadata": {},
     "output_type": "display_data"
    },
    {
     "name": "stdout",
     "output_type": "stream",
     "text": [
      "Train Loss: 0.9158, Acc: 0.6890, Top-5: 0.9704\n",
      "Val Loss: 0.9990, Acc: 0.6512, Top-5: 0.9664\n",
      "No improvement for 4 epochs\n",
      "Epoch 20/50\n"
     ]
    },
    {
     "data": {
      "application/vnd.jupyter.widget-view+json": {
       "model_id": "90a27a63abc84fb6b7cdf96f55b2bf55",
       "version_major": 2,
       "version_minor": 0
      },
      "text/plain": [
       "Training:   0%|          | 0/352 [00:00<?, ?it/s]"
      ]
     },
     "metadata": {},
     "output_type": "display_data"
    },
    {
     "data": {
      "application/vnd.jupyter.widget-view+json": {
       "model_id": "2dcd4936de244e39b88c14a4820cf638",
       "version_major": 2,
       "version_minor": 0
      },
      "text/plain": [
       "Evaluating:   0%|          | 0/40 [00:00<?, ?it/s]"
      ]
     },
     "metadata": {},
     "output_type": "display_data"
    },
    {
     "name": "stdout",
     "output_type": "stream",
     "text": [
      "Train Loss: 0.9083, Acc: 0.6914, Top-5: 0.9710\n",
      "Val Loss: 0.9994, Acc: 0.6466, Top-5: 0.9636\n",
      "No improvement for 5 epochs\n",
      "Epoch 21/50\n"
     ]
    },
    {
     "data": {
      "application/vnd.jupyter.widget-view+json": {
       "model_id": "f8f394880c92479cba012dd7f929cf96",
       "version_major": 2,
       "version_minor": 0
      },
      "text/plain": [
       "Training:   0%|          | 0/352 [00:00<?, ?it/s]"
      ]
     },
     "metadata": {},
     "output_type": "display_data"
    },
    {
     "data": {
      "application/vnd.jupyter.widget-view+json": {
       "model_id": "e9f417a53fbd41a6917a023f78e50a61",
       "version_major": 2,
       "version_minor": 0
      },
      "text/plain": [
       "Evaluating:   0%|          | 0/40 [00:00<?, ?it/s]"
      ]
     },
     "metadata": {},
     "output_type": "display_data"
    },
    {
     "name": "stdout",
     "output_type": "stream",
     "text": [
      "Train Loss: 0.9018, Acc: 0.6939, Top-5: 0.9709\n",
      "Val Loss: 0.9724, Acc: 0.6636, Top-5: 0.9694\n",
      "No improvement for 6 epochs\n",
      "Epoch 22/50\n"
     ]
    },
    {
     "data": {
      "application/vnd.jupyter.widget-view+json": {
       "model_id": "ee2410a2507544c2b62b4158985e3f5f",
       "version_major": 2,
       "version_minor": 0
      },
      "text/plain": [
       "Training:   0%|          | 0/352 [00:00<?, ?it/s]"
      ]
     },
     "metadata": {},
     "output_type": "display_data"
    },
    {
     "data": {
      "application/vnd.jupyter.widget-view+json": {
       "model_id": "703682a0109b44eabf86e4376d0d89f2",
       "version_major": 2,
       "version_minor": 0
      },
      "text/plain": [
       "Evaluating:   0%|          | 0/40 [00:00<?, ?it/s]"
      ]
     },
     "metadata": {},
     "output_type": "display_data"
    },
    {
     "name": "stdout",
     "output_type": "stream",
     "text": [
      "Train Loss: 0.9116, Acc: 0.6915, Top-5: 0.9700\n",
      "Val Loss: 1.0431, Acc: 0.6434, Top-5: 0.9530\n",
      "No improvement for 7 epochs\n",
      "Epoch 23/50\n"
     ]
    },
    {
     "data": {
      "application/vnd.jupyter.widget-view+json": {
       "model_id": "100395c474f041bf92657cd80681235d",
       "version_major": 2,
       "version_minor": 0
      },
      "text/plain": [
       "Training:   0%|          | 0/352 [00:00<?, ?it/s]"
      ]
     },
     "metadata": {},
     "output_type": "display_data"
    },
    {
     "data": {
      "application/vnd.jupyter.widget-view+json": {
       "model_id": "25e949632c2648c3a69d326029b427f4",
       "version_major": 2,
       "version_minor": 0
      },
      "text/plain": [
       "Evaluating:   0%|          | 0/40 [00:00<?, ?it/s]"
      ]
     },
     "metadata": {},
     "output_type": "display_data"
    },
    {
     "name": "stdout",
     "output_type": "stream",
     "text": [
      "Train Loss: 0.8998, Acc: 0.6968, Top-5: 0.9702\n",
      "Val Loss: 0.9371, Acc: 0.6724, Top-5: 0.9718\n",
      "Saved best model with validation accuracy: 0.6724\n",
      "Epoch 24/50\n"
     ]
    },
    {
     "data": {
      "application/vnd.jupyter.widget-view+json": {
       "model_id": "5c05b27a9ed24f71b95c1e7aaf035bbd",
       "version_major": 2,
       "version_minor": 0
      },
      "text/plain": [
       "Training:   0%|          | 0/352 [00:00<?, ?it/s]"
      ]
     },
     "metadata": {},
     "output_type": "display_data"
    },
    {
     "data": {
      "application/vnd.jupyter.widget-view+json": {
       "model_id": "771213ccd98342528d5aacaf3e40c10f",
       "version_major": 2,
       "version_minor": 0
      },
      "text/plain": [
       "Evaluating:   0%|          | 0/40 [00:00<?, ?it/s]"
      ]
     },
     "metadata": {},
     "output_type": "display_data"
    },
    {
     "name": "stdout",
     "output_type": "stream",
     "text": [
      "Train Loss: 0.9017, Acc: 0.6963, Top-5: 0.9699\n",
      "Val Loss: 0.9248, Acc: 0.6868, Top-5: 0.9654\n",
      "Saved best model with validation accuracy: 0.6868\n",
      "Epoch 25/50\n"
     ]
    },
    {
     "data": {
      "application/vnd.jupyter.widget-view+json": {
       "model_id": "c1693656a95147799317b881bd6c99ec",
       "version_major": 2,
       "version_minor": 0
      },
      "text/plain": [
       "Training:   0%|          | 0/352 [00:00<?, ?it/s]"
      ]
     },
     "metadata": {},
     "output_type": "display_data"
    },
    {
     "data": {
      "application/vnd.jupyter.widget-view+json": {
       "model_id": "13ef112156af42efabfee8820e2ecd54",
       "version_major": 2,
       "version_minor": 0
      },
      "text/plain": [
       "Evaluating:   0%|          | 0/40 [00:00<?, ?it/s]"
      ]
     },
     "metadata": {},
     "output_type": "display_data"
    },
    {
     "name": "stdout",
     "output_type": "stream",
     "text": [
      "Train Loss: 0.9015, Acc: 0.6946, Top-5: 0.9711\n",
      "Val Loss: 0.9035, Acc: 0.6914, Top-5: 0.9654\n",
      "Saved best model with validation accuracy: 0.6914\n",
      "Epoch 26/50\n"
     ]
    },
    {
     "data": {
      "application/vnd.jupyter.widget-view+json": {
       "model_id": "156efdf2458948d98f66636d9cbe95f4",
       "version_major": 2,
       "version_minor": 0
      },
      "text/plain": [
       "Training:   0%|          | 0/352 [00:00<?, ?it/s]"
      ]
     },
     "metadata": {},
     "output_type": "display_data"
    },
    {
     "data": {
      "application/vnd.jupyter.widget-view+json": {
       "model_id": "e1ddf2cc2faf4588bca231c46ac45f5a",
       "version_major": 2,
       "version_minor": 0
      },
      "text/plain": [
       "Evaluating:   0%|          | 0/40 [00:00<?, ?it/s]"
      ]
     },
     "metadata": {},
     "output_type": "display_data"
    },
    {
     "name": "stdout",
     "output_type": "stream",
     "text": [
      "Train Loss: 0.8884, Acc: 0.6979, Top-5: 0.9713\n",
      "Val Loss: 1.0851, Acc: 0.6322, Top-5: 0.9482\n",
      "No improvement for 1 epochs\n",
      "Epoch 27/50\n"
     ]
    },
    {
     "data": {
      "application/vnd.jupyter.widget-view+json": {
       "model_id": "2365a774ce554314834b58d47fb5c2de",
       "version_major": 2,
       "version_minor": 0
      },
      "text/plain": [
       "Training:   0%|          | 0/352 [00:00<?, ?it/s]"
      ]
     },
     "metadata": {},
     "output_type": "display_data"
    },
    {
     "data": {
      "application/vnd.jupyter.widget-view+json": {
       "model_id": "efae387248be4eebb80a8b974b69ae19",
       "version_major": 2,
       "version_minor": 0
      },
      "text/plain": [
       "Evaluating:   0%|          | 0/40 [00:00<?, ?it/s]"
      ]
     },
     "metadata": {},
     "output_type": "display_data"
    },
    {
     "name": "stdout",
     "output_type": "stream",
     "text": [
      "Train Loss: 0.8949, Acc: 0.6956, Top-5: 0.9709\n",
      "Val Loss: 0.9918, Acc: 0.6554, Top-5: 0.9662\n",
      "No improvement for 2 epochs\n",
      "Epoch 28/50\n"
     ]
    },
    {
     "data": {
      "application/vnd.jupyter.widget-view+json": {
       "model_id": "e95c72e7ef0b4a9d8f790f5d3baf6390",
       "version_major": 2,
       "version_minor": 0
      },
      "text/plain": [
       "Training:   0%|          | 0/352 [00:00<?, ?it/s]"
      ]
     },
     "metadata": {},
     "output_type": "display_data"
    },
    {
     "data": {
      "application/vnd.jupyter.widget-view+json": {
       "model_id": "1d149dfe6aba4ba5bda0242fa44e4a29",
       "version_major": 2,
       "version_minor": 0
      },
      "text/plain": [
       "Evaluating:   0%|          | 0/40 [00:00<?, ?it/s]"
      ]
     },
     "metadata": {},
     "output_type": "display_data"
    },
    {
     "name": "stdout",
     "output_type": "stream",
     "text": [
      "Train Loss: 0.8876, Acc: 0.6983, Top-5: 0.9720\n",
      "Val Loss: 0.9879, Acc: 0.6586, Top-5: 0.9612\n",
      "No improvement for 3 epochs\n",
      "Epoch 29/50\n"
     ]
    },
    {
     "data": {
      "application/vnd.jupyter.widget-view+json": {
       "model_id": "01110ee33baa456aa38d8c38ac9d2d89",
       "version_major": 2,
       "version_minor": 0
      },
      "text/plain": [
       "Training:   0%|          | 0/352 [00:00<?, ?it/s]"
      ]
     },
     "metadata": {},
     "output_type": "display_data"
    },
    {
     "data": {
      "application/vnd.jupyter.widget-view+json": {
       "model_id": "fd3c1a6e83a040e6b03249a7457add8c",
       "version_major": 2,
       "version_minor": 0
      },
      "text/plain": [
       "Evaluating:   0%|          | 0/40 [00:00<?, ?it/s]"
      ]
     },
     "metadata": {},
     "output_type": "display_data"
    },
    {
     "name": "stdout",
     "output_type": "stream",
     "text": [
      "Train Loss: 0.8856, Acc: 0.6993, Top-5: 0.9714\n",
      "Val Loss: 1.0111, Acc: 0.6548, Top-5: 0.9590\n",
      "No improvement for 4 epochs\n",
      "Epoch 30/50\n"
     ]
    },
    {
     "data": {
      "application/vnd.jupyter.widget-view+json": {
       "model_id": "d60a091b1a864690965a2f6a5d148dbd",
       "version_major": 2,
       "version_minor": 0
      },
      "text/plain": [
       "Training:   0%|          | 0/352 [00:00<?, ?it/s]"
      ]
     },
     "metadata": {},
     "output_type": "display_data"
    },
    {
     "data": {
      "application/vnd.jupyter.widget-view+json": {
       "model_id": "23bcfcccef8445909e2c6205bdad2c92",
       "version_major": 2,
       "version_minor": 0
      },
      "text/plain": [
       "Evaluating:   0%|          | 0/40 [00:00<?, ?it/s]"
      ]
     },
     "metadata": {},
     "output_type": "display_data"
    },
    {
     "name": "stdout",
     "output_type": "stream",
     "text": [
      "Train Loss: 0.8841, Acc: 0.7013, Top-5: 0.9717\n",
      "Val Loss: 0.9984, Acc: 0.6576, Top-5: 0.9666\n",
      "No improvement for 5 epochs\n",
      "Epoch 31/50\n"
     ]
    },
    {
     "data": {
      "application/vnd.jupyter.widget-view+json": {
       "model_id": "94b32e444fa44912bf00b065def83f3b",
       "version_major": 2,
       "version_minor": 0
      },
      "text/plain": [
       "Training:   0%|          | 0/352 [00:00<?, ?it/s]"
      ]
     },
     "metadata": {},
     "output_type": "display_data"
    },
    {
     "data": {
      "application/vnd.jupyter.widget-view+json": {
       "model_id": "17fc72257022476499a9120f890bc408",
       "version_major": 2,
       "version_minor": 0
      },
      "text/plain": [
       "Evaluating:   0%|          | 0/40 [00:00<?, ?it/s]"
      ]
     },
     "metadata": {},
     "output_type": "display_data"
    },
    {
     "name": "stdout",
     "output_type": "stream",
     "text": [
      "Train Loss: 0.7487, Acc: 0.7464, Top-5: 0.9798\n",
      "Val Loss: 0.6876, Acc: 0.7538, Top-5: 0.9852\n",
      "Saved best model with validation accuracy: 0.7538\n",
      "Epoch 32/50\n"
     ]
    },
    {
     "data": {
      "application/vnd.jupyter.widget-view+json": {
       "model_id": "c89be3c281d14043b9f8bdc66c66ad1e",
       "version_major": 2,
       "version_minor": 0
      },
      "text/plain": [
       "Training:   0%|          | 0/352 [00:00<?, ?it/s]"
      ]
     },
     "metadata": {},
     "output_type": "display_data"
    },
    {
     "data": {
      "application/vnd.jupyter.widget-view+json": {
       "model_id": "c04037a144644ffeb2410f79a56aa233",
       "version_major": 2,
       "version_minor": 0
      },
      "text/plain": [
       "Evaluating:   0%|          | 0/40 [00:00<?, ?it/s]"
      ]
     },
     "metadata": {},
     "output_type": "display_data"
    },
    {
     "name": "stdout",
     "output_type": "stream",
     "text": [
      "Train Loss: 0.7091, Acc: 0.7612, Top-5: 0.9824\n",
      "Val Loss: 0.6729, Acc: 0.7634, Top-5: 0.9838\n",
      "Saved best model with validation accuracy: 0.7634\n",
      "Epoch 33/50\n"
     ]
    },
    {
     "data": {
      "application/vnd.jupyter.widget-view+json": {
       "model_id": "f14d962867ca43438a4c2850c831e50b",
       "version_major": 2,
       "version_minor": 0
      },
      "text/plain": [
       "Training:   0%|          | 0/352 [00:00<?, ?it/s]"
      ]
     },
     "metadata": {},
     "output_type": "display_data"
    },
    {
     "data": {
      "application/vnd.jupyter.widget-view+json": {
       "model_id": "41bffe55e1fa48c6a4ac2dbfb459d579",
       "version_major": 2,
       "version_minor": 0
      },
      "text/plain": [
       "Evaluating:   0%|          | 0/40 [00:00<?, ?it/s]"
      ]
     },
     "metadata": {},
     "output_type": "display_data"
    },
    {
     "name": "stdout",
     "output_type": "stream",
     "text": [
      "Train Loss: 0.6956, Acc: 0.7649, Top-5: 0.9829\n",
      "Val Loss: 0.6625, Acc: 0.7620, Top-5: 0.9856\n",
      "No improvement for 1 epochs\n",
      "Epoch 34/50\n"
     ]
    },
    {
     "data": {
      "application/vnd.jupyter.widget-view+json": {
       "model_id": "86580a1e70004af091d641fd49aa3bd4",
       "version_major": 2,
       "version_minor": 0
      },
      "text/plain": [
       "Training:   0%|          | 0/352 [00:00<?, ?it/s]"
      ]
     },
     "metadata": {},
     "output_type": "display_data"
    },
    {
     "data": {
      "application/vnd.jupyter.widget-view+json": {
       "model_id": "64af90816f17488fbb69b81fed7bfb70",
       "version_major": 2,
       "version_minor": 0
      },
      "text/plain": [
       "Evaluating:   0%|          | 0/40 [00:00<?, ?it/s]"
      ]
     },
     "metadata": {},
     "output_type": "display_data"
    },
    {
     "name": "stdout",
     "output_type": "stream",
     "text": [
      "Train Loss: 0.6852, Acc: 0.7695, Top-5: 0.9820\n",
      "Val Loss: 0.6641, Acc: 0.7718, Top-5: 0.9874\n",
      "Saved best model with validation accuracy: 0.7718\n",
      "Epoch 35/50\n"
     ]
    },
    {
     "data": {
      "application/vnd.jupyter.widget-view+json": {
       "model_id": "c6aad6ae1f384ff992489e8e4660b59f",
       "version_major": 2,
       "version_minor": 0
      },
      "text/plain": [
       "Training:   0%|          | 0/352 [00:00<?, ?it/s]"
      ]
     },
     "metadata": {},
     "output_type": "display_data"
    },
    {
     "data": {
      "application/vnd.jupyter.widget-view+json": {
       "model_id": "a29f3c713d4e4d3097663cf79ef5fa3e",
       "version_major": 2,
       "version_minor": 0
      },
      "text/plain": [
       "Evaluating:   0%|          | 0/40 [00:00<?, ?it/s]"
      ]
     },
     "metadata": {},
     "output_type": "display_data"
    },
    {
     "name": "stdout",
     "output_type": "stream",
     "text": [
      "Train Loss: 0.6779, Acc: 0.7724, Top-5: 0.9827\n",
      "Val Loss: 0.6717, Acc: 0.7610, Top-5: 0.9872\n",
      "No improvement for 1 epochs\n",
      "Epoch 36/50\n"
     ]
    },
    {
     "data": {
      "application/vnd.jupyter.widget-view+json": {
       "model_id": "3ecfef79f70841d5ad4974d672d8726c",
       "version_major": 2,
       "version_minor": 0
      },
      "text/plain": [
       "Training:   0%|          | 0/352 [00:00<?, ?it/s]"
      ]
     },
     "metadata": {},
     "output_type": "display_data"
    },
    {
     "data": {
      "application/vnd.jupyter.widget-view+json": {
       "model_id": "395b02cb45804513bd15e2ec308b0576",
       "version_major": 2,
       "version_minor": 0
      },
      "text/plain": [
       "Evaluating:   0%|          | 0/40 [00:00<?, ?it/s]"
      ]
     },
     "metadata": {},
     "output_type": "display_data"
    },
    {
     "name": "stdout",
     "output_type": "stream",
     "text": [
      "Train Loss: 0.6662, Acc: 0.7772, Top-5: 0.9849\n",
      "Val Loss: 0.6689, Acc: 0.7718, Top-5: 0.9864\n",
      "No improvement for 2 epochs\n",
      "Epoch 37/50\n"
     ]
    },
    {
     "data": {
      "application/vnd.jupyter.widget-view+json": {
       "model_id": "9d1c983136f4409b9c31ac983bbef630",
       "version_major": 2,
       "version_minor": 0
      },
      "text/plain": [
       "Training:   0%|          | 0/352 [00:00<?, ?it/s]"
      ]
     },
     "metadata": {},
     "output_type": "display_data"
    },
    {
     "data": {
      "application/vnd.jupyter.widget-view+json": {
       "model_id": "e0022a90c5b24c38821d3c37a8a41894",
       "version_major": 2,
       "version_minor": 0
      },
      "text/plain": [
       "Evaluating:   0%|          | 0/40 [00:00<?, ?it/s]"
      ]
     },
     "metadata": {},
     "output_type": "display_data"
    },
    {
     "name": "stdout",
     "output_type": "stream",
     "text": [
      "Train Loss: 0.6653, Acc: 0.7772, Top-5: 0.9843\n",
      "Val Loss: 0.6331, Acc: 0.7762, Top-5: 0.9886\n",
      "Saved best model with validation accuracy: 0.7762\n",
      "Epoch 38/50\n"
     ]
    },
    {
     "data": {
      "application/vnd.jupyter.widget-view+json": {
       "model_id": "cead03d9966b4e2c8e2a7e275beceb57",
       "version_major": 2,
       "version_minor": 0
      },
      "text/plain": [
       "Training:   0%|          | 0/352 [00:00<?, ?it/s]"
      ]
     },
     "metadata": {},
     "output_type": "display_data"
    },
    {
     "data": {
      "application/vnd.jupyter.widget-view+json": {
       "model_id": "6be12e4c34724b599ed13c5423e1a671",
       "version_major": 2,
       "version_minor": 0
      },
      "text/plain": [
       "Evaluating:   0%|          | 0/40 [00:00<?, ?it/s]"
      ]
     },
     "metadata": {},
     "output_type": "display_data"
    },
    {
     "name": "stdout",
     "output_type": "stream",
     "text": [
      "Train Loss: 0.6594, Acc: 0.7752, Top-5: 0.9854\n",
      "Val Loss: 0.6419, Acc: 0.7742, Top-5: 0.9860\n",
      "No improvement for 1 epochs\n",
      "Epoch 39/50\n"
     ]
    },
    {
     "data": {
      "application/vnd.jupyter.widget-view+json": {
       "model_id": "2f7dad165c8d438b8695d48d84307fb0",
       "version_major": 2,
       "version_minor": 0
      },
      "text/plain": [
       "Training:   0%|          | 0/352 [00:00<?, ?it/s]"
      ]
     },
     "metadata": {},
     "output_type": "display_data"
    },
    {
     "data": {
      "application/vnd.jupyter.widget-view+json": {
       "model_id": "e24112ed4e604892a91874633a6c37d5",
       "version_major": 2,
       "version_minor": 0
      },
      "text/plain": [
       "Evaluating:   0%|          | 0/40 [00:00<?, ?it/s]"
      ]
     },
     "metadata": {},
     "output_type": "display_data"
    },
    {
     "name": "stdout",
     "output_type": "stream",
     "text": [
      "Train Loss: 0.6581, Acc: 0.7773, Top-5: 0.9842\n",
      "Val Loss: 0.6535, Acc: 0.7680, Top-5: 0.9872\n",
      "No improvement for 2 epochs\n",
      "Epoch 40/50\n"
     ]
    },
    {
     "data": {
      "application/vnd.jupyter.widget-view+json": {
       "model_id": "c8e8abec6a664c2387c12565f079e0cc",
       "version_major": 2,
       "version_minor": 0
      },
      "text/plain": [
       "Training:   0%|          | 0/352 [00:00<?, ?it/s]"
      ]
     },
     "metadata": {},
     "output_type": "display_data"
    },
    {
     "data": {
      "application/vnd.jupyter.widget-view+json": {
       "model_id": "66007b92c96446908d6304a6b0f8ca16",
       "version_major": 2,
       "version_minor": 0
      },
      "text/plain": [
       "Evaluating:   0%|          | 0/40 [00:00<?, ?it/s]"
      ]
     },
     "metadata": {},
     "output_type": "display_data"
    },
    {
     "name": "stdout",
     "output_type": "stream",
     "text": [
      "Train Loss: 0.6570, Acc: 0.7790, Top-5: 0.9846\n",
      "Val Loss: 0.6363, Acc: 0.7744, Top-5: 0.9878\n",
      "No improvement for 3 epochs\n",
      "Epoch 41/50\n"
     ]
    },
    {
     "data": {
      "application/vnd.jupyter.widget-view+json": {
       "model_id": "9ca49bd2552e44b69cb1fb758f31b852",
       "version_major": 2,
       "version_minor": 0
      },
      "text/plain": [
       "Training:   0%|          | 0/352 [00:00<?, ?it/s]"
      ]
     },
     "metadata": {},
     "output_type": "display_data"
    },
    {
     "data": {
      "application/vnd.jupyter.widget-view+json": {
       "model_id": "f66dc21d7cef4cf2b51ca43fe7db4c35",
       "version_major": 2,
       "version_minor": 0
      },
      "text/plain": [
       "Evaluating:   0%|          | 0/40 [00:00<?, ?it/s]"
      ]
     },
     "metadata": {},
     "output_type": "display_data"
    },
    {
     "name": "stdout",
     "output_type": "stream",
     "text": [
      "Train Loss: 0.6535, Acc: 0.7804, Top-5: 0.9846\n",
      "Val Loss: 0.6315, Acc: 0.7774, Top-5: 0.9868\n",
      "Saved best model with validation accuracy: 0.7774\n",
      "Epoch 42/50\n"
     ]
    },
    {
     "data": {
      "application/vnd.jupyter.widget-view+json": {
       "model_id": "8d162ddb8846422c90eb1c32b4ae297f",
       "version_major": 2,
       "version_minor": 0
      },
      "text/plain": [
       "Training:   0%|          | 0/352 [00:00<?, ?it/s]"
      ]
     },
     "metadata": {},
     "output_type": "display_data"
    },
    {
     "data": {
      "application/vnd.jupyter.widget-view+json": {
       "model_id": "858673a5f1a0455bb83929e46a87e672",
       "version_major": 2,
       "version_minor": 0
      },
      "text/plain": [
       "Evaluating:   0%|          | 0/40 [00:00<?, ?it/s]"
      ]
     },
     "metadata": {},
     "output_type": "display_data"
    },
    {
     "name": "stdout",
     "output_type": "stream",
     "text": [
      "Train Loss: 0.6492, Acc: 0.7811, Top-5: 0.9847\n",
      "Val Loss: 0.6242, Acc: 0.7744, Top-5: 0.9892\n",
      "No improvement for 1 epochs\n",
      "Epoch 43/50\n"
     ]
    },
    {
     "data": {
      "application/vnd.jupyter.widget-view+json": {
       "model_id": "1bd89f358ac14451810f99390ec2b267",
       "version_major": 2,
       "version_minor": 0
      },
      "text/plain": [
       "Training:   0%|          | 0/352 [00:00<?, ?it/s]"
      ]
     },
     "metadata": {},
     "output_type": "display_data"
    },
    {
     "data": {
      "application/vnd.jupyter.widget-view+json": {
       "model_id": "6b8621ea7d664e1ea59cacc38a04deec",
       "version_major": 2,
       "version_minor": 0
      },
      "text/plain": [
       "Evaluating:   0%|          | 0/40 [00:00<?, ?it/s]"
      ]
     },
     "metadata": {},
     "output_type": "display_data"
    },
    {
     "name": "stdout",
     "output_type": "stream",
     "text": [
      "Train Loss: 0.6511, Acc: 0.7806, Top-5: 0.9845\n",
      "Val Loss: 0.6465, Acc: 0.7740, Top-5: 0.9854\n",
      "No improvement for 2 epochs\n",
      "Epoch 44/50\n"
     ]
    },
    {
     "data": {
      "application/vnd.jupyter.widget-view+json": {
       "model_id": "f67f697a27c64a2dbd4e9c1c7d19af93",
       "version_major": 2,
       "version_minor": 0
      },
      "text/plain": [
       "Training:   0%|          | 0/352 [00:00<?, ?it/s]"
      ]
     },
     "metadata": {},
     "output_type": "display_data"
    },
    {
     "data": {
      "application/vnd.jupyter.widget-view+json": {
       "model_id": "e57f16a0fa364eb1908e06fa3d2cfeca",
       "version_major": 2,
       "version_minor": 0
      },
      "text/plain": [
       "Evaluating:   0%|          | 0/40 [00:00<?, ?it/s]"
      ]
     },
     "metadata": {},
     "output_type": "display_data"
    },
    {
     "name": "stdout",
     "output_type": "stream",
     "text": [
      "Train Loss: 0.6437, Acc: 0.7828, Top-5: 0.9858\n",
      "Val Loss: 0.6428, Acc: 0.7752, Top-5: 0.9896\n",
      "No improvement for 3 epochs\n",
      "Epoch 45/50\n"
     ]
    },
    {
     "data": {
      "application/vnd.jupyter.widget-view+json": {
       "model_id": "c07655ea95154285bba09097dba86a80",
       "version_major": 2,
       "version_minor": 0
      },
      "text/plain": [
       "Training:   0%|          | 0/352 [00:00<?, ?it/s]"
      ]
     },
     "metadata": {},
     "output_type": "display_data"
    },
    {
     "data": {
      "application/vnd.jupyter.widget-view+json": {
       "model_id": "c89d0f90984548e0a96050daefbf3ece",
       "version_major": 2,
       "version_minor": 0
      },
      "text/plain": [
       "Evaluating:   0%|          | 0/40 [00:00<?, ?it/s]"
      ]
     },
     "metadata": {},
     "output_type": "display_data"
    },
    {
     "name": "stdout",
     "output_type": "stream",
     "text": [
      "Train Loss: 0.6450, Acc: 0.7829, Top-5: 0.9852\n",
      "Val Loss: 0.6404, Acc: 0.7766, Top-5: 0.9848\n",
      "No improvement for 4 epochs\n",
      "Epoch 46/50\n"
     ]
    },
    {
     "data": {
      "application/vnd.jupyter.widget-view+json": {
       "model_id": "5b9f8d16f8784d819293b96cb3c32ae9",
       "version_major": 2,
       "version_minor": 0
      },
      "text/plain": [
       "Training:   0%|          | 0/352 [00:00<?, ?it/s]"
      ]
     },
     "metadata": {},
     "output_type": "display_data"
    },
    {
     "data": {
      "application/vnd.jupyter.widget-view+json": {
       "model_id": "7693c097bbaf49b58cf27180c0be62df",
       "version_major": 2,
       "version_minor": 0
      },
      "text/plain": [
       "Evaluating:   0%|          | 0/40 [00:00<?, ?it/s]"
      ]
     },
     "metadata": {},
     "output_type": "display_data"
    },
    {
     "name": "stdout",
     "output_type": "stream",
     "text": [
      "Train Loss: 0.6389, Acc: 0.7842, Top-5: 0.9856\n",
      "Val Loss: 0.6302, Acc: 0.7802, Top-5: 0.9862\n",
      "Saved best model with validation accuracy: 0.7802\n",
      "Epoch 47/50\n"
     ]
    },
    {
     "data": {
      "application/vnd.jupyter.widget-view+json": {
       "model_id": "762a27ff1e104d758154aed785c097b8",
       "version_major": 2,
       "version_minor": 0
      },
      "text/plain": [
       "Training:   0%|          | 0/352 [00:00<?, ?it/s]"
      ]
     },
     "metadata": {},
     "output_type": "display_data"
    },
    {
     "data": {
      "application/vnd.jupyter.widget-view+json": {
       "model_id": "8aaa8af76f8d49e1820d802a03d54949",
       "version_major": 2,
       "version_minor": 0
      },
      "text/plain": [
       "Evaluating:   0%|          | 0/40 [00:00<?, ?it/s]"
      ]
     },
     "metadata": {},
     "output_type": "display_data"
    },
    {
     "name": "stdout",
     "output_type": "stream",
     "text": [
      "Train Loss: 0.6392, Acc: 0.7833, Top-5: 0.9860\n",
      "Val Loss: 0.6204, Acc: 0.7794, Top-5: 0.9864\n",
      "No improvement for 1 epochs\n",
      "Epoch 48/50\n"
     ]
    },
    {
     "data": {
      "application/vnd.jupyter.widget-view+json": {
       "model_id": "b1325221dc684e678795e8a12fa572ec",
       "version_major": 2,
       "version_minor": 0
      },
      "text/plain": [
       "Training:   0%|          | 0/352 [00:00<?, ?it/s]"
      ]
     },
     "metadata": {},
     "output_type": "display_data"
    },
    {
     "data": {
      "application/vnd.jupyter.widget-view+json": {
       "model_id": "16837305e14d4215a2e910fd3525cb2e",
       "version_major": 2,
       "version_minor": 0
      },
      "text/plain": [
       "Evaluating:   0%|          | 0/40 [00:00<?, ?it/s]"
      ]
     },
     "metadata": {},
     "output_type": "display_data"
    },
    {
     "name": "stdout",
     "output_type": "stream",
     "text": [
      "Train Loss: 0.6302, Acc: 0.7870, Top-5: 0.9861\n",
      "Val Loss: 0.6285, Acc: 0.7786, Top-5: 0.9876\n",
      "No improvement for 2 epochs\n",
      "Epoch 49/50\n"
     ]
    },
    {
     "data": {
      "application/vnd.jupyter.widget-view+json": {
       "model_id": "8c0e6c1c4117485cbd51ec33b03dec4e",
       "version_major": 2,
       "version_minor": 0
      },
      "text/plain": [
       "Training:   0%|          | 0/352 [00:00<?, ?it/s]"
      ]
     },
     "metadata": {},
     "output_type": "display_data"
    },
    {
     "data": {
      "application/vnd.jupyter.widget-view+json": {
       "model_id": "097777aea1a34a88a1092f47018a6a0a",
       "version_major": 2,
       "version_minor": 0
      },
      "text/plain": [
       "Evaluating:   0%|          | 0/40 [00:00<?, ?it/s]"
      ]
     },
     "metadata": {},
     "output_type": "display_data"
    },
    {
     "name": "stdout",
     "output_type": "stream",
     "text": [
      "Train Loss: 0.6362, Acc: 0.7871, Top-5: 0.9861\n",
      "Val Loss: 0.5990, Acc: 0.7904, Top-5: 0.9888\n",
      "Saved best model with validation accuracy: 0.7904\n",
      "Epoch 50/50\n"
     ]
    },
    {
     "data": {
      "application/vnd.jupyter.widget-view+json": {
       "model_id": "6afebd5dfe2341b6be860a8030c0c2d7",
       "version_major": 2,
       "version_minor": 0
      },
      "text/plain": [
       "Training:   0%|          | 0/352 [00:00<?, ?it/s]"
      ]
     },
     "metadata": {},
     "output_type": "display_data"
    },
    {
     "data": {
      "application/vnd.jupyter.widget-view+json": {
       "model_id": "197247ba406643a09371cc9b22672405",
       "version_major": 2,
       "version_minor": 0
      },
      "text/plain": [
       "Evaluating:   0%|          | 0/40 [00:00<?, ?it/s]"
      ]
     },
     "metadata": {},
     "output_type": "display_data"
    },
    {
     "name": "stdout",
     "output_type": "stream",
     "text": [
      "Train Loss: 0.6291, Acc: 0.7870, Top-5: 0.9850\n",
      "Val Loss: 0.6131, Acc: 0.7884, Top-5: 0.9856\n",
      "No improvement for 1 epochs\n"
     ]
    }
   ],
   "source": [
    "# 5.2 Train SE-Net\n",
    "print(\"\\n=== Training SE-Net ===\")\n",
    "se_model = SECNN(num_classes=10)\n",
    "se_model, se_history = train_model(\n",
    "    se_model, trainloader, valloader, \n",
    "    \"se\", config, device\n",
    ")"
   ]
  },
  {
   "cell_type": "code",
   "execution_count": 8,
   "metadata": {},
   "outputs": [],
   "source": [
    "import time\n",
    "\n",
    "# Wait for 1 minute\n",
    "time.sleep(60)"
   ]
  },
  {
   "cell_type": "code",
   "execution_count": null,
   "metadata": {},
   "outputs": [
    {
     "name": "stdout",
     "output_type": "stream",
     "text": [
      "\n",
      "=== Training CBAM-Net ===\n",
      "Epoch 1/50\n"
     ]
    },
    {
     "data": {
      "application/vnd.jupyter.widget-view+json": {
       "model_id": "61c492c04de44106a9250014263896e3",
       "version_major": 2,
       "version_minor": 0
      },
      "text/plain": [
       "Training:   0%|          | 0/352 [00:00<?, ?it/s]"
      ]
     },
     "metadata": {},
     "output_type": "display_data"
    },
    {
     "data": {
      "application/vnd.jupyter.widget-view+json": {
       "model_id": "0e61fafa36374a819a8014de39894044",
       "version_major": 2,
       "version_minor": 0
      },
      "text/plain": [
       "Evaluating:   0%|          | 0/40 [00:00<?, ?it/s]"
      ]
     },
     "metadata": {},
     "output_type": "display_data"
    },
    {
     "name": "stdout",
     "output_type": "stream",
     "text": [
      "Train Loss: 1.6789, Acc: 0.3510, Top-5: 0.8755\n",
      "Val Loss: 1.5231, Acc: 0.4196, Top-5: 0.8972\n",
      "Saved best model with validation accuracy: 0.4196\n",
      "Epoch 2/50\n"
     ]
    },
    {
     "data": {
      "application/vnd.jupyter.widget-view+json": {
       "model_id": "6885dd20fd864a0cb3608626ee918fd0",
       "version_major": 2,
       "version_minor": 0
      },
      "text/plain": [
       "Training:   0%|          | 0/352 [00:00<?, ?it/s]"
      ]
     },
     "metadata": {},
     "output_type": "display_data"
    },
    {
     "data": {
      "application/vnd.jupyter.widget-view+json": {
       "model_id": "eb61a7d953204410a3baface414ddc62",
       "version_major": 2,
       "version_minor": 0
      },
      "text/plain": [
       "Evaluating:   0%|          | 0/40 [00:00<?, ?it/s]"
      ]
     },
     "metadata": {},
     "output_type": "display_data"
    },
    {
     "name": "stdout",
     "output_type": "stream",
     "text": [
      "Train Loss: 1.2982, Acc: 0.5256, Top-5: 0.9394\n",
      "Val Loss: 1.3086, Acc: 0.5298, Top-5: 0.9330\n",
      "Saved best model with validation accuracy: 0.5298\n",
      "Epoch 3/50\n"
     ]
    },
    {
     "data": {
      "application/vnd.jupyter.widget-view+json": {
       "model_id": "60c18d13dbac468db1c5d79db4b6d574",
       "version_major": 2,
       "version_minor": 0
      },
      "text/plain": [
       "Training:   0%|          | 0/352 [00:00<?, ?it/s]"
      ]
     },
     "metadata": {},
     "output_type": "display_data"
    },
    {
     "data": {
      "application/vnd.jupyter.widget-view+json": {
       "model_id": "aa30077323b840aaa1600414f53f682b",
       "version_major": 2,
       "version_minor": 0
      },
      "text/plain": [
       "Evaluating:   0%|          | 0/40 [00:00<?, ?it/s]"
      ]
     },
     "metadata": {},
     "output_type": "display_data"
    },
    {
     "name": "stdout",
     "output_type": "stream",
     "text": [
      "Train Loss: 1.1465, Acc: 0.5919, Top-5: 0.9538\n",
      "Val Loss: 1.1664, Acc: 0.5856, Top-5: 0.9484\n",
      "Saved best model with validation accuracy: 0.5856\n",
      "Epoch 4/50\n"
     ]
    },
    {
     "data": {
      "application/vnd.jupyter.widget-view+json": {
       "model_id": "4a447b6a3dca421393f7d9a075c7b6be",
       "version_major": 2,
       "version_minor": 0
      },
      "text/plain": [
       "Training:   0%|          | 0/352 [00:00<?, ?it/s]"
      ]
     },
     "metadata": {},
     "output_type": "display_data"
    },
    {
     "data": {
      "application/vnd.jupyter.widget-view+json": {
       "model_id": "519f76004ced45b0843bd9d52fdc30f2",
       "version_major": 2,
       "version_minor": 0
      },
      "text/plain": [
       "Evaluating:   0%|          | 0/40 [00:00<?, ?it/s]"
      ]
     },
     "metadata": {},
     "output_type": "display_data"
    },
    {
     "name": "stdout",
     "output_type": "stream",
     "text": [
      "Train Loss: 1.0714, Acc: 0.6202, Top-5: 0.9601\n",
      "Val Loss: 1.1463, Acc: 0.5934, Top-5: 0.9522\n",
      "Saved best model with validation accuracy: 0.5934\n",
      "Epoch 5/50\n"
     ]
    },
    {
     "data": {
      "application/vnd.jupyter.widget-view+json": {
       "model_id": "491caec30566439ead131a2a8434a6f2",
       "version_major": 2,
       "version_minor": 0
      },
      "text/plain": [
       "Training:   0%|          | 0/352 [00:00<?, ?it/s]"
      ]
     },
     "metadata": {},
     "output_type": "display_data"
    },
    {
     "data": {
      "application/vnd.jupyter.widget-view+json": {
       "model_id": "279980157a514714891e2559ed71f223",
       "version_major": 2,
       "version_minor": 0
      },
      "text/plain": [
       "Evaluating:   0%|          | 0/40 [00:00<?, ?it/s]"
      ]
     },
     "metadata": {},
     "output_type": "display_data"
    },
    {
     "name": "stdout",
     "output_type": "stream",
     "text": [
      "Train Loss: 1.0250, Acc: 0.6410, Top-5: 0.9644\n",
      "Val Loss: 1.1183, Acc: 0.6016, Top-5: 0.9630\n",
      "Saved best model with validation accuracy: 0.6016\n",
      "Epoch 6/50\n"
     ]
    },
    {
     "data": {
      "application/vnd.jupyter.widget-view+json": {
       "model_id": "8100f38e8d8d47cc80dbc166df3cd627",
       "version_major": 2,
       "version_minor": 0
      },
      "text/plain": [
       "Training:   0%|          | 0/352 [00:00<?, ?it/s]"
      ]
     },
     "metadata": {},
     "output_type": "display_data"
    },
    {
     "data": {
      "application/vnd.jupyter.widget-view+json": {
       "model_id": "cbd3d2821be94dc6adf81d48c4454e5e",
       "version_major": 2,
       "version_minor": 0
      },
      "text/plain": [
       "Evaluating:   0%|          | 0/40 [00:00<?, ?it/s]"
      ]
     },
     "metadata": {},
     "output_type": "display_data"
    },
    {
     "name": "stdout",
     "output_type": "stream",
     "text": [
      "Train Loss: 0.9963, Acc: 0.6498, Top-5: 0.9660\n",
      "Val Loss: 1.2940, Acc: 0.5822, Top-5: 0.9364\n",
      "No improvement for 1 epochs\n",
      "Epoch 7/50\n"
     ]
    },
    {
     "data": {
      "application/vnd.jupyter.widget-view+json": {
       "model_id": "50c3d26c49ea46d1b3bfce753a6fb082",
       "version_major": 2,
       "version_minor": 0
      },
      "text/plain": [
       "Training:   0%|          | 0/352 [00:00<?, ?it/s]"
      ]
     },
     "metadata": {},
     "output_type": "display_data"
    },
    {
     "data": {
      "application/vnd.jupyter.widget-view+json": {
       "model_id": "3aeab3e014e74c2ca2b1de4816f39d71",
       "version_major": 2,
       "version_minor": 0
      },
      "text/plain": [
       "Evaluating:   0%|          | 0/40 [00:00<?, ?it/s]"
      ]
     },
     "metadata": {},
     "output_type": "display_data"
    },
    {
     "name": "stdout",
     "output_type": "stream",
     "text": [
      "Train Loss: 0.9682, Acc: 0.6640, Top-5: 0.9680\n",
      "Val Loss: 1.0972, Acc: 0.6258, Top-5: 0.9564\n",
      "Saved best model with validation accuracy: 0.6258\n",
      "Epoch 8/50\n"
     ]
    },
    {
     "data": {
      "application/vnd.jupyter.widget-view+json": {
       "model_id": "9ae75fd72a684501b5cb1682c336edc8",
       "version_major": 2,
       "version_minor": 0
      },
      "text/plain": [
       "Training:   0%|          | 0/352 [00:00<?, ?it/s]"
      ]
     },
     "metadata": {},
     "output_type": "display_data"
    },
    {
     "data": {
      "application/vnd.jupyter.widget-view+json": {
       "model_id": "0996da8773974a008010e9c3169c93b4",
       "version_major": 2,
       "version_minor": 0
      },
      "text/plain": [
       "Evaluating:   0%|          | 0/40 [00:00<?, ?it/s]"
      ]
     },
     "metadata": {},
     "output_type": "display_data"
    },
    {
     "name": "stdout",
     "output_type": "stream",
     "text": [
      "Train Loss: 0.9563, Acc: 0.6674, Top-5: 0.9684\n",
      "Val Loss: 1.1137, Acc: 0.6244, Top-5: 0.9558\n",
      "No improvement for 1 epochs\n",
      "Epoch 9/50\n"
     ]
    },
    {
     "data": {
      "application/vnd.jupyter.widget-view+json": {
       "model_id": "a66857be095e4183b95eb47906975443",
       "version_major": 2,
       "version_minor": 0
      },
      "text/plain": [
       "Training:   0%|          | 0/352 [00:00<?, ?it/s]"
      ]
     },
     "metadata": {},
     "output_type": "display_data"
    },
    {
     "data": {
      "application/vnd.jupyter.widget-view+json": {
       "model_id": "d6cdcbe73a0c41afbc1f0ae9e9f381a9",
       "version_major": 2,
       "version_minor": 0
      },
      "text/plain": [
       "Evaluating:   0%|          | 0/40 [00:00<?, ?it/s]"
      ]
     },
     "metadata": {},
     "output_type": "display_data"
    },
    {
     "name": "stdout",
     "output_type": "stream",
     "text": [
      "Train Loss: 0.9466, Acc: 0.6714, Top-5: 0.9687\n",
      "Val Loss: 1.0396, Acc: 0.6324, Top-5: 0.9594\n",
      "Saved best model with validation accuracy: 0.6324\n",
      "Epoch 10/50\n"
     ]
    },
    {
     "data": {
      "application/vnd.jupyter.widget-view+json": {
       "model_id": "86450f23b6fd44b88e9790adc5141565",
       "version_major": 2,
       "version_minor": 0
      },
      "text/plain": [
       "Training:   0%|          | 0/352 [00:00<?, ?it/s]"
      ]
     },
     "metadata": {},
     "output_type": "display_data"
    },
    {
     "data": {
      "application/vnd.jupyter.widget-view+json": {
       "model_id": "c31ce375c1fd419d8262fac24ed6a474",
       "version_major": 2,
       "version_minor": 0
      },
      "text/plain": [
       "Evaluating:   0%|          | 0/40 [00:00<?, ?it/s]"
      ]
     },
     "metadata": {},
     "output_type": "display_data"
    },
    {
     "name": "stdout",
     "output_type": "stream",
     "text": [
      "Train Loss: 0.9309, Acc: 0.6796, Top-5: 0.9696\n",
      "Val Loss: 1.6169, Acc: 0.5156, Top-5: 0.9460\n",
      "No improvement for 1 epochs\n",
      "Epoch 11/50\n"
     ]
    },
    {
     "data": {
      "application/vnd.jupyter.widget-view+json": {
       "model_id": "6b2f1c1abc354c768248fe662ea665ad",
       "version_major": 2,
       "version_minor": 0
      },
      "text/plain": [
       "Training:   0%|          | 0/352 [00:00<?, ?it/s]"
      ]
     },
     "metadata": {},
     "output_type": "display_data"
    },
    {
     "data": {
      "application/vnd.jupyter.widget-view+json": {
       "model_id": "9adeea293d3b4bf0a4d877b717115ddd",
       "version_major": 2,
       "version_minor": 0
      },
      "text/plain": [
       "Evaluating:   0%|          | 0/40 [00:00<?, ?it/s]"
      ]
     },
     "metadata": {},
     "output_type": "display_data"
    },
    {
     "name": "stdout",
     "output_type": "stream",
     "text": [
      "Train Loss: 0.9116, Acc: 0.6871, Top-5: 0.9706\n",
      "Val Loss: 1.0547, Acc: 0.6382, Top-5: 0.9606\n",
      "Saved best model with validation accuracy: 0.6382\n",
      "Epoch 12/50\n"
     ]
    },
    {
     "data": {
      "application/vnd.jupyter.widget-view+json": {
       "model_id": "bd6694ba948841b182e45c828792f553",
       "version_major": 2,
       "version_minor": 0
      },
      "text/plain": [
       "Training:   0%|          | 0/352 [00:00<?, ?it/s]"
      ]
     },
     "metadata": {},
     "output_type": "display_data"
    },
    {
     "data": {
      "application/vnd.jupyter.widget-view+json": {
       "model_id": "1b328490d19b4b7293ed8d4ab9c17a35",
       "version_major": 2,
       "version_minor": 0
      },
      "text/plain": [
       "Evaluating:   0%|          | 0/40 [00:00<?, ?it/s]"
      ]
     },
     "metadata": {},
     "output_type": "display_data"
    },
    {
     "name": "stdout",
     "output_type": "stream",
     "text": [
      "Train Loss: 0.9069, Acc: 0.6888, Top-5: 0.9717\n",
      "Val Loss: 1.0430, Acc: 0.6398, Top-5: 0.9592\n",
      "Saved best model with validation accuracy: 0.6398\n",
      "Epoch 13/50\n"
     ]
    },
    {
     "data": {
      "application/vnd.jupyter.widget-view+json": {
       "model_id": "591292baab554888a3eecbb9d1c3f668",
       "version_major": 2,
       "version_minor": 0
      },
      "text/plain": [
       "Training:   0%|          | 0/352 [00:00<?, ?it/s]"
      ]
     },
     "metadata": {},
     "output_type": "display_data"
    },
    {
     "data": {
      "application/vnd.jupyter.widget-view+json": {
       "model_id": "b07a47de7be147eb94a3736001f82365",
       "version_major": 2,
       "version_minor": 0
      },
      "text/plain": [
       "Evaluating:   0%|          | 0/40 [00:00<?, ?it/s]"
      ]
     },
     "metadata": {},
     "output_type": "display_data"
    },
    {
     "name": "stdout",
     "output_type": "stream",
     "text": [
      "Train Loss: 0.8971, Acc: 0.6924, Top-5: 0.9712\n",
      "Val Loss: 0.9525, Acc: 0.6650, Top-5: 0.9690\n",
      "Saved best model with validation accuracy: 0.6650\n",
      "Epoch 14/50\n"
     ]
    },
    {
     "data": {
      "application/vnd.jupyter.widget-view+json": {
       "model_id": "f9eeb41a6db24c42b5ce114e74b13686",
       "version_major": 2,
       "version_minor": 0
      },
      "text/plain": [
       "Training:   0%|          | 0/352 [00:00<?, ?it/s]"
      ]
     },
     "metadata": {},
     "output_type": "display_data"
    },
    {
     "data": {
      "application/vnd.jupyter.widget-view+json": {
       "model_id": "56aed803fcf248259204c304d0b0efc3",
       "version_major": 2,
       "version_minor": 0
      },
      "text/plain": [
       "Evaluating:   0%|          | 0/40 [00:00<?, ?it/s]"
      ]
     },
     "metadata": {},
     "output_type": "display_data"
    },
    {
     "name": "stdout",
     "output_type": "stream",
     "text": [
      "Train Loss: 0.8949, Acc: 0.6935, Top-5: 0.9717\n",
      "Val Loss: 1.1745, Acc: 0.6084, Top-5: 0.9516\n",
      "No improvement for 1 epochs\n",
      "Epoch 15/50\n"
     ]
    },
    {
     "data": {
      "application/vnd.jupyter.widget-view+json": {
       "model_id": "44f1bfb75df4494f9c99c26a9b429c82",
       "version_major": 2,
       "version_minor": 0
      },
      "text/plain": [
       "Training:   0%|          | 0/352 [00:00<?, ?it/s]"
      ]
     },
     "metadata": {},
     "output_type": "display_data"
    },
    {
     "data": {
      "application/vnd.jupyter.widget-view+json": {
       "model_id": "c27b4e2ce21b4b2d90dba99952014712",
       "version_major": 2,
       "version_minor": 0
      },
      "text/plain": [
       "Evaluating:   0%|          | 0/40 [00:00<?, ?it/s]"
      ]
     },
     "metadata": {},
     "output_type": "display_data"
    },
    {
     "name": "stdout",
     "output_type": "stream",
     "text": [
      "Train Loss: 0.8891, Acc: 0.6959, Top-5: 0.9725\n",
      "Val Loss: 1.0202, Acc: 0.6446, Top-5: 0.9740\n",
      "No improvement for 2 epochs\n",
      "Epoch 16/50\n"
     ]
    },
    {
     "data": {
      "application/vnd.jupyter.widget-view+json": {
       "model_id": "dacf5dbdc6a1430c837dab479bd549f8",
       "version_major": 2,
       "version_minor": 0
      },
      "text/plain": [
       "Training:   0%|          | 0/352 [00:00<?, ?it/s]"
      ]
     },
     "metadata": {},
     "output_type": "display_data"
    },
    {
     "data": {
      "application/vnd.jupyter.widget-view+json": {
       "model_id": "a8ed550af9774090a83282609c6eaa16",
       "version_major": 2,
       "version_minor": 0
      },
      "text/plain": [
       "Evaluating:   0%|          | 0/40 [00:00<?, ?it/s]"
      ]
     },
     "metadata": {},
     "output_type": "display_data"
    },
    {
     "name": "stdout",
     "output_type": "stream",
     "text": [
      "Train Loss: 0.8863, Acc: 0.6995, Top-5: 0.9718\n",
      "Val Loss: 0.9055, Acc: 0.6774, Top-5: 0.9746\n",
      "Saved best model with validation accuracy: 0.6774\n",
      "Epoch 17/50\n"
     ]
    },
    {
     "data": {
      "application/vnd.jupyter.widget-view+json": {
       "model_id": "4418bb686c13482caa7d704ac977d119",
       "version_major": 2,
       "version_minor": 0
      },
      "text/plain": [
       "Training:   0%|          | 0/352 [00:00<?, ?it/s]"
      ]
     },
     "metadata": {},
     "output_type": "display_data"
    },
    {
     "data": {
      "application/vnd.jupyter.widget-view+json": {
       "model_id": "4662a5a7e9d244beb8b857c4673e48ac",
       "version_major": 2,
       "version_minor": 0
      },
      "text/plain": [
       "Evaluating:   0%|          | 0/40 [00:00<?, ?it/s]"
      ]
     },
     "metadata": {},
     "output_type": "display_data"
    },
    {
     "name": "stdout",
     "output_type": "stream",
     "text": [
      "Train Loss: 0.8864, Acc: 0.6995, Top-5: 0.9728\n",
      "Val Loss: 0.9565, Acc: 0.6648, Top-5: 0.9718\n",
      "No improvement for 1 epochs\n",
      "Epoch 18/50\n"
     ]
    },
    {
     "data": {
      "application/vnd.jupyter.widget-view+json": {
       "model_id": "73ff15a3c7714b9aadea428e45ba7d47",
       "version_major": 2,
       "version_minor": 0
      },
      "text/plain": [
       "Training:   0%|          | 0/352 [00:00<?, ?it/s]"
      ]
     },
     "metadata": {},
     "output_type": "display_data"
    },
    {
     "data": {
      "application/vnd.jupyter.widget-view+json": {
       "model_id": "75e6b5bb6beb402cbb77d22fc2d7e7de",
       "version_major": 2,
       "version_minor": 0
      },
      "text/plain": [
       "Evaluating:   0%|          | 0/40 [00:00<?, ?it/s]"
      ]
     },
     "metadata": {},
     "output_type": "display_data"
    },
    {
     "name": "stdout",
     "output_type": "stream",
     "text": [
      "Train Loss: 0.8745, Acc: 0.6998, Top-5: 0.9724\n",
      "Val Loss: 0.9570, Acc: 0.6674, Top-5: 0.9690\n",
      "No improvement for 2 epochs\n",
      "Epoch 19/50\n"
     ]
    },
    {
     "data": {
      "application/vnd.jupyter.widget-view+json": {
       "model_id": "e571a702d0194845a322f42e85ecedb2",
       "version_major": 2,
       "version_minor": 0
      },
      "text/plain": [
       "Training:   0%|          | 0/352 [00:00<?, ?it/s]"
      ]
     },
     "metadata": {},
     "output_type": "display_data"
    },
    {
     "data": {
      "application/vnd.jupyter.widget-view+json": {
       "model_id": "20ed6772e6134fc1a6c5cce67d226c1d",
       "version_major": 2,
       "version_minor": 0
      },
      "text/plain": [
       "Evaluating:   0%|          | 0/40 [00:00<?, ?it/s]"
      ]
     },
     "metadata": {},
     "output_type": "display_data"
    },
    {
     "name": "stdout",
     "output_type": "stream",
     "text": [
      "Train Loss: 0.8755, Acc: 0.7024, Top-5: 0.9725\n",
      "Val Loss: 0.9355, Acc: 0.6746, Top-5: 0.9708\n",
      "No improvement for 3 epochs\n",
      "Epoch 20/50\n"
     ]
    },
    {
     "data": {
      "application/vnd.jupyter.widget-view+json": {
       "model_id": "572130e215d84d2cb8140a5dede23f7d",
       "version_major": 2,
       "version_minor": 0
      },
      "text/plain": [
       "Training:   0%|          | 0/352 [00:00<?, ?it/s]"
      ]
     },
     "metadata": {},
     "output_type": "display_data"
    },
    {
     "data": {
      "application/vnd.jupyter.widget-view+json": {
       "model_id": "1ca7a1f7079f492da374d962d0b52cae",
       "version_major": 2,
       "version_minor": 0
      },
      "text/plain": [
       "Evaluating:   0%|          | 0/40 [00:00<?, ?it/s]"
      ]
     },
     "metadata": {},
     "output_type": "display_data"
    },
    {
     "name": "stdout",
     "output_type": "stream",
     "text": [
      "Train Loss: 0.8736, Acc: 0.7038, Top-5: 0.9718\n",
      "Val Loss: 0.9141, Acc: 0.6848, Top-5: 0.9706\n",
      "Saved best model with validation accuracy: 0.6848\n",
      "Epoch 21/50\n"
     ]
    },
    {
     "data": {
      "application/vnd.jupyter.widget-view+json": {
       "model_id": "dcf0ddb986dc4b15b554d8b298a52e6a",
       "version_major": 2,
       "version_minor": 0
      },
      "text/plain": [
       "Training:   0%|          | 0/352 [00:00<?, ?it/s]"
      ]
     },
     "metadata": {},
     "output_type": "display_data"
    },
    {
     "data": {
      "application/vnd.jupyter.widget-view+json": {
       "model_id": "ec0c0f5bf8234252b878f025239399e0",
       "version_major": 2,
       "version_minor": 0
      },
      "text/plain": [
       "Evaluating:   0%|          | 0/40 [00:00<?, ?it/s]"
      ]
     },
     "metadata": {},
     "output_type": "display_data"
    },
    {
     "name": "stdout",
     "output_type": "stream",
     "text": [
      "Train Loss: 0.8624, Acc: 0.7076, Top-5: 0.9727\n",
      "Val Loss: 1.0030, Acc: 0.6612, Top-5: 0.9526\n",
      "No improvement for 1 epochs\n",
      "Epoch 22/50\n"
     ]
    },
    {
     "data": {
      "application/vnd.jupyter.widget-view+json": {
       "model_id": "25e3c1cc51764e7487c0e14397e11351",
       "version_major": 2,
       "version_minor": 0
      },
      "text/plain": [
       "Training:   0%|          | 0/352 [00:00<?, ?it/s]"
      ]
     },
     "metadata": {},
     "output_type": "display_data"
    },
    {
     "data": {
      "application/vnd.jupyter.widget-view+json": {
       "model_id": "789c936b07644f568e19df65f569fcd6",
       "version_major": 2,
       "version_minor": 0
      },
      "text/plain": [
       "Evaluating:   0%|          | 0/40 [00:00<?, ?it/s]"
      ]
     },
     "metadata": {},
     "output_type": "display_data"
    },
    {
     "name": "stdout",
     "output_type": "stream",
     "text": [
      "Train Loss: 0.8672, Acc: 0.7048, Top-5: 0.9731\n",
      "Val Loss: 0.9549, Acc: 0.6684, Top-5: 0.9712\n",
      "No improvement for 2 epochs\n",
      "Epoch 23/50\n"
     ]
    },
    {
     "data": {
      "application/vnd.jupyter.widget-view+json": {
       "model_id": "d30ce8aa6a554da19f678ed4ddc54057",
       "version_major": 2,
       "version_minor": 0
      },
      "text/plain": [
       "Training:   0%|          | 0/352 [00:00<?, ?it/s]"
      ]
     },
     "metadata": {},
     "output_type": "display_data"
    },
    {
     "data": {
      "application/vnd.jupyter.widget-view+json": {
       "model_id": "36660cb5252e4f6b8bedb778e7fc48b0",
       "version_major": 2,
       "version_minor": 0
      },
      "text/plain": [
       "Evaluating:   0%|          | 0/40 [00:00<?, ?it/s]"
      ]
     },
     "metadata": {},
     "output_type": "display_data"
    },
    {
     "name": "stdout",
     "output_type": "stream",
     "text": [
      "Train Loss: 0.8660, Acc: 0.7067, Top-5: 0.9730\n",
      "Val Loss: 1.0882, Acc: 0.6248, Top-5: 0.9488\n",
      "No improvement for 3 epochs\n",
      "Epoch 24/50\n"
     ]
    },
    {
     "data": {
      "application/vnd.jupyter.widget-view+json": {
       "model_id": "8aec8f6430b748e99475c7c2c0e3802c",
       "version_major": 2,
       "version_minor": 0
      },
      "text/plain": [
       "Training:   0%|          | 0/352 [00:00<?, ?it/s]"
      ]
     },
     "metadata": {},
     "output_type": "display_data"
    },
    {
     "data": {
      "application/vnd.jupyter.widget-view+json": {
       "model_id": "5bb5f70f0acc4bea8b52d3f17d707b7c",
       "version_major": 2,
       "version_minor": 0
      },
      "text/plain": [
       "Evaluating:   0%|          | 0/40 [00:00<?, ?it/s]"
      ]
     },
     "metadata": {},
     "output_type": "display_data"
    },
    {
     "name": "stdout",
     "output_type": "stream",
     "text": [
      "Train Loss: 0.8584, Acc: 0.7090, Top-5: 0.9732\n",
      "Val Loss: 1.0279, Acc: 0.6492, Top-5: 0.9640\n",
      "No improvement for 4 epochs\n",
      "Epoch 25/50\n"
     ]
    },
    {
     "data": {
      "application/vnd.jupyter.widget-view+json": {
       "model_id": "e61df50dbdff45a9b1e15efdd4709ee5",
       "version_major": 2,
       "version_minor": 0
      },
      "text/plain": [
       "Training:   0%|          | 0/352 [00:00<?, ?it/s]"
      ]
     },
     "metadata": {},
     "output_type": "display_data"
    },
    {
     "data": {
      "application/vnd.jupyter.widget-view+json": {
       "model_id": "4ea6be3f69e3458ba43937d6be216e72",
       "version_major": 2,
       "version_minor": 0
      },
      "text/plain": [
       "Evaluating:   0%|          | 0/40 [00:00<?, ?it/s]"
      ]
     },
     "metadata": {},
     "output_type": "display_data"
    },
    {
     "name": "stdout",
     "output_type": "stream",
     "text": [
      "Train Loss: 0.8568, Acc: 0.7077, Top-5: 0.9742\n",
      "Val Loss: 1.6537, Acc: 0.5386, Top-5: 0.8914\n",
      "No improvement for 5 epochs\n",
      "Epoch 26/50\n"
     ]
    },
    {
     "data": {
      "application/vnd.jupyter.widget-view+json": {
       "model_id": "58a923d93a84412081c3cc1754035458",
       "version_major": 2,
       "version_minor": 0
      },
      "text/plain": [
       "Training:   0%|          | 0/352 [00:00<?, ?it/s]"
      ]
     },
     "metadata": {},
     "output_type": "display_data"
    }
   ],
   "source": [
    "# 5.3 Train CBAM-Net\n",
    "print(\"\\n=== Training CBAM-Net ===\")\n",
    "cbam_model = CBAMCNN(num_classes=10)\n",
    "cbam_model, cbam_history = train_model(\n",
    "    cbam_model, trainloader, valloader, \n",
    "    \"cbam\", config, device\n",
    ")"
   ]
  },
  {
   "cell_type": "code",
   "execution_count": 11,
   "metadata": {},
   "outputs": [],
   "source": [
    "# Save all histories together for easier comparison\n",
    "all_histories = {\n",
    "    \"baseline\": baseline_history,\n",
    "    \"se\": se_history,\n",
    "    \"cbam\": cbam_history\n",
    "}\n",
    "\n",
    "with open(os.path.join(log_dir, \"all_histories.json\"), \"w\") as f:\n",
    "    json.dump(all_histories, f)"
   ]
  },
  {
   "cell_type": "code",
   "execution_count": null,
   "metadata": {},
   "outputs": [
    {
     "name": "stdout",
     "output_type": "stream",
     "text": [
      "=== Evaluating on Test Set ===\n",
      "Baseline CNN:\n"
     ]
    },
    {
     "data": {
      "application/vnd.jupyter.widget-view+json": {
       "model_id": "f72c6dde659f48c5abb2bb808ce0fa1a",
       "version_major": 2,
       "version_minor": 0
      },
      "text/plain": [
       "Evaluating:   0%|          | 0/79 [00:00<?, ?it/s]"
      ]
     },
     "metadata": {},
     "output_type": "display_data"
    },
    {
     "name": "stdout",
     "output_type": "stream",
     "text": [
      "\n",
      "SE-Net:\n"
     ]
    },
    {
     "data": {
      "application/vnd.jupyter.widget-view+json": {
       "model_id": "b860cc5b7b194a64972f81ab404c740c",
       "version_major": 2,
       "version_minor": 0
      },
      "text/plain": [
       "Evaluating:   0%|          | 0/79 [00:00<?, ?it/s]"
      ]
     },
     "metadata": {},
     "output_type": "display_data"
    },
    {
     "name": "stdout",
     "output_type": "stream",
     "text": [
      "\n",
      "CBAM-Net:\n"
     ]
    },
    {
     "data": {
      "application/vnd.jupyter.widget-view+json": {
       "model_id": "f13015da7a544018a49c62599812b7d5",
       "version_major": 2,
       "version_minor": 0
      },
      "text/plain": [
       "Evaluating:   0%|          | 0/79 [00:00<?, ?it/s]"
      ]
     },
     "metadata": {},
     "output_type": "display_data"
    },
    {
     "name": "stdout",
     "output_type": "stream",
     "text": [
      "\n",
      "=== Test Performance Comparison ===\n",
      "Model      | Accuracy   | Avg Inf. Time (ms)   | Memory (MB) \n",
      "-----------------------------------------------------------------\n",
      "Baseline  | 0.7896    | 3.82 | 157264896.00\n",
      "SE-Net    | 0.7879    | 2.94 | 157264896.00\n",
      "CBAM-Net  | 0.6780    | 4.66 | 157264896.00\n",
      "\n",
      "=== Per-Class Accuracy ===\n",
      "Class      | Baseline   | SE-Net     | CBAM-Net  \n",
      "--------------------------------------------------\n",
      "airplane   |     0.00%  |     0.00%  |     0.00%\n",
      "automobile |     0.00%  |     0.00%  |     0.00%\n",
      "bird       |     0.00%  |     0.00%  |     0.00%\n",
      "cat        |     0.00%  |     0.00%  |     0.00%\n",
      "deer       |     0.00%  |     0.00%  |     0.00%\n",
      "dog        |     0.00%  |     0.00%  |     0.00%\n",
      "frog       |     0.00%  |     0.00%  |     0.00%\n",
      "horse      |     0.00%  |     0.00%  |     0.00%\n",
      "ship       |     0.00%  |     0.00%  |     0.00%\n",
      "truck      |     0.00%  |     0.00%  |     0.00%\n"
     ]
    }
   ],
   "source": [
    "def evaluate_on_test(model, test_loader, model_name, device):\n",
    "    \"\"\"Evaluate a trained model on the CIFAR-10 test set\"\"\"\n",
    "    model.eval()\n",
    "    model.to(device)\n",
    "    criterion = nn.CrossEntropyLoss()\n",
    "    \n",
    "    # Evaluate\n",
    "    test_metrics = evaluate(model, test_loader, criterion, device=device)\n",
    "    \n",
    "    # Save metrics\n",
    "    with open(os.path.join(log_dir, f\"{model_name}_test_metrics.json\"), \"w\") as f:\n",
    "        # Convert numpy values to Python natives for JSON serialization\n",
    "        serializable_metrics = {\n",
    "            k: float(v) if isinstance(v, (np.float32, np.float64)) else v\n",
    "            for k, v in test_metrics.items() \n",
    "            if k not in ['predictions', 'ground_truth', 'class_accuracy']\n",
    "        }\n",
    "        # Handle class_accuracy separately\n",
    "        if 'class_accuracy' in test_metrics:\n",
    "            serializable_metrics['class_accuracy'] = {\n",
    "                str(k): float(v) for k, v in test_metrics['class_accuracy'].items()\n",
    "            }\n",
    "        json.dump(serializable_metrics, f, indent=4)\n",
    "    \n",
    "    # Save predictions for later analysis\n",
    "    if 'predictions' in test_metrics and 'ground_truth' in test_metrics:\n",
    "        np.savez(\n",
    "            os.path.join(log_dir, f\"{model_name}_predictions.npz\"),\n",
    "            predictions=test_metrics['predictions'],\n",
    "            ground_truth=test_metrics['ground_truth']\n",
    "        )\n",
    "    \n",
    "    return test_metrics\n",
    "\n",
    "# Evaluate all models on test set\n",
    "print(\"=== Evaluating on Test Set ===\")\n",
    "\n",
    "print(\"Baseline CNN:\")\n",
    "baseline_model = BaselineCNN(num_classes=10)\n",
    "baseline_model.load_state_dict(torch.load(os.path.join(model_dir, \"baseline_best.pth\")))\n",
    "baseline_model.to(device)\n",
    "baseline_test_metrics = evaluate_on_test(baseline_model, testloader, \"baseline\", device)\n",
    "\n",
    "print(\"\\nSE-Net:\")\n",
    "se_model = SECNN(num_classes=10)\n",
    "se_model.load_state_dict(torch.load(os.path.join(model_dir, \"se_best.pth\")))\n",
    "se_model.to(device)\n",
    "se_test_metrics = evaluate_on_test(se_model, testloader, \"se\", device)\n",
    "\n",
    "print(\"\\nCBAM-Net:\")\n",
    "cbam_model = CBAMCNN(num_classes=10)\n",
    "cbam_model.load_state_dict(torch.load(os.path.join(model_dir, \"cbam_best.pth\")))\n",
    "cbam_model.to(device)\n",
    "cbam_test_metrics = evaluate_on_test(cbam_model, testloader, \"cbam\", device)\n",
    "\n",
    "# Print comparison table\n",
    "print(\"\\n=== Test Performance Comparison ===\")\n",
    "print(f\"{'Model':<10} | {'Accuracy':<10} | {'Avg Inf. Time (ms)':<20} | {'Memory (MB)':<12}\")\n",
    "print(\"-\" * 65)\n",
    "print(f\"Baseline  | {baseline_test_metrics['acc']:.4f}    | {baseline_test_metrics['avg_inference_time']*1000:.2f} | {baseline_test_metrics['memory_usage']:.2f}\")\n",
    "print(f\"SE-Net    | {se_test_metrics['acc']:.4f}    | {se_test_metrics['avg_inference_time']*1000:.2f} | {se_test_metrics['memory_usage']:.2f}\")\n",
    "print(f\"CBAM-Net  | {cbam_test_metrics['acc']:.4f}    | {cbam_test_metrics['avg_inference_time']*1000:.2f} | {cbam_test_metrics['memory_usage']:.2f}\")\n",
    "\n",
    "# Add per-class accuracy comparison for CIFAR-10 (since only 10 classes, we can show them all)\n",
    "if 'class_accuracy' in baseline_test_metrics:\n",
    "    class_names = ['airplane', 'automobile', 'bird', 'cat', 'deer', 'dog', 'frog', 'horse', 'ship', 'truck']\n",
    "    \n",
    "    print(\"\\n=== Per-Class Accuracy ===\")\n",
    "    print(f\"{'Class':<10} | {'Baseline':<10} | {'SE-Net':<10} | {'CBAM-Net':<10}\")\n",
    "    print(\"-\" * 50)\n",
    "    \n",
    "    for i, class_name in enumerate(class_names):\n",
    "        baseline_acc = baseline_test_metrics['class_accuracy'].get(str(i), 0) * 100\n",
    "        se_acc = se_test_metrics['class_accuracy'].get(str(i), 0) * 100\n",
    "        cbam_acc = cbam_test_metrics['class_accuracy'].get(str(i), 0) * 100\n",
    "        \n",
    "        print(f\"{class_name:<10} | {baseline_acc:>8.2f}%  | {se_acc:>8.2f}%  | {cbam_acc:>8.2f}%\")"
   ]
  },
  {
   "cell_type": "code",
   "execution_count": 13,
   "metadata": {},
   "outputs": [],
   "source": [
    "import matplotlib.pyplot as plt\n",
    "import numpy as np\n",
    "import seaborn as sns\n",
    "from sklearn.metrics import confusion_matrix\n",
    "import itertools\n",
    "\n",
    "\n",
    "def plot_training_history(history, model_name='model', save_path=None):\n",
    "    \"\"\"\n",
    "    Plot training and validation metrics history.\n",
    "    \n",
    "    Args:\n",
    "        history (dict): Dictionary containing training history with keys like \n",
    "                        'train_loss', 'val_loss', 'train_acc', 'val_acc', etc.\n",
    "        model_name (str): Name of the model for plot titles and filenames\n",
    "        save_path (str, optional): Path to save the figure. If None, figure is not saved.\n",
    "    \"\"\"\n",
    "    num_epochs = len(history['train_loss'])\n",
    "    \n",
    "    plt.figure(figsize=(15, 10))\n",
    "    \n",
    "    # Plot loss\n",
    "    plt.subplot(2, 2, 1)\n",
    "    plt.plot(range(1, num_epochs+1), history['train_loss'], 'b-', label='Training Loss')\n",
    "    plt.plot(range(1, num_epochs+1), history['val_loss'], 'r-', label='Validation Loss')\n",
    "    plt.title(f'{model_name} - Training and Validation Loss')\n",
    "    plt.xlabel('Epochs')\n",
    "    plt.ylabel('Loss')\n",
    "    plt.legend()\n",
    "    plt.grid(True)\n",
    "    \n",
    "    # Plot accuracy\n",
    "    plt.subplot(2, 2, 2)\n",
    "    plt.plot(range(1, num_epochs+1), history['train_acc'], 'b-', label='Training Accuracy')\n",
    "    plt.plot(range(1, num_epochs+1), history['val_acc'], 'r-', label='Validation Accuracy')\n",
    "    plt.title(f'{model_name} - Training and Validation Accuracy')\n",
    "    plt.xlabel('Epochs')\n",
    "    plt.ylabel('Accuracy')\n",
    "    plt.legend()\n",
    "    plt.grid(True)\n",
    "    \n",
    "    # Plot top-5 accuracy if available\n",
    "    if 'train_top5_acc' in history and 'val_top5_acc' in history:\n",
    "        plt.subplot(2, 2, 3)\n",
    "        plt.plot(range(1, num_epochs+1), history['train_top5_acc'], 'b-', label='Training Top-5 Accuracy')\n",
    "        plt.plot(range(1, num_epochs+1), history['val_top5_acc'], 'r-', label='Validation Top-5 Accuracy')\n",
    "        plt.title(f'{model_name} - Top-5 Accuracy')\n",
    "        plt.xlabel('Epochs')\n",
    "        plt.ylabel('Top-5 Accuracy')\n",
    "        plt.legend()\n",
    "        plt.grid(True)\n",
    "    \n",
    "    # Plot learning rate if available\n",
    "    if 'learning_rate' in history:\n",
    "        ax = plt.subplot(2, 2, 4)\n",
    "        plt.plot(range(1, num_epochs+1), history['learning_rate'], 'g-')\n",
    "        plt.title(f'{model_name} - Learning Rate')\n",
    "        plt.xlabel('Epochs')\n",
    "        plt.ylabel('Learning Rate')\n",
    "        plt.grid(True)\n",
    "        ax.set_yscale('log')\n",
    "    \n",
    "    plt.tight_layout()\n",
    "    \n",
    "    if save_path:\n",
    "        plt.savefig(f'{save_path}/training_curves_{model_name}.png', dpi=300, bbox_inches='tight')\n",
    "    \n",
    "    plt.show()\n",
    "\n",
    "\n",
    "def plot_confusion_matrix(y_true, y_pred, class_names=None, top_n=10, model_name='model', save_path=None):\n",
    "    \"\"\"\n",
    "    Plot confusion matrix for model predictions.\n",
    "    \n",
    "    Args:\n",
    "        y_true (array-like): Ground truth labels\n",
    "        y_pred (array-like): Predicted labels\n",
    "        class_names (list, optional): List of class names\n",
    "        top_n (int): Number of most confused classes to show\n",
    "        model_name (str): Name of the model for plot titles and filenames\n",
    "        save_path (str, optional): Path to save the figure. If None, figure is not saved.\n",
    "    \"\"\"\n",
    "    # Compute confusion matrix\n",
    "    cm = confusion_matrix(y_true, y_pred)\n",
    "    \n",
    "    # If there are many classes, show only the most confused ones\n",
    "    if class_names and len(class_names) > top_n:\n",
    "        # Calculate class-wise accuracy\n",
    "        class_acc = np.diag(cm) / np.sum(cm, axis=1)\n",
    "        \n",
    "        # Get the indices of the top_n worst-performing classes\n",
    "        worst_classes_idx = np.argsort(class_acc)[:top_n]\n",
    "        \n",
    "        # Extract submatrix of confusion matrix for these classes\n",
    "        cm_subset = cm[np.ix_(worst_classes_idx, worst_classes_idx)]\n",
    "        class_names_subset = [class_names[i] for i in worst_classes_idx]\n",
    "        \n",
    "        # Plot this subset\n",
    "        plt.figure(figsize=(10, 8))\n",
    "        sns.heatmap(cm_subset, annot=True, fmt='d', cmap='Blues', \n",
    "                    xticklabels=class_names_subset, yticklabels=class_names_subset)\n",
    "        plt.title(f'{model_name} - Confusion Matrix (Top {top_n} Most Confused Classes)')\n",
    "        plt.ylabel('True Label')\n",
    "        plt.xlabel('Predicted Label')\n",
    "        \n",
    "        if save_path:\n",
    "            plt.savefig(f'{save_path}/confusion_matrix_top{top_n}_{model_name}.png', \n",
    "                        dpi=300, bbox_inches='tight')\n",
    "        plt.show()\n",
    "    \n",
    "    # Create normalized confusion matrix for overall view\n",
    "    cm_norm = cm.astype('float') / cm.sum(axis=1)[:, np.newaxis]\n",
    "    \n",
    "    # Plot overall normalized confusion matrix as a heatmap\n",
    "    plt.figure(figsize=(12, 10))\n",
    "    sns.heatmap(cm_norm, cmap='Blues')\n",
    "    plt.title(f'{model_name} - Normalized Confusion Matrix')\n",
    "    plt.ylabel('True Label')\n",
    "    plt.xlabel('Predicted Label')\n",
    "    \n",
    "    if save_path:\n",
    "        plt.savefig(f'{save_path}/confusion_matrix_norm_{model_name}.png', \n",
    "                    dpi=300, bbox_inches='tight')\n",
    "    plt.show()\n",
    "    \n",
    "    # Return overall accuracy\n",
    "    acc = np.trace(cm) / np.sum(cm)\n",
    "    print(f\"{model_name} - Overall Accuracy: {acc:.4f}\")\n",
    "    \n",
    "    return acc\n",
    "\n",
    "\n",
    "def compare_models(models_history, metrics=['acc', 'top5_acc', 'loss'], save_path=None):\n",
    "    \"\"\"\n",
    "    Compare multiple models' performance metrics.\n",
    "    \n",
    "    Args:\n",
    "        models_history (dict): Dictionary of dictionaries where the outer dict keys are model names\n",
    "                              and inner dict contains training history for each model\n",
    "        metrics (list): List of metrics to compare\n",
    "        save_path (str, optional): Path to save the figure. If None, figure is not saved.\n",
    "    \"\"\"\n",
    "    model_names = list(models_history.keys())\n",
    "    num_metrics = len(metrics)\n",
    "    num_epochs = len(models_history[model_names[0]]['val_loss'])\n",
    "    \n",
    "    plt.figure(figsize=(15, 5 * num_metrics))\n",
    "    \n",
    "    colors = ['b', 'r', 'g', 'c', 'm', 'y', 'k']\n",
    "    \n",
    "    for i, metric in enumerate(metrics):\n",
    "        plt.subplot(num_metrics, 1, i+1)\n",
    "        \n",
    "        for j, model_name in enumerate(model_names):\n",
    "            color = colors[j % len(colors)]\n",
    "            val_metric = f'val_{metric}'\n",
    "            \n",
    "            if val_metric in models_history[model_name]:\n",
    "                plt.plot(range(1, num_epochs+1), \n",
    "                         models_history[model_name][val_metric], \n",
    "                         f'{color}-', \n",
    "                         label=f'{model_name}')\n",
    "        \n",
    "        # Adjust title based on metric\n",
    "        if metric == 'loss':\n",
    "            plt.title('Validation Loss Comparison')\n",
    "            plt.ylabel('Loss')\n",
    "        elif metric == 'acc':\n",
    "            plt.title('Validation Accuracy Comparison')\n",
    "            plt.ylabel('Accuracy')\n",
    "        elif metric == 'top5_acc':\n",
    "            plt.title('Validation Top-5 Accuracy Comparison')\n",
    "            plt.ylabel('Top-5 Accuracy')\n",
    "        else:\n",
    "            plt.title(f'Validation {metric} Comparison')\n",
    "            plt.ylabel(metric)\n",
    "            \n",
    "        plt.xlabel('Epochs')\n",
    "        plt.legend()\n",
    "        plt.grid(True)\n",
    "    \n",
    "    plt.tight_layout()\n",
    "    \n",
    "    if save_path:\n",
    "        plt.savefig(f'{save_path}/model_comparison.png', dpi=300, bbox_inches='tight')\n",
    "    \n",
    "    plt.show()\n",
    "    \n",
    "    # Create a summary table of final performance\n",
    "    print(\"\\nFinal Performance Comparison:\")\n",
    "    header = \"Model\"\n",
    "    for metric in metrics:\n",
    "        header += f\" | Val {metric}\"\n",
    "    print(header)\n",
    "    print(\"-\" * len(header))\n",
    "    \n",
    "    for model_name in model_names:\n",
    "        row = f\"{model_name}\"\n",
    "        for metric in metrics:\n",
    "            val_metric = f'val_{metric}'\n",
    "            if val_metric in models_history[model_name]:\n",
    "                final_value = models_history[model_name][val_metric][-1]\n",
    "                row += f\" | {final_value:.4f}\"\n",
    "            else:\n",
    "                row += \" | N/A\"\n",
    "        print(row)"
   ]
  },
  {
   "cell_type": "code",
   "execution_count": 14,
   "metadata": {},
   "outputs": [
    {
     "data": {
      "image/png": "[encoded data removed]",
      "text/plain": [
       "<Figure size 1500x1000 with 4 Axes>"
      ]
     },
     "metadata": {},
     "output_type": "display_data"
    },
    {
     "data": {
      "image/png": "[encoded data removed]",
      "text/plain": [
       "<Figure size 1500x1000 with 4 Axes>"
      ]
     },
     "metadata": {},
     "output_type": "display_data"
    },
    {
     "data": {
      "image/png": "[encoded data removed]",
      "text/plain": [
       "<Figure size 1500x1000 with 4 Axes>"
      ]
     },
     "metadata": {},
     "output_type": "display_data"
    },
    {
     "ename": "ValueError",
     "evalue": "x and y must have same first dimension, but have shapes (50,) and (30,)",
     "output_type": "error",
     "traceback": [
      "\u001b[31m---------------------------------------------------------------------------\u001b[39m",
      "\u001b[31mValueError\u001b[39m                                Traceback (most recent call last)",
      "\u001b[36mCell\u001b[39m\u001b[36m \u001b[39m\u001b[32mIn[14]\u001b[39m\u001b[32m, line 10\u001b[39m\n\u001b[32m      7\u001b[39m plot_training_history(cbam_history, model_name=\u001b[33m'\u001b[39m\u001b[33mCBAM-Net\u001b[39m\u001b[33m'\u001b[39m, save_path=plot_dir)\n\u001b[32m      9\u001b[39m \u001b[38;5;66;03m# Compare models\u001b[39;00m\n\u001b[32m---> \u001b[39m\u001b[32m10\u001b[39m \u001b[43mcompare_models\u001b[49m\u001b[43m(\u001b[49m\n\u001b[32m     11\u001b[39m \u001b[43m    \u001b[49m\u001b[43mmodels_history\u001b[49m\u001b[43m=\u001b[49m\u001b[43m{\u001b[49m\n\u001b[32m     12\u001b[39m \u001b[43m        \u001b[49m\u001b[33;43m'\u001b[39;49m\u001b[33;43mBaseline CNN\u001b[39;49m\u001b[33;43m'\u001b[39;49m\u001b[43m:\u001b[49m\u001b[43m \u001b[49m\u001b[43mbaseline_history\u001b[49m\u001b[43m,\u001b[49m\n\u001b[32m     13\u001b[39m \u001b[43m        \u001b[49m\u001b[33;43m'\u001b[39;49m\u001b[33;43mSE-Net\u001b[39;49m\u001b[33;43m'\u001b[39;49m\u001b[43m:\u001b[49m\u001b[43m \u001b[49m\u001b[43mse_history\u001b[49m\u001b[43m,\u001b[49m\n\u001b[32m     14\u001b[39m \u001b[43m        \u001b[49m\u001b[33;43m'\u001b[39;49m\u001b[33;43mCBAM-Net\u001b[39;49m\u001b[33;43m'\u001b[39;49m\u001b[43m:\u001b[49m\u001b[43m \u001b[49m\u001b[43mcbam_history\u001b[49m\n\u001b[32m     15\u001b[39m \u001b[43m    \u001b[49m\u001b[43m}\u001b[49m\u001b[43m,\u001b[49m\n\u001b[32m     16\u001b[39m \u001b[43m    \u001b[49m\u001b[43mmetrics\u001b[49m\u001b[43m=\u001b[49m\u001b[43m[\u001b[49m\u001b[33;43m'\u001b[39;49m\u001b[33;43macc\u001b[39;49m\u001b[33;43m'\u001b[39;49m\u001b[43m,\u001b[49m\u001b[43m \u001b[49m\u001b[33;43m'\u001b[39;49m\u001b[33;43mtop5_acc\u001b[39;49m\u001b[33;43m'\u001b[39;49m\u001b[43m,\u001b[49m\u001b[43m \u001b[49m\u001b[33;43m'\u001b[39;49m\u001b[33;43mloss\u001b[39;49m\u001b[33;43m'\u001b[39;49m\u001b[43m]\u001b[49m\u001b[43m,\u001b[49m\n\u001b[32m     17\u001b[39m \u001b[43m    \u001b[49m\u001b[43msave_path\u001b[49m\u001b[43m=\u001b[49m\u001b[43mplot_dir\u001b[49m\n\u001b[32m     18\u001b[39m \u001b[43m)\u001b[49m\n\u001b[32m     20\u001b[39m \u001b[38;5;28mprint\u001b[39m(\u001b[33m\"\u001b[39m\u001b[33mTraining visualization completed and saved to:\u001b[39m\u001b[33m\"\u001b[39m, plot_dir)\n\u001b[32m     21\u001b[39m \u001b[38;5;28mprint\u001b[39m(\u001b[33m\"\u001b[39m\u001b[33mNotebook execution completed!\u001b[39m\u001b[33m\"\u001b[39m)\n",
      "\u001b[36mCell\u001b[39m\u001b[36m \u001b[39m\u001b[32mIn[13]\u001b[39m\u001b[32m, line 159\u001b[39m, in \u001b[36mcompare_models\u001b[39m\u001b[34m(models_history, metrics, save_path)\u001b[39m\n\u001b[32m    156\u001b[39m     val_metric = \u001b[33mf\u001b[39m\u001b[33m'\u001b[39m\u001b[33mval_\u001b[39m\u001b[38;5;132;01m{\u001b[39;00mmetric\u001b[38;5;132;01m}\u001b[39;00m\u001b[33m'\u001b[39m\n\u001b[32m    158\u001b[39m     \u001b[38;5;28;01mif\u001b[39;00m val_metric \u001b[38;5;129;01min\u001b[39;00m models_history[model_name]:\n\u001b[32m--> \u001b[39m\u001b[32m159\u001b[39m         \u001b[43mplt\u001b[49m\u001b[43m.\u001b[49m\u001b[43mplot\u001b[49m\u001b[43m(\u001b[49m\u001b[38;5;28;43mrange\u001b[39;49m\u001b[43m(\u001b[49m\u001b[32;43m1\u001b[39;49m\u001b[43m,\u001b[49m\u001b[43m \u001b[49m\u001b[43mnum_epochs\u001b[49m\u001b[43m+\u001b[49m\u001b[32;43m1\u001b[39;49m\u001b[43m)\u001b[49m\u001b[43m,\u001b[49m\u001b[43m \u001b[49m\n\u001b[32m    160\u001b[39m \u001b[43m                 \u001b[49m\u001b[43mmodels_history\u001b[49m\u001b[43m[\u001b[49m\u001b[43mmodel_name\u001b[49m\u001b[43m]\u001b[49m\u001b[43m[\u001b[49m\u001b[43mval_metric\u001b[49m\u001b[43m]\u001b[49m\u001b[43m,\u001b[49m\u001b[43m \u001b[49m\n\u001b[32m    161\u001b[39m \u001b[43m                 \u001b[49m\u001b[33;43mf\u001b[39;49m\u001b[33;43m'\u001b[39;49m\u001b[38;5;132;43;01m{\u001b[39;49;00m\u001b[43mcolor\u001b[49m\u001b[38;5;132;43;01m}\u001b[39;49;00m\u001b[33;43m-\u001b[39;49m\u001b[33;43m'\u001b[39;49m\u001b[43m,\u001b[49m\u001b[43m \u001b[49m\n\u001b[32m    162\u001b[39m \u001b[43m                 \u001b[49m\u001b[43mlabel\u001b[49m\u001b[43m=\u001b[49m\u001b[33;43mf\u001b[39;49m\u001b[33;43m'\u001b[39;49m\u001b[38;5;132;43;01m{\u001b[39;49;00m\u001b[43mmodel_name\u001b[49m\u001b[38;5;132;43;01m}\u001b[39;49;00m\u001b[33;43m'\u001b[39;49m\u001b[43m)\u001b[49m\n\u001b[32m    164\u001b[39m \u001b[38;5;66;03m# Adjust title based on metric\u001b[39;00m\n\u001b[32m    165\u001b[39m \u001b[38;5;28;01mif\u001b[39;00m metric == \u001b[33m'\u001b[39m\u001b[33mloss\u001b[39m\u001b[33m'\u001b[39m:\n",
      "\u001b[36mFile \u001b[39m\u001b[32m~/.pyenv/versions/3.12.5/lib/python3.12/site-packages/matplotlib/pyplot.py:3827\u001b[39m, in \u001b[36mplot\u001b[39m\u001b[34m(scalex, scaley, data, *args, **kwargs)\u001b[39m\n\u001b[32m   3819\u001b[39m \u001b[38;5;129m@_copy_docstring_and_deprecators\u001b[39m(Axes.plot)\n\u001b[32m   3820\u001b[39m \u001b[38;5;28;01mdef\u001b[39;00m \u001b[34mplot\u001b[39m(\n\u001b[32m   3821\u001b[39m     *args: \u001b[38;5;28mfloat\u001b[39m | ArrayLike | \u001b[38;5;28mstr\u001b[39m,\n\u001b[32m   (...)\u001b[39m\u001b[32m   3825\u001b[39m     **kwargs,\n\u001b[32m   3826\u001b[39m ) -> \u001b[38;5;28mlist\u001b[39m[Line2D]:\n\u001b[32m-> \u001b[39m\u001b[32m3827\u001b[39m     \u001b[38;5;28;01mreturn\u001b[39;00m \u001b[43mgca\u001b[49m\u001b[43m(\u001b[49m\u001b[43m)\u001b[49m\u001b[43m.\u001b[49m\u001b[43mplot\u001b[49m\u001b[43m(\u001b[49m\n\u001b[32m   3828\u001b[39m \u001b[43m        \u001b[49m\u001b[43m*\u001b[49m\u001b[43margs\u001b[49m\u001b[43m,\u001b[49m\n\u001b[32m   3829\u001b[39m \u001b[43m        \u001b[49m\u001b[43mscalex\u001b[49m\u001b[43m=\u001b[49m\u001b[43mscalex\u001b[49m\u001b[43m,\u001b[49m\n\u001b[32m   3830\u001b[39m \u001b[43m        \u001b[49m\u001b[43mscaley\u001b[49m\u001b[43m=\u001b[49m\u001b[43mscaley\u001b[49m\u001b[43m,\u001b[49m\n\u001b[32m   3831\u001b[39m \u001b[43m        \u001b[49m\u001b[43m*\u001b[49m\u001b[43m*\u001b[49m\u001b[43m(\u001b[49m\u001b[43m{\u001b[49m\u001b[33;43m\"\u001b[39;49m\u001b[33;43mdata\u001b[39;49m\u001b[33;43m\"\u001b[39;49m\u001b[43m:\u001b[49m\u001b[43m \u001b[49m\u001b[43mdata\u001b[49m\u001b[43m}\u001b[49m\u001b[43m \u001b[49m\u001b[38;5;28;43;01mif\u001b[39;49;00m\u001b[43m \u001b[49m\u001b[43mdata\u001b[49m\u001b[43m \u001b[49m\u001b[38;5;129;43;01mis\u001b[39;49;00m\u001b[43m \u001b[49m\u001b[38;5;129;43;01mnot\u001b[39;49;00m\u001b[43m \u001b[49m\u001b[38;5;28;43;01mNone\u001b[39;49;00m\u001b[43m \u001b[49m\u001b[38;5;28;43;01melse\u001b[39;49;00m\u001b[43m \u001b[49m\u001b[43m{\u001b[49m\u001b[43m}\u001b[49m\u001b[43m)\u001b[49m\u001b[43m,\u001b[49m\n\u001b[32m   3832\u001b[39m \u001b[43m        \u001b[49m\u001b[43m*\u001b[49m\u001b[43m*\u001b[49m\u001b[43mkwargs\u001b[49m\u001b[43m,\u001b[49m\n\u001b[32m   3833\u001b[39m \u001b[43m    \u001b[49m\u001b[43m)\u001b[49m\n",
      "\u001b[36mFile \u001b[39m\u001b[32m~/.pyenv/versions/3.12.5/lib/python3.12/site-packages/matplotlib/axes/_axes.py:1777\u001b[39m, in \u001b[36mAxes.plot\u001b[39m\u001b[34m(self, scalex, scaley, data, *args, **kwargs)\u001b[39m\n\u001b[32m   1534\u001b[39m \u001b[38;5;250m\u001b[39m\u001b[33;03m\"\"\"\u001b[39;00m\n\u001b[32m   1535\u001b[39m \u001b[33;03mPlot y versus x as lines and/or markers.\u001b[39;00m\n\u001b[32m   1536\u001b[39m \n\u001b[32m   (...)\u001b[39m\u001b[32m   1774\u001b[39m \u001b[33;03m(``'green'``) or hex strings (``'#008000'``).\u001b[39;00m\n\u001b[32m   1775\u001b[39m \u001b[33;03m\"\"\"\u001b[39;00m\n\u001b[32m   1776\u001b[39m kwargs = cbook.normalize_kwargs(kwargs, mlines.Line2D)\n\u001b[32m-> \u001b[39m\u001b[32m1777\u001b[39m lines = [*\u001b[38;5;28mself\u001b[39m._get_lines(\u001b[38;5;28mself\u001b[39m, *args, data=data, **kwargs)]\n\u001b[32m   1778\u001b[39m \u001b[38;5;28;01mfor\u001b[39;00m line \u001b[38;5;129;01min\u001b[39;00m lines:\n\u001b[32m   1779\u001b[39m     \u001b[38;5;28mself\u001b[39m.add_line(line)\n",
      "\u001b[36mFile \u001b[39m\u001b[32m~/.pyenv/versions/3.12.5/lib/python3.12/site-packages/matplotlib/axes/_base.py:297\u001b[39m, in \u001b[36m_process_plot_var_args.__call__\u001b[39m\u001b[34m(self, axes, data, return_kwargs, *args, **kwargs)\u001b[39m\n\u001b[32m    295\u001b[39m     this += args[\u001b[32m0\u001b[39m],\n\u001b[32m    296\u001b[39m     args = args[\u001b[32m1\u001b[39m:]\n\u001b[32m--> \u001b[39m\u001b[32m297\u001b[39m \u001b[38;5;28;01myield from\u001b[39;00m \u001b[38;5;28;43mself\u001b[39;49m\u001b[43m.\u001b[49m\u001b[43m_plot_args\u001b[49m\u001b[43m(\u001b[49m\n\u001b[32m    298\u001b[39m \u001b[43m    \u001b[49m\u001b[43maxes\u001b[49m\u001b[43m,\u001b[49m\u001b[43m \u001b[49m\u001b[43mthis\u001b[49m\u001b[43m,\u001b[49m\u001b[43m \u001b[49m\u001b[43mkwargs\u001b[49m\u001b[43m,\u001b[49m\u001b[43m \u001b[49m\u001b[43mambiguous_fmt_datakey\u001b[49m\u001b[43m=\u001b[49m\u001b[43mambiguous_fmt_datakey\u001b[49m\u001b[43m,\u001b[49m\n\u001b[32m    299\u001b[39m \u001b[43m    \u001b[49m\u001b[43mreturn_kwargs\u001b[49m\u001b[43m=\u001b[49m\u001b[43mreturn_kwargs\u001b[49m\n\u001b[32m    300\u001b[39m \u001b[43m\u001b[49m\u001b[43m)\u001b[49m\n",
      "\u001b[36mFile \u001b[39m\u001b[32m~/.pyenv/versions/3.12.5/lib/python3.12/site-packages/matplotlib/axes/_base.py:494\u001b[39m, in \u001b[36m_process_plot_var_args._plot_args\u001b[39m\u001b[34m(self, axes, tup, kwargs, return_kwargs, ambiguous_fmt_datakey)\u001b[39m\n\u001b[32m    491\u001b[39m     axes.yaxis.update_units(y)\n\u001b[32m    493\u001b[39m \u001b[38;5;28;01mif\u001b[39;00m x.shape[\u001b[32m0\u001b[39m] != y.shape[\u001b[32m0\u001b[39m]:\n\u001b[32m--> \u001b[39m\u001b[32m494\u001b[39m     \u001b[38;5;28;01mraise\u001b[39;00m \u001b[38;5;167;01mValueError\u001b[39;00m(\u001b[33mf\u001b[39m\u001b[33m\"\u001b[39m\u001b[33mx and y must have same first dimension, but \u001b[39m\u001b[33m\"\u001b[39m\n\u001b[32m    495\u001b[39m                      \u001b[33mf\u001b[39m\u001b[33m\"\u001b[39m\u001b[33mhave shapes \u001b[39m\u001b[38;5;132;01m{\u001b[39;00mx.shape\u001b[38;5;132;01m}\u001b[39;00m\u001b[33m and \u001b[39m\u001b[38;5;132;01m{\u001b[39;00my.shape\u001b[38;5;132;01m}\u001b[39;00m\u001b[33m\"\u001b[39m)\n\u001b[32m    496\u001b[39m \u001b[38;5;28;01mif\u001b[39;00m x.ndim > \u001b[32m2\u001b[39m \u001b[38;5;129;01mor\u001b[39;00m y.ndim > \u001b[32m2\u001b[39m:\n\u001b[32m    497\u001b[39m     \u001b[38;5;28;01mraise\u001b[39;00m \u001b[38;5;167;01mValueError\u001b[39;00m(\u001b[33mf\u001b[39m\u001b[33m\"\u001b[39m\u001b[33mx and y can be no greater than 2D, but have \u001b[39m\u001b[33m\"\u001b[39m\n\u001b[32m    498\u001b[39m                      \u001b[33mf\u001b[39m\u001b[33m\"\u001b[39m\u001b[33mshapes \u001b[39m\u001b[38;5;132;01m{\u001b[39;00mx.shape\u001b[38;5;132;01m}\u001b[39;00m\u001b[33m and \u001b[39m\u001b[38;5;132;01m{\u001b[39;00my.shape\u001b[38;5;132;01m}\u001b[39;00m\u001b[33m\"\u001b[39m)\n",
      "\u001b[31mValueError\u001b[39m: x and y must have same first dimension, but have shapes (50,) and (30,)"
     ]
    },
    {
     "data": {
      "image/png": "[encoded data removed]",
      "text/plain": [
       "<Figure size 1500x1500 with 1 Axes>"
      ]
     },
     "metadata": {},
     "output_type": "display_data"
    }
   ],
   "source": [
    "# Import the visualization functions we developed earlier\n",
    "# from visualization import plot_training_history, compare_models\n",
    "\n",
    "# Create basic training curves for each model\n",
    "plot_training_history(baseline_history, model_name='Baseline CNN', save_path=plot_dir)\n",
    "plot_training_history(se_history, model_name='SE-Net', save_path=plot_dir)\n",
    "plot_training_history(cbam_history, model_name='CBAM-Net', save_path=plot_dir)\n",
    "\n",
    "# Compare models\n",
    "compare_models(\n",
    "    models_history={\n",
    "        'Baseline CNN': baseline_history,\n",
    "        'SE-Net': se_history,\n",
    "        'CBAM-Net': cbam_history\n",
    "    },\n",
    "    metrics=['acc', 'top5_acc', 'loss'],\n",
    "    save_path=plot_dir\n",
    ")\n",
    "\n",
    "print(\"Training visualization completed and saved to:\", plot_dir)\n",
    "print(\"Notebook execution completed!\")"
   ]
  },
  {
   "cell_type": "code",
   "execution_count": null,
   "metadata": {},
   "outputs": [],
   "source": []
  }
 ],
 "metadata": {
  "kernelspec": {
   "display_name": "Python 3",
   "language": "python",
   "name": "python3"
  },
  "language_info": {
   "codemirror_mode": {
    "name": "ipython",
    "version": 3
   },
   "file_extension": ".py",
   "mimetype": "text/x-python",
   "name": "python",
   "nbconvert_exporter": "python",
   "pygments_lexer": "ipython3",
   "version": "3.12.5"
  }
 },
 "nbformat": 4,
 "nbformat_minor": 2
}
