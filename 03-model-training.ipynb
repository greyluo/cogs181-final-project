{
 "cells": [
  {
   "cell_type": "code",
   "execution_count": 10,
   "metadata": {},
   "outputs": [
    {
     "name": "stdout",
     "output_type": "stream",
     "text": [
      "Using device: cuda:0\n",
      "Downloading and preparing CIFAR-10 dataset...\n",
      "Dataset loaded with 45000 training, 5000 validation, and 10000 test images.\n",
      "Number of classes: 10\n",
      "Using device: cuda\n",
      "\n",
      "Testing ResNet-18 variants:\n",
      "Basic ResNet-18:\n",
      "Input shape: torch.Size([1, 3, 32, 32]), Output shape: torch.Size([1, 10])\n",
      "\n",
      "SE-ResNet-18:\n",
      "Input shape: torch.Size([1, 3, 32, 32]), Output shape: torch.Size([1, 10])\n",
      "\n",
      "CBAM-ResNet-18:\n",
      "Input shape: torch.Size([1, 3, 32, 32]), Output shape: torch.Size([1, 10])\n",
      "\n",
      "Parameter counts:\n",
      "ResNet-18: 11,173,962 parameters\n",
      "SE-ResNet-18: 11,261,002 parameters\n",
      "CBAM-ResNet-18: 11,261,786 parameters\n",
      "SE-ResNet-18 has 0.78% more parameters than base\n",
      "CBAM-ResNet-18 has 0.79% more parameters than base\n",
      "\n",
      "Testing ResNet-34 variants:\n",
      "Basic ResNet-34:\n",
      "Input shape: torch.Size([1, 3, 32, 32]), Output shape: torch.Size([1, 10])\n",
      "\n",
      "SE-ResNet-34:\n",
      "Input shape: torch.Size([1, 3, 32, 32]), Output shape: torch.Size([1, 10])\n",
      "\n",
      "CBAM-ResNet-34:\n",
      "Input shape: torch.Size([1, 3, 32, 32]), Output shape: torch.Size([1, 10])\n",
      "\n",
      "Parameter counts:\n",
      "ResNet-34: 21,282,122 parameters\n",
      "SE-ResNet-34: 21,439,306 parameters\n",
      "CBAM-ResNet-34: 21,440,874 parameters\n",
      "SE-ResNet-34 has 0.74% more parameters than base\n",
      "CBAM-ResNet-34 has 0.75% more parameters than base\n",
      "Using device: cuda\n"
     ]
    }
   ],
   "source": [
    "# Import necessary libraries\n",
    "import os\n",
    "import torch\n",
    "import torch.nn as nn\n",
    "import torch.optim as optim\n",
    "import matplotlib.pyplot as plt\n",
    "import numpy as np\n",
    "import time\n",
    "from tqdm import tqdm\n",
    "import json\n",
    "from datetime import datetime\n",
    "from torch.nn.utils import clip_grad_norm_\n",
    "\n",
    "\n",
    "# Import from previous notebooks\n",
    "# (Use %run or import directly if you've created Python modules)\n",
    "%run \"01-data-preperation.ipynb\"  # For data loaders\n",
    "%run \"02-model-implementation.ipynb\"  # For model definitions\n",
    "\n",
    "# Set up directories for saving results\n",
    "base_dir = \"results\"\n",
    "model_dir = os.path.join(base_dir, \"models\")\n",
    "log_dir = os.path.join(base_dir, \"logs\")\n",
    "plot_dir = os.path.join(base_dir, \"plots\")\n",
    "\n",
    "# Create directories if they don't exist\n",
    "os.makedirs(model_dir, exist_ok=True)\n",
    "os.makedirs(log_dir, exist_ok=True)\n",
    "os.makedirs(plot_dir, exist_ok=True)\n",
    "\n",
    "# Set device\n",
    "device = torch.device(\"cuda\" if torch.cuda.is_available() else \"cpu\")\n",
    "print(f\"Using device: {device}\")\n",
    "\n",
    "# Set random seeds for reproducibility\n",
    "torch.manual_seed(42)\n",
    "if torch.cuda.is_available():\n",
    "    torch.cuda.manual_seed_all(42)"
   ]
  },
  {
   "cell_type": "code",
   "execution_count": 14,
   "metadata": {},
   "outputs": [],
   "source": [
    "# Define hyperparameters\n",
    "config = {\n",
    "    # Common training parameters\n",
    "    \"num_epochs\": 100,\n",
    "    \"batch_size\": 128,\n",
    "    \"learning_rate\": 0.01,  \n",
    "    \"weight_decay\": 5e-4,\n",
    "    \"early_stopping_patience\": 15,\n",
    "    \"scheduler_step_size\": 30,\n",
    "    \"scheduler_gamma\": 0.1,\n",
    "    \n",
    "    # Add optimizer settings\n",
    "    \"optimizer\": \"sgd\",\n",
    "    \"momentum\": 0.9,\n",
    "    \n",
    "    # Add some needed keys\n",
    "    \"logging\": {\n",
    "        \"save_dir\": \"checkpoints\",\n",
    "        \"log_dir\": \"logs\"\n",
    "    },\n",
    "    \n",
    "    # Model-specific parameters\n",
    "    \"models\": {\n",
    "        \"resnet18\": {\n",
    "            \"base\": {\"learning_rate\": 0.01},\n",
    "            \"se\": {\"learning_rate\": 0.01, \"reduction_ratio\": 16},\n",
    "            \"cbam\": {\"learning_rate\": 0.01, \"reduction_ratio\": 16}\n",
    "        }\n",
    "    }\n",
    "}\n",
    "\n",
    "# Save configuration for reproducibility\n",
    "with open(os.path.join(log_dir, \"config.json\"), \"w\") as f:\n",
    "    json.dump(config, f, indent=4)"
   ]
  },
  {
   "cell_type": "code",
   "execution_count": 15,
   "metadata": {},
   "outputs": [],
   "source": [
    "def train_one_epoch(model, dataloader, criterion, optimizer, scheduler=None, clip_value=None, device='cuda'):\n",
    "    \"\"\"\n",
    "    Train for one epoch with enhanced metrics and monitoring\n",
    "    \n",
    "    Args:\n",
    "        model: The neural network model\n",
    "        dataloader: Training data loader\n",
    "        criterion: Loss function\n",
    "        optimizer: Optimizer\n",
    "        scheduler: Learning rate scheduler (optional)\n",
    "        clip_value: Gradient clipping threshold (optional)\n",
    "        device: Device to use for training ('cuda' or 'cpu')\n",
    "        \n",
    "    Returns:\n",
    "        dict: Dictionary containing all metrics\n",
    "    \"\"\"\n",
    "    model.train()\n",
    "    start_time = time.time()\n",
    "    \n",
    "    running_loss = 0.0\n",
    "    running_corrects = 0\n",
    "    running_top5_corrects = 0\n",
    "    processed_size = 0\n",
    "    batch_times = []\n",
    "    grad_norms = []\n",
    "    \n",
    "    # Get initial memory usage\n",
    "    initial_memory = torch.cuda.memory_allocated() if torch.cuda.is_available() else 0\n",
    "    \n",
    "    for inputs, labels in tqdm(dataloader, desc=\"Training\"):\n",
    "        batch_start = time.time()\n",
    "        inputs = inputs.to(device)\n",
    "        labels = labels.to(device)\n",
    "        \n",
    "        # Zero the parameter gradients\n",
    "        optimizer.zero_grad()\n",
    "        \n",
    "        # Forward pass\n",
    "        outputs = model(inputs)\n",
    "        _, preds = torch.max(outputs, 1)\n",
    "        loss = criterion(outputs, labels)\n",
    "        \n",
    "        # Calculate top-5 accuracy\n",
    "        _, top5_preds = torch.topk(outputs, 5, dim=1)\n",
    "        correct_top5 = 0\n",
    "        for i, label in enumerate(labels):\n",
    "            correct_top5 += (label == top5_preds[i]).any().item()\n",
    "        \n",
    "        # Backward pass and optimize\n",
    "        loss.backward()\n",
    "        \n",
    "        # Track gradient norms\n",
    "        total_norm = 0\n",
    "        for p in model.parameters():\n",
    "            if p.grad is not None:\n",
    "                param_norm = p.grad.data.norm(2)\n",
    "                total_norm += param_norm.item() ** 2\n",
    "        total_norm = total_norm ** 0.5\n",
    "        grad_norms.append(total_norm)\n",
    "        \n",
    "        # Apply gradient clipping if specified\n",
    "        if clip_value is not None:\n",
    "            clip_grad_norm_(model.parameters(), clip_value)\n",
    "        \n",
    "        optimizer.step()\n",
    "        \n",
    "        # Update learning rate if scheduler is provided\n",
    "        if scheduler is not None and isinstance(scheduler, torch.optim.lr_scheduler.OneCycleLR):\n",
    "            scheduler.step()\n",
    "            \n",
    "        # Statistics\n",
    "        batch_size = inputs.size(0)\n",
    "        running_loss += loss.item() * batch_size\n",
    "        running_corrects += torch.sum(preds == labels.data).item()\n",
    "        running_top5_corrects += correct_top5\n",
    "        processed_size += batch_size\n",
    "        \n",
    "        # Track batch processing time\n",
    "        batch_times.append(time.time() - batch_start)\n",
    "    \n",
    "    # Calculate metrics\n",
    "    epoch_loss = running_loss / processed_size\n",
    "    epoch_acc = running_corrects / processed_size\n",
    "    epoch_top5_acc = running_top5_corrects / processed_size\n",
    "    epoch_time = time.time() - start_time\n",
    "    avg_batch_time = np.mean(batch_times)\n",
    "    avg_grad_norm = np.mean(grad_norms)\n",
    "    \n",
    "    # Calculate peak memory usage\n",
    "    peak_memory = torch.cuda.max_memory_allocated() if torch.cuda.is_available() else 0\n",
    "    memory_usage = peak_memory - initial_memory\n",
    "    \n",
    "    # Update learning rate for epoch-based schedulers\n",
    "    if scheduler is not None and not isinstance(scheduler, torch.optim.lr_scheduler.OneCycleLR):\n",
    "        scheduler.step()\n",
    "    \n",
    "    # Return all metrics\n",
    "    metrics = {\n",
    "        'loss': epoch_loss,\n",
    "        'acc': epoch_acc,\n",
    "        'top5_acc': epoch_top5_acc,\n",
    "        'time': epoch_time,\n",
    "        'avg_batch_time': avg_batch_time,\n",
    "        'memory_usage': memory_usage,\n",
    "        'avg_grad_norm': avg_grad_norm,\n",
    "        'current_lr': optimizer.param_groups[0]['lr']\n",
    "    }\n",
    "    \n",
    "    return metrics\n",
    "\n",
    "\n",
    "def evaluate(model, dataloader, criterion, device='cuda'):\n",
    "    \"\"\"\n",
    "    Evaluate the model with enhanced metrics\n",
    "    \n",
    "    Args:\n",
    "        model: The neural network model\n",
    "        dataloader: Validation/test data loader\n",
    "        criterion: Loss function\n",
    "        device: Device to use for evaluation ('cuda' or 'cpu')\n",
    "        \n",
    "    Returns:\n",
    "        dict: Dictionary containing all metrics\n",
    "    \"\"\"\n",
    "    model.eval()\n",
    "    start_time = time.time()\n",
    "    \n",
    "    running_loss = 0.0\n",
    "    running_corrects = 0\n",
    "    running_top5_corrects = 0\n",
    "    processed_size = 0\n",
    "    \n",
    "    # Store predictions and targets for confusion matrix\n",
    "    all_preds = []\n",
    "    all_labels = []\n",
    "    class_correct = {}\n",
    "    class_total = {}\n",
    "    \n",
    "    # Get initial memory usage\n",
    "    initial_memory = torch.cuda.memory_allocated() if torch.cuda.is_available() else 0\n",
    "    \n",
    "    inference_times = []\n",
    "    \n",
    "    with torch.no_grad():\n",
    "        for inputs, labels in tqdm(dataloader, desc=\"Evaluating\"):\n",
    "            inputs = inputs.to(device)\n",
    "            labels = labels.to(device)\n",
    "            \n",
    "            # Measure inference time\n",
    "            inf_start = time.time()\n",
    "            outputs = model(inputs)\n",
    "            inference_times.append(time.time() - inf_start)\n",
    "            \n",
    "            _, preds = torch.max(outputs, 1)\n",
    "            loss = criterion(outputs, labels)\n",
    "            \n",
    "            # Calculate top-5 accuracy\n",
    "            _, top5_preds = torch.topk(outputs, 5, dim=1)\n",
    "            correct_top5 = 0\n",
    "            for i, label in enumerate(labels):\n",
    "                correct_top5 += (label == top5_preds[i]).any().item()\n",
    "            \n",
    "            # Track predictions for confusion matrix\n",
    "            all_preds.extend(preds.cpu().numpy())\n",
    "            all_labels.extend(labels.cpu().numpy())\n",
    "            \n",
    "            # Class-wise accuracy\n",
    "            for i in range(len(labels)):\n",
    "                label = labels[i].item()\n",
    "                if label not in class_correct:\n",
    "                    class_correct[label] = 0\n",
    "                    class_total[label] = 0\n",
    "                \n",
    "                class_total[label] += 1\n",
    "                if preds[i] == label:\n",
    "                    class_correct[label] += 1\n",
    "            \n",
    "            # Statistics\n",
    "            batch_size = inputs.size(0)\n",
    "            running_loss += loss.item() * batch_size\n",
    "            running_corrects += torch.sum(preds == labels.data).item()\n",
    "            running_top5_corrects += correct_top5\n",
    "            processed_size += batch_size\n",
    "    \n",
    "    # Calculate metrics\n",
    "    epoch_loss = running_loss / processed_size\n",
    "    epoch_acc = running_corrects / processed_size\n",
    "    epoch_top5_acc = running_top5_corrects / processed_size\n",
    "    epoch_time = time.time() - start_time\n",
    "    avg_inference_time = np.mean(inference_times)\n",
    "    \n",
    "    # Calculate class-wise accuracy\n",
    "    class_accuracy = {class_id: (class_correct.get(class_id, 0) / class_total.get(class_id, 1)) \n",
    "                     for class_id in class_total.keys()}\n",
    "    \n",
    "    # Calculate peak memory usage\n",
    "    peak_memory = torch.cuda.max_memory_allocated() if torch.cuda.is_available() else 0\n",
    "    memory_usage = peak_memory - initial_memory\n",
    "    \n",
    "    # Return all metrics\n",
    "    metrics = {\n",
    "        'loss': epoch_loss,\n",
    "        'acc': epoch_acc,\n",
    "        'top5_acc': epoch_top5_acc,\n",
    "        'time': epoch_time,\n",
    "        'avg_inference_time': avg_inference_time,\n",
    "        'memory_usage': memory_usage,\n",
    "        'class_accuracy': class_accuracy,\n",
    "        'predictions': all_preds,\n",
    "        'ground_truth': all_labels\n",
    "    }\n",
    "    \n",
    "    return metrics"
   ]
  },
  {
   "cell_type": "code",
   "execution_count": 16,
   "metadata": {},
   "outputs": [],
   "source": [
    "import os\n",
    "import json\n",
    "import time\n",
    "import numpy as np\n",
    "import torch\n",
    "import torch.nn as nn\n",
    "import torch.optim as optim\n",
    "from torch.nn.utils import clip_grad_norm_\n",
    "import matplotlib.pyplot as plt\n",
    "from tqdm import tqdm\n",
    "\n",
    "def train_model(model, train_loader, val_loader, model_name, config, device):\n",
    "    \"\"\"\n",
    "    Complete training pipeline with logging and early stopping.\n",
    "    Works with existing train_one_epoch and evaluate functions.\n",
    "    \n",
    "    Args:\n",
    "        model: PyTorch model to train\n",
    "        train_loader: Training data loader\n",
    "        val_loader: Validation data loader\n",
    "        model_name: Name of the model (for saving)\n",
    "        config: Configuration dictionary\n",
    "        device: Device to train on\n",
    "        \n",
    "    Returns:\n",
    "        model: Trained model\n",
    "        history: Dictionary containing training history\n",
    "    \"\"\"\n",
    "    # Create directories for saving\n",
    "    log_dir = os.path.join(\"logs\", model_name)\n",
    "    model_dir = os.path.join(\"checkpoints\", model_name)\n",
    "    os.makedirs(log_dir, exist_ok=True)\n",
    "    os.makedirs(model_dir, exist_ok=True)\n",
    "    \n",
    "    # Initialize model\n",
    "    model = model.to(device)\n",
    "    print(f\"Training {model_name} on {device}\")\n",
    "    print(f\"Total parameters: {sum(p.numel() for p in model.parameters() if p.requires_grad):,}\")\n",
    "    \n",
    "    # Determine the model type and attention type from the name\n",
    "    model_base = \"resnet18\" if \"ResNet18\" in model_name else \"resnet34\"\n",
    "    attention_type = \"base\"\n",
    "    if \"SE\" in model_name:\n",
    "        attention_type = \"se\"\n",
    "    elif \"CBAM\" in model_name:\n",
    "        attention_type = \"cbam\"\n",
    "    \n",
    "    # Extract model-specific learning rate if available\n",
    "    model_config = config.get(\"models\", {}).get(model_base, {}).get(attention_type, {})\n",
    "    learning_rate = model_config.get(\"learning_rate\", config[\"learning_rate\"])\n",
    "        \n",
    "    # Define loss function\n",
    "    criterion = nn.CrossEntropyLoss()\n",
    "    \n",
    "    # Define optimizer - use SGD with momentum for deep networks\n",
    "    if config.get(\"optimizer\", \"\").lower() == \"sgd\":\n",
    "        optimizer = optim.SGD(\n",
    "            model.parameters(), \n",
    "            lr=learning_rate,\n",
    "            momentum=config.get(\"momentum\", 0.9),\n",
    "            weight_decay=config[\"weight_decay\"]\n",
    "        )\n",
    "        print(f\"Using SGD optimizer with momentum={config.get('momentum', 0.9)}\")\n",
    "    else:\n",
    "        # Fallback to Adam if not specified\n",
    "        optimizer = optim.Adam(\n",
    "            model.parameters(), \n",
    "            lr=learning_rate, \n",
    "            weight_decay=config[\"weight_decay\"]\n",
    "        )\n",
    "        print(f\"Using Adam optimizer\")\n",
    "    \n",
    "    # Learning rate scheduler\n",
    "    scheduler = optim.lr_scheduler.StepLR(\n",
    "        optimizer, \n",
    "        step_size=config[\"scheduler_step_size\"], \n",
    "        gamma=config[\"scheduler_gamma\"]\n",
    "    )\n",
    "    \n",
    "    # Initialize history dictionary\n",
    "    history = {\n",
    "        'train_loss': [], 'train_acc': [], 'train_top5_acc': [],\n",
    "        'val_loss': [], 'val_acc': [], 'val_top5_acc': [],\n",
    "        'learning_rate': []\n",
    "    }\n",
    "    \n",
    "    # Early stopping variables\n",
    "    best_val_acc = 0\n",
    "    patience_counter = 0\n",
    "    \n",
    "    # Training loop\n",
    "    print(f\"Starting training for {config['num_epochs']} epochs\")\n",
    "    for epoch in range(config[\"num_epochs\"]):\n",
    "        print(f\"\\nEpoch {epoch+1}/{config['num_epochs']}\")\n",
    "        print(f\"Learning rate: {optimizer.param_groups[0]['lr']:.6f}\")\n",
    "        \n",
    "        # Train for one epoch\n",
    "        train_metrics = train_one_epoch(\n",
    "            model, train_loader, criterion, optimizer, \n",
    "            scheduler, device=device\n",
    "        )\n",
    "        \n",
    "        # Save attention maps from SE and CBAM models (if applicable)\n",
    "        if (attention_type in ['se', 'cbam']) and hasattr(model, 'attention_maps'):\n",
    "            model.attention_maps = []  # Clear any existing maps\n",
    "        \n",
    "        # Evaluate on validation set\n",
    "        # We need to modify our evaluate function call to handle attention maps\n",
    "        val_metrics = evaluate(model, val_loader, criterion, device=device)\n",
    "        \n",
    "        # Extract attention maps for visualization (if model supports it)\n",
    "        attention_maps = []\n",
    "        if (attention_type in ['se', 'cbam']) and hasattr(model, 'attention_maps') and len(model.attention_maps) > 0:\n",
    "            try:\n",
    "                attention_maps = [m.detach().cpu() for m in model.attention_maps]\n",
    "                print(f\"Collected {len(attention_maps)} attention maps\")\n",
    "                \n",
    "                # Save a sample of attention maps every 10 epochs\n",
    "                if epoch % 10 == 0 and len(attention_maps) > 0:\n",
    "                    torch.save(attention_maps, os.path.join(model_dir, f\"attention_maps_epoch_{epoch+1}.pt\"))\n",
    "            except Exception as e:\n",
    "                print(f\"Error collecting attention maps: {e}\")\n",
    "        \n",
    "        # Update history\n",
    "        history['train_loss'].append(train_metrics['loss'])\n",
    "        history['train_acc'].append(train_metrics['acc'])\n",
    "        history['train_top5_acc'].append(train_metrics['top5_acc'])\n",
    "        history['val_loss'].append(val_metrics['loss'])\n",
    "        history['val_acc'].append(val_metrics['acc'])\n",
    "        history['val_top5_acc'].append(val_metrics['top5_acc'])\n",
    "        history['learning_rate'].append(optimizer.param_groups[0]['lr'])\n",
    "        \n",
    "        # Print epoch results\n",
    "        print(f\"Train Loss: {train_metrics['loss']:.4f}, Acc: {train_metrics['acc']:.4f}, Top-5: {train_metrics['top5_acc']:.4f}\")\n",
    "        print(f\"Val Loss: {val_metrics['loss']:.4f}, Acc: {val_metrics['acc']:.4f}, Top-5: {val_metrics['top5_acc']:.4f}\")\n",
    "        \n",
    "        # Check for improvement\n",
    "        if val_metrics['acc'] > best_val_acc:\n",
    "            improvement = val_metrics['acc'] - best_val_acc\n",
    "            best_val_acc = val_metrics['acc']\n",
    "            patience_counter = 0\n",
    "            \n",
    "            # Save the best model\n",
    "            torch.save(model.state_dict(), os.path.join(model_dir, f\"{model_name}_best.pth\"))\n",
    "            print(f\"✅ Saved best model with validation accuracy: {best_val_acc:.4f} (improved by {improvement:.4f})\")\n",
    "        else:\n",
    "            patience_counter += 1\n",
    "            print(f\"⚠️ No improvement for {patience_counter} epochs. Best accuracy: {best_val_acc:.4f}\")\n",
    "        \n",
    "        # Save checkpoint every 10 epochs\n",
    "        if (epoch + 1) % 10 == 0:\n",
    "            checkpoint_path = os.path.join(model_dir, f\"{model_name}_epoch_{epoch+1}.pth\")\n",
    "            torch.save({\n",
    "                'epoch': epoch + 1,\n",
    "                'model_state_dict': model.state_dict(),\n",
    "                'optimizer_state_dict': optimizer.state_dict(),\n",
    "                'scheduler_state_dict': scheduler.state_dict(),\n",
    "                'best_val_acc': best_val_acc,\n",
    "                'history': history\n",
    "            }, checkpoint_path)\n",
    "            print(f\"Saved checkpoint to {checkpoint_path}\")\n",
    "        \n",
    "        # Save current history\n",
    "        with open(os.path.join(log_dir, f\"history.json\"), \"w\") as f:\n",
    "            # Convert values to Python native types for JSON serialization\n",
    "            serializable_history = {}\n",
    "            for key, values in history.items():\n",
    "                serializable_history[key] = [float(v) if not np.isnan(float(v)) else None for v in values]\n",
    "            json.dump(serializable_history, f, indent=4)\n",
    "        \n",
    "        # Early stopping\n",
    "        if patience_counter >= config[\"early_stopping_patience\"]:\n",
    "            print(f\"⛔ Early stopping triggered after {epoch+1} epochs\")\n",
    "            break\n",
    "    \n",
    "    # Save final model and history\n",
    "    torch.save(model.state_dict(), os.path.join(model_dir, f\"{model_name}_final.pth\"))\n",
    "    \n",
    "    # Load best model\n",
    "    model.load_state_dict(torch.load(os.path.join(model_dir, f\"{model_name}_best.pth\")))\n",
    "    \n",
    "    print(f\"Training completed. Best validation accuracy: {best_val_acc:.4f}\")\n",
    "    return model, history\n",
    "\n",
    "\n",
    "def plot_training_history(history, model_name):\n",
    "    \"\"\"\n",
    "    Plot the training history of a model.\n",
    "    \n",
    "    Args:\n",
    "        history: Dictionary containing training history\n",
    "        model_name: Name of the model for plot title\n",
    "    \"\"\"\n",
    "    plt.figure(figsize=(12, 10))\n",
    "    \n",
    "    # Plot training and validation loss\n",
    "    plt.subplot(2, 2, 1)\n",
    "    plt.plot(history['train_loss'], label='Train')\n",
    "    plt.plot(history['val_loss'], label='Validation')\n",
    "    plt.title('Loss')\n",
    "    plt.xlabel('Epoch')\n",
    "    plt.ylabel('Loss')\n",
    "    plt.legend()\n",
    "    plt.grid(True)\n",
    "    \n",
    "    # Plot training and validation accuracy\n",
    "    plt.subplot(2, 2, 2)\n",
    "    plt.plot(history['train_acc'], label='Train')\n",
    "    plt.plot(history['val_acc'], label='Validation')\n",
    "    plt.title('Accuracy')\n",
    "    plt.xlabel('Epoch')\n",
    "    plt.ylabel('Accuracy')\n",
    "    plt.legend()\n",
    "    plt.grid(True)\n",
    "    \n",
    "    # Plot training and validation top-5 accuracy\n",
    "    plt.subplot(2, 2, 3)\n",
    "    plt.plot(history['train_top5_acc'], label='Train')\n",
    "    plt.plot(history['val_top5_acc'], label='Validation')\n",
    "    plt.title('Top-5 Accuracy')\n",
    "    plt.xlabel('Epoch')\n",
    "    plt.ylabel('Top-5 Accuracy')\n",
    "    plt.legend()\n",
    "    plt.grid(True)\n",
    "    \n",
    "    # Plot learning rate\n",
    "    plt.subplot(2, 2, 4)\n",
    "    plt.plot(history['learning_rate'])\n",
    "    plt.title('Learning Rate')\n",
    "    plt.xlabel('Epoch')\n",
    "    plt.ylabel('Learning Rate')\n",
    "    plt.grid(True)\n",
    "    \n",
    "    plt.tight_layout()\n",
    "    plt.suptitle(f\"Training History - {model_name}\", fontsize=16)\n",
    "    plt.savefig(f\"logs/{model_name}/training_history.png\", dpi=300)\n",
    "    plt.show()\n",
    "\n",
    "\n",
    "def compare_models(histories, model_names, title=\"Model Comparison\"):\n",
    "    \"\"\"\n",
    "    Compare training histories of multiple models\n",
    "    \n",
    "    Args:\n",
    "        histories: List of history dictionaries\n",
    "        model_names: List of model names\n",
    "        title: Plot title\n",
    "    \"\"\"\n",
    "    plt.figure(figsize=(15, 10))\n",
    "    \n",
    "    # Plot validation loss\n",
    "    plt.subplot(2, 2, 1)\n",
    "    for i, history in enumerate(histories):\n",
    "        plt.plot(history['val_loss'], label=model_names[i])\n",
    "    plt.title('Validation Loss')\n",
    "    plt.xlabel('Epoch')\n",
    "    plt.ylabel('Loss')\n",
    "    plt.legend()\n",
    "    plt.grid(True)\n",
    "    \n",
    "    # Plot validation accuracy\n",
    "    plt.subplot(2, 2, 2)\n",
    "    for i, history in enumerate(histories):\n",
    "        plt.plot(history['val_acc'], label=model_names[i])\n",
    "    plt.title('Validation Accuracy')\n",
    "    plt.xlabel('Epoch')\n",
    "    plt.ylabel('Accuracy')\n",
    "    plt.legend()\n",
    "    plt.grid(True)\n",
    "    \n",
    "    # Plot validation top-5 accuracy\n",
    "    plt.subplot(2, 2, 3)\n",
    "    for i, history in enumerate(histories):\n",
    "        plt.plot(history['val_top5_acc'], label=model_names[i])\n",
    "    plt.title('Validation Top-5 Accuracy')\n",
    "    plt.xlabel('Epoch')\n",
    "    plt.ylabel('Top-5 Accuracy')\n",
    "    plt.legend()\n",
    "    plt.grid(True)\n",
    "    \n",
    "    # Plot learning rates\n",
    "    plt.subplot(2, 2, 4)\n",
    "    for i, history in enumerate(histories):\n",
    "        plt.plot(history['learning_rate'], label=model_names[i])\n",
    "    plt.title('Learning Rate')\n",
    "    plt.xlabel('Epoch')\n",
    "    plt.ylabel('Learning Rate')\n",
    "    plt.legend()\n",
    "    plt.grid(True)\n",
    "    \n",
    "    plt.tight_layout()\n",
    "    plt.suptitle(title, fontsize=16)\n",
    "    plt.savefig(f\"logs/comparison_{title.replace(' ', '_')}.png\", dpi=300)\n",
    "    plt.show()\n",
    "\n",
    "\n",
    "def extract_attention_maps(model, loader, device, num_samples=8):\n",
    "    \"\"\"\n",
    "    Extract attention maps from a model for visualization\n",
    "    \n",
    "    Args:\n",
    "        model: The model with attention mechanisms\n",
    "        loader: Data loader\n",
    "        device: Device to use\n",
    "        num_samples: Number of samples to extract maps for\n",
    "        \n",
    "    Returns:\n",
    "        tuple: (images, attention_maps)\n",
    "    \"\"\"\n",
    "    model.eval()\n",
    "    images = []\n",
    "    if not hasattr(model, 'attention_maps'):\n",
    "        print(\"Model does not have attention_maps attribute\")\n",
    "        return images, []\n",
    "    \n",
    "    # Clear existing maps\n",
    "    model.attention_maps = []\n",
    "    \n",
    "    with torch.no_grad():\n",
    "        # Get one batch\n",
    "        for inputs, _ in loader:\n",
    "            inputs = inputs[:num_samples].to(device)\n",
    "            images = inputs.detach().cpu()\n",
    "            \n",
    "            # Forward pass to collect attention maps\n",
    "            _ = model(inputs)\n",
    "            \n",
    "            # Only process one batch\n",
    "            break\n",
    "    \n",
    "    # Get attention maps\n",
    "    attention_maps = []\n",
    "    if hasattr(model, 'attention_maps') and len(model.attention_maps) > 0:\n",
    "        try:\n",
    "            attention_maps = [m.detach().cpu() for m in model.attention_maps]\n",
    "        except Exception as e:\n",
    "            print(f\"Error extracting attention maps: {e}\")\n",
    "    \n",
    "    return images, attention_maps\n",
    "\n",
    "\n",
    "def visualize_attention_maps(images, attention_maps, model_name, save_dir=\"logs\"):\n",
    "    \"\"\"\n",
    "    Visualize attention maps from a model\n",
    "    \n",
    "    Args:\n",
    "        images: Batch of images (B, C, H, W)\n",
    "        attention_maps: List of attention maps\n",
    "        model_name: Name of the model\n",
    "        save_dir: Directory to save visualizations\n",
    "    \"\"\"\n",
    "    if len(attention_maps) == 0:\n",
    "        print(\"No attention maps available to visualize\")\n",
    "        return\n",
    "    \n",
    "    # Create directory\n",
    "    os.makedirs(os.path.join(save_dir, model_name), exist_ok=True)\n",
    "    \n",
    "    num_images = min(8, images.shape[0])\n",
    "    num_maps = min(4, len(attention_maps))\n",
    "    \n",
    "    plt.figure(figsize=(12, 2 * num_images))\n",
    "    \n",
    "    for i in range(num_images):\n",
    "        # Plot original image\n",
    "        plt.subplot(num_images, num_maps + 1, i * (num_maps + 1) + 1)\n",
    "        img = images[i].permute(1, 2, 0).numpy()\n",
    "        \n",
    "        # Denormalize image\n",
    "        mean = np.array([0.4914, 0.4822, 0.4465])\n",
    "        std = np.array([0.2470, 0.2435, 0.2616])\n",
    "        img = img * std + mean\n",
    "        img = np.clip(img, 0, 1)\n",
    "        \n",
    "        plt.imshow(img)\n",
    "        plt.title(f\"Image {i+1}\")\n",
    "        plt.axis('off')\n",
    "        \n",
    "        # Plot attention maps\n",
    "        for j in range(min(num_maps, len(attention_maps))):\n",
    "            plt.subplot(num_images, num_maps + 1, i * (num_maps + 1) + j + 2)\n",
    "            \n",
    "            # Handle different map formats\n",
    "            if len(attention_maps[j].shape) == 4 and attention_maps[j].shape[0] > i:\n",
    "                # Batch, channels, height, width\n",
    "                attention = attention_maps[j][i].squeeze().numpy()\n",
    "            elif len(attention_maps[j].shape) == 3:\n",
    "                # Single batch with channels, height, width\n",
    "                attention = attention_maps[j].squeeze().numpy()\n",
    "            else:\n",
    "                # Just reshape as best we can\n",
    "                attention = attention_maps[j].reshape(-1, 8, 8).numpy()[0]\n",
    "            \n",
    "            plt.imshow(attention, cmap='viridis')\n",
    "            plt.title(f\"Layer {j+1}\")\n",
    "            plt.axis('off')\n",
    "    \n",
    "    plt.suptitle(f\"Attention Maps - {model_name}\", fontsize=16)\n",
    "    plt.tight_layout()\n",
    "    plt.savefig(os.path.join(save_dir, model_name, \"attention_maps.png\"), dpi=300)\n",
    "    plt.close()\n",
    "\n",
    "\n",
    "# Usage example:\n",
    "def sequential_training():\n",
    "    \"\"\"\n",
    "    Train ResNet-18 models sequentially\n",
    "    \"\"\"\n",
    "    # Make sure these imports are already included in your script\n",
    "    from deeper_networks import DeepResNet18, DeepSENet18, DeepCBAMNet18\n",
    "    \n",
    "    # Set device\n",
    "    device = torch.device(\"cuda\" if torch.cuda.is_available() else \"cpu\")\n",
    "    \n",
    "    # Update config with model-specific settings\n",
    "    config.update({\n",
    "        \"models\": {\n",
    "            \"resnet18\": {\n",
    "                \"base\": {\"learning_rate\": 0.01},\n",
    "                \"se\": {\"learning_rate\": 0.01, \"reduction_ratio\": 16},\n",
    "                \"cbam\": {\"learning_rate\": 0.01, \"reduction_ratio\": 16}\n",
    "            }\n",
    "        },\n",
    "        \"optimizer\": \"sgd\",\n",
    "        \"momentum\": 0.9\n",
    "    })\n",
    "    \n",
    "    # Create directories\n",
    "    os.makedirs(\"logs\", exist_ok=True)\n",
    "    os.makedirs(\"checkpoints\", exist_ok=True)\n",
    "    \n",
    "    # Save updated config\n",
    "    with open(\"logs/config.json\", \"w\") as f:\n",
    "        json.dump(config, f, indent=4)\n",
    "    \n",
    "    # Store histories for comparison\n",
    "    histories = []\n",
    "    model_names = []\n",
    "    \n",
    "    # 1. Train Baseline ResNet-18\n",
    "    print(\"\\n\" + \"=\"*50)\n",
    "    print(\"Training Baseline ResNet-18\")\n",
    "    print(\"=\"*50)\n",
    "    \n",
    "    baseline_model = DeepResNet18(num_classes=10)\n",
    "    baseline_model, baseline_history = train_model(\n",
    "        baseline_model, trainloader, valloader, \n",
    "        \"ResNet18_Base\", config, device\n",
    "    )\n",
    "    \n",
    "    # Plot and save training history\n",
    "    plot_training_history(baseline_history, \"ResNet18_Base\")\n",
    "    \n",
    "    # Add to comparison\n",
    "    histories.append(baseline_history)\n",
    "    model_names.append(\"ResNet18_Base\")\n",
    "    \n",
    "    # Clear GPU memory\n",
    "    if torch.cuda.is_available():\n",
    "        torch.cuda.empty_cache()\n",
    "        print(\"GPU memory cleared. Waiting 10 seconds before next model...\")\n",
    "        time.sleep(10)\n",
    "    \n",
    "    # 2. Train SE-ResNet-18\n",
    "    print(\"\\n\" + \"=\"*50)\n",
    "    print(\"Training SE-ResNet-18\")\n",
    "    print(\"=\"*50)\n",
    "    \n",
    "    se_model = DeepSENet18(num_classes=10)\n",
    "    se_model, se_history = train_model(\n",
    "        se_model, trainloader, valloader, \n",
    "        \"ResNet18_SE\", config, device\n",
    "    )\n",
    "    \n",
    "    # Plot and save training history\n",
    "    plot_training_history(se_history, \"ResNet18_SE\")\n",
    "    \n",
    "    # Extract and visualize attention maps\n",
    "    images, attention_maps = extract_attention_maps(se_model, valloader, device)\n",
    "    if len(attention_maps) > 0:\n",
    "        visualize_attention_maps(images, attention_maps, \"ResNet18_SE\")\n",
    "    \n",
    "    # Add to comparison\n",
    "    histories.append(se_history)\n",
    "    model_names.append(\"ResNet18_SE\")\n",
    "    \n",
    "    # Clear GPU memory\n",
    "    if torch.cuda.is_available():\n",
    "        torch.cuda.empty_cache()\n",
    "        print(\"GPU memory cleared. Waiting 10 seconds before next model...\")\n",
    "        time.sleep(10)\n",
    "    \n",
    "    # 3. Train CBAM-ResNet-18\n",
    "    print(\"\\n\" + \"=\"*50)\n",
    "    print(\"Training CBAM-ResNet-18\")\n",
    "    print(\"=\"*50)\n",
    "    \n",
    "    cbam_model = DeepCBAMNet18(num_classes=10)\n",
    "    cbam_model, cbam_history = train_model(\n",
    "        cbam_model, trainloader, valloader, \n",
    "        \"ResNet18_CBAM\", config, device\n",
    "    )\n",
    "    \n",
    "    # Plot and save training history\n",
    "    plot_training_history(cbam_history, \"ResNet18_CBAM\")\n",
    "    \n",
    "    # Extract and visualize attention maps\n",
    "    images, attention_maps = extract_attention_maps(cbam_model, valloader, device)\n",
    "    if len(attention_maps) > 0:\n",
    "        visualize_attention_maps(images, attention_maps, \"ResNet18_CBAM\")\n",
    "    \n",
    "    # Add to comparison\n",
    "    histories.append(cbam_history)\n",
    "    model_names.append(\"ResNet18_CBAM\")\n",
    "    \n",
    "    # Compare all models\n",
    "    compare_models(histories, model_names, \"ResNet-18 Variants\")\n",
    "    \n",
    "    print(\"\\nTraining complete!\")"
   ]
  },
  {
   "cell_type": "code",
   "execution_count": 17,
   "metadata": {},
   "outputs": [
    {
     "name": "stdout",
     "output_type": "stream",
     "text": [
      "=== Training Baseline CNN ===\n",
      "Training baseline on cuda\n",
      "Total parameters: 11,173,962\n",
      "Using SGD optimizer with momentum=0.9\n",
      "Starting training for 100 epochs\n",
      "\n",
      "Epoch 1/100\n",
      "Learning rate: 0.010000\n"
     ]
    },
    {
     "name": "stderr",
     "output_type": "stream",
     "text": [
      "Training: 100%|██████████| 352/352 [00:59<00:00,  5.94it/s]\n",
      "Evaluating: 100%|██████████| 40/40 [00:04<00:00,  9.97it/s]\n"
     ]
    },
    {
     "name": "stdout",
     "output_type": "stream",
     "text": [
      "Train Loss: 1.6573, Acc: 0.3807, Top-5: 0.8730\n",
      "Val Loss: 1.4082, Acc: 0.4692, Top-5: 0.9372\n",
      "✅ Saved best model with validation accuracy: 0.4692 (improved by 0.4692)\n",
      "\n",
      "Epoch 2/100\n",
      "Learning rate: 0.010000\n"
     ]
    },
    {
     "name": "stderr",
     "output_type": "stream",
     "text": [
      "Training: 100%|██████████| 352/352 [01:00<00:00,  5.84it/s]\n",
      "Evaluating: 100%|██████████| 40/40 [00:03<00:00, 10.85it/s]\n"
     ]
    },
    {
     "name": "stdout",
     "output_type": "stream",
     "text": [
      "Train Loss: 1.1963, Acc: 0.5690, Top-5: 0.9513\n",
      "Val Loss: 1.0081, Acc: 0.6448, Top-5: 0.9682\n",
      "✅ Saved best model with validation accuracy: 0.6448 (improved by 0.1756)\n",
      "\n",
      "Epoch 3/100\n",
      "Learning rate: 0.010000\n"
     ]
    },
    {
     "name": "stderr",
     "output_type": "stream",
     "text": [
      "Training: 100%|██████████| 352/352 [00:56<00:00,  6.21it/s]\n",
      "Evaluating: 100%|██████████| 40/40 [00:03<00:00, 10.20it/s]\n"
     ]
    },
    {
     "name": "stdout",
     "output_type": "stream",
     "text": [
      "Train Loss: 0.9503, Acc: 0.6622, Top-5: 0.9714\n",
      "Val Loss: 0.9255, Acc: 0.6734, Top-5: 0.9706\n",
      "✅ Saved best model with validation accuracy: 0.6734 (improved by 0.0286)\n",
      "\n",
      "Epoch 4/100\n",
      "Learning rate: 0.010000\n"
     ]
    },
    {
     "name": "stderr",
     "output_type": "stream",
     "text": [
      "Training: 100%|██████████| 352/352 [00:58<00:00,  6.02it/s]\n",
      "Evaluating: 100%|██████████| 40/40 [00:04<00:00,  9.97it/s]\n"
     ]
    },
    {
     "name": "stdout",
     "output_type": "stream",
     "text": [
      "Train Loss: 0.7903, Acc: 0.7197, Top-5: 0.9814\n",
      "Val Loss: 0.7938, Acc: 0.7190, Top-5: 0.9794\n",
      "✅ Saved best model with validation accuracy: 0.7190 (improved by 0.0456)\n",
      "\n",
      "Epoch 5/100\n",
      "Learning rate: 0.010000\n"
     ]
    },
    {
     "name": "stderr",
     "output_type": "stream",
     "text": [
      "Training: 100%|██████████| 352/352 [00:58<00:00,  6.00it/s]\n",
      "Evaluating: 100%|██████████| 40/40 [00:04<00:00,  9.59it/s]\n"
     ]
    },
    {
     "name": "stdout",
     "output_type": "stream",
     "text": [
      "Train Loss: 0.6852, Acc: 0.7616, Top-5: 0.9848\n",
      "Val Loss: 0.7306, Acc: 0.7438, Top-5: 0.9830\n",
      "✅ Saved best model with validation accuracy: 0.7438 (improved by 0.0248)\n",
      "\n",
      "Epoch 6/100\n",
      "Learning rate: 0.010000\n"
     ]
    },
    {
     "name": "stderr",
     "output_type": "stream",
     "text": [
      "Training: 100%|██████████| 352/352 [00:59<00:00,  5.95it/s]\n",
      "Evaluating: 100%|██████████| 40/40 [00:04<00:00,  9.70it/s]\n"
     ]
    },
    {
     "name": "stdout",
     "output_type": "stream",
     "text": [
      "Train Loss: 0.6064, Acc: 0.7890, Top-5: 0.9879\n",
      "Val Loss: 0.7015, Acc: 0.7608, Top-5: 0.9886\n",
      "✅ Saved best model with validation accuracy: 0.7608 (improved by 0.0170)\n",
      "\n",
      "Epoch 7/100\n",
      "Learning rate: 0.010000\n"
     ]
    },
    {
     "name": "stderr",
     "output_type": "stream",
     "text": [
      "Training: 100%|██████████| 352/352 [00:59<00:00,  5.95it/s]\n",
      "Evaluating: 100%|██████████| 40/40 [00:03<00:00, 11.23it/s]\n"
     ]
    },
    {
     "name": "stdout",
     "output_type": "stream",
     "text": [
      "Train Loss: 0.5500, Acc: 0.8095, Top-5: 0.9901\n",
      "Val Loss: 0.6242, Acc: 0.7932, Top-5: 0.9892\n",
      "✅ Saved best model with validation accuracy: 0.7932 (improved by 0.0324)\n",
      "\n",
      "Epoch 8/100\n",
      "Learning rate: 0.010000\n"
     ]
    },
    {
     "name": "stderr",
     "output_type": "stream",
     "text": [
      "Training: 100%|██████████| 352/352 [01:00<00:00,  5.86it/s]\n",
      "Evaluating: 100%|██████████| 40/40 [00:03<00:00, 11.24it/s]\n"
     ]
    },
    {
     "name": "stdout",
     "output_type": "stream",
     "text": [
      "Train Loss: 0.5038, Acc: 0.8242, Top-5: 0.9916\n",
      "Val Loss: 0.6104, Acc: 0.7944, Top-5: 0.9878\n",
      "✅ Saved best model with validation accuracy: 0.7944 (improved by 0.0012)\n",
      "\n",
      "Epoch 9/100\n",
      "Learning rate: 0.010000\n"
     ]
    },
    {
     "name": "stderr",
     "output_type": "stream",
     "text": [
      "Training: 100%|██████████| 352/352 [00:59<00:00,  5.89it/s]\n",
      "Evaluating: 100%|██████████| 40/40 [00:03<00:00, 11.02it/s]\n"
     ]
    },
    {
     "name": "stdout",
     "output_type": "stream",
     "text": [
      "Train Loss: 0.4616, Acc: 0.8398, Top-5: 0.9931\n",
      "Val Loss: 0.6616, Acc: 0.7774, Top-5: 0.9884\n",
      "⚠️ No improvement for 1 epochs. Best accuracy: 0.7944\n",
      "\n",
      "Epoch 10/100\n",
      "Learning rate: 0.010000\n"
     ]
    },
    {
     "name": "stderr",
     "output_type": "stream",
     "text": [
      "Training: 100%|██████████| 352/352 [01:01<00:00,  5.74it/s]\n",
      "Evaluating: 100%|██████████| 40/40 [00:05<00:00,  7.78it/s]\n"
     ]
    },
    {
     "name": "stdout",
     "output_type": "stream",
     "text": [
      "Train Loss: 0.4289, Acc: 0.8519, Top-5: 0.9942\n",
      "Val Loss: 0.4978, Acc: 0.8244, Top-5: 0.9926\n",
      "✅ Saved best model with validation accuracy: 0.8244 (improved by 0.0300)\n",
      "Saved checkpoint to checkpoints/baseline/baseline_epoch_10.pth\n",
      "\n",
      "Epoch 11/100\n",
      "Learning rate: 0.010000\n"
     ]
    },
    {
     "name": "stderr",
     "output_type": "stream",
     "text": [
      "Training: 100%|██████████| 352/352 [01:07<00:00,  5.23it/s]\n",
      "Evaluating: 100%|██████████| 40/40 [00:04<00:00,  9.01it/s]\n"
     ]
    },
    {
     "name": "stdout",
     "output_type": "stream",
     "text": [
      "Train Loss: 0.3997, Acc: 0.8602, Top-5: 0.9954\n",
      "Val Loss: 0.4769, Acc: 0.8334, Top-5: 0.9908\n",
      "✅ Saved best model with validation accuracy: 0.8334 (improved by 0.0090)\n",
      "\n",
      "Epoch 12/100\n",
      "Learning rate: 0.010000\n"
     ]
    },
    {
     "name": "stderr",
     "output_type": "stream",
     "text": [
      "Training: 100%|██████████| 352/352 [01:03<00:00,  5.56it/s]\n",
      "Evaluating: 100%|██████████| 40/40 [00:04<00:00,  9.73it/s]\n"
     ]
    },
    {
     "name": "stdout",
     "output_type": "stream",
     "text": [
      "Train Loss: 0.3663, Acc: 0.8737, Top-5: 0.9959\n",
      "Val Loss: 0.4428, Acc: 0.8456, Top-5: 0.9944\n",
      "✅ Saved best model with validation accuracy: 0.8456 (improved by 0.0122)\n",
      "\n",
      "Epoch 13/100\n",
      "Learning rate: 0.010000\n"
     ]
    },
    {
     "name": "stderr",
     "output_type": "stream",
     "text": [
      "Training: 100%|██████████| 352/352 [00:58<00:00,  6.00it/s]\n",
      "Evaluating: 100%|██████████| 40/40 [00:03<00:00, 10.09it/s]\n"
     ]
    },
    {
     "name": "stdout",
     "output_type": "stream",
     "text": [
      "Train Loss: 0.3454, Acc: 0.8801, Top-5: 0.9963\n",
      "Val Loss: 0.4813, Acc: 0.8358, Top-5: 0.9930\n",
      "⚠️ No improvement for 1 epochs. Best accuracy: 0.8456\n",
      "\n",
      "Epoch 14/100\n",
      "Learning rate: 0.010000\n"
     ]
    },
    {
     "name": "stderr",
     "output_type": "stream",
     "text": [
      "Training: 100%|██████████| 352/352 [01:00<00:00,  5.84it/s]\n",
      "Evaluating: 100%|██████████| 40/40 [00:03<00:00, 10.35it/s]\n"
     ]
    },
    {
     "name": "stdout",
     "output_type": "stream",
     "text": [
      "Train Loss: 0.3253, Acc: 0.8852, Top-5: 0.9967\n",
      "Val Loss: 0.4763, Acc: 0.8348, Top-5: 0.9942\n",
      "⚠️ No improvement for 2 epochs. Best accuracy: 0.8456\n",
      "\n",
      "Epoch 15/100\n",
      "Learning rate: 0.010000\n"
     ]
    },
    {
     "name": "stderr",
     "output_type": "stream",
     "text": [
      "Training: 100%|██████████| 352/352 [00:58<00:00,  5.98it/s]\n",
      "Evaluating: 100%|██████████| 40/40 [00:04<00:00,  9.76it/s]\n"
     ]
    },
    {
     "name": "stdout",
     "output_type": "stream",
     "text": [
      "Train Loss: 0.3122, Acc: 0.8919, Top-5: 0.9971\n",
      "Val Loss: 0.4382, Acc: 0.8522, Top-5: 0.9960\n",
      "✅ Saved best model with validation accuracy: 0.8522 (improved by 0.0066)\n",
      "\n",
      "Epoch 16/100\n",
      "Learning rate: 0.010000\n"
     ]
    },
    {
     "name": "stderr",
     "output_type": "stream",
     "text": [
      "Training: 100%|██████████| 352/352 [00:58<00:00,  6.07it/s]\n",
      "Evaluating: 100%|██████████| 40/40 [00:03<00:00, 10.76it/s]\n"
     ]
    },
    {
     "name": "stdout",
     "output_type": "stream",
     "text": [
      "Train Loss: 0.2861, Acc: 0.9001, Top-5: 0.9976\n",
      "Val Loss: 0.4266, Acc: 0.8542, Top-5: 0.9952\n",
      "✅ Saved best model with validation accuracy: 0.8542 (improved by 0.0020)\n",
      "\n",
      "Epoch 17/100\n",
      "Learning rate: 0.010000\n"
     ]
    },
    {
     "name": "stderr",
     "output_type": "stream",
     "text": [
      "Training: 100%|██████████| 352/352 [00:58<00:00,  6.05it/s]\n",
      "Evaluating: 100%|██████████| 40/40 [00:03<00:00, 11.34it/s]\n"
     ]
    },
    {
     "name": "stdout",
     "output_type": "stream",
     "text": [
      "Train Loss: 0.2761, Acc: 0.9039, Top-5: 0.9979\n",
      "Val Loss: 0.4293, Acc: 0.8504, Top-5: 0.9936\n",
      "⚠️ No improvement for 1 epochs. Best accuracy: 0.8542\n",
      "\n",
      "Epoch 18/100\n",
      "Learning rate: 0.010000\n"
     ]
    },
    {
     "name": "stderr",
     "output_type": "stream",
     "text": [
      "Training: 100%|██████████| 352/352 [00:58<00:00,  6.02it/s]\n",
      "Evaluating: 100%|██████████| 40/40 [00:03<00:00, 12.87it/s]\n"
     ]
    },
    {
     "name": "stdout",
     "output_type": "stream",
     "text": [
      "Train Loss: 0.2613, Acc: 0.9097, Top-5: 0.9978\n",
      "Val Loss: 0.3962, Acc: 0.8668, Top-5: 0.9960\n",
      "✅ Saved best model with validation accuracy: 0.8668 (improved by 0.0126)\n",
      "\n",
      "Epoch 19/100\n",
      "Learning rate: 0.010000\n"
     ]
    },
    {
     "name": "stderr",
     "output_type": "stream",
     "text": [
      "Training: 100%|██████████| 352/352 [00:57<00:00,  6.09it/s]\n",
      "Evaluating: 100%|██████████| 40/40 [00:03<00:00, 10.34it/s]\n"
     ]
    },
    {
     "name": "stdout",
     "output_type": "stream",
     "text": [
      "Train Loss: 0.2513, Acc: 0.9110, Top-5: 0.9983\n",
      "Val Loss: 0.4010, Acc: 0.8666, Top-5: 0.9952\n",
      "⚠️ No improvement for 1 epochs. Best accuracy: 0.8668\n",
      "\n",
      "Epoch 20/100\n",
      "Learning rate: 0.010000\n"
     ]
    },
    {
     "name": "stderr",
     "output_type": "stream",
     "text": [
      "Training: 100%|██████████| 352/352 [00:57<00:00,  6.08it/s]\n",
      "Evaluating: 100%|██████████| 40/40 [00:03<00:00, 11.10it/s]\n"
     ]
    },
    {
     "name": "stdout",
     "output_type": "stream",
     "text": [
      "Train Loss: 0.2378, Acc: 0.9172, Top-5: 0.9986\n",
      "Val Loss: 0.3790, Acc: 0.8794, Top-5: 0.9962\n",
      "✅ Saved best model with validation accuracy: 0.8794 (improved by 0.0126)\n",
      "Saved checkpoint to checkpoints/baseline/baseline_epoch_20.pth\n",
      "\n",
      "Epoch 21/100\n",
      "Learning rate: 0.010000\n"
     ]
    },
    {
     "name": "stderr",
     "output_type": "stream",
     "text": [
      "Training: 100%|██████████| 352/352 [01:00<00:00,  5.85it/s]\n",
      "Evaluating: 100%|██████████| 40/40 [00:03<00:00, 10.32it/s]\n"
     ]
    },
    {
     "name": "stdout",
     "output_type": "stream",
     "text": [
      "Train Loss: 0.2207, Acc: 0.9229, Top-5: 0.9986\n",
      "Val Loss: 0.4047, Acc: 0.8638, Top-5: 0.9950\n",
      "⚠️ No improvement for 1 epochs. Best accuracy: 0.8794\n",
      "\n",
      "Epoch 22/100\n",
      "Learning rate: 0.010000\n"
     ]
    },
    {
     "name": "stderr",
     "output_type": "stream",
     "text": [
      "Training: 100%|██████████| 352/352 [01:00<00:00,  5.84it/s]\n",
      "Evaluating: 100%|██████████| 40/40 [00:03<00:00, 11.98it/s]\n"
     ]
    },
    {
     "name": "stdout",
     "output_type": "stream",
     "text": [
      "Train Loss: 0.2167, Acc: 0.9241, Top-5: 0.9988\n",
      "Val Loss: 0.4306, Acc: 0.8582, Top-5: 0.9940\n",
      "⚠️ No improvement for 2 epochs. Best accuracy: 0.8794\n",
      "\n",
      "Epoch 23/100\n",
      "Learning rate: 0.010000\n"
     ]
    },
    {
     "name": "stderr",
     "output_type": "stream",
     "text": [
      "Training: 100%|██████████| 352/352 [00:58<00:00,  6.00it/s]\n",
      "Evaluating: 100%|██████████| 40/40 [00:03<00:00, 10.29it/s]\n"
     ]
    },
    {
     "name": "stdout",
     "output_type": "stream",
     "text": [
      "Train Loss: 0.1983, Acc: 0.9308, Top-5: 0.9990\n",
      "Val Loss: 0.3747, Acc: 0.8750, Top-5: 0.9972\n",
      "⚠️ No improvement for 3 epochs. Best accuracy: 0.8794\n",
      "\n",
      "Epoch 24/100\n",
      "Learning rate: 0.010000\n"
     ]
    },
    {
     "name": "stderr",
     "output_type": "stream",
     "text": [
      "Training: 100%|██████████| 352/352 [00:58<00:00,  6.04it/s]\n",
      "Evaluating: 100%|██████████| 40/40 [00:03<00:00, 10.09it/s]\n"
     ]
    },
    {
     "name": "stdout",
     "output_type": "stream",
     "text": [
      "Train Loss: 0.1933, Acc: 0.9330, Top-5: 0.9988\n",
      "Val Loss: 0.4303, Acc: 0.8622, Top-5: 0.9946\n",
      "⚠️ No improvement for 4 epochs. Best accuracy: 0.8794\n",
      "\n",
      "Epoch 25/100\n",
      "Learning rate: 0.010000\n"
     ]
    },
    {
     "name": "stderr",
     "output_type": "stream",
     "text": [
      "Training: 100%|██████████| 352/352 [00:58<00:00,  6.01it/s]\n",
      "Evaluating: 100%|██████████| 40/40 [00:04<00:00,  9.82it/s]\n"
     ]
    },
    {
     "name": "stdout",
     "output_type": "stream",
     "text": [
      "Train Loss: 0.1835, Acc: 0.9347, Top-5: 0.9991\n",
      "Val Loss: 0.3765, Acc: 0.8778, Top-5: 0.9960\n",
      "⚠️ No improvement for 5 epochs. Best accuracy: 0.8794\n",
      "\n",
      "Epoch 26/100\n",
      "Learning rate: 0.010000\n"
     ]
    },
    {
     "name": "stderr",
     "output_type": "stream",
     "text": [
      "Training: 100%|██████████| 352/352 [00:58<00:00,  6.03it/s]\n",
      "Evaluating: 100%|██████████| 40/40 [00:03<00:00, 10.52it/s]\n"
     ]
    },
    {
     "name": "stdout",
     "output_type": "stream",
     "text": [
      "Train Loss: 0.1783, Acc: 0.9384, Top-5: 0.9992\n",
      "Val Loss: 0.3874, Acc: 0.8780, Top-5: 0.9958\n",
      "⚠️ No improvement for 6 epochs. Best accuracy: 0.8794\n",
      "\n",
      "Epoch 27/100\n",
      "Learning rate: 0.010000\n"
     ]
    },
    {
     "name": "stderr",
     "output_type": "stream",
     "text": [
      "Training: 100%|██████████| 352/352 [00:58<00:00,  6.04it/s]\n",
      "Evaluating: 100%|██████████| 40/40 [00:03<00:00, 10.99it/s]\n"
     ]
    },
    {
     "name": "stdout",
     "output_type": "stream",
     "text": [
      "Train Loss: 0.1633, Acc: 0.9435, Top-5: 0.9993\n",
      "Val Loss: 0.4313, Acc: 0.8672, Top-5: 0.9954\n",
      "⚠️ No improvement for 7 epochs. Best accuracy: 0.8794\n",
      "\n",
      "Epoch 28/100\n",
      "Learning rate: 0.010000\n"
     ]
    },
    {
     "name": "stderr",
     "output_type": "stream",
     "text": [
      "Training: 100%|██████████| 352/352 [00:58<00:00,  6.01it/s]\n",
      "Evaluating: 100%|██████████| 40/40 [00:03<00:00, 10.78it/s]\n"
     ]
    },
    {
     "name": "stdout",
     "output_type": "stream",
     "text": [
      "Train Loss: 0.1577, Acc: 0.9437, Top-5: 0.9995\n",
      "Val Loss: 0.3717, Acc: 0.8808, Top-5: 0.9950\n",
      "✅ Saved best model with validation accuracy: 0.8808 (improved by 0.0014)\n",
      "\n",
      "Epoch 29/100\n",
      "Learning rate: 0.010000\n"
     ]
    },
    {
     "name": "stderr",
     "output_type": "stream",
     "text": [
      "Training: 100%|██████████| 352/352 [00:58<00:00,  6.04it/s]\n",
      "Evaluating: 100%|██████████| 40/40 [00:03<00:00, 10.56it/s]\n"
     ]
    },
    {
     "name": "stdout",
     "output_type": "stream",
     "text": [
      "Train Loss: 0.1490, Acc: 0.9484, Top-5: 0.9994\n",
      "Val Loss: 0.3968, Acc: 0.8762, Top-5: 0.9956\n",
      "⚠️ No improvement for 1 epochs. Best accuracy: 0.8808\n",
      "\n",
      "Epoch 30/100\n",
      "Learning rate: 0.010000\n"
     ]
    },
    {
     "name": "stderr",
     "output_type": "stream",
     "text": [
      "Training: 100%|██████████| 352/352 [00:57<00:00,  6.13it/s]\n",
      "Evaluating: 100%|██████████| 40/40 [00:03<00:00, 10.56it/s]\n"
     ]
    },
    {
     "name": "stdout",
     "output_type": "stream",
     "text": [
      "Train Loss: 0.1469, Acc: 0.9487, Top-5: 0.9995\n",
      "Val Loss: 0.3778, Acc: 0.8806, Top-5: 0.9966\n",
      "⚠️ No improvement for 2 epochs. Best accuracy: 0.8808\n",
      "Saved checkpoint to checkpoints/baseline/baseline_epoch_30.pth\n",
      "\n",
      "Epoch 31/100\n",
      "Learning rate: 0.001000\n"
     ]
    },
    {
     "name": "stderr",
     "output_type": "stream",
     "text": [
      "Training: 100%|██████████| 352/352 [00:58<00:00,  6.00it/s]\n",
      "Evaluating: 100%|██████████| 40/40 [00:03<00:00, 10.31it/s]\n"
     ]
    },
    {
     "name": "stdout",
     "output_type": "stream",
     "text": [
      "Train Loss: 0.0825, Acc: 0.9734, Top-5: 0.9999\n",
      "Val Loss: 0.2771, Acc: 0.9088, Top-5: 0.9976\n",
      "✅ Saved best model with validation accuracy: 0.9088 (improved by 0.0280)\n",
      "\n",
      "Epoch 32/100\n",
      "Learning rate: 0.001000\n"
     ]
    },
    {
     "name": "stderr",
     "output_type": "stream",
     "text": [
      "Training: 100%|██████████| 352/352 [00:58<00:00,  6.04it/s]\n",
      "Evaluating: 100%|██████████| 40/40 [00:03<00:00, 10.52it/s]\n"
     ]
    },
    {
     "name": "stdout",
     "output_type": "stream",
     "text": [
      "Train Loss: 0.0635, Acc: 0.9805, Top-5: 0.9999\n",
      "Val Loss: 0.2848, Acc: 0.9086, Top-5: 0.9968\n",
      "⚠️ No improvement for 1 epochs. Best accuracy: 0.9088\n",
      "\n",
      "Epoch 33/100\n",
      "Learning rate: 0.001000\n"
     ]
    },
    {
     "name": "stderr",
     "output_type": "stream",
     "text": [
      "Training: 100%|██████████| 352/352 [00:58<00:00,  6.05it/s]\n",
      "Evaluating: 100%|██████████| 40/40 [00:03<00:00, 11.83it/s]\n"
     ]
    },
    {
     "name": "stdout",
     "output_type": "stream",
     "text": [
      "Train Loss: 0.0565, Acc: 0.9829, Top-5: 0.9999\n",
      "Val Loss: 0.2690, Acc: 0.9160, Top-5: 0.9980\n",
      "✅ Saved best model with validation accuracy: 0.9160 (improved by 0.0072)\n",
      "\n",
      "Epoch 34/100\n",
      "Learning rate: 0.001000\n"
     ]
    },
    {
     "name": "stderr",
     "output_type": "stream",
     "text": [
      "Training: 100%|██████████| 352/352 [00:57<00:00,  6.11it/s]\n",
      "Evaluating: 100%|██████████| 40/40 [00:03<00:00, 11.72it/s]\n"
     ]
    },
    {
     "name": "stdout",
     "output_type": "stream",
     "text": [
      "Train Loss: 0.0520, Acc: 0.9853, Top-5: 1.0000\n",
      "Val Loss: 0.2835, Acc: 0.9096, Top-5: 0.9966\n",
      "⚠️ No improvement for 1 epochs. Best accuracy: 0.9160\n",
      "\n",
      "Epoch 35/100\n",
      "Learning rate: 0.001000\n"
     ]
    },
    {
     "name": "stderr",
     "output_type": "stream",
     "text": [
      "Training: 100%|██████████| 352/352 [00:59<00:00,  5.96it/s]\n",
      "Evaluating: 100%|██████████| 40/40 [00:03<00:00, 11.11it/s]\n"
     ]
    },
    {
     "name": "stdout",
     "output_type": "stream",
     "text": [
      "Train Loss: 0.0496, Acc: 0.9852, Top-5: 1.0000\n",
      "Val Loss: 0.2856, Acc: 0.9106, Top-5: 0.9978\n",
      "⚠️ No improvement for 2 epochs. Best accuracy: 0.9160\n",
      "\n",
      "Epoch 36/100\n",
      "Learning rate: 0.001000\n"
     ]
    },
    {
     "name": "stderr",
     "output_type": "stream",
     "text": [
      "Training: 100%|██████████| 352/352 [00:58<00:00,  6.02it/s]\n",
      "Evaluating: 100%|██████████| 40/40 [00:03<00:00, 10.13it/s]\n"
     ]
    },
    {
     "name": "stdout",
     "output_type": "stream",
     "text": [
      "Train Loss: 0.0443, Acc: 0.9877, Top-5: 1.0000\n",
      "Val Loss: 0.2709, Acc: 0.9118, Top-5: 0.9968\n",
      "⚠️ No improvement for 3 epochs. Best accuracy: 0.9160\n",
      "\n",
      "Epoch 37/100\n",
      "Learning rate: 0.001000\n"
     ]
    },
    {
     "name": "stderr",
     "output_type": "stream",
     "text": [
      "Training: 100%|██████████| 352/352 [00:59<00:00,  5.95it/s]\n",
      "Evaluating: 100%|██████████| 40/40 [00:03<00:00, 10.46it/s]\n"
     ]
    },
    {
     "name": "stdout",
     "output_type": "stream",
     "text": [
      "Train Loss: 0.0421, Acc: 0.9881, Top-5: 1.0000\n",
      "Val Loss: 0.2834, Acc: 0.9146, Top-5: 0.9982\n",
      "⚠️ No improvement for 4 epochs. Best accuracy: 0.9160\n",
      "\n",
      "Epoch 38/100\n",
      "Learning rate: 0.001000\n"
     ]
    },
    {
     "name": "stderr",
     "output_type": "stream",
     "text": [
      "Training: 100%|██████████| 352/352 [00:59<00:00,  5.91it/s]\n",
      "Evaluating: 100%|██████████| 40/40 [00:04<00:00,  9.83it/s]\n"
     ]
    },
    {
     "name": "stdout",
     "output_type": "stream",
     "text": [
      "Train Loss: 0.0416, Acc: 0.9878, Top-5: 1.0000\n",
      "Val Loss: 0.2903, Acc: 0.9140, Top-5: 0.9972\n",
      "⚠️ No improvement for 5 epochs. Best accuracy: 0.9160\n",
      "\n",
      "Epoch 39/100\n",
      "Learning rate: 0.001000\n"
     ]
    },
    {
     "name": "stderr",
     "output_type": "stream",
     "text": [
      "Training: 100%|██████████| 352/352 [00:59<00:00,  5.93it/s]\n",
      "Evaluating: 100%|██████████| 40/40 [00:04<00:00,  9.04it/s]\n"
     ]
    },
    {
     "name": "stdout",
     "output_type": "stream",
     "text": [
      "Train Loss: 0.0390, Acc: 0.9885, Top-5: 1.0000\n",
      "Val Loss: 0.2869, Acc: 0.9140, Top-5: 0.9982\n",
      "⚠️ No improvement for 6 epochs. Best accuracy: 0.9160\n",
      "\n",
      "Epoch 40/100\n",
      "Learning rate: 0.001000\n"
     ]
    },
    {
     "name": "stderr",
     "output_type": "stream",
     "text": [
      "Training: 100%|██████████| 352/352 [01:00<00:00,  5.83it/s]\n",
      "Evaluating: 100%|██████████| 40/40 [00:03<00:00, 10.80it/s]\n"
     ]
    },
    {
     "name": "stdout",
     "output_type": "stream",
     "text": [
      "Train Loss: 0.0361, Acc: 0.9902, Top-5: 1.0000\n",
      "Val Loss: 0.2803, Acc: 0.9142, Top-5: 0.9968\n",
      "⚠️ No improvement for 7 epochs. Best accuracy: 0.9160\n",
      "Saved checkpoint to checkpoints/baseline/baseline_epoch_40.pth\n",
      "\n",
      "Epoch 41/100\n",
      "Learning rate: 0.001000\n"
     ]
    },
    {
     "name": "stderr",
     "output_type": "stream",
     "text": [
      "Training: 100%|██████████| 352/352 [01:00<00:00,  5.83it/s]\n",
      "Evaluating: 100%|██████████| 40/40 [00:03<00:00, 10.76it/s]\n"
     ]
    },
    {
     "name": "stdout",
     "output_type": "stream",
     "text": [
      "Train Loss: 0.0357, Acc: 0.9900, Top-5: 1.0000\n",
      "Val Loss: 0.2708, Acc: 0.9190, Top-5: 0.9980\n",
      "✅ Saved best model with validation accuracy: 0.9190 (improved by 0.0030)\n",
      "\n",
      "Epoch 42/100\n",
      "Learning rate: 0.001000\n"
     ]
    },
    {
     "name": "stderr",
     "output_type": "stream",
     "text": [
      "Training: 100%|██████████| 352/352 [00:59<00:00,  5.93it/s]\n",
      "Evaluating: 100%|██████████| 40/40 [00:03<00:00, 10.26it/s]\n"
     ]
    },
    {
     "name": "stdout",
     "output_type": "stream",
     "text": [
      "Train Loss: 0.0341, Acc: 0.9904, Top-5: 1.0000\n",
      "Val Loss: 0.2943, Acc: 0.9132, Top-5: 0.9974\n",
      "⚠️ No improvement for 1 epochs. Best accuracy: 0.9190\n",
      "\n",
      "Epoch 43/100\n",
      "Learning rate: 0.001000\n"
     ]
    },
    {
     "name": "stderr",
     "output_type": "stream",
     "text": [
      "Training: 100%|██████████| 352/352 [01:00<00:00,  5.85it/s]\n",
      "Evaluating: 100%|██████████| 40/40 [00:04<00:00,  8.66it/s]\n"
     ]
    },
    {
     "name": "stdout",
     "output_type": "stream",
     "text": [
      "Train Loss: 0.0316, Acc: 0.9919, Top-5: 1.0000\n",
      "Val Loss: 0.2760, Acc: 0.9152, Top-5: 0.9980\n",
      "⚠️ No improvement for 2 epochs. Best accuracy: 0.9190\n",
      "\n",
      "Epoch 44/100\n",
      "Learning rate: 0.001000\n"
     ]
    },
    {
     "name": "stderr",
     "output_type": "stream",
     "text": [
      "Training: 100%|██████████| 352/352 [01:02<00:00,  5.65it/s]\n",
      "Evaluating: 100%|██████████| 40/40 [00:04<00:00,  9.64it/s]\n"
     ]
    },
    {
     "name": "stdout",
     "output_type": "stream",
     "text": [
      "Train Loss: 0.0314, Acc: 0.9918, Top-5: 1.0000\n",
      "Val Loss: 0.3023, Acc: 0.9160, Top-5: 0.9976\n",
      "⚠️ No improvement for 3 epochs. Best accuracy: 0.9190\n",
      "\n",
      "Epoch 45/100\n",
      "Learning rate: 0.001000\n"
     ]
    },
    {
     "name": "stderr",
     "output_type": "stream",
     "text": [
      "Training: 100%|██████████| 352/352 [00:59<00:00,  5.90it/s]\n",
      "Evaluating: 100%|██████████| 40/40 [00:04<00:00,  9.95it/s]\n"
     ]
    },
    {
     "name": "stdout",
     "output_type": "stream",
     "text": [
      "Train Loss: 0.0295, Acc: 0.9927, Top-5: 1.0000\n",
      "Val Loss: 0.2930, Acc: 0.9142, Top-5: 0.9972\n",
      "⚠️ No improvement for 4 epochs. Best accuracy: 0.9190\n",
      "\n",
      "Epoch 46/100\n",
      "Learning rate: 0.001000\n"
     ]
    },
    {
     "name": "stderr",
     "output_type": "stream",
     "text": [
      "Training: 100%|██████████| 352/352 [00:59<00:00,  5.92it/s]\n",
      "Evaluating: 100%|██████████| 40/40 [00:04<00:00,  9.24it/s]\n"
     ]
    },
    {
     "name": "stdout",
     "output_type": "stream",
     "text": [
      "Train Loss: 0.0291, Acc: 0.9926, Top-5: 1.0000\n",
      "Val Loss: 0.2918, Acc: 0.9176, Top-5: 0.9970\n",
      "⚠️ No improvement for 5 epochs. Best accuracy: 0.9190\n",
      "\n",
      "Epoch 47/100\n",
      "Learning rate: 0.001000\n"
     ]
    },
    {
     "name": "stderr",
     "output_type": "stream",
     "text": [
      "Training: 100%|██████████| 352/352 [00:59<00:00,  5.87it/s]\n",
      "Evaluating: 100%|██████████| 40/40 [00:02<00:00, 15.01it/s]\n"
     ]
    },
    {
     "name": "stdout",
     "output_type": "stream",
     "text": [
      "Train Loss: 0.0266, Acc: 0.9938, Top-5: 1.0000\n",
      "Val Loss: 0.2852, Acc: 0.9152, Top-5: 0.9984\n",
      "⚠️ No improvement for 6 epochs. Best accuracy: 0.9190\n",
      "\n",
      "Epoch 48/100\n",
      "Learning rate: 0.001000\n"
     ]
    },
    {
     "name": "stderr",
     "output_type": "stream",
     "text": [
      "Training: 100%|██████████| 352/352 [01:01<00:00,  5.76it/s]\n",
      "Evaluating: 100%|██████████| 40/40 [00:02<00:00, 13.90it/s]\n"
     ]
    },
    {
     "name": "stdout",
     "output_type": "stream",
     "text": [
      "Train Loss: 0.0268, Acc: 0.9932, Top-5: 1.0000\n",
      "Val Loss: 0.2902, Acc: 0.9174, Top-5: 0.9976\n",
      "⚠️ No improvement for 7 epochs. Best accuracy: 0.9190\n",
      "\n",
      "Epoch 49/100\n",
      "Learning rate: 0.001000\n"
     ]
    },
    {
     "name": "stderr",
     "output_type": "stream",
     "text": [
      "Training: 100%|██████████| 352/352 [01:01<00:00,  5.72it/s]\n",
      "Evaluating: 100%|██████████| 40/40 [00:04<00:00,  9.62it/s]\n"
     ]
    },
    {
     "name": "stdout",
     "output_type": "stream",
     "text": [
      "Train Loss: 0.0255, Acc: 0.9931, Top-5: 1.0000\n",
      "Val Loss: 0.2894, Acc: 0.9164, Top-5: 0.9980\n",
      "⚠️ No improvement for 8 epochs. Best accuracy: 0.9190\n",
      "\n",
      "Epoch 50/100\n",
      "Learning rate: 0.001000\n"
     ]
    },
    {
     "name": "stderr",
     "output_type": "stream",
     "text": [
      "Training: 100%|██████████| 352/352 [00:59<00:00,  5.93it/s]\n",
      "Evaluating: 100%|██████████| 40/40 [00:05<00:00,  7.71it/s]\n"
     ]
    },
    {
     "name": "stdout",
     "output_type": "stream",
     "text": [
      "Train Loss: 0.0241, Acc: 0.9941, Top-5: 1.0000\n",
      "Val Loss: 0.2895, Acc: 0.9162, Top-5: 0.9976\n",
      "⚠️ No improvement for 9 epochs. Best accuracy: 0.9190\n",
      "Saved checkpoint to checkpoints/baseline/baseline_epoch_50.pth\n",
      "\n",
      "Epoch 51/100\n",
      "Learning rate: 0.001000\n"
     ]
    },
    {
     "name": "stderr",
     "output_type": "stream",
     "text": [
      "Training: 100%|██████████| 352/352 [01:03<00:00,  5.57it/s]\n",
      "Evaluating: 100%|██████████| 40/40 [00:04<00:00,  9.70it/s]\n"
     ]
    },
    {
     "name": "stdout",
     "output_type": "stream",
     "text": [
      "Train Loss: 0.0236, Acc: 0.9942, Top-5: 1.0000\n",
      "Val Loss: 0.2925, Acc: 0.9196, Top-5: 0.9982\n",
      "✅ Saved best model with validation accuracy: 0.9196 (improved by 0.0006)\n",
      "\n",
      "Epoch 52/100\n",
      "Learning rate: 0.001000\n"
     ]
    },
    {
     "name": "stderr",
     "output_type": "stream",
     "text": [
      "Training: 100%|██████████| 352/352 [01:07<00:00,  5.24it/s]\n",
      "Evaluating: 100%|██████████| 40/40 [00:05<00:00,  7.95it/s]\n"
     ]
    },
    {
     "name": "stdout",
     "output_type": "stream",
     "text": [
      "Train Loss: 0.0230, Acc: 0.9941, Top-5: 1.0000\n",
      "Val Loss: 0.2986, Acc: 0.9160, Top-5: 0.9984\n",
      "⚠️ No improvement for 1 epochs. Best accuracy: 0.9196\n",
      "\n",
      "Epoch 53/100\n",
      "Learning rate: 0.001000\n"
     ]
    },
    {
     "name": "stderr",
     "output_type": "stream",
     "text": [
      "Training: 100%|██████████| 352/352 [01:20<00:00,  4.39it/s]\n",
      "Evaluating: 100%|██████████| 40/40 [00:05<00:00,  7.65it/s]\n"
     ]
    },
    {
     "name": "stdout",
     "output_type": "stream",
     "text": [
      "Train Loss: 0.0202, Acc: 0.9957, Top-5: 1.0000\n",
      "Val Loss: 0.2997, Acc: 0.9144, Top-5: 0.9970\n",
      "⚠️ No improvement for 2 epochs. Best accuracy: 0.9196\n",
      "\n",
      "Epoch 54/100\n",
      "Learning rate: 0.001000\n"
     ]
    },
    {
     "name": "stderr",
     "output_type": "stream",
     "text": [
      "Training: 100%|██████████| 352/352 [01:00<00:00,  5.77it/s]\n",
      "Evaluating: 100%|██████████| 40/40 [00:03<00:00, 10.15it/s]\n"
     ]
    },
    {
     "name": "stdout",
     "output_type": "stream",
     "text": [
      "Train Loss: 0.0210, Acc: 0.9951, Top-5: 1.0000\n",
      "Val Loss: 0.3052, Acc: 0.9158, Top-5: 0.9974\n",
      "⚠️ No improvement for 3 epochs. Best accuracy: 0.9196\n",
      "\n",
      "Epoch 55/100\n",
      "Learning rate: 0.001000\n"
     ]
    },
    {
     "name": "stderr",
     "output_type": "stream",
     "text": [
      "Training: 100%|██████████| 352/352 [00:59<00:00,  5.96it/s]\n",
      "Evaluating: 100%|██████████| 40/40 [00:03<00:00, 10.33it/s]\n"
     ]
    },
    {
     "name": "stdout",
     "output_type": "stream",
     "text": [
      "Train Loss: 0.0206, Acc: 0.9951, Top-5: 1.0000\n",
      "Val Loss: 0.3016, Acc: 0.9218, Top-5: 0.9974\n",
      "✅ Saved best model with validation accuracy: 0.9218 (improved by 0.0022)\n",
      "\n",
      "Epoch 56/100\n",
      "Learning rate: 0.001000\n"
     ]
    },
    {
     "name": "stderr",
     "output_type": "stream",
     "text": [
      "Training: 100%|██████████| 352/352 [00:59<00:00,  5.87it/s]\n",
      "Evaluating: 100%|██████████| 40/40 [00:03<00:00, 10.95it/s]\n"
     ]
    },
    {
     "name": "stdout",
     "output_type": "stream",
     "text": [
      "Train Loss: 0.0192, Acc: 0.9956, Top-5: 1.0000\n",
      "Val Loss: 0.3070, Acc: 0.9210, Top-5: 0.9976\n",
      "⚠️ No improvement for 1 epochs. Best accuracy: 0.9218\n",
      "\n",
      "Epoch 57/100\n",
      "Learning rate: 0.001000\n"
     ]
    },
    {
     "name": "stderr",
     "output_type": "stream",
     "text": [
      "Training: 100%|██████████| 352/352 [00:59<00:00,  5.92it/s]\n",
      "Evaluating: 100%|██████████| 40/40 [00:03<00:00, 10.41it/s]\n"
     ]
    },
    {
     "name": "stdout",
     "output_type": "stream",
     "text": [
      "Train Loss: 0.0203, Acc: 0.9949, Top-5: 1.0000\n",
      "Val Loss: 0.3187, Acc: 0.9132, Top-5: 0.9966\n",
      "⚠️ No improvement for 2 epochs. Best accuracy: 0.9218\n",
      "\n",
      "Epoch 58/100\n",
      "Learning rate: 0.001000\n"
     ]
    },
    {
     "name": "stderr",
     "output_type": "stream",
     "text": [
      "Training: 100%|██████████| 352/352 [01:01<00:00,  5.73it/s]\n",
      "Evaluating: 100%|██████████| 40/40 [00:04<00:00,  9.79it/s]\n"
     ]
    },
    {
     "name": "stdout",
     "output_type": "stream",
     "text": [
      "Train Loss: 0.0181, Acc: 0.9961, Top-5: 1.0000\n",
      "Val Loss: 0.3007, Acc: 0.9184, Top-5: 0.9968\n",
      "⚠️ No improvement for 3 epochs. Best accuracy: 0.9218\n",
      "\n",
      "Epoch 59/100\n",
      "Learning rate: 0.001000\n"
     ]
    },
    {
     "name": "stderr",
     "output_type": "stream",
     "text": [
      "Training: 100%|██████████| 352/352 [00:59<00:00,  5.92it/s]\n",
      "Evaluating: 100%|██████████| 40/40 [00:04<00:00,  9.24it/s]\n"
     ]
    },
    {
     "name": "stdout",
     "output_type": "stream",
     "text": [
      "Train Loss: 0.0172, Acc: 0.9963, Top-5: 1.0000\n",
      "Val Loss: 0.2879, Acc: 0.9212, Top-5: 0.9974\n",
      "⚠️ No improvement for 4 epochs. Best accuracy: 0.9218\n",
      "\n",
      "Epoch 60/100\n",
      "Learning rate: 0.001000\n"
     ]
    },
    {
     "name": "stderr",
     "output_type": "stream",
     "text": [
      "Training: 100%|██████████| 352/352 [00:59<00:00,  5.90it/s]\n",
      "Evaluating: 100%|██████████| 40/40 [00:03<00:00, 10.10it/s]\n"
     ]
    },
    {
     "name": "stdout",
     "output_type": "stream",
     "text": [
      "Train Loss: 0.0176, Acc: 0.9963, Top-5: 1.0000\n",
      "Val Loss: 0.3140, Acc: 0.9210, Top-5: 0.9962\n",
      "⚠️ No improvement for 5 epochs. Best accuracy: 0.9218\n",
      "Saved checkpoint to checkpoints/baseline/baseline_epoch_60.pth\n",
      "\n",
      "Epoch 61/100\n",
      "Learning rate: 0.000100\n"
     ]
    },
    {
     "name": "stderr",
     "output_type": "stream",
     "text": [
      "Training: 100%|██████████| 352/352 [00:59<00:00,  5.94it/s]\n",
      "Evaluating: 100%|██████████| 40/40 [00:04<00:00,  9.82it/s]\n"
     ]
    },
    {
     "name": "stdout",
     "output_type": "stream",
     "text": [
      "Train Loss: 0.0164, Acc: 0.9968, Top-5: 1.0000\n",
      "Val Loss: 0.3071, Acc: 0.9192, Top-5: 0.9982\n",
      "⚠️ No improvement for 6 epochs. Best accuracy: 0.9218\n",
      "\n",
      "Epoch 62/100\n",
      "Learning rate: 0.000100\n"
     ]
    },
    {
     "name": "stderr",
     "output_type": "stream",
     "text": [
      "Training: 100%|██████████| 352/352 [01:03<00:00,  5.55it/s]\n",
      "Evaluating: 100%|██████████| 40/40 [00:04<00:00,  9.66it/s]\n"
     ]
    },
    {
     "name": "stdout",
     "output_type": "stream",
     "text": [
      "Train Loss: 0.0159, Acc: 0.9964, Top-5: 1.0000\n",
      "Val Loss: 0.3094, Acc: 0.9160, Top-5: 0.9972\n",
      "⚠️ No improvement for 7 epochs. Best accuracy: 0.9218\n",
      "\n",
      "Epoch 63/100\n",
      "Learning rate: 0.000100\n"
     ]
    },
    {
     "name": "stderr",
     "output_type": "stream",
     "text": [
      "Training: 100%|██████████| 352/352 [01:02<00:00,  5.63it/s]\n",
      "Evaluating: 100%|██████████| 40/40 [00:02<00:00, 13.35it/s]\n"
     ]
    },
    {
     "name": "stdout",
     "output_type": "stream",
     "text": [
      "Train Loss: 0.0149, Acc: 0.9975, Top-5: 1.0000\n",
      "Val Loss: 0.2957, Acc: 0.9192, Top-5: 0.9970\n",
      "⚠️ No improvement for 8 epochs. Best accuracy: 0.9218\n",
      "\n",
      "Epoch 64/100\n",
      "Learning rate: 0.000100\n"
     ]
    },
    {
     "name": "stderr",
     "output_type": "stream",
     "text": [
      "Training: 100%|██████████| 352/352 [00:59<00:00,  5.92it/s]\n",
      "Evaluating: 100%|██████████| 40/40 [00:02<00:00, 17.00it/s]\n"
     ]
    },
    {
     "name": "stdout",
     "output_type": "stream",
     "text": [
      "Train Loss: 0.0157, Acc: 0.9970, Top-5: 1.0000\n",
      "Val Loss: 0.2973, Acc: 0.9180, Top-5: 0.9984\n",
      "⚠️ No improvement for 9 epochs. Best accuracy: 0.9218\n",
      "\n",
      "Epoch 65/100\n",
      "Learning rate: 0.000100\n"
     ]
    },
    {
     "name": "stderr",
     "output_type": "stream",
     "text": [
      "Training: 100%|██████████| 352/352 [00:59<00:00,  5.87it/s]\n",
      "Evaluating: 100%|██████████| 40/40 [00:03<00:00, 13.16it/s]\n"
     ]
    },
    {
     "name": "stdout",
     "output_type": "stream",
     "text": [
      "Train Loss: 0.0152, Acc: 0.9971, Top-5: 1.0000\n",
      "Val Loss: 0.2909, Acc: 0.9228, Top-5: 0.9976\n",
      "✅ Saved best model with validation accuracy: 0.9228 (improved by 0.0010)\n",
      "\n",
      "Epoch 66/100\n",
      "Learning rate: 0.000100\n"
     ]
    },
    {
     "name": "stderr",
     "output_type": "stream",
     "text": [
      "Training: 100%|██████████| 352/352 [00:58<00:00,  5.98it/s]\n",
      "Evaluating: 100%|██████████| 40/40 [00:03<00:00, 10.46it/s]\n"
     ]
    },
    {
     "name": "stdout",
     "output_type": "stream",
     "text": [
      "Train Loss: 0.0148, Acc: 0.9973, Top-5: 1.0000\n",
      "Val Loss: 0.2890, Acc: 0.9204, Top-5: 0.9982\n",
      "⚠️ No improvement for 1 epochs. Best accuracy: 0.9228\n",
      "\n",
      "Epoch 67/100\n",
      "Learning rate: 0.000100\n"
     ]
    },
    {
     "name": "stderr",
     "output_type": "stream",
     "text": [
      "Training: 100%|██████████| 352/352 [00:59<00:00,  5.92it/s]\n",
      "Evaluating: 100%|██████████| 40/40 [00:03<00:00, 11.77it/s]\n"
     ]
    },
    {
     "name": "stdout",
     "output_type": "stream",
     "text": [
      "Train Loss: 0.0154, Acc: 0.9971, Top-5: 1.0000\n",
      "Val Loss: 0.3010, Acc: 0.9204, Top-5: 0.9970\n",
      "⚠️ No improvement for 2 epochs. Best accuracy: 0.9228\n",
      "\n",
      "Epoch 68/100\n",
      "Learning rate: 0.000100\n"
     ]
    },
    {
     "name": "stderr",
     "output_type": "stream",
     "text": [
      "Training: 100%|██████████| 352/352 [00:59<00:00,  5.95it/s]\n",
      "Evaluating: 100%|██████████| 40/40 [00:04<00:00,  9.42it/s]\n"
     ]
    },
    {
     "name": "stdout",
     "output_type": "stream",
     "text": [
      "Train Loss: 0.0155, Acc: 0.9966, Top-5: 1.0000\n",
      "Val Loss: 0.2934, Acc: 0.9200, Top-5: 0.9970\n",
      "⚠️ No improvement for 3 epochs. Best accuracy: 0.9228\n",
      "\n",
      "Epoch 69/100\n",
      "Learning rate: 0.000100\n"
     ]
    },
    {
     "name": "stderr",
     "output_type": "stream",
     "text": [
      "Training: 100%|██████████| 352/352 [00:58<00:00,  6.01it/s]\n",
      "Evaluating: 100%|██████████| 40/40 [00:03<00:00, 10.32it/s]\n"
     ]
    },
    {
     "name": "stdout",
     "output_type": "stream",
     "text": [
      "Train Loss: 0.0148, Acc: 0.9972, Top-5: 1.0000\n",
      "Val Loss: 0.3015, Acc: 0.9182, Top-5: 0.9972\n",
      "⚠️ No improvement for 4 epochs. Best accuracy: 0.9228\n",
      "\n",
      "Epoch 70/100\n",
      "Learning rate: 0.000100\n"
     ]
    },
    {
     "name": "stderr",
     "output_type": "stream",
     "text": [
      "Training: 100%|██████████| 352/352 [00:58<00:00,  6.01it/s]\n",
      "Evaluating: 100%|██████████| 40/40 [00:03<00:00, 10.09it/s]\n"
     ]
    },
    {
     "name": "stdout",
     "output_type": "stream",
     "text": [
      "Train Loss: 0.0149, Acc: 0.9973, Top-5: 1.0000\n",
      "Val Loss: 0.2935, Acc: 0.9242, Top-5: 0.9980\n",
      "✅ Saved best model with validation accuracy: 0.9242 (improved by 0.0014)\n",
      "Saved checkpoint to checkpoints/baseline/baseline_epoch_70.pth\n",
      "\n",
      "Epoch 71/100\n",
      "Learning rate: 0.000100\n"
     ]
    },
    {
     "name": "stderr",
     "output_type": "stream",
     "text": [
      "Training: 100%|██████████| 352/352 [00:58<00:00,  6.01it/s]\n",
      "Evaluating: 100%|██████████| 40/40 [00:03<00:00, 10.46it/s]\n"
     ]
    },
    {
     "name": "stdout",
     "output_type": "stream",
     "text": [
      "Train Loss: 0.0151, Acc: 0.9970, Top-5: 1.0000\n",
      "Val Loss: 0.3056, Acc: 0.9202, Top-5: 0.9972\n",
      "⚠️ No improvement for 1 epochs. Best accuracy: 0.9242\n",
      "\n",
      "Epoch 72/100\n",
      "Learning rate: 0.000100\n"
     ]
    },
    {
     "name": "stderr",
     "output_type": "stream",
     "text": [
      "Training: 100%|██████████| 352/352 [00:59<00:00,  5.94it/s]\n",
      "Evaluating: 100%|██████████| 40/40 [00:04<00:00,  9.51it/s]\n"
     ]
    },
    {
     "name": "stdout",
     "output_type": "stream",
     "text": [
      "Train Loss: 0.0150, Acc: 0.9969, Top-5: 1.0000\n",
      "Val Loss: 0.3019, Acc: 0.9184, Top-5: 0.9974\n",
      "⚠️ No improvement for 2 epochs. Best accuracy: 0.9242\n",
      "\n",
      "Epoch 73/100\n",
      "Learning rate: 0.000100\n"
     ]
    },
    {
     "name": "stderr",
     "output_type": "stream",
     "text": [
      "Training: 100%|██████████| 352/352 [00:59<00:00,  5.95it/s]\n",
      "Evaluating: 100%|██████████| 40/40 [00:03<00:00, 10.04it/s]\n"
     ]
    },
    {
     "name": "stdout",
     "output_type": "stream",
     "text": [
      "Train Loss: 0.0141, Acc: 0.9973, Top-5: 1.0000\n",
      "Val Loss: 0.3071, Acc: 0.9210, Top-5: 0.9968\n",
      "⚠️ No improvement for 3 epochs. Best accuracy: 0.9242\n",
      "\n",
      "Epoch 74/100\n",
      "Learning rate: 0.000100\n"
     ]
    },
    {
     "name": "stderr",
     "output_type": "stream",
     "text": [
      "Training: 100%|██████████| 352/352 [00:58<00:00,  6.00it/s]\n",
      "Evaluating: 100%|██████████| 40/40 [00:03<00:00, 11.24it/s]\n"
     ]
    },
    {
     "name": "stdout",
     "output_type": "stream",
     "text": [
      "Train Loss: 0.0146, Acc: 0.9975, Top-5: 1.0000\n",
      "Val Loss: 0.2927, Acc: 0.9228, Top-5: 0.9982\n",
      "⚠️ No improvement for 4 epochs. Best accuracy: 0.9242\n",
      "\n",
      "Epoch 75/100\n",
      "Learning rate: 0.000100\n"
     ]
    },
    {
     "name": "stderr",
     "output_type": "stream",
     "text": [
      "Training: 100%|██████████| 352/352 [00:58<00:00,  6.02it/s]\n",
      "Evaluating: 100%|██████████| 40/40 [00:03<00:00, 11.78it/s]\n"
     ]
    },
    {
     "name": "stdout",
     "output_type": "stream",
     "text": [
      "Train Loss: 0.0142, Acc: 0.9976, Top-5: 1.0000\n",
      "Val Loss: 0.3059, Acc: 0.9226, Top-5: 0.9972\n",
      "⚠️ No improvement for 5 epochs. Best accuracy: 0.9242\n",
      "\n",
      "Epoch 76/100\n",
      "Learning rate: 0.000100\n"
     ]
    },
    {
     "name": "stderr",
     "output_type": "stream",
     "text": [
      "Training: 100%|██████████| 352/352 [00:57<00:00,  6.07it/s]\n",
      "Evaluating: 100%|██████████| 40/40 [00:03<00:00, 11.82it/s]\n"
     ]
    },
    {
     "name": "stdout",
     "output_type": "stream",
     "text": [
      "Train Loss: 0.0137, Acc: 0.9978, Top-5: 1.0000\n",
      "Val Loss: 0.2955, Acc: 0.9218, Top-5: 0.9978\n",
      "⚠️ No improvement for 6 epochs. Best accuracy: 0.9242\n",
      "\n",
      "Epoch 77/100\n",
      "Learning rate: 0.000100\n"
     ]
    },
    {
     "name": "stderr",
     "output_type": "stream",
     "text": [
      "Training: 100%|██████████| 352/352 [00:58<00:00,  5.97it/s]\n",
      "Evaluating: 100%|██████████| 40/40 [00:04<00:00,  9.89it/s]\n"
     ]
    },
    {
     "name": "stdout",
     "output_type": "stream",
     "text": [
      "Train Loss: 0.0145, Acc: 0.9973, Top-5: 1.0000\n",
      "Val Loss: 0.3157, Acc: 0.9166, Top-5: 0.9972\n",
      "⚠️ No improvement for 7 epochs. Best accuracy: 0.9242\n",
      "\n",
      "Epoch 78/100\n",
      "Learning rate: 0.000100\n"
     ]
    },
    {
     "name": "stderr",
     "output_type": "stream",
     "text": [
      "Training: 100%|██████████| 352/352 [00:59<00:00,  5.96it/s]\n",
      "Evaluating: 100%|██████████| 40/40 [00:04<00:00,  9.93it/s]\n"
     ]
    },
    {
     "name": "stdout",
     "output_type": "stream",
     "text": [
      "Train Loss: 0.0140, Acc: 0.9976, Top-5: 1.0000\n",
      "Val Loss: 0.3050, Acc: 0.9214, Top-5: 0.9976\n",
      "⚠️ No improvement for 8 epochs. Best accuracy: 0.9242\n",
      "\n",
      "Epoch 79/100\n",
      "Learning rate: 0.000100\n"
     ]
    },
    {
     "name": "stderr",
     "output_type": "stream",
     "text": [
      "Training: 100%|██████████| 352/352 [00:58<00:00,  6.02it/s]\n",
      "Evaluating: 100%|██████████| 40/40 [00:03<00:00, 11.66it/s]\n"
     ]
    },
    {
     "name": "stdout",
     "output_type": "stream",
     "text": [
      "Train Loss: 0.0148, Acc: 0.9972, Top-5: 1.0000\n",
      "Val Loss: 0.3055, Acc: 0.9184, Top-5: 0.9978\n",
      "⚠️ No improvement for 9 epochs. Best accuracy: 0.9242\n",
      "\n",
      "Epoch 80/100\n",
      "Learning rate: 0.000100\n"
     ]
    },
    {
     "name": "stderr",
     "output_type": "stream",
     "text": [
      "Training: 100%|██████████| 352/352 [00:58<00:00,  6.04it/s]\n",
      "Evaluating: 100%|██████████| 40/40 [00:03<00:00, 11.13it/s]\n"
     ]
    },
    {
     "name": "stdout",
     "output_type": "stream",
     "text": [
      "Train Loss: 0.0135, Acc: 0.9977, Top-5: 1.0000\n",
      "Val Loss: 0.2977, Acc: 0.9168, Top-5: 0.9980\n",
      "⚠️ No improvement for 10 epochs. Best accuracy: 0.9242\n",
      "Saved checkpoint to checkpoints/baseline/baseline_epoch_80.pth\n",
      "\n",
      "Epoch 81/100\n",
      "Learning rate: 0.000100\n"
     ]
    },
    {
     "name": "stderr",
     "output_type": "stream",
     "text": [
      "Training: 100%|██████████| 352/352 [00:59<00:00,  5.90it/s]\n",
      "Evaluating: 100%|██████████| 40/40 [00:04<00:00,  9.10it/s]\n"
     ]
    },
    {
     "name": "stdout",
     "output_type": "stream",
     "text": [
      "Train Loss: 0.0143, Acc: 0.9972, Top-5: 1.0000\n",
      "Val Loss: 0.3116, Acc: 0.9158, Top-5: 0.9976\n",
      "⚠️ No improvement for 11 epochs. Best accuracy: 0.9242\n",
      "\n",
      "Epoch 82/100\n",
      "Learning rate: 0.000100\n"
     ]
    },
    {
     "name": "stderr",
     "output_type": "stream",
     "text": [
      "Training: 100%|██████████| 352/352 [00:58<00:00,  6.00it/s]\n",
      "Evaluating: 100%|██████████| 40/40 [00:04<00:00,  9.27it/s]\n"
     ]
    },
    {
     "name": "stdout",
     "output_type": "stream",
     "text": [
      "Train Loss: 0.0138, Acc: 0.9974, Top-5: 1.0000\n",
      "Val Loss: 0.2980, Acc: 0.9196, Top-5: 0.9976\n",
      "⚠️ No improvement for 12 epochs. Best accuracy: 0.9242\n",
      "\n",
      "Epoch 83/100\n",
      "Learning rate: 0.000100\n"
     ]
    },
    {
     "name": "stderr",
     "output_type": "stream",
     "text": [
      "Training: 100%|██████████| 352/352 [00:58<00:00,  5.98it/s]\n",
      "Evaluating: 100%|██████████| 40/40 [00:03<00:00, 10.31it/s]\n"
     ]
    },
    {
     "name": "stdout",
     "output_type": "stream",
     "text": [
      "Train Loss: 0.0139, Acc: 0.9974, Top-5: 1.0000\n",
      "Val Loss: 0.2972, Acc: 0.9216, Top-5: 0.9978\n",
      "⚠️ No improvement for 13 epochs. Best accuracy: 0.9242\n",
      "\n",
      "Epoch 84/100\n",
      "Learning rate: 0.000100\n"
     ]
    },
    {
     "name": "stderr",
     "output_type": "stream",
     "text": [
      "Training: 100%|██████████| 352/352 [00:58<00:00,  6.03it/s]\n",
      "Evaluating: 100%|██████████| 40/40 [00:03<00:00, 10.75it/s]\n"
     ]
    },
    {
     "name": "stdout",
     "output_type": "stream",
     "text": [
      "Train Loss: 0.0141, Acc: 0.9975, Top-5: 1.0000\n",
      "Val Loss: 0.3185, Acc: 0.9170, Top-5: 0.9974\n",
      "⚠️ No improvement for 14 epochs. Best accuracy: 0.9242\n",
      "\n",
      "Epoch 85/100\n",
      "Learning rate: 0.000100\n"
     ]
    },
    {
     "name": "stderr",
     "output_type": "stream",
     "text": [
      "Training: 100%|██████████| 352/352 [00:58<00:00,  6.05it/s]\n",
      "Evaluating: 100%|██████████| 40/40 [00:03<00:00, 10.18it/s]\n"
     ]
    },
    {
     "name": "stdout",
     "output_type": "stream",
     "text": [
      "Train Loss: 0.0137, Acc: 0.9975, Top-5: 1.0000\n",
      "Val Loss: 0.3098, Acc: 0.9192, Top-5: 0.9968\n",
      "⚠️ No improvement for 15 epochs. Best accuracy: 0.9242\n",
      "⛔ Early stopping triggered after 85 epochs\n",
      "Training completed. Best validation accuracy: 0.9242\n"
     ]
    }
   ],
   "source": [
    "# 5.1 Train Baseline CNN\n",
    "print(\"=== Training Baseline CNN ===\")\n",
    "baseline_model = DeepResNet18(num_classes=10)\n",
    "baseline_model, baseline_history = train_model(\n",
    "    baseline_model, trainloader, valloader, \n",
    "    \"baseline\", config, device\n",
    ")"
   ]
  },
  {
   "cell_type": "code",
   "execution_count": 18,
   "metadata": {},
   "outputs": [],
   "source": [
    "import time\n",
    "\n",
    "# Wait for 1 minute\n",
    "time.sleep(120)"
   ]
  },
  {
   "cell_type": "code",
   "execution_count": 19,
   "metadata": {},
   "outputs": [
    {
     "name": "stdout",
     "output_type": "stream",
     "text": [
      "=== Training SE-Block CNN ===\n",
      "Training se on cuda\n",
      "Total parameters: 11,261,002\n",
      "Using SGD optimizer with momentum=0.9\n",
      "Starting training for 100 epochs\n",
      "\n",
      "Epoch 1/100\n",
      "Learning rate: 0.010000\n"
     ]
    },
    {
     "name": "stderr",
     "output_type": "stream",
     "text": [
      "Training: 100%|██████████| 352/352 [01:01<00:00,  5.77it/s]\n",
      "Evaluating: 100%|██████████| 40/40 [00:02<00:00, 15.05it/s]\n"
     ]
    },
    {
     "name": "stdout",
     "output_type": "stream",
     "text": [
      "Train Loss: 1.6835, Acc: 0.3640, Top-5: 0.8644\n",
      "Val Loss: 1.5450, Acc: 0.4356, Top-5: 0.9148\n",
      "✅ Saved best model with validation accuracy: 0.4356 (improved by 0.4356)\n",
      "\n",
      "Epoch 2/100\n",
      "Learning rate: 0.010000\n"
     ]
    },
    {
     "name": "stderr",
     "output_type": "stream",
     "text": [
      "Training: 100%|██████████| 352/352 [01:01<00:00,  5.73it/s]\n",
      "Evaluating: 100%|██████████| 40/40 [00:03<00:00, 10.51it/s]\n"
     ]
    },
    {
     "name": "stdout",
     "output_type": "stream",
     "text": [
      "Train Loss: 1.2615, Acc: 0.5394, Top-5: 0.9457\n",
      "Val Loss: 1.1588, Acc: 0.5852, Top-5: 0.9550\n",
      "✅ Saved best model with validation accuracy: 0.5852 (improved by 0.1496)\n",
      "\n",
      "Epoch 3/100\n",
      "Learning rate: 0.010000\n"
     ]
    },
    {
     "name": "stderr",
     "output_type": "stream",
     "text": [
      "Training: 100%|██████████| 352/352 [01:01<00:00,  5.73it/s]\n",
      "Evaluating: 100%|██████████| 40/40 [00:03<00:00, 10.13it/s]\n"
     ]
    },
    {
     "name": "stdout",
     "output_type": "stream",
     "text": [
      "Train Loss: 1.0228, Acc: 0.6358, Top-5: 0.9653\n",
      "Val Loss: 1.0551, Acc: 0.6202, Top-5: 0.9614\n",
      "✅ Saved best model with validation accuracy: 0.6202 (improved by 0.0350)\n",
      "\n",
      "Epoch 4/100\n",
      "Learning rate: 0.010000\n"
     ]
    },
    {
     "name": "stderr",
     "output_type": "stream",
     "text": [
      "Training: 100%|██████████| 352/352 [01:03<00:00,  5.58it/s]\n",
      "Evaluating: 100%|██████████| 40/40 [00:03<00:00, 10.57it/s]\n"
     ]
    },
    {
     "name": "stdout",
     "output_type": "stream",
     "text": [
      "Train Loss: 0.8916, Acc: 0.6840, Top-5: 0.9747\n",
      "Val Loss: 0.8888, Acc: 0.6796, Top-5: 0.9728\n",
      "✅ Saved best model with validation accuracy: 0.6796 (improved by 0.0594)\n",
      "\n",
      "Epoch 5/100\n",
      "Learning rate: 0.010000\n"
     ]
    },
    {
     "name": "stderr",
     "output_type": "stream",
     "text": [
      "Training: 100%|██████████| 352/352 [01:03<00:00,  5.54it/s]\n",
      "Evaluating: 100%|██████████| 40/40 [00:04<00:00,  9.16it/s]\n"
     ]
    },
    {
     "name": "stdout",
     "output_type": "stream",
     "text": [
      "Train Loss: 0.7788, Acc: 0.7251, Top-5: 0.9815\n",
      "Val Loss: 0.7983, Acc: 0.7118, Top-5: 0.9792\n",
      "✅ Saved best model with validation accuracy: 0.7118 (improved by 0.0322)\n",
      "\n",
      "Epoch 6/100\n",
      "Learning rate: 0.010000\n"
     ]
    },
    {
     "name": "stderr",
     "output_type": "stream",
     "text": [
      "Training: 100%|██████████| 352/352 [01:02<00:00,  5.60it/s]\n",
      "Evaluating: 100%|██████████| 40/40 [00:04<00:00,  9.59it/s]\n"
     ]
    },
    {
     "name": "stdout",
     "output_type": "stream",
     "text": [
      "Train Loss: 0.6925, Acc: 0.7559, Top-5: 0.9853\n",
      "Val Loss: 0.7166, Acc: 0.7486, Top-5: 0.9856\n",
      "✅ Saved best model with validation accuracy: 0.7486 (improved by 0.0368)\n",
      "\n",
      "Epoch 7/100\n",
      "Learning rate: 0.010000\n"
     ]
    },
    {
     "name": "stderr",
     "output_type": "stream",
     "text": [
      "Training: 100%|██████████| 352/352 [01:03<00:00,  5.59it/s]\n",
      "Evaluating: 100%|██████████| 40/40 [00:03<00:00, 10.86it/s]\n"
     ]
    },
    {
     "name": "stdout",
     "output_type": "stream",
     "text": [
      "Train Loss: 0.6281, Acc: 0.7788, Top-5: 0.9884\n",
      "Val Loss: 0.7680, Acc: 0.7300, Top-5: 0.9822\n",
      "⚠️ No improvement for 1 epochs. Best accuracy: 0.7486\n",
      "\n",
      "Epoch 8/100\n",
      "Learning rate: 0.010000\n"
     ]
    },
    {
     "name": "stderr",
     "output_type": "stream",
     "text": [
      "Training: 100%|██████████| 352/352 [01:03<00:00,  5.55it/s]\n",
      "Evaluating: 100%|██████████| 40/40 [00:03<00:00, 12.88it/s]\n"
     ]
    },
    {
     "name": "stdout",
     "output_type": "stream",
     "text": [
      "Train Loss: 0.5717, Acc: 0.8008, Top-5: 0.9904\n",
      "Val Loss: 0.6192, Acc: 0.7818, Top-5: 0.9908\n",
      "✅ Saved best model with validation accuracy: 0.7818 (improved by 0.0332)\n",
      "\n",
      "Epoch 9/100\n",
      "Learning rate: 0.010000\n"
     ]
    },
    {
     "name": "stderr",
     "output_type": "stream",
     "text": [
      "Training: 100%|██████████| 352/352 [01:04<00:00,  5.50it/s]\n",
      "Evaluating: 100%|██████████| 40/40 [00:03<00:00, 10.78it/s]\n"
     ]
    },
    {
     "name": "stdout",
     "output_type": "stream",
     "text": [
      "Train Loss: 0.5263, Acc: 0.8173, Top-5: 0.9908\n",
      "Val Loss: 0.6097, Acc: 0.7922, Top-5: 0.9860\n",
      "✅ Saved best model with validation accuracy: 0.7922 (improved by 0.0104)\n",
      "\n",
      "Epoch 10/100\n",
      "Learning rate: 0.010000\n"
     ]
    },
    {
     "name": "stderr",
     "output_type": "stream",
     "text": [
      "Training: 100%|██████████| 352/352 [01:04<00:00,  5.48it/s]\n",
      "Evaluating: 100%|██████████| 40/40 [00:03<00:00, 11.50it/s]\n"
     ]
    },
    {
     "name": "stdout",
     "output_type": "stream",
     "text": [
      "Train Loss: 0.4896, Acc: 0.8314, Top-5: 0.9927\n",
      "Val Loss: 0.6394, Acc: 0.7830, Top-5: 0.9890\n",
      "⚠️ No improvement for 1 epochs. Best accuracy: 0.7922\n",
      "Saved checkpoint to checkpoints/se/se_epoch_10.pth\n",
      "\n",
      "Epoch 11/100\n",
      "Learning rate: 0.010000\n"
     ]
    },
    {
     "name": "stderr",
     "output_type": "stream",
     "text": [
      "Training: 100%|██████████| 352/352 [01:03<00:00,  5.56it/s]\n",
      "Evaluating: 100%|██████████| 40/40 [00:03<00:00, 10.38it/s]\n"
     ]
    },
    {
     "name": "stdout",
     "output_type": "stream",
     "text": [
      "Train Loss: 0.4572, Acc: 0.8415, Top-5: 0.9937\n",
      "Val Loss: 0.5285, Acc: 0.8136, Top-5: 0.9924\n",
      "✅ Saved best model with validation accuracy: 0.8136 (improved by 0.0214)\n",
      "\n",
      "Epoch 12/100\n",
      "Learning rate: 0.010000\n"
     ]
    },
    {
     "name": "stderr",
     "output_type": "stream",
     "text": [
      "Training: 100%|██████████| 352/352 [01:03<00:00,  5.54it/s]\n",
      "Evaluating: 100%|██████████| 40/40 [00:04<00:00,  9.81it/s]\n"
     ]
    },
    {
     "name": "stdout",
     "output_type": "stream",
     "text": [
      "Train Loss: 0.4330, Acc: 0.8512, Top-5: 0.9940\n",
      "Val Loss: 0.5150, Acc: 0.8206, Top-5: 0.9922\n",
      "✅ Saved best model with validation accuracy: 0.8206 (improved by 0.0070)\n",
      "\n",
      "Epoch 13/100\n",
      "Learning rate: 0.010000\n"
     ]
    },
    {
     "name": "stderr",
     "output_type": "stream",
     "text": [
      "Training: 100%|██████████| 352/352 [01:03<00:00,  5.51it/s]\n",
      "Evaluating: 100%|██████████| 40/40 [00:03<00:00, 10.88it/s]\n"
     ]
    },
    {
     "name": "stdout",
     "output_type": "stream",
     "text": [
      "Train Loss: 0.4032, Acc: 0.8589, Top-5: 0.9949\n",
      "Val Loss: 0.5058, Acc: 0.8226, Top-5: 0.9928\n",
      "✅ Saved best model with validation accuracy: 0.8226 (improved by 0.0020)\n",
      "\n",
      "Epoch 14/100\n",
      "Learning rate: 0.010000\n"
     ]
    },
    {
     "name": "stderr",
     "output_type": "stream",
     "text": [
      "Training: 100%|██████████| 352/352 [01:04<00:00,  5.49it/s]\n",
      "Evaluating: 100%|██████████| 40/40 [00:03<00:00, 12.58it/s]\n"
     ]
    },
    {
     "name": "stdout",
     "output_type": "stream",
     "text": [
      "Train Loss: 0.3787, Acc: 0.8681, Top-5: 0.9955\n",
      "Val Loss: 0.5342, Acc: 0.8096, Top-5: 0.9926\n",
      "⚠️ No improvement for 1 epochs. Best accuracy: 0.8226\n",
      "\n",
      "Epoch 15/100\n",
      "Learning rate: 0.010000\n"
     ]
    },
    {
     "name": "stderr",
     "output_type": "stream",
     "text": [
      "Training: 100%|██████████| 352/352 [01:04<00:00,  5.48it/s]\n",
      "Evaluating: 100%|██████████| 40/40 [00:04<00:00,  9.71it/s]\n"
     ]
    },
    {
     "name": "stdout",
     "output_type": "stream",
     "text": [
      "Train Loss: 0.3605, Acc: 0.8745, Top-5: 0.9960\n",
      "Val Loss: 0.4209, Acc: 0.8564, Top-5: 0.9944\n",
      "✅ Saved best model with validation accuracy: 0.8564 (improved by 0.0338)\n",
      "\n",
      "Epoch 16/100\n",
      "Learning rate: 0.010000\n"
     ]
    },
    {
     "name": "stderr",
     "output_type": "stream",
     "text": [
      "Training: 100%|██████████| 352/352 [01:03<00:00,  5.52it/s]\n",
      "Evaluating: 100%|██████████| 40/40 [00:03<00:00, 11.42it/s]\n"
     ]
    },
    {
     "name": "stdout",
     "output_type": "stream",
     "text": [
      "Train Loss: 0.3391, Acc: 0.8826, Top-5: 0.9960\n",
      "Val Loss: 0.5207, Acc: 0.8230, Top-5: 0.9908\n",
      "⚠️ No improvement for 1 epochs. Best accuracy: 0.8564\n",
      "\n",
      "Epoch 17/100\n",
      "Learning rate: 0.010000\n"
     ]
    },
    {
     "name": "stderr",
     "output_type": "stream",
     "text": [
      "Training: 100%|██████████| 352/352 [01:04<00:00,  5.45it/s]\n",
      "Evaluating: 100%|██████████| 40/40 [00:04<00:00,  9.22it/s]\n"
     ]
    },
    {
     "name": "stdout",
     "output_type": "stream",
     "text": [
      "Train Loss: 0.3248, Acc: 0.8864, Top-5: 0.9968\n",
      "Val Loss: 0.5587, Acc: 0.8120, Top-5: 0.9938\n",
      "⚠️ No improvement for 2 epochs. Best accuracy: 0.8564\n",
      "\n",
      "Epoch 18/100\n",
      "Learning rate: 0.010000\n"
     ]
    },
    {
     "name": "stderr",
     "output_type": "stream",
     "text": [
      "Training: 100%|██████████| 352/352 [01:04<00:00,  5.43it/s]\n",
      "Evaluating: 100%|██████████| 40/40 [00:03<00:00, 10.59it/s]\n"
     ]
    },
    {
     "name": "stdout",
     "output_type": "stream",
     "text": [
      "Train Loss: 0.3083, Acc: 0.8942, Top-5: 0.9973\n",
      "Val Loss: 0.4384, Acc: 0.8500, Top-5: 0.9954\n",
      "⚠️ No improvement for 3 epochs. Best accuracy: 0.8564\n",
      "\n",
      "Epoch 19/100\n",
      "Learning rate: 0.010000\n"
     ]
    },
    {
     "name": "stderr",
     "output_type": "stream",
     "text": [
      "Training: 100%|██████████| 352/352 [01:04<00:00,  5.46it/s]\n",
      "Evaluating: 100%|██████████| 40/40 [00:02<00:00, 15.72it/s]\n"
     ]
    },
    {
     "name": "stdout",
     "output_type": "stream",
     "text": [
      "Train Loss: 0.2870, Acc: 0.9000, Top-5: 0.9976\n",
      "Val Loss: 0.4640, Acc: 0.8454, Top-5: 0.9954\n",
      "⚠️ No improvement for 4 epochs. Best accuracy: 0.8564\n",
      "\n",
      "Epoch 20/100\n",
      "Learning rate: 0.010000\n"
     ]
    },
    {
     "name": "stderr",
     "output_type": "stream",
     "text": [
      "Training: 100%|██████████| 352/352 [01:02<00:00,  5.65it/s]\n",
      "Evaluating: 100%|██████████| 40/40 [00:03<00:00, 10.73it/s]\n"
     ]
    },
    {
     "name": "stdout",
     "output_type": "stream",
     "text": [
      "Train Loss: 0.2727, Acc: 0.9042, Top-5: 0.9980\n",
      "Val Loss: 0.4739, Acc: 0.8404, Top-5: 0.9950\n",
      "⚠️ No improvement for 5 epochs. Best accuracy: 0.8564\n",
      "Saved checkpoint to checkpoints/se/se_epoch_20.pth\n",
      "\n",
      "Epoch 21/100\n",
      "Learning rate: 0.010000\n"
     ]
    },
    {
     "name": "stderr",
     "output_type": "stream",
     "text": [
      "Training: 100%|██████████| 352/352 [01:02<00:00,  5.66it/s]\n",
      "Evaluating: 100%|██████████| 40/40 [00:03<00:00, 10.46it/s]\n"
     ]
    },
    {
     "name": "stdout",
     "output_type": "stream",
     "text": [
      "Train Loss: 0.2626, Acc: 0.9076, Top-5: 0.9978\n",
      "Val Loss: 0.4666, Acc: 0.8516, Top-5: 0.9922\n",
      "⚠️ No improvement for 6 epochs. Best accuracy: 0.8564\n",
      "\n",
      "Epoch 22/100\n",
      "Learning rate: 0.010000\n"
     ]
    },
    {
     "name": "stderr",
     "output_type": "stream",
     "text": [
      "Training: 100%|██████████| 352/352 [01:01<00:00,  5.68it/s]\n",
      "Evaluating: 100%|██████████| 40/40 [00:03<00:00, 11.50it/s]\n"
     ]
    },
    {
     "name": "stdout",
     "output_type": "stream",
     "text": [
      "Train Loss: 0.2491, Acc: 0.9133, Top-5: 0.9984\n",
      "Val Loss: 0.3798, Acc: 0.8680, Top-5: 0.9960\n",
      "✅ Saved best model with validation accuracy: 0.8680 (improved by 0.0116)\n",
      "\n",
      "Epoch 23/100\n",
      "Learning rate: 0.010000\n"
     ]
    },
    {
     "name": "stderr",
     "output_type": "stream",
     "text": [
      "Training: 100%|██████████| 352/352 [01:02<00:00,  5.61it/s]\n",
      "Evaluating: 100%|██████████| 40/40 [00:03<00:00, 10.73it/s]\n"
     ]
    },
    {
     "name": "stdout",
     "output_type": "stream",
     "text": [
      "Train Loss: 0.2380, Acc: 0.9167, Top-5: 0.9982\n",
      "Val Loss: 0.4054, Acc: 0.8676, Top-5: 0.9950\n",
      "⚠️ No improvement for 1 epochs. Best accuracy: 0.8680\n",
      "\n",
      "Epoch 24/100\n",
      "Learning rate: 0.010000\n"
     ]
    },
    {
     "name": "stderr",
     "output_type": "stream",
     "text": [
      "Training: 100%|██████████| 352/352 [01:02<00:00,  5.66it/s]\n",
      "Evaluating: 100%|██████████| 40/40 [00:03<00:00, 10.64it/s]\n"
     ]
    },
    {
     "name": "stdout",
     "output_type": "stream",
     "text": [
      "Train Loss: 0.2224, Acc: 0.9220, Top-5: 0.9985\n",
      "Val Loss: 0.4063, Acc: 0.8628, Top-5: 0.9962\n",
      "⚠️ No improvement for 2 epochs. Best accuracy: 0.8680\n",
      "\n",
      "Epoch 25/100\n",
      "Learning rate: 0.010000\n"
     ]
    },
    {
     "name": "stderr",
     "output_type": "stream",
     "text": [
      "Training: 100%|██████████| 352/352 [01:01<00:00,  5.74it/s]\n",
      "Evaluating: 100%|██████████| 40/40 [00:03<00:00, 10.94it/s]\n"
     ]
    },
    {
     "name": "stdout",
     "output_type": "stream",
     "text": [
      "Train Loss: 0.2190, Acc: 0.9236, Top-5: 0.9988\n",
      "Val Loss: 0.3686, Acc: 0.8740, Top-5: 0.9974\n",
      "✅ Saved best model with validation accuracy: 0.8740 (improved by 0.0060)\n",
      "\n",
      "Epoch 26/100\n",
      "Learning rate: 0.010000\n"
     ]
    },
    {
     "name": "stderr",
     "output_type": "stream",
     "text": [
      "Training: 100%|██████████| 352/352 [01:01<00:00,  5.69it/s]\n",
      "Evaluating: 100%|██████████| 40/40 [00:04<00:00,  8.93it/s]\n"
     ]
    },
    {
     "name": "stdout",
     "output_type": "stream",
     "text": [
      "Train Loss: 0.2047, Acc: 0.9270, Top-5: 0.9989\n",
      "Val Loss: 0.3908, Acc: 0.8660, Top-5: 0.9966\n",
      "⚠️ No improvement for 1 epochs. Best accuracy: 0.8740\n",
      "\n",
      "Epoch 27/100\n",
      "Learning rate: 0.010000\n"
     ]
    },
    {
     "name": "stderr",
     "output_type": "stream",
     "text": [
      "Training: 100%|██████████| 352/352 [01:03<00:00,  5.53it/s]\n",
      "Evaluating: 100%|██████████| 40/40 [00:04<00:00,  9.33it/s]\n"
     ]
    },
    {
     "name": "stdout",
     "output_type": "stream",
     "text": [
      "Train Loss: 0.1987, Acc: 0.9298, Top-5: 0.9988\n",
      "Val Loss: 0.3838, Acc: 0.8736, Top-5: 0.9952\n",
      "⚠️ No improvement for 2 epochs. Best accuracy: 0.8740\n",
      "\n",
      "Epoch 28/100\n",
      "Learning rate: 0.010000\n"
     ]
    },
    {
     "name": "stderr",
     "output_type": "stream",
     "text": [
      "Training: 100%|██████████| 352/352 [01:04<00:00,  5.49it/s]\n",
      "Evaluating: 100%|██████████| 40/40 [00:04<00:00,  9.20it/s]\n"
     ]
    },
    {
     "name": "stdout",
     "output_type": "stream",
     "text": [
      "Train Loss: 0.1852, Acc: 0.9350, Top-5: 0.9994\n",
      "Val Loss: 0.4110, Acc: 0.8654, Top-5: 0.9936\n",
      "⚠️ No improvement for 3 epochs. Best accuracy: 0.8740\n",
      "\n",
      "Epoch 29/100\n",
      "Learning rate: 0.010000\n"
     ]
    },
    {
     "name": "stderr",
     "output_type": "stream",
     "text": [
      "Training: 100%|██████████| 352/352 [01:04<00:00,  5.47it/s]\n",
      "Evaluating: 100%|██████████| 40/40 [00:04<00:00,  9.61it/s]\n"
     ]
    },
    {
     "name": "stdout",
     "output_type": "stream",
     "text": [
      "Train Loss: 0.1796, Acc: 0.9381, Top-5: 0.9992\n",
      "Val Loss: 0.4063, Acc: 0.8702, Top-5: 0.9958\n",
      "⚠️ No improvement for 4 epochs. Best accuracy: 0.8740\n",
      "\n",
      "Epoch 30/100\n",
      "Learning rate: 0.010000\n"
     ]
    },
    {
     "name": "stderr",
     "output_type": "stream",
     "text": [
      "Training: 100%|██████████| 352/352 [01:04<00:00,  5.50it/s]\n",
      "Evaluating: 100%|██████████| 40/40 [00:03<00:00, 11.17it/s]\n"
     ]
    },
    {
     "name": "stdout",
     "output_type": "stream",
     "text": [
      "Train Loss: 0.1735, Acc: 0.9385, Top-5: 0.9994\n",
      "Val Loss: 0.3728, Acc: 0.8732, Top-5: 0.9964\n",
      "⚠️ No improvement for 5 epochs. Best accuracy: 0.8740\n",
      "Saved checkpoint to checkpoints/se/se_epoch_30.pth\n",
      "\n",
      "Epoch 31/100\n",
      "Learning rate: 0.001000\n"
     ]
    },
    {
     "name": "stderr",
     "output_type": "stream",
     "text": [
      "Training: 100%|██████████| 352/352 [01:05<00:00,  5.37it/s]\n",
      "Evaluating: 100%|██████████| 40/40 [00:04<00:00,  8.88it/s]\n"
     ]
    },
    {
     "name": "stdout",
     "output_type": "stream",
     "text": [
      "Train Loss: 0.1081, Acc: 0.9653, Top-5: 0.9998\n",
      "Val Loss: 0.2790, Acc: 0.9066, Top-5: 0.9970\n",
      "✅ Saved best model with validation accuracy: 0.9066 (improved by 0.0326)\n",
      "\n",
      "Epoch 32/100\n",
      "Learning rate: 0.001000\n"
     ]
    },
    {
     "name": "stderr",
     "output_type": "stream",
     "text": [
      "Training: 100%|██████████| 352/352 [01:04<00:00,  5.48it/s]\n",
      "Evaluating: 100%|██████████| 40/40 [00:03<00:00, 12.68it/s]\n"
     ]
    },
    {
     "name": "stdout",
     "output_type": "stream",
     "text": [
      "Train Loss: 0.0880, Acc: 0.9728, Top-5: 0.9998\n",
      "Val Loss: 0.2576, Acc: 0.9144, Top-5: 0.9978\n",
      "✅ Saved best model with validation accuracy: 0.9144 (improved by 0.0078)\n",
      "\n",
      "Epoch 33/100\n",
      "Learning rate: 0.001000\n"
     ]
    },
    {
     "name": "stderr",
     "output_type": "stream",
     "text": [
      "Training: 100%|██████████| 352/352 [01:04<00:00,  5.42it/s]\n",
      "Evaluating: 100%|██████████| 40/40 [00:03<00:00, 10.37it/s]\n"
     ]
    },
    {
     "name": "stdout",
     "output_type": "stream",
     "text": [
      "Train Loss: 0.0791, Acc: 0.9758, Top-5: 0.9998\n",
      "Val Loss: 0.2633, Acc: 0.9156, Top-5: 0.9980\n",
      "✅ Saved best model with validation accuracy: 0.9156 (improved by 0.0012)\n",
      "\n",
      "Epoch 34/100\n",
      "Learning rate: 0.001000\n"
     ]
    },
    {
     "name": "stderr",
     "output_type": "stream",
     "text": [
      "Training: 100%|██████████| 352/352 [01:04<00:00,  5.49it/s]\n",
      "Evaluating: 100%|██████████| 40/40 [00:04<00:00,  9.94it/s]\n"
     ]
    },
    {
     "name": "stdout",
     "output_type": "stream",
     "text": [
      "Train Loss: 0.0734, Acc: 0.9779, Top-5: 0.9999\n",
      "Val Loss: 0.2685, Acc: 0.9112, Top-5: 0.9976\n",
      "⚠️ No improvement for 1 epochs. Best accuracy: 0.9156\n",
      "\n",
      "Epoch 35/100\n",
      "Learning rate: 0.001000\n"
     ]
    },
    {
     "name": "stderr",
     "output_type": "stream",
     "text": [
      "Training: 100%|██████████| 352/352 [01:03<00:00,  5.51it/s]\n",
      "Evaluating: 100%|██████████| 40/40 [00:04<00:00,  9.71it/s]\n"
     ]
    },
    {
     "name": "stdout",
     "output_type": "stream",
     "text": [
      "Train Loss: 0.0707, Acc: 0.9795, Top-5: 0.9999\n",
      "Val Loss: 0.2612, Acc: 0.9154, Top-5: 0.9974\n",
      "⚠️ No improvement for 2 epochs. Best accuracy: 0.9156\n",
      "\n",
      "Epoch 36/100\n",
      "Learning rate: 0.001000\n"
     ]
    },
    {
     "name": "stderr",
     "output_type": "stream",
     "text": [
      "Training: 100%|██████████| 352/352 [01:04<00:00,  5.49it/s]\n",
      "Evaluating: 100%|██████████| 40/40 [00:04<00:00,  9.69it/s]\n"
     ]
    },
    {
     "name": "stdout",
     "output_type": "stream",
     "text": [
      "Train Loss: 0.0666, Acc: 0.9808, Top-5: 0.9999\n",
      "Val Loss: 0.2604, Acc: 0.9122, Top-5: 0.9968\n",
      "⚠️ No improvement for 3 epochs. Best accuracy: 0.9156\n",
      "\n",
      "Epoch 37/100\n",
      "Learning rate: 0.001000\n"
     ]
    },
    {
     "name": "stderr",
     "output_type": "stream",
     "text": [
      "Training: 100%|██████████| 352/352 [01:05<00:00,  5.41it/s]\n",
      "Evaluating: 100%|██████████| 40/40 [00:04<00:00,  9.94it/s]\n"
     ]
    },
    {
     "name": "stdout",
     "output_type": "stream",
     "text": [
      "Train Loss: 0.0633, Acc: 0.9820, Top-5: 0.9999\n",
      "Val Loss: 0.2623, Acc: 0.9162, Top-5: 0.9982\n",
      "✅ Saved best model with validation accuracy: 0.9162 (improved by 0.0006)\n",
      "\n",
      "Epoch 38/100\n",
      "Learning rate: 0.001000\n"
     ]
    },
    {
     "name": "stderr",
     "output_type": "stream",
     "text": [
      "Training: 100%|██████████| 352/352 [01:02<00:00,  5.62it/s]\n",
      "Evaluating: 100%|██████████| 40/40 [00:03<00:00, 10.56it/s]\n"
     ]
    },
    {
     "name": "stdout",
     "output_type": "stream",
     "text": [
      "Train Loss: 0.0607, Acc: 0.9831, Top-5: 0.9999\n",
      "Val Loss: 0.2574, Acc: 0.9180, Top-5: 0.9980\n",
      "✅ Saved best model with validation accuracy: 0.9180 (improved by 0.0018)\n",
      "\n",
      "Epoch 39/100\n",
      "Learning rate: 0.001000\n"
     ]
    },
    {
     "name": "stderr",
     "output_type": "stream",
     "text": [
      "Training: 100%|██████████| 352/352 [01:03<00:00,  5.54it/s]\n",
      "Evaluating: 100%|██████████| 40/40 [00:04<00:00,  9.26it/s]\n"
     ]
    },
    {
     "name": "stdout",
     "output_type": "stream",
     "text": [
      "Train Loss: 0.0583, Acc: 0.9835, Top-5: 0.9999\n",
      "Val Loss: 0.2683, Acc: 0.9138, Top-5: 0.9974\n",
      "⚠️ No improvement for 1 epochs. Best accuracy: 0.9180\n",
      "\n",
      "Epoch 40/100\n",
      "Learning rate: 0.001000\n"
     ]
    },
    {
     "name": "stderr",
     "output_type": "stream",
     "text": [
      "Training: 100%|██████████| 352/352 [01:04<00:00,  5.44it/s]\n",
      "Evaluating: 100%|██████████| 40/40 [00:04<00:00,  9.50it/s]\n"
     ]
    },
    {
     "name": "stdout",
     "output_type": "stream",
     "text": [
      "Train Loss: 0.0546, Acc: 0.9845, Top-5: 1.0000\n",
      "Val Loss: 0.2706, Acc: 0.9154, Top-5: 0.9978\n",
      "⚠️ No improvement for 2 epochs. Best accuracy: 0.9180\n",
      "Saved checkpoint to checkpoints/se/se_epoch_40.pth\n",
      "\n",
      "Epoch 41/100\n",
      "Learning rate: 0.001000\n"
     ]
    },
    {
     "name": "stderr",
     "output_type": "stream",
     "text": [
      "Training: 100%|██████████| 352/352 [01:05<00:00,  5.36it/s]\n",
      "Evaluating: 100%|██████████| 40/40 [00:04<00:00,  8.93it/s]\n"
     ]
    },
    {
     "name": "stdout",
     "output_type": "stream",
     "text": [
      "Train Loss: 0.0520, Acc: 0.9858, Top-5: 0.9999\n",
      "Val Loss: 0.2665, Acc: 0.9158, Top-5: 0.9984\n",
      "⚠️ No improvement for 3 epochs. Best accuracy: 0.9180\n",
      "\n",
      "Epoch 42/100\n",
      "Learning rate: 0.001000\n"
     ]
    },
    {
     "name": "stderr",
     "output_type": "stream",
     "text": [
      "Training: 100%|██████████| 352/352 [01:03<00:00,  5.51it/s]\n",
      "Evaluating: 100%|██████████| 40/40 [00:03<00:00, 11.06it/s]\n"
     ]
    },
    {
     "name": "stdout",
     "output_type": "stream",
     "text": [
      "Train Loss: 0.0506, Acc: 0.9864, Top-5: 0.9999\n",
      "Val Loss: 0.2810, Acc: 0.9102, Top-5: 0.9978\n",
      "⚠️ No improvement for 4 epochs. Best accuracy: 0.9180\n",
      "\n",
      "Epoch 43/100\n",
      "Learning rate: 0.001000\n"
     ]
    },
    {
     "name": "stderr",
     "output_type": "stream",
     "text": [
      "Training: 100%|██████████| 352/352 [01:03<00:00,  5.52it/s]\n",
      "Evaluating: 100%|██████████| 40/40 [00:02<00:00, 15.66it/s]\n"
     ]
    },
    {
     "name": "stdout",
     "output_type": "stream",
     "text": [
      "Train Loss: 0.0503, Acc: 0.9865, Top-5: 0.9999\n",
      "Val Loss: 0.2685, Acc: 0.9148, Top-5: 0.9980\n",
      "⚠️ No improvement for 5 epochs. Best accuracy: 0.9180\n",
      "\n",
      "Epoch 44/100\n",
      "Learning rate: 0.001000\n"
     ]
    },
    {
     "name": "stderr",
     "output_type": "stream",
     "text": [
      "Training: 100%|██████████| 352/352 [01:05<00:00,  5.37it/s]\n",
      "Evaluating: 100%|██████████| 40/40 [00:04<00:00,  9.28it/s]\n"
     ]
    },
    {
     "name": "stdout",
     "output_type": "stream",
     "text": [
      "Train Loss: 0.0482, Acc: 0.9874, Top-5: 0.9999\n",
      "Val Loss: 0.2683, Acc: 0.9130, Top-5: 0.9978\n",
      "⚠️ No improvement for 6 epochs. Best accuracy: 0.9180\n",
      "\n",
      "Epoch 45/100\n",
      "Learning rate: 0.001000\n"
     ]
    },
    {
     "name": "stderr",
     "output_type": "stream",
     "text": [
      "Training: 100%|██████████| 352/352 [01:04<00:00,  5.42it/s]\n",
      "Evaluating: 100%|██████████| 40/40 [00:03<00:00, 12.52it/s]\n"
     ]
    },
    {
     "name": "stdout",
     "output_type": "stream",
     "text": [
      "Train Loss: 0.0474, Acc: 0.9870, Top-5: 1.0000\n",
      "Val Loss: 0.2727, Acc: 0.9152, Top-5: 0.9972\n",
      "⚠️ No improvement for 7 epochs. Best accuracy: 0.9180\n",
      "\n",
      "Epoch 46/100\n",
      "Learning rate: 0.001000\n"
     ]
    },
    {
     "name": "stderr",
     "output_type": "stream",
     "text": [
      "Training: 100%|██████████| 352/352 [01:04<00:00,  5.43it/s]\n",
      "Evaluating: 100%|██████████| 40/40 [00:03<00:00, 11.27it/s]\n"
     ]
    },
    {
     "name": "stdout",
     "output_type": "stream",
     "text": [
      "Train Loss: 0.0445, Acc: 0.9882, Top-5: 1.0000\n",
      "Val Loss: 0.2627, Acc: 0.9194, Top-5: 0.9980\n",
      "✅ Saved best model with validation accuracy: 0.9194 (improved by 0.0014)\n",
      "\n",
      "Epoch 47/100\n",
      "Learning rate: 0.001000\n"
     ]
    },
    {
     "name": "stderr",
     "output_type": "stream",
     "text": [
      "Training: 100%|██████████| 352/352 [01:03<00:00,  5.50it/s]\n",
      "Evaluating: 100%|██████████| 40/40 [00:04<00:00,  9.35it/s]\n"
     ]
    },
    {
     "name": "stdout",
     "output_type": "stream",
     "text": [
      "Train Loss: 0.0414, Acc: 0.9893, Top-5: 1.0000\n",
      "Val Loss: 0.2803, Acc: 0.9148, Top-5: 0.9978\n",
      "⚠️ No improvement for 1 epochs. Best accuracy: 0.9194\n",
      "\n",
      "Epoch 48/100\n",
      "Learning rate: 0.001000\n"
     ]
    },
    {
     "name": "stderr",
     "output_type": "stream",
     "text": [
      "Training: 100%|██████████| 352/352 [01:04<00:00,  5.47it/s]\n",
      "Evaluating: 100%|██████████| 40/40 [00:03<00:00, 10.68it/s]\n"
     ]
    },
    {
     "name": "stdout",
     "output_type": "stream",
     "text": [
      "Train Loss: 0.0413, Acc: 0.9895, Top-5: 1.0000\n",
      "Val Loss: 0.2706, Acc: 0.9144, Top-5: 0.9978\n",
      "⚠️ No improvement for 2 epochs. Best accuracy: 0.9194\n",
      "\n",
      "Epoch 49/100\n",
      "Learning rate: 0.001000\n"
     ]
    },
    {
     "name": "stderr",
     "output_type": "stream",
     "text": [
      "Training: 100%|██████████| 352/352 [01:03<00:00,  5.50it/s]\n",
      "Evaluating: 100%|██████████| 40/40 [00:03<00:00, 11.32it/s]\n"
     ]
    },
    {
     "name": "stdout",
     "output_type": "stream",
     "text": [
      "Train Loss: 0.0398, Acc: 0.9904, Top-5: 1.0000\n",
      "Val Loss: 0.2746, Acc: 0.9166, Top-5: 0.9980\n",
      "⚠️ No improvement for 3 epochs. Best accuracy: 0.9194\n",
      "\n",
      "Epoch 50/100\n",
      "Learning rate: 0.001000\n"
     ]
    },
    {
     "name": "stderr",
     "output_type": "stream",
     "text": [
      "Training: 100%|██████████| 352/352 [01:04<00:00,  5.47it/s]\n",
      "Evaluating: 100%|██████████| 40/40 [00:04<00:00,  9.56it/s]\n"
     ]
    },
    {
     "name": "stdout",
     "output_type": "stream",
     "text": [
      "Train Loss: 0.0377, Acc: 0.9912, Top-5: 1.0000\n",
      "Val Loss: 0.2683, Acc: 0.9210, Top-5: 0.9972\n",
      "✅ Saved best model with validation accuracy: 0.9210 (improved by 0.0016)\n",
      "Saved checkpoint to checkpoints/se/se_epoch_50.pth\n",
      "\n",
      "Epoch 51/100\n",
      "Learning rate: 0.001000\n"
     ]
    },
    {
     "name": "stderr",
     "output_type": "stream",
     "text": [
      "Training: 100%|██████████| 352/352 [01:04<00:00,  5.47it/s]\n",
      "Evaluating: 100%|██████████| 40/40 [00:04<00:00,  9.88it/s]\n"
     ]
    },
    {
     "name": "stdout",
     "output_type": "stream",
     "text": [
      "Train Loss: 0.0382, Acc: 0.9901, Top-5: 1.0000\n",
      "Val Loss: 0.2734, Acc: 0.9192, Top-5: 0.9966\n",
      "⚠️ No improvement for 1 epochs. Best accuracy: 0.9210\n",
      "\n",
      "Epoch 52/100\n",
      "Learning rate: 0.001000\n"
     ]
    },
    {
     "name": "stderr",
     "output_type": "stream",
     "text": [
      "Training: 100%|██████████| 352/352 [01:03<00:00,  5.53it/s]\n",
      "Evaluating: 100%|██████████| 40/40 [00:03<00:00, 10.81it/s]\n"
     ]
    },
    {
     "name": "stdout",
     "output_type": "stream",
     "text": [
      "Train Loss: 0.0365, Acc: 0.9908, Top-5: 1.0000\n",
      "Val Loss: 0.2887, Acc: 0.9132, Top-5: 0.9976\n",
      "⚠️ No improvement for 2 epochs. Best accuracy: 0.9210\n",
      "\n",
      "Epoch 53/100\n",
      "Learning rate: 0.001000\n"
     ]
    },
    {
     "name": "stderr",
     "output_type": "stream",
     "text": [
      "Training: 100%|██████████| 352/352 [01:04<00:00,  5.43it/s]\n",
      "Evaluating: 100%|██████████| 40/40 [00:04<00:00,  9.66it/s]\n"
     ]
    },
    {
     "name": "stdout",
     "output_type": "stream",
     "text": [
      "Train Loss: 0.0370, Acc: 0.9902, Top-5: 1.0000\n",
      "Val Loss: 0.2689, Acc: 0.9184, Top-5: 0.9988\n",
      "⚠️ No improvement for 3 epochs. Best accuracy: 0.9210\n",
      "\n",
      "Epoch 54/100\n",
      "Learning rate: 0.001000\n"
     ]
    },
    {
     "name": "stderr",
     "output_type": "stream",
     "text": [
      "Training: 100%|██████████| 352/352 [01:08<00:00,  5.15it/s]\n",
      "Evaluating: 100%|██████████| 40/40 [00:04<00:00,  8.66it/s]\n"
     ]
    },
    {
     "name": "stdout",
     "output_type": "stream",
     "text": [
      "Train Loss: 0.0332, Acc: 0.9919, Top-5: 1.0000\n",
      "Val Loss: 0.2741, Acc: 0.9180, Top-5: 0.9974\n",
      "⚠️ No improvement for 4 epochs. Best accuracy: 0.9210\n",
      "\n",
      "Epoch 55/100\n",
      "Learning rate: 0.001000\n"
     ]
    },
    {
     "name": "stderr",
     "output_type": "stream",
     "text": [
      "Training: 100%|██████████| 352/352 [01:07<00:00,  5.22it/s]\n",
      "Evaluating: 100%|██████████| 40/40 [00:04<00:00,  9.38it/s]\n"
     ]
    },
    {
     "name": "stdout",
     "output_type": "stream",
     "text": [
      "Train Loss: 0.0331, Acc: 0.9916, Top-5: 1.0000\n",
      "Val Loss: 0.2788, Acc: 0.9148, Top-5: 0.9972\n",
      "⚠️ No improvement for 5 epochs. Best accuracy: 0.9210\n",
      "\n",
      "Epoch 56/100\n",
      "Learning rate: 0.001000\n"
     ]
    },
    {
     "name": "stderr",
     "output_type": "stream",
     "text": [
      "Training: 100%|██████████| 352/352 [01:04<00:00,  5.45it/s]\n",
      "Evaluating: 100%|██████████| 40/40 [00:04<00:00,  9.15it/s]\n"
     ]
    },
    {
     "name": "stdout",
     "output_type": "stream",
     "text": [
      "Train Loss: 0.0314, Acc: 0.9927, Top-5: 1.0000\n",
      "Val Loss: 0.2712, Acc: 0.9208, Top-5: 0.9976\n",
      "⚠️ No improvement for 6 epochs. Best accuracy: 0.9210\n",
      "\n",
      "Epoch 57/100\n",
      "Learning rate: 0.001000\n"
     ]
    },
    {
     "name": "stderr",
     "output_type": "stream",
     "text": [
      "Training: 100%|██████████| 352/352 [01:04<00:00,  5.47it/s]\n",
      "Evaluating: 100%|██████████| 40/40 [00:03<00:00, 10.16it/s]\n"
     ]
    },
    {
     "name": "stdout",
     "output_type": "stream",
     "text": [
      "Train Loss: 0.0309, Acc: 0.9929, Top-5: 1.0000\n",
      "Val Loss: 0.2709, Acc: 0.9194, Top-5: 0.9980\n",
      "⚠️ No improvement for 7 epochs. Best accuracy: 0.9210\n",
      "\n",
      "Epoch 58/100\n",
      "Learning rate: 0.001000\n"
     ]
    },
    {
     "name": "stderr",
     "output_type": "stream",
     "text": [
      "Training: 100%|██████████| 352/352 [01:04<00:00,  5.48it/s]\n",
      "Evaluating: 100%|██████████| 40/40 [00:04<00:00,  9.62it/s]\n"
     ]
    },
    {
     "name": "stdout",
     "output_type": "stream",
     "text": [
      "Train Loss: 0.0300, Acc: 0.9929, Top-5: 1.0000\n",
      "Val Loss: 0.2750, Acc: 0.9202, Top-5: 0.9982\n",
      "⚠️ No improvement for 8 epochs. Best accuracy: 0.9210\n",
      "\n",
      "Epoch 59/100\n",
      "Learning rate: 0.001000\n"
     ]
    },
    {
     "name": "stderr",
     "output_type": "stream",
     "text": [
      "Training: 100%|██████████| 352/352 [01:04<00:00,  5.48it/s]\n",
      "Evaluating: 100%|██████████| 40/40 [00:02<00:00, 14.50it/s]\n"
     ]
    },
    {
     "name": "stdout",
     "output_type": "stream",
     "text": [
      "Train Loss: 0.0293, Acc: 0.9934, Top-5: 1.0000\n",
      "Val Loss: 0.2702, Acc: 0.9172, Top-5: 0.9978\n",
      "⚠️ No improvement for 9 epochs. Best accuracy: 0.9210\n",
      "\n",
      "Epoch 60/100\n",
      "Learning rate: 0.001000\n"
     ]
    },
    {
     "name": "stderr",
     "output_type": "stream",
     "text": [
      "Training: 100%|██████████| 352/352 [01:03<00:00,  5.55it/s]\n",
      "Evaluating: 100%|██████████| 40/40 [00:03<00:00, 10.22it/s]\n"
     ]
    },
    {
     "name": "stdout",
     "output_type": "stream",
     "text": [
      "Train Loss: 0.0283, Acc: 0.9938, Top-5: 1.0000\n",
      "Val Loss: 0.2894, Acc: 0.9154, Top-5: 0.9976\n",
      "⚠️ No improvement for 10 epochs. Best accuracy: 0.9210\n",
      "Saved checkpoint to checkpoints/se/se_epoch_60.pth\n",
      "\n",
      "Epoch 61/100\n",
      "Learning rate: 0.000100\n"
     ]
    },
    {
     "name": "stderr",
     "output_type": "stream",
     "text": [
      "Training: 100%|██████████| 352/352 [01:04<00:00,  5.45it/s]\n",
      "Evaluating: 100%|██████████| 40/40 [00:04<00:00,  9.03it/s]\n"
     ]
    },
    {
     "name": "stdout",
     "output_type": "stream",
     "text": [
      "Train Loss: 0.0264, Acc: 0.9942, Top-5: 1.0000\n",
      "Val Loss: 0.2754, Acc: 0.9214, Top-5: 0.9976\n",
      "✅ Saved best model with validation accuracy: 0.9214 (improved by 0.0004)\n",
      "\n",
      "Epoch 62/100\n",
      "Learning rate: 0.000100\n"
     ]
    },
    {
     "name": "stderr",
     "output_type": "stream",
     "text": [
      "Training: 100%|██████████| 352/352 [01:04<00:00,  5.48it/s]\n",
      "Evaluating: 100%|██████████| 40/40 [00:04<00:00,  9.70it/s]\n"
     ]
    },
    {
     "name": "stdout",
     "output_type": "stream",
     "text": [
      "Train Loss: 0.0252, Acc: 0.9946, Top-5: 1.0000\n",
      "Val Loss: 0.2833, Acc: 0.9160, Top-5: 0.9980\n",
      "⚠️ No improvement for 1 epochs. Best accuracy: 0.9214\n",
      "\n",
      "Epoch 63/100\n",
      "Learning rate: 0.000100\n"
     ]
    },
    {
     "name": "stderr",
     "output_type": "stream",
     "text": [
      "Training: 100%|██████████| 352/352 [01:04<00:00,  5.50it/s]\n",
      "Evaluating: 100%|██████████| 40/40 [00:04<00:00,  9.14it/s]\n"
     ]
    },
    {
     "name": "stdout",
     "output_type": "stream",
     "text": [
      "Train Loss: 0.0237, Acc: 0.9952, Top-5: 1.0000\n",
      "Val Loss: 0.2796, Acc: 0.9154, Top-5: 0.9978\n",
      "⚠️ No improvement for 2 epochs. Best accuracy: 0.9214\n",
      "\n",
      "Epoch 64/100\n",
      "Learning rate: 0.000100\n"
     ]
    },
    {
     "name": "stderr",
     "output_type": "stream",
     "text": [
      "Training: 100%|██████████| 352/352 [01:03<00:00,  5.50it/s]\n",
      "Evaluating: 100%|██████████| 40/40 [00:03<00:00, 11.05it/s]\n"
     ]
    },
    {
     "name": "stdout",
     "output_type": "stream",
     "text": [
      "Train Loss: 0.0239, Acc: 0.9949, Top-5: 1.0000\n",
      "Val Loss: 0.2715, Acc: 0.9172, Top-5: 0.9984\n",
      "⚠️ No improvement for 3 epochs. Best accuracy: 0.9214\n",
      "\n",
      "Epoch 65/100\n",
      "Learning rate: 0.000100\n"
     ]
    },
    {
     "name": "stderr",
     "output_type": "stream",
     "text": [
      "Training: 100%|██████████| 352/352 [01:03<00:00,  5.57it/s]\n",
      "Evaluating: 100%|██████████| 40/40 [00:04<00:00,  9.50it/s]\n"
     ]
    },
    {
     "name": "stdout",
     "output_type": "stream",
     "text": [
      "Train Loss: 0.0244, Acc: 0.9948, Top-5: 1.0000\n",
      "Val Loss: 0.2689, Acc: 0.9200, Top-5: 0.9970\n",
      "⚠️ No improvement for 4 epochs. Best accuracy: 0.9214\n",
      "\n",
      "Epoch 66/100\n",
      "Learning rate: 0.000100\n"
     ]
    },
    {
     "name": "stderr",
     "output_type": "stream",
     "text": [
      "Training: 100%|██████████| 352/352 [01:04<00:00,  5.46it/s]\n",
      "Evaluating: 100%|██████████| 40/40 [00:04<00:00,  9.76it/s]\n"
     ]
    },
    {
     "name": "stdout",
     "output_type": "stream",
     "text": [
      "Train Loss: 0.0260, Acc: 0.9943, Top-5: 1.0000\n",
      "Val Loss: 0.2800, Acc: 0.9162, Top-5: 0.9970\n",
      "⚠️ No improvement for 5 epochs. Best accuracy: 0.9214\n",
      "\n",
      "Epoch 67/100\n",
      "Learning rate: 0.000100\n"
     ]
    },
    {
     "name": "stderr",
     "output_type": "stream",
     "text": [
      "Training: 100%|██████████| 352/352 [01:03<00:00,  5.51it/s]\n",
      "Evaluating: 100%|██████████| 40/40 [00:03<00:00, 10.43it/s]\n"
     ]
    },
    {
     "name": "stdout",
     "output_type": "stream",
     "text": [
      "Train Loss: 0.0240, Acc: 0.9954, Top-5: 1.0000\n",
      "Val Loss: 0.2815, Acc: 0.9178, Top-5: 0.9982\n",
      "⚠️ No improvement for 6 epochs. Best accuracy: 0.9214\n",
      "\n",
      "Epoch 68/100\n",
      "Learning rate: 0.000100\n"
     ]
    },
    {
     "name": "stderr",
     "output_type": "stream",
     "text": [
      "Training: 100%|██████████| 352/352 [01:05<00:00,  5.38it/s]\n",
      "Evaluating: 100%|██████████| 40/40 [00:03<00:00, 10.66it/s]\n"
     ]
    },
    {
     "name": "stdout",
     "output_type": "stream",
     "text": [
      "Train Loss: 0.0258, Acc: 0.9947, Top-5: 1.0000\n",
      "Val Loss: 0.2843, Acc: 0.9146, Top-5: 0.9970\n",
      "⚠️ No improvement for 7 epochs. Best accuracy: 0.9214\n",
      "\n",
      "Epoch 69/100\n",
      "Learning rate: 0.000100\n"
     ]
    },
    {
     "name": "stderr",
     "output_type": "stream",
     "text": [
      "Training: 100%|██████████| 352/352 [01:04<00:00,  5.45it/s]\n",
      "Evaluating: 100%|██████████| 40/40 [00:03<00:00, 10.28it/s]\n"
     ]
    },
    {
     "name": "stdout",
     "output_type": "stream",
     "text": [
      "Train Loss: 0.0236, Acc: 0.9953, Top-5: 1.0000\n",
      "Val Loss: 0.2848, Acc: 0.9158, Top-5: 0.9982\n",
      "⚠️ No improvement for 8 epochs. Best accuracy: 0.9214\n",
      "\n",
      "Epoch 70/100\n",
      "Learning rate: 0.000100\n"
     ]
    },
    {
     "name": "stderr",
     "output_type": "stream",
     "text": [
      "Training: 100%|██████████| 352/352 [01:04<00:00,  5.50it/s]\n",
      "Evaluating: 100%|██████████| 40/40 [00:02<00:00, 14.39it/s]\n"
     ]
    },
    {
     "name": "stdout",
     "output_type": "stream",
     "text": [
      "Train Loss: 0.0236, Acc: 0.9959, Top-5: 1.0000\n",
      "Val Loss: 0.2980, Acc: 0.9126, Top-5: 0.9974\n",
      "⚠️ No improvement for 9 epochs. Best accuracy: 0.9214\n",
      "Saved checkpoint to checkpoints/se/se_epoch_70.pth\n",
      "\n",
      "Epoch 71/100\n",
      "Learning rate: 0.000100\n"
     ]
    },
    {
     "name": "stderr",
     "output_type": "stream",
     "text": [
      "Training: 100%|██████████| 352/352 [01:04<00:00,  5.45it/s]\n",
      "Evaluating: 100%|██████████| 40/40 [00:04<00:00,  9.93it/s]\n"
     ]
    },
    {
     "name": "stdout",
     "output_type": "stream",
     "text": [
      "Train Loss: 0.0230, Acc: 0.9952, Top-5: 1.0000\n",
      "Val Loss: 0.2803, Acc: 0.9168, Top-5: 0.9980\n",
      "⚠️ No improvement for 10 epochs. Best accuracy: 0.9214\n",
      "\n",
      "Epoch 72/100\n",
      "Learning rate: 0.000100\n"
     ]
    },
    {
     "name": "stderr",
     "output_type": "stream",
     "text": [
      "Training: 100%|██████████| 352/352 [01:05<00:00,  5.38it/s]\n",
      "Evaluating: 100%|██████████| 40/40 [00:04<00:00,  9.91it/s]\n"
     ]
    },
    {
     "name": "stdout",
     "output_type": "stream",
     "text": [
      "Train Loss: 0.0235, Acc: 0.9954, Top-5: 1.0000\n",
      "Val Loss: 0.2808, Acc: 0.9178, Top-5: 0.9974\n",
      "⚠️ No improvement for 11 epochs. Best accuracy: 0.9214\n",
      "\n",
      "Epoch 73/100\n",
      "Learning rate: 0.000100\n"
     ]
    },
    {
     "name": "stderr",
     "output_type": "stream",
     "text": [
      "Training: 100%|██████████| 352/352 [01:03<00:00,  5.52it/s]\n",
      "Evaluating: 100%|██████████| 40/40 [00:04<00:00,  9.99it/s]\n"
     ]
    },
    {
     "name": "stdout",
     "output_type": "stream",
     "text": [
      "Train Loss: 0.0235, Acc: 0.9952, Top-5: 1.0000\n",
      "Val Loss: 0.2838, Acc: 0.9190, Top-5: 0.9980\n",
      "⚠️ No improvement for 12 epochs. Best accuracy: 0.9214\n",
      "\n",
      "Epoch 74/100\n",
      "Learning rate: 0.000100\n"
     ]
    },
    {
     "name": "stderr",
     "output_type": "stream",
     "text": [
      "Training: 100%|██████████| 352/352 [01:03<00:00,  5.53it/s]\n",
      "Evaluating: 100%|██████████| 40/40 [00:04<00:00,  9.28it/s]\n"
     ]
    },
    {
     "name": "stdout",
     "output_type": "stream",
     "text": [
      "Train Loss: 0.0239, Acc: 0.9953, Top-5: 1.0000\n",
      "Val Loss: 0.2835, Acc: 0.9162, Top-5: 0.9982\n",
      "⚠️ No improvement for 13 epochs. Best accuracy: 0.9214\n",
      "\n",
      "Epoch 75/100\n",
      "Learning rate: 0.000100\n"
     ]
    },
    {
     "name": "stderr",
     "output_type": "stream",
     "text": [
      "Training: 100%|██████████| 352/352 [01:04<00:00,  5.48it/s]\n",
      "Evaluating: 100%|██████████| 40/40 [00:03<00:00, 13.09it/s]\n"
     ]
    },
    {
     "name": "stdout",
     "output_type": "stream",
     "text": [
      "Train Loss: 0.0224, Acc: 0.9954, Top-5: 1.0000\n",
      "Val Loss: 0.2753, Acc: 0.9186, Top-5: 0.9976\n",
      "⚠️ No improvement for 14 epochs. Best accuracy: 0.9214\n",
      "\n",
      "Epoch 76/100\n",
      "Learning rate: 0.000100\n"
     ]
    },
    {
     "name": "stderr",
     "output_type": "stream",
     "text": [
      "Training: 100%|██████████| 352/352 [01:04<00:00,  5.49it/s]\n",
      "Evaluating: 100%|██████████| 40/40 [00:04<00:00,  8.80it/s]\n"
     ]
    },
    {
     "name": "stdout",
     "output_type": "stream",
     "text": [
      "Train Loss: 0.0237, Acc: 0.9951, Top-5: 1.0000\n",
      "Val Loss: 0.2805, Acc: 0.9184, Top-5: 0.9974\n",
      "⚠️ No improvement for 15 epochs. Best accuracy: 0.9214\n",
      "⛔ Early stopping triggered after 76 epochs\n",
      "Training completed. Best validation accuracy: 0.9214\n"
     ]
    }
   ],
   "source": [
    "# 5.2 Train SE-Block CNN\n",
    "print(\"=== Training SE-Block CNN ===\")\n",
    "se_model = DeepSENet18(num_classes=10)\n",
    "se_model, se_history = train_model(\n",
    "    se_model, trainloader, valloader, \n",
    "    \"se\", config, device\n",
    ")"
   ]
  },
  {
   "cell_type": "code",
   "execution_count": 20,
   "metadata": {},
   "outputs": [],
   "source": [
    "import time\n",
    "\n",
    "# Wait for 1 minute\n",
    "time.sleep(120)"
   ]
  },
  {
   "cell_type": "code",
   "execution_count": 21,
   "metadata": {},
   "outputs": [
    {
     "name": "stdout",
     "output_type": "stream",
     "text": [
      "=== Training CBAM CNN ===\n",
      "Training cbam on cuda\n",
      "Total parameters: 11,261,786\n",
      "Using SGD optimizer with momentum=0.9\n",
      "Starting training for 100 epochs\n",
      "\n",
      "Epoch 1/100\n",
      "Learning rate: 0.010000\n"
     ]
    },
    {
     "name": "stderr",
     "output_type": "stream",
     "text": [
      "Training: 100%|██████████| 352/352 [01:14<00:00,  4.71it/s]\n",
      "Evaluating: 100%|██████████| 40/40 [00:04<00:00,  9.50it/s]\n"
     ]
    },
    {
     "name": "stdout",
     "output_type": "stream",
     "text": [
      "Train Loss: 1.6841, Acc: 0.3626, Top-5: 0.8663\n",
      "Val Loss: 1.5649, Acc: 0.4436, Top-5: 0.9068\n",
      "✅ Saved best model with validation accuracy: 0.4436 (improved by 0.4436)\n",
      "\n",
      "Epoch 2/100\n",
      "Learning rate: 0.010000\n"
     ]
    },
    {
     "name": "stderr",
     "output_type": "stream",
     "text": [
      "Training: 100%|██████████| 352/352 [01:13<00:00,  4.77it/s]\n",
      "Evaluating: 100%|██████████| 40/40 [00:03<00:00, 11.87it/s]\n"
     ]
    },
    {
     "name": "stdout",
     "output_type": "stream",
     "text": [
      "Train Loss: 1.2788, Acc: 0.5324, Top-5: 0.9435\n",
      "Val Loss: 1.2541, Acc: 0.5552, Top-5: 0.9472\n",
      "✅ Saved best model with validation accuracy: 0.5552 (improved by 0.1116)\n",
      "\n",
      "Epoch 3/100\n",
      "Learning rate: 0.010000\n"
     ]
    },
    {
     "name": "stderr",
     "output_type": "stream",
     "text": [
      "Training: 100%|██████████| 352/352 [01:16<00:00,  4.60it/s]\n",
      "Evaluating: 100%|██████████| 40/40 [00:04<00:00,  8.69it/s]\n"
     ]
    },
    {
     "name": "stdout",
     "output_type": "stream",
     "text": [
      "Train Loss: 1.0443, Acc: 0.6273, Top-5: 0.9645\n",
      "Val Loss: 1.1210, Acc: 0.5982, Top-5: 0.9588\n",
      "✅ Saved best model with validation accuracy: 0.5982 (improved by 0.0430)\n",
      "\n",
      "Epoch 4/100\n",
      "Learning rate: 0.010000\n"
     ]
    },
    {
     "name": "stderr",
     "output_type": "stream",
     "text": [
      "Training: 100%|██████████| 352/352 [01:14<00:00,  4.69it/s]\n",
      "Evaluating: 100%|██████████| 40/40 [00:04<00:00,  8.26it/s]\n"
     ]
    },
    {
     "name": "stdout",
     "output_type": "stream",
     "text": [
      "Train Loss: 0.8884, Acc: 0.6822, Top-5: 0.9749\n",
      "Val Loss: 0.9670, Acc: 0.6568, Top-5: 0.9672\n",
      "✅ Saved best model with validation accuracy: 0.6568 (improved by 0.0586)\n",
      "\n",
      "Epoch 5/100\n",
      "Learning rate: 0.010000\n"
     ]
    },
    {
     "name": "stderr",
     "output_type": "stream",
     "text": [
      "Training: 100%|██████████| 352/352 [01:16<00:00,  4.58it/s]\n",
      "Evaluating: 100%|██████████| 40/40 [00:04<00:00,  8.80it/s]\n"
     ]
    },
    {
     "name": "stdout",
     "output_type": "stream",
     "text": [
      "Train Loss: 0.7842, Acc: 0.7243, Top-5: 0.9808\n",
      "Val Loss: 0.7771, Acc: 0.7192, Top-5: 0.9830\n",
      "✅ Saved best model with validation accuracy: 0.7192 (improved by 0.0624)\n",
      "\n",
      "Epoch 6/100\n",
      "Learning rate: 0.010000\n"
     ]
    },
    {
     "name": "stderr",
     "output_type": "stream",
     "text": [
      "Training: 100%|██████████| 352/352 [01:14<00:00,  4.70it/s]\n",
      "Evaluating: 100%|██████████| 40/40 [00:04<00:00,  8.26it/s]\n"
     ]
    },
    {
     "name": "stdout",
     "output_type": "stream",
     "text": [
      "Train Loss: 0.6950, Acc: 0.7542, Top-5: 0.9854\n",
      "Val Loss: 0.7149, Acc: 0.7486, Top-5: 0.9846\n",
      "✅ Saved best model with validation accuracy: 0.7486 (improved by 0.0294)\n",
      "\n",
      "Epoch 7/100\n",
      "Learning rate: 0.010000\n"
     ]
    },
    {
     "name": "stderr",
     "output_type": "stream",
     "text": [
      "Training: 100%|██████████| 352/352 [01:16<00:00,  4.58it/s]\n",
      "Evaluating: 100%|██████████| 40/40 [00:03<00:00, 11.66it/s]\n"
     ]
    },
    {
     "name": "stdout",
     "output_type": "stream",
     "text": [
      "Train Loss: 0.6303, Acc: 0.7796, Top-5: 0.9878\n",
      "Val Loss: 0.6670, Acc: 0.7634, Top-5: 0.9878\n",
      "✅ Saved best model with validation accuracy: 0.7634 (improved by 0.0148)\n",
      "\n",
      "Epoch 8/100\n",
      "Learning rate: 0.010000\n"
     ]
    },
    {
     "name": "stderr",
     "output_type": "stream",
     "text": [
      "Training: 100%|██████████| 352/352 [01:16<00:00,  4.60it/s]\n",
      "Evaluating: 100%|██████████| 40/40 [00:04<00:00,  8.87it/s]\n"
     ]
    },
    {
     "name": "stdout",
     "output_type": "stream",
     "text": [
      "Train Loss: 0.5730, Acc: 0.7970, Top-5: 0.9898\n",
      "Val Loss: 0.6621, Acc: 0.7722, Top-5: 0.9864\n",
      "✅ Saved best model with validation accuracy: 0.7722 (improved by 0.0088)\n",
      "\n",
      "Epoch 9/100\n",
      "Learning rate: 0.010000\n"
     ]
    },
    {
     "name": "stderr",
     "output_type": "stream",
     "text": [
      "Training: 100%|██████████| 352/352 [01:15<00:00,  4.66it/s]\n",
      "Evaluating: 100%|██████████| 40/40 [00:04<00:00,  8.40it/s]\n"
     ]
    },
    {
     "name": "stdout",
     "output_type": "stream",
     "text": [
      "Train Loss: 0.5262, Acc: 0.8168, Top-5: 0.9914\n",
      "Val Loss: 0.6430, Acc: 0.7772, Top-5: 0.9892\n",
      "✅ Saved best model with validation accuracy: 0.7772 (improved by 0.0050)\n",
      "\n",
      "Epoch 10/100\n",
      "Learning rate: 0.010000\n"
     ]
    },
    {
     "name": "stderr",
     "output_type": "stream",
     "text": [
      "Training: 100%|██████████| 352/352 [01:16<00:00,  4.59it/s]\n",
      "Evaluating: 100%|██████████| 40/40 [00:04<00:00,  8.10it/s]\n"
     ]
    },
    {
     "name": "stdout",
     "output_type": "stream",
     "text": [
      "Train Loss: 0.4911, Acc: 0.8296, Top-5: 0.9922\n",
      "Val Loss: 0.5643, Acc: 0.8002, Top-5: 0.9900\n",
      "✅ Saved best model with validation accuracy: 0.8002 (improved by 0.0230)\n",
      "Saved checkpoint to checkpoints/cbam/cbam_epoch_10.pth\n",
      "\n",
      "Epoch 11/100\n",
      "Learning rate: 0.010000\n"
     ]
    },
    {
     "name": "stderr",
     "output_type": "stream",
     "text": [
      "Training: 100%|██████████| 352/352 [01:15<00:00,  4.66it/s]\n",
      "Evaluating: 100%|██████████| 40/40 [00:04<00:00,  8.56it/s]\n"
     ]
    },
    {
     "name": "stdout",
     "output_type": "stream",
     "text": [
      "Train Loss: 0.4521, Acc: 0.8420, Top-5: 0.9935\n",
      "Val Loss: 0.5187, Acc: 0.8142, Top-5: 0.9922\n",
      "✅ Saved best model with validation accuracy: 0.8142 (improved by 0.0140)\n",
      "\n",
      "Epoch 12/100\n",
      "Learning rate: 0.010000\n"
     ]
    },
    {
     "name": "stderr",
     "output_type": "stream",
     "text": [
      "Training: 100%|██████████| 352/352 [01:16<00:00,  4.61it/s]\n",
      "Evaluating: 100%|██████████| 40/40 [00:03<00:00, 10.61it/s]\n"
     ]
    },
    {
     "name": "stdout",
     "output_type": "stream",
     "text": [
      "Train Loss: 0.4262, Acc: 0.8511, Top-5: 0.9942\n",
      "Val Loss: 0.5845, Acc: 0.7976, Top-5: 0.9912\n",
      "⚠️ No improvement for 1 epochs. Best accuracy: 0.8142\n",
      "\n",
      "Epoch 13/100\n",
      "Learning rate: 0.010000\n"
     ]
    },
    {
     "name": "stderr",
     "output_type": "stream",
     "text": [
      "Training: 100%|██████████| 352/352 [01:16<00:00,  4.61it/s]\n",
      "Evaluating: 100%|██████████| 40/40 [00:04<00:00,  9.02it/s]\n"
     ]
    },
    {
     "name": "stdout",
     "output_type": "stream",
     "text": [
      "Train Loss: 0.4019, Acc: 0.8610, Top-5: 0.9950\n",
      "Val Loss: 0.4992, Acc: 0.8276, Top-5: 0.9904\n",
      "✅ Saved best model with validation accuracy: 0.8276 (improved by 0.0134)\n",
      "\n",
      "Epoch 14/100\n",
      "Learning rate: 0.010000\n"
     ]
    },
    {
     "name": "stderr",
     "output_type": "stream",
     "text": [
      "Training: 100%|██████████| 352/352 [01:16<00:00,  4.60it/s]\n",
      "Evaluating: 100%|██████████| 40/40 [00:04<00:00,  8.48it/s]\n"
     ]
    },
    {
     "name": "stdout",
     "output_type": "stream",
     "text": [
      "Train Loss: 0.3743, Acc: 0.8688, Top-5: 0.9958\n",
      "Val Loss: 0.5134, Acc: 0.8252, Top-5: 0.9928\n",
      "⚠️ No improvement for 1 epochs. Best accuracy: 0.8276\n",
      "\n",
      "Epoch 15/100\n",
      "Learning rate: 0.010000\n"
     ]
    },
    {
     "name": "stderr",
     "output_type": "stream",
     "text": [
      "Training: 100%|██████████| 352/352 [01:16<00:00,  4.61it/s]\n",
      "Evaluating: 100%|██████████| 40/40 [00:04<00:00,  8.59it/s]\n"
     ]
    },
    {
     "name": "stdout",
     "output_type": "stream",
     "text": [
      "Train Loss: 0.3555, Acc: 0.8776, Top-5: 0.9958\n",
      "Val Loss: 0.4753, Acc: 0.8364, Top-5: 0.9940\n",
      "✅ Saved best model with validation accuracy: 0.8364 (improved by 0.0088)\n",
      "\n",
      "Epoch 16/100\n",
      "Learning rate: 0.010000\n"
     ]
    },
    {
     "name": "stderr",
     "output_type": "stream",
     "text": [
      "Training: 100%|██████████| 352/352 [01:15<00:00,  4.65it/s]\n",
      "Evaluating: 100%|██████████| 40/40 [00:04<00:00,  8.49it/s]\n"
     ]
    },
    {
     "name": "stdout",
     "output_type": "stream",
     "text": [
      "Train Loss: 0.3401, Acc: 0.8802, Top-5: 0.9961\n",
      "Val Loss: 0.4568, Acc: 0.8386, Top-5: 0.9946\n",
      "✅ Saved best model with validation accuracy: 0.8386 (improved by 0.0022)\n",
      "\n",
      "Epoch 17/100\n",
      "Learning rate: 0.010000\n"
     ]
    },
    {
     "name": "stderr",
     "output_type": "stream",
     "text": [
      "Training: 100%|██████████| 352/352 [01:16<00:00,  4.62it/s]\n",
      "Evaluating: 100%|██████████| 40/40 [00:03<00:00, 12.74it/s]\n"
     ]
    },
    {
     "name": "stdout",
     "output_type": "stream",
     "text": [
      "Train Loss: 0.3135, Acc: 0.8915, Top-5: 0.9969\n",
      "Val Loss: 0.4675, Acc: 0.8406, Top-5: 0.9920\n",
      "✅ Saved best model with validation accuracy: 0.8406 (improved by 0.0020)\n",
      "\n",
      "Epoch 18/100\n",
      "Learning rate: 0.010000\n"
     ]
    },
    {
     "name": "stderr",
     "output_type": "stream",
     "text": [
      "Training: 100%|██████████| 352/352 [01:14<00:00,  4.74it/s]\n",
      "Evaluating: 100%|██████████| 40/40 [00:04<00:00,  9.21it/s]\n"
     ]
    },
    {
     "name": "stdout",
     "output_type": "stream",
     "text": [
      "Train Loss: 0.3045, Acc: 0.8942, Top-5: 0.9971\n",
      "Val Loss: 0.4345, Acc: 0.8504, Top-5: 0.9962\n",
      "✅ Saved best model with validation accuracy: 0.8504 (improved by 0.0098)\n",
      "\n",
      "Epoch 19/100\n",
      "Learning rate: 0.010000\n"
     ]
    },
    {
     "name": "stderr",
     "output_type": "stream",
     "text": [
      "Training: 100%|██████████| 352/352 [01:15<00:00,  4.65it/s]\n",
      "Evaluating: 100%|██████████| 40/40 [00:03<00:00, 11.98it/s]\n"
     ]
    },
    {
     "name": "stdout",
     "output_type": "stream",
     "text": [
      "Train Loss: 0.2858, Acc: 0.8997, Top-5: 0.9974\n",
      "Val Loss: 0.4770, Acc: 0.8380, Top-5: 0.9942\n",
      "⚠️ No improvement for 1 epochs. Best accuracy: 0.8504\n",
      "\n",
      "Epoch 20/100\n",
      "Learning rate: 0.010000\n"
     ]
    },
    {
     "name": "stderr",
     "output_type": "stream",
     "text": [
      "Training: 100%|██████████| 352/352 [01:17<00:00,  4.54it/s]\n",
      "Evaluating: 100%|██████████| 40/40 [00:04<00:00,  8.20it/s]\n"
     ]
    },
    {
     "name": "stdout",
     "output_type": "stream",
     "text": [
      "Train Loss: 0.2734, Acc: 0.9041, Top-5: 0.9979\n",
      "Val Loss: 0.4403, Acc: 0.8492, Top-5: 0.9936\n",
      "⚠️ No improvement for 2 epochs. Best accuracy: 0.8504\n",
      "Saved checkpoint to checkpoints/cbam/cbam_epoch_20.pth\n",
      "\n",
      "Epoch 21/100\n",
      "Learning rate: 0.010000\n"
     ]
    },
    {
     "name": "stderr",
     "output_type": "stream",
     "text": [
      "Training: 100%|██████████| 352/352 [01:15<00:00,  4.65it/s]\n",
      "Evaluating: 100%|██████████| 40/40 [00:04<00:00,  8.34it/s]\n"
     ]
    },
    {
     "name": "stdout",
     "output_type": "stream",
     "text": [
      "Train Loss: 0.2579, Acc: 0.9097, Top-5: 0.9980\n",
      "Val Loss: 0.4299, Acc: 0.8534, Top-5: 0.9928\n",
      "✅ Saved best model with validation accuracy: 0.8534 (improved by 0.0030)\n",
      "\n",
      "Epoch 22/100\n",
      "Learning rate: 0.010000\n"
     ]
    },
    {
     "name": "stderr",
     "output_type": "stream",
     "text": [
      "Training: 100%|██████████| 352/352 [01:17<00:00,  4.53it/s]\n",
      "Evaluating: 100%|██████████| 40/40 [00:04<00:00,  8.49it/s]\n"
     ]
    },
    {
     "name": "stdout",
     "output_type": "stream",
     "text": [
      "Train Loss: 0.2463, Acc: 0.9147, Top-5: 0.9982\n",
      "Val Loss: 0.3920, Acc: 0.8704, Top-5: 0.9962\n",
      "✅ Saved best model with validation accuracy: 0.8704 (improved by 0.0170)\n",
      "\n",
      "Epoch 23/100\n",
      "Learning rate: 0.010000\n"
     ]
    },
    {
     "name": "stderr",
     "output_type": "stream",
     "text": [
      "Training: 100%|██████████| 352/352 [01:15<00:00,  4.69it/s]\n",
      "Evaluating: 100%|██████████| 40/40 [00:04<00:00,  9.13it/s]\n"
     ]
    },
    {
     "name": "stdout",
     "output_type": "stream",
     "text": [
      "Train Loss: 0.2365, Acc: 0.9177, Top-5: 0.9985\n",
      "Val Loss: 0.4496, Acc: 0.8578, Top-5: 0.9952\n",
      "⚠️ No improvement for 1 epochs. Best accuracy: 0.8704\n",
      "\n",
      "Epoch 24/100\n",
      "Learning rate: 0.010000\n"
     ]
    },
    {
     "name": "stderr",
     "output_type": "stream",
     "text": [
      "Training: 100%|██████████| 352/352 [01:16<00:00,  4.60it/s]\n",
      "Evaluating: 100%|██████████| 40/40 [00:03<00:00, 11.98it/s]\n"
     ]
    },
    {
     "name": "stdout",
     "output_type": "stream",
     "text": [
      "Train Loss: 0.2224, Acc: 0.9214, Top-5: 0.9985\n",
      "Val Loss: 0.4139, Acc: 0.8604, Top-5: 0.9948\n",
      "⚠️ No improvement for 2 epochs. Best accuracy: 0.8704\n",
      "\n",
      "Epoch 25/100\n",
      "Learning rate: 0.010000\n"
     ]
    },
    {
     "name": "stderr",
     "output_type": "stream",
     "text": [
      "Training: 100%|██████████| 352/352 [01:17<00:00,  4.56it/s]\n",
      "Evaluating: 100%|██████████| 40/40 [00:05<00:00,  7.64it/s]\n"
     ]
    },
    {
     "name": "stdout",
     "output_type": "stream",
     "text": [
      "Train Loss: 0.2152, Acc: 0.9254, Top-5: 0.9986\n",
      "Val Loss: 0.4210, Acc: 0.8692, Top-5: 0.9940\n",
      "⚠️ No improvement for 3 epochs. Best accuracy: 0.8704\n",
      "\n",
      "Epoch 26/100\n",
      "Learning rate: 0.010000\n"
     ]
    },
    {
     "name": "stderr",
     "output_type": "stream",
     "text": [
      "Training: 100%|██████████| 352/352 [01:16<00:00,  4.59it/s]\n",
      "Evaluating: 100%|██████████| 40/40 [00:04<00:00,  8.44it/s]\n"
     ]
    },
    {
     "name": "stdout",
     "output_type": "stream",
     "text": [
      "Train Loss: 0.2025, Acc: 0.9295, Top-5: 0.9987\n",
      "Val Loss: 0.3897, Acc: 0.8734, Top-5: 0.9964\n",
      "✅ Saved best model with validation accuracy: 0.8734 (improved by 0.0030)\n",
      "\n",
      "Epoch 27/100\n",
      "Learning rate: 0.010000\n"
     ]
    },
    {
     "name": "stderr",
     "output_type": "stream",
     "text": [
      "Training: 100%|██████████| 352/352 [01:16<00:00,  4.57it/s]\n",
      "Evaluating: 100%|██████████| 40/40 [00:04<00:00,  9.28it/s]\n"
     ]
    },
    {
     "name": "stdout",
     "output_type": "stream",
     "text": [
      "Train Loss: 0.1963, Acc: 0.9314, Top-5: 0.9990\n",
      "Val Loss: 0.4235, Acc: 0.8654, Top-5: 0.9954\n",
      "⚠️ No improvement for 1 epochs. Best accuracy: 0.8734\n",
      "\n",
      "Epoch 28/100\n",
      "Learning rate: 0.010000\n"
     ]
    },
    {
     "name": "stderr",
     "output_type": "stream",
     "text": [
      "Training: 100%|██████████| 352/352 [01:16<00:00,  4.63it/s]\n",
      "Evaluating: 100%|██████████| 40/40 [00:04<00:00,  8.24it/s]\n"
     ]
    },
    {
     "name": "stdout",
     "output_type": "stream",
     "text": [
      "Train Loss: 0.1933, Acc: 0.9319, Top-5: 0.9990\n",
      "Val Loss: 0.4248, Acc: 0.8594, Top-5: 0.9948\n",
      "⚠️ No improvement for 2 epochs. Best accuracy: 0.8734\n",
      "\n",
      "Epoch 29/100\n",
      "Learning rate: 0.010000\n"
     ]
    },
    {
     "name": "stderr",
     "output_type": "stream",
     "text": [
      "Training: 100%|██████████| 352/352 [01:15<00:00,  4.66it/s]\n",
      "Evaluating: 100%|██████████| 40/40 [00:04<00:00,  8.41it/s]\n"
     ]
    },
    {
     "name": "stdout",
     "output_type": "stream",
     "text": [
      "Train Loss: 0.1816, Acc: 0.9355, Top-5: 0.9995\n",
      "Val Loss: 0.4356, Acc: 0.8642, Top-5: 0.9936\n",
      "⚠️ No improvement for 3 epochs. Best accuracy: 0.8734\n",
      "\n",
      "Epoch 30/100\n",
      "Learning rate: 0.010000\n"
     ]
    },
    {
     "name": "stderr",
     "output_type": "stream",
     "text": [
      "Training: 100%|██████████| 352/352 [01:16<00:00,  4.59it/s]\n",
      "Evaluating: 100%|██████████| 40/40 [00:04<00:00,  8.43it/s]\n"
     ]
    },
    {
     "name": "stdout",
     "output_type": "stream",
     "text": [
      "Train Loss: 0.1735, Acc: 0.9394, Top-5: 0.9993\n",
      "Val Loss: 0.3705, Acc: 0.8810, Top-5: 0.9954\n",
      "✅ Saved best model with validation accuracy: 0.8810 (improved by 0.0076)\n",
      "Saved checkpoint to checkpoints/cbam/cbam_epoch_30.pth\n",
      "\n",
      "Epoch 31/100\n",
      "Learning rate: 0.001000\n"
     ]
    },
    {
     "name": "stderr",
     "output_type": "stream",
     "text": [
      "Training: 100%|██████████| 352/352 [01:16<00:00,  4.59it/s]\n",
      "Evaluating: 100%|██████████| 40/40 [00:04<00:00,  9.05it/s]\n"
     ]
    },
    {
     "name": "stdout",
     "output_type": "stream",
     "text": [
      "Train Loss: 0.1067, Acc: 0.9646, Top-5: 0.9997\n",
      "Val Loss: 0.3100, Acc: 0.9032, Top-5: 0.9962\n",
      "✅ Saved best model with validation accuracy: 0.9032 (improved by 0.0222)\n",
      "\n",
      "Epoch 32/100\n",
      "Learning rate: 0.001000\n"
     ]
    },
    {
     "name": "stderr",
     "output_type": "stream",
     "text": [
      "Training: 100%|██████████| 352/352 [01:16<00:00,  4.59it/s]\n",
      "Evaluating: 100%|██████████| 40/40 [00:03<00:00, 11.10it/s]\n"
     ]
    },
    {
     "name": "stdout",
     "output_type": "stream",
     "text": [
      "Train Loss: 0.0862, Acc: 0.9730, Top-5: 0.9998\n",
      "Val Loss: 0.3046, Acc: 0.9008, Top-5: 0.9972\n",
      "⚠️ No improvement for 1 epochs. Best accuracy: 0.9032\n",
      "\n",
      "Epoch 33/100\n",
      "Learning rate: 0.001000\n"
     ]
    },
    {
     "name": "stderr",
     "output_type": "stream",
     "text": [
      "Training: 100%|██████████| 352/352 [01:17<00:00,  4.56it/s]\n",
      "Evaluating: 100%|██████████| 40/40 [00:04<00:00,  8.04it/s]\n"
     ]
    },
    {
     "name": "stdout",
     "output_type": "stream",
     "text": [
      "Train Loss: 0.0777, Acc: 0.9750, Top-5: 0.9998\n",
      "Val Loss: 0.3083, Acc: 0.8996, Top-5: 0.9974\n",
      "⚠️ No improvement for 2 epochs. Best accuracy: 0.9032\n",
      "\n",
      "Epoch 34/100\n",
      "Learning rate: 0.001000\n"
     ]
    },
    {
     "name": "stderr",
     "output_type": "stream",
     "text": [
      "Training: 100%|██████████| 352/352 [01:15<00:00,  4.65it/s]\n",
      "Evaluating: 100%|██████████| 40/40 [00:04<00:00,  8.63it/s]\n"
     ]
    },
    {
     "name": "stdout",
     "output_type": "stream",
     "text": [
      "Train Loss: 0.0697, Acc: 0.9780, Top-5: 0.9998\n",
      "Val Loss: 0.3066, Acc: 0.9048, Top-5: 0.9978\n",
      "✅ Saved best model with validation accuracy: 0.9048 (improved by 0.0016)\n",
      "\n",
      "Epoch 35/100\n",
      "Learning rate: 0.001000\n"
     ]
    },
    {
     "name": "stderr",
     "output_type": "stream",
     "text": [
      "Training: 100%|██████████| 352/352 [01:16<00:00,  4.60it/s]\n",
      "Evaluating: 100%|██████████| 40/40 [00:04<00:00,  8.43it/s]\n"
     ]
    },
    {
     "name": "stdout",
     "output_type": "stream",
     "text": [
      "Train Loss: 0.0643, Acc: 0.9806, Top-5: 0.9998\n",
      "Val Loss: 0.3038, Acc: 0.9050, Top-5: 0.9972\n",
      "✅ Saved best model with validation accuracy: 0.9050 (improved by 0.0002)\n",
      "\n",
      "Epoch 36/100\n",
      "Learning rate: 0.001000\n"
     ]
    },
    {
     "name": "stderr",
     "output_type": "stream",
     "text": [
      "Training: 100%|██████████| 352/352 [01:15<00:00,  4.66it/s]\n",
      "Evaluating: 100%|██████████| 40/40 [00:04<00:00,  8.80it/s]\n"
     ]
    },
    {
     "name": "stdout",
     "output_type": "stream",
     "text": [
      "Train Loss: 0.0616, Acc: 0.9808, Top-5: 0.9998\n",
      "Val Loss: 0.3218, Acc: 0.9042, Top-5: 0.9962\n",
      "⚠️ No improvement for 1 epochs. Best accuracy: 0.9050\n",
      "\n",
      "Epoch 37/100\n",
      "Learning rate: 0.001000\n"
     ]
    },
    {
     "name": "stderr",
     "output_type": "stream",
     "text": [
      "Training: 100%|██████████| 352/352 [01:17<00:00,  4.56it/s]\n",
      "Evaluating: 100%|██████████| 40/40 [00:03<00:00, 10.55it/s]\n"
     ]
    },
    {
     "name": "stdout",
     "output_type": "stream",
     "text": [
      "Train Loss: 0.0561, Acc: 0.9835, Top-5: 0.9999\n",
      "Val Loss: 0.3250, Acc: 0.9022, Top-5: 0.9964\n",
      "⚠️ No improvement for 2 epochs. Best accuracy: 0.9050\n",
      "\n",
      "Epoch 38/100\n",
      "Learning rate: 0.001000\n"
     ]
    },
    {
     "name": "stderr",
     "output_type": "stream",
     "text": [
      "Training: 100%|██████████| 352/352 [01:16<00:00,  4.60it/s]\n",
      "Evaluating: 100%|██████████| 40/40 [00:04<00:00,  8.50it/s]\n"
     ]
    },
    {
     "name": "stdout",
     "output_type": "stream",
     "text": [
      "Train Loss: 0.0546, Acc: 0.9831, Top-5: 0.9999\n",
      "Val Loss: 0.3142, Acc: 0.9010, Top-5: 0.9974\n",
      "⚠️ No improvement for 3 epochs. Best accuracy: 0.9050\n",
      "\n",
      "Epoch 39/100\n",
      "Learning rate: 0.001000\n"
     ]
    },
    {
     "name": "stderr",
     "output_type": "stream",
     "text": [
      "Training: 100%|██████████| 352/352 [01:14<00:00,  4.73it/s]\n",
      "Evaluating: 100%|██████████| 40/40 [00:04<00:00,  9.03it/s]\n"
     ]
    },
    {
     "name": "stdout",
     "output_type": "stream",
     "text": [
      "Train Loss: 0.0508, Acc: 0.9852, Top-5: 0.9999\n",
      "Val Loss: 0.3199, Acc: 0.9068, Top-5: 0.9958\n",
      "✅ Saved best model with validation accuracy: 0.9068 (improved by 0.0018)\n",
      "\n",
      "Epoch 40/100\n",
      "Learning rate: 0.001000\n"
     ]
    },
    {
     "name": "stderr",
     "output_type": "stream",
     "text": [
      "Training: 100%|██████████| 352/352 [01:15<00:00,  4.69it/s]\n",
      "Evaluating: 100%|██████████| 40/40 [00:04<00:00,  9.22it/s]\n"
     ]
    },
    {
     "name": "stdout",
     "output_type": "stream",
     "text": [
      "Train Loss: 0.0501, Acc: 0.9845, Top-5: 1.0000\n",
      "Val Loss: 0.3289, Acc: 0.8986, Top-5: 0.9972\n",
      "⚠️ No improvement for 1 epochs. Best accuracy: 0.9068\n",
      "Saved checkpoint to checkpoints/cbam/cbam_epoch_40.pth\n",
      "\n",
      "Epoch 41/100\n",
      "Learning rate: 0.001000\n"
     ]
    },
    {
     "name": "stderr",
     "output_type": "stream",
     "text": [
      "Training: 100%|██████████| 352/352 [01:13<00:00,  4.76it/s]\n",
      "Evaluating: 100%|██████████| 40/40 [00:04<00:00,  9.08it/s]\n"
     ]
    },
    {
     "name": "stdout",
     "output_type": "stream",
     "text": [
      "Train Loss: 0.0459, Acc: 0.9868, Top-5: 1.0000\n",
      "Val Loss: 0.3127, Acc: 0.9076, Top-5: 0.9976\n",
      "✅ Saved best model with validation accuracy: 0.9076 (improved by 0.0008)\n",
      "\n",
      "Epoch 42/100\n",
      "Learning rate: 0.001000\n"
     ]
    },
    {
     "name": "stderr",
     "output_type": "stream",
     "text": [
      "Training: 100%|██████████| 352/352 [01:15<00:00,  4.69it/s]\n",
      "Evaluating: 100%|██████████| 40/40 [00:04<00:00,  9.06it/s]\n"
     ]
    },
    {
     "name": "stdout",
     "output_type": "stream",
     "text": [
      "Train Loss: 0.0438, Acc: 0.9871, Top-5: 0.9999\n",
      "Val Loss: 0.3314, Acc: 0.9036, Top-5: 0.9962\n",
      "⚠️ No improvement for 1 epochs. Best accuracy: 0.9076\n",
      "\n",
      "Epoch 43/100\n",
      "Learning rate: 0.001000\n"
     ]
    },
    {
     "name": "stderr",
     "output_type": "stream",
     "text": [
      "Training: 100%|██████████| 352/352 [01:13<00:00,  4.76it/s]\n",
      "Evaluating: 100%|██████████| 40/40 [00:04<00:00,  9.27it/s]\n"
     ]
    },
    {
     "name": "stdout",
     "output_type": "stream",
     "text": [
      "Train Loss: 0.0428, Acc: 0.9873, Top-5: 0.9999\n",
      "Val Loss: 0.3147, Acc: 0.9090, Top-5: 0.9972\n",
      "✅ Saved best model with validation accuracy: 0.9090 (improved by 0.0014)\n",
      "\n",
      "Epoch 44/100\n",
      "Learning rate: 0.001000\n"
     ]
    },
    {
     "name": "stderr",
     "output_type": "stream",
     "text": [
      "Training: 100%|██████████| 352/352 [01:14<00:00,  4.72it/s]\n",
      "Evaluating: 100%|██████████| 40/40 [00:04<00:00,  9.17it/s]\n"
     ]
    },
    {
     "name": "stdout",
     "output_type": "stream",
     "text": [
      "Train Loss: 0.0421, Acc: 0.9878, Top-5: 1.0000\n",
      "Val Loss: 0.3300, Acc: 0.9048, Top-5: 0.9972\n",
      "⚠️ No improvement for 1 epochs. Best accuracy: 0.9090\n",
      "\n",
      "Epoch 45/100\n",
      "Learning rate: 0.001000\n"
     ]
    },
    {
     "name": "stderr",
     "output_type": "stream",
     "text": [
      "Training: 100%|██████████| 352/352 [01:12<00:00,  4.83it/s]\n",
      "Evaluating: 100%|██████████| 40/40 [00:04<00:00,  8.73it/s]\n"
     ]
    },
    {
     "name": "stdout",
     "output_type": "stream",
     "text": [
      "Train Loss: 0.0386, Acc: 0.9885, Top-5: 1.0000\n",
      "Val Loss: 0.3376, Acc: 0.9086, Top-5: 0.9976\n",
      "⚠️ No improvement for 2 epochs. Best accuracy: 0.9090\n",
      "\n",
      "Epoch 46/100\n",
      "Learning rate: 0.001000\n"
     ]
    },
    {
     "name": "stderr",
     "output_type": "stream",
     "text": [
      "Training: 100%|██████████| 352/352 [01:15<00:00,  4.68it/s]\n",
      "Evaluating: 100%|██████████| 40/40 [00:04<00:00,  9.51it/s]\n"
     ]
    },
    {
     "name": "stdout",
     "output_type": "stream",
     "text": [
      "Train Loss: 0.0369, Acc: 0.9896, Top-5: 1.0000\n",
      "Val Loss: 0.3295, Acc: 0.9038, Top-5: 0.9966\n",
      "⚠️ No improvement for 3 epochs. Best accuracy: 0.9090\n",
      "\n",
      "Epoch 47/100\n",
      "Learning rate: 0.001000\n"
     ]
    },
    {
     "name": "stderr",
     "output_type": "stream",
     "text": [
      "Training: 100%|██████████| 352/352 [01:13<00:00,  4.78it/s]\n",
      "Evaluating: 100%|██████████| 40/40 [00:04<00:00,  9.22it/s]\n"
     ]
    },
    {
     "name": "stdout",
     "output_type": "stream",
     "text": [
      "Train Loss: 0.0360, Acc: 0.9895, Top-5: 0.9999\n",
      "Val Loss: 0.3367, Acc: 0.9042, Top-5: 0.9970\n",
      "⚠️ No improvement for 4 epochs. Best accuracy: 0.9090\n",
      "\n",
      "Epoch 48/100\n",
      "Learning rate: 0.001000\n"
     ]
    },
    {
     "name": "stderr",
     "output_type": "stream",
     "text": [
      "Training: 100%|██████████| 352/352 [01:14<00:00,  4.73it/s]\n",
      "Evaluating: 100%|██████████| 40/40 [00:03<00:00, 11.54it/s]\n"
     ]
    },
    {
     "name": "stdout",
     "output_type": "stream",
     "text": [
      "Train Loss: 0.0348, Acc: 0.9897, Top-5: 1.0000\n",
      "Val Loss: 0.3166, Acc: 0.9072, Top-5: 0.9982\n",
      "⚠️ No improvement for 5 epochs. Best accuracy: 0.9090\n",
      "\n",
      "Epoch 49/100\n",
      "Learning rate: 0.001000\n"
     ]
    },
    {
     "name": "stderr",
     "output_type": "stream",
     "text": [
      "Training: 100%|██████████| 352/352 [01:15<00:00,  4.69it/s]\n",
      "Evaluating: 100%|██████████| 40/40 [00:04<00:00,  9.12it/s]\n"
     ]
    },
    {
     "name": "stdout",
     "output_type": "stream",
     "text": [
      "Train Loss: 0.0346, Acc: 0.9902, Top-5: 0.9999\n",
      "Val Loss: 0.3317, Acc: 0.9066, Top-5: 0.9974\n",
      "⚠️ No improvement for 6 epochs. Best accuracy: 0.9090\n",
      "\n",
      "Epoch 50/100\n",
      "Learning rate: 0.001000\n"
     ]
    },
    {
     "name": "stderr",
     "output_type": "stream",
     "text": [
      "Training: 100%|██████████| 352/352 [01:14<00:00,  4.75it/s]\n",
      "Evaluating: 100%|██████████| 40/40 [00:04<00:00,  8.93it/s]\n"
     ]
    },
    {
     "name": "stdout",
     "output_type": "stream",
     "text": [
      "Train Loss: 0.0324, Acc: 0.9905, Top-5: 0.9999\n",
      "Val Loss: 0.3407, Acc: 0.9068, Top-5: 0.9978\n",
      "⚠️ No improvement for 7 epochs. Best accuracy: 0.9090\n",
      "Saved checkpoint to checkpoints/cbam/cbam_epoch_50.pth\n",
      "\n",
      "Epoch 51/100\n",
      "Learning rate: 0.001000\n"
     ]
    },
    {
     "name": "stderr",
     "output_type": "stream",
     "text": [
      "Training: 100%|██████████| 352/352 [01:14<00:00,  4.72it/s]\n",
      "Evaluating: 100%|██████████| 40/40 [00:04<00:00,  9.14it/s]\n"
     ]
    },
    {
     "name": "stdout",
     "output_type": "stream",
     "text": [
      "Train Loss: 0.0320, Acc: 0.9901, Top-5: 1.0000\n",
      "Val Loss: 0.3364, Acc: 0.9054, Top-5: 0.9974\n",
      "⚠️ No improvement for 8 epochs. Best accuracy: 0.9090\n",
      "\n",
      "Epoch 52/100\n",
      "Learning rate: 0.001000\n"
     ]
    },
    {
     "name": "stderr",
     "output_type": "stream",
     "text": [
      "Training: 100%|██████████| 352/352 [01:13<00:00,  4.78it/s]\n",
      "Evaluating: 100%|██████████| 40/40 [00:04<00:00,  9.36it/s]\n"
     ]
    },
    {
     "name": "stdout",
     "output_type": "stream",
     "text": [
      "Train Loss: 0.0301, Acc: 0.9916, Top-5: 1.0000\n",
      "Val Loss: 0.3464, Acc: 0.9058, Top-5: 0.9966\n",
      "⚠️ No improvement for 9 epochs. Best accuracy: 0.9090\n",
      "\n",
      "Epoch 53/100\n",
      "Learning rate: 0.001000\n"
     ]
    },
    {
     "name": "stderr",
     "output_type": "stream",
     "text": [
      "Training: 100%|██████████| 352/352 [01:14<00:00,  4.70it/s]\n",
      "Evaluating: 100%|██████████| 40/40 [00:04<00:00,  8.63it/s]\n"
     ]
    },
    {
     "name": "stdout",
     "output_type": "stream",
     "text": [
      "Train Loss: 0.0290, Acc: 0.9917, Top-5: 1.0000\n",
      "Val Loss: 0.3380, Acc: 0.9096, Top-5: 0.9964\n",
      "✅ Saved best model with validation accuracy: 0.9096 (improved by 0.0006)\n",
      "\n",
      "Epoch 54/100\n",
      "Learning rate: 0.001000\n"
     ]
    },
    {
     "name": "stderr",
     "output_type": "stream",
     "text": [
      "Training: 100%|██████████| 352/352 [01:12<00:00,  4.82it/s]\n",
      "Evaluating: 100%|██████████| 40/40 [00:04<00:00,  9.10it/s]\n"
     ]
    },
    {
     "name": "stdout",
     "output_type": "stream",
     "text": [
      "Train Loss: 0.0287, Acc: 0.9918, Top-5: 1.0000\n",
      "Val Loss: 0.3490, Acc: 0.9062, Top-5: 0.9962\n",
      "⚠️ No improvement for 1 epochs. Best accuracy: 0.9096\n",
      "\n",
      "Epoch 55/100\n",
      "Learning rate: 0.001000\n"
     ]
    },
    {
     "name": "stderr",
     "output_type": "stream",
     "text": [
      "Training: 100%|██████████| 352/352 [01:14<00:00,  4.72it/s]\n",
      "Evaluating: 100%|██████████| 40/40 [00:04<00:00,  9.09it/s]\n"
     ]
    },
    {
     "name": "stdout",
     "output_type": "stream",
     "text": [
      "Train Loss: 0.0272, Acc: 0.9928, Top-5: 1.0000\n",
      "Val Loss: 0.3496, Acc: 0.9042, Top-5: 0.9972\n",
      "⚠️ No improvement for 2 epochs. Best accuracy: 0.9096\n",
      "\n",
      "Epoch 56/100\n",
      "Learning rate: 0.001000\n"
     ]
    },
    {
     "name": "stderr",
     "output_type": "stream",
     "text": [
      "Training: 100%|██████████| 352/352 [01:13<00:00,  4.77it/s]\n",
      "Evaluating: 100%|██████████| 40/40 [00:04<00:00,  9.06it/s]\n"
     ]
    },
    {
     "name": "stdout",
     "output_type": "stream",
     "text": [
      "Train Loss: 0.0263, Acc: 0.9932, Top-5: 1.0000\n",
      "Val Loss: 0.3500, Acc: 0.9086, Top-5: 0.9962\n",
      "⚠️ No improvement for 3 epochs. Best accuracy: 0.9096\n",
      "\n",
      "Epoch 57/100\n",
      "Learning rate: 0.001000\n"
     ]
    },
    {
     "name": "stderr",
     "output_type": "stream",
     "text": [
      "Training: 100%|██████████| 352/352 [01:14<00:00,  4.72it/s]\n",
      "Evaluating: 100%|██████████| 40/40 [00:04<00:00,  9.02it/s]\n"
     ]
    },
    {
     "name": "stdout",
     "output_type": "stream",
     "text": [
      "Train Loss: 0.0249, Acc: 0.9934, Top-5: 1.0000\n",
      "Val Loss: 0.3574, Acc: 0.9070, Top-5: 0.9966\n",
      "⚠️ No improvement for 4 epochs. Best accuracy: 0.9096\n",
      "\n",
      "Epoch 58/100\n",
      "Learning rate: 0.001000\n"
     ]
    },
    {
     "name": "stderr",
     "output_type": "stream",
     "text": [
      "Training: 100%|██████████| 352/352 [01:13<00:00,  4.82it/s]\n",
      "Evaluating: 100%|██████████| 40/40 [00:04<00:00,  8.84it/s]\n"
     ]
    },
    {
     "name": "stdout",
     "output_type": "stream",
     "text": [
      "Train Loss: 0.0255, Acc: 0.9929, Top-5: 1.0000\n",
      "Val Loss: 0.3470, Acc: 0.9090, Top-5: 0.9956\n",
      "⚠️ No improvement for 5 epochs. Best accuracy: 0.9096\n",
      "\n",
      "Epoch 59/100\n",
      "Learning rate: 0.001000\n"
     ]
    },
    {
     "name": "stderr",
     "output_type": "stream",
     "text": [
      "Training: 100%|██████████| 352/352 [01:14<00:00,  4.71it/s]\n",
      "Evaluating: 100%|██████████| 40/40 [00:04<00:00,  8.85it/s]\n"
     ]
    },
    {
     "name": "stdout",
     "output_type": "stream",
     "text": [
      "Train Loss: 0.0267, Acc: 0.9924, Top-5: 1.0000\n",
      "Val Loss: 0.3405, Acc: 0.9070, Top-5: 0.9964\n",
      "⚠️ No improvement for 6 epochs. Best accuracy: 0.9096\n",
      "\n",
      "Epoch 60/100\n",
      "Learning rate: 0.001000\n"
     ]
    },
    {
     "name": "stderr",
     "output_type": "stream",
     "text": [
      "Training: 100%|██████████| 352/352 [01:13<00:00,  4.80it/s]\n",
      "Evaluating: 100%|██████████| 40/40 [00:04<00:00,  9.07it/s]\n"
     ]
    },
    {
     "name": "stdout",
     "output_type": "stream",
     "text": [
      "Train Loss: 0.0254, Acc: 0.9926, Top-5: 1.0000\n",
      "Val Loss: 0.3422, Acc: 0.9066, Top-5: 0.9964\n",
      "⚠️ No improvement for 7 epochs. Best accuracy: 0.9096\n",
      "Saved checkpoint to checkpoints/cbam/cbam_epoch_60.pth\n",
      "\n",
      "Epoch 61/100\n",
      "Learning rate: 0.000100\n"
     ]
    },
    {
     "name": "stderr",
     "output_type": "stream",
     "text": [
      "Training: 100%|██████████| 352/352 [01:14<00:00,  4.70it/s]\n",
      "Evaluating: 100%|██████████| 40/40 [00:04<00:00,  8.89it/s]\n"
     ]
    },
    {
     "name": "stdout",
     "output_type": "stream",
     "text": [
      "Train Loss: 0.0215, Acc: 0.9945, Top-5: 1.0000\n",
      "Val Loss: 0.3552, Acc: 0.9092, Top-5: 0.9966\n",
      "⚠️ No improvement for 8 epochs. Best accuracy: 0.9096\n",
      "\n",
      "Epoch 62/100\n",
      "Learning rate: 0.000100\n"
     ]
    },
    {
     "name": "stderr",
     "output_type": "stream",
     "text": [
      "Training: 100%|██████████| 352/352 [01:14<00:00,  4.76it/s]\n",
      "Evaluating: 100%|██████████| 40/40 [00:04<00:00,  9.08it/s]\n"
     ]
    },
    {
     "name": "stdout",
     "output_type": "stream",
     "text": [
      "Train Loss: 0.0209, Acc: 0.9946, Top-5: 1.0000\n",
      "Val Loss: 0.3459, Acc: 0.9068, Top-5: 0.9964\n",
      "⚠️ No improvement for 9 epochs. Best accuracy: 0.9096\n",
      "\n",
      "Epoch 63/100\n",
      "Learning rate: 0.000100\n"
     ]
    },
    {
     "name": "stderr",
     "output_type": "stream",
     "text": [
      "Training: 100%|██████████| 352/352 [01:14<00:00,  4.74it/s]\n",
      "Evaluating: 100%|██████████| 40/40 [00:04<00:00,  9.01it/s]\n"
     ]
    },
    {
     "name": "stdout",
     "output_type": "stream",
     "text": [
      "Train Loss: 0.0207, Acc: 0.9950, Top-5: 1.0000\n",
      "Val Loss: 0.3531, Acc: 0.9100, Top-5: 0.9970\n",
      "✅ Saved best model with validation accuracy: 0.9100 (improved by 0.0004)\n",
      "\n",
      "Epoch 64/100\n",
      "Learning rate: 0.000100\n"
     ]
    },
    {
     "name": "stderr",
     "output_type": "stream",
     "text": [
      "Training: 100%|██████████| 352/352 [01:14<00:00,  4.72it/s]\n",
      "Evaluating: 100%|██████████| 40/40 [00:04<00:00,  9.58it/s]\n"
     ]
    },
    {
     "name": "stdout",
     "output_type": "stream",
     "text": [
      "Train Loss: 0.0206, Acc: 0.9950, Top-5: 1.0000\n",
      "Val Loss: 0.3586, Acc: 0.9044, Top-5: 0.9962\n",
      "⚠️ No improvement for 1 epochs. Best accuracy: 0.9100\n",
      "\n",
      "Epoch 65/100\n",
      "Learning rate: 0.000100\n"
     ]
    },
    {
     "name": "stderr",
     "output_type": "stream",
     "text": [
      "Training: 100%|██████████| 352/352 [01:15<00:00,  4.69it/s]\n",
      "Evaluating: 100%|██████████| 40/40 [00:03<00:00, 12.28it/s]\n"
     ]
    },
    {
     "name": "stdout",
     "output_type": "stream",
     "text": [
      "Train Loss: 0.0191, Acc: 0.9952, Top-5: 1.0000\n",
      "Val Loss: 0.3559, Acc: 0.9062, Top-5: 0.9972\n",
      "⚠️ No improvement for 2 epochs. Best accuracy: 0.9100\n",
      "\n",
      "Epoch 66/100\n",
      "Learning rate: 0.000100\n"
     ]
    },
    {
     "name": "stderr",
     "output_type": "stream",
     "text": [
      "Training: 100%|██████████| 352/352 [01:14<00:00,  4.74it/s]\n",
      "Evaluating: 100%|██████████| 40/40 [00:04<00:00,  9.23it/s]\n"
     ]
    },
    {
     "name": "stdout",
     "output_type": "stream",
     "text": [
      "Train Loss: 0.0205, Acc: 0.9947, Top-5: 1.0000\n",
      "Val Loss: 0.3313, Acc: 0.9116, Top-5: 0.9974\n",
      "✅ Saved best model with validation accuracy: 0.9116 (improved by 0.0016)\n",
      "\n",
      "Epoch 67/100\n",
      "Learning rate: 0.000100\n"
     ]
    },
    {
     "name": "stderr",
     "output_type": "stream",
     "text": [
      "Training: 100%|██████████| 352/352 [01:14<00:00,  4.75it/s]\n",
      "Evaluating: 100%|██████████| 40/40 [00:03<00:00, 11.49it/s]\n"
     ]
    },
    {
     "name": "stdout",
     "output_type": "stream",
     "text": [
      "Train Loss: 0.0199, Acc: 0.9949, Top-5: 1.0000\n",
      "Val Loss: 0.3588, Acc: 0.9056, Top-5: 0.9970\n",
      "⚠️ No improvement for 1 epochs. Best accuracy: 0.9116\n",
      "\n",
      "Epoch 68/100\n",
      "Learning rate: 0.000100\n"
     ]
    },
    {
     "name": "stderr",
     "output_type": "stream",
     "text": [
      "Training: 100%|██████████| 352/352 [01:15<00:00,  4.68it/s]\n",
      "Evaluating: 100%|██████████| 40/40 [00:04<00:00,  9.14it/s]\n"
     ]
    },
    {
     "name": "stdout",
     "output_type": "stream",
     "text": [
      "Train Loss: 0.0200, Acc: 0.9948, Top-5: 1.0000\n",
      "Val Loss: 0.3438, Acc: 0.9102, Top-5: 0.9976\n",
      "⚠️ No improvement for 2 epochs. Best accuracy: 0.9116\n",
      "\n",
      "Epoch 69/100\n",
      "Learning rate: 0.000100\n"
     ]
    },
    {
     "name": "stderr",
     "output_type": "stream",
     "text": [
      "Training: 100%|██████████| 352/352 [01:13<00:00,  4.80it/s]\n",
      "Evaluating: 100%|██████████| 40/40 [00:04<00:00,  9.04it/s]\n"
     ]
    },
    {
     "name": "stdout",
     "output_type": "stream",
     "text": [
      "Train Loss: 0.0205, Acc: 0.9950, Top-5: 1.0000\n",
      "Val Loss: 0.3458, Acc: 0.9104, Top-5: 0.9968\n",
      "⚠️ No improvement for 3 epochs. Best accuracy: 0.9116\n",
      "\n",
      "Epoch 70/100\n",
      "Learning rate: 0.000100\n"
     ]
    },
    {
     "name": "stderr",
     "output_type": "stream",
     "text": [
      "Training: 100%|██████████| 352/352 [01:13<00:00,  4.76it/s]\n",
      "Evaluating: 100%|██████████| 40/40 [00:04<00:00,  8.96it/s]\n"
     ]
    },
    {
     "name": "stdout",
     "output_type": "stream",
     "text": [
      "Train Loss: 0.0188, Acc: 0.9954, Top-5: 1.0000\n",
      "Val Loss: 0.3348, Acc: 0.9096, Top-5: 0.9962\n",
      "⚠️ No improvement for 4 epochs. Best accuracy: 0.9116\n",
      "Saved checkpoint to checkpoints/cbam/cbam_epoch_70.pth\n",
      "\n",
      "Epoch 71/100\n",
      "Learning rate: 0.000100\n"
     ]
    },
    {
     "name": "stderr",
     "output_type": "stream",
     "text": [
      "Training: 100%|██████████| 352/352 [01:15<00:00,  4.67it/s]\n",
      "Evaluating: 100%|██████████| 40/40 [00:04<00:00,  8.89it/s]\n"
     ]
    },
    {
     "name": "stdout",
     "output_type": "stream",
     "text": [
      "Train Loss: 0.0183, Acc: 0.9955, Top-5: 1.0000\n",
      "Val Loss: 0.3487, Acc: 0.9050, Top-5: 0.9964\n",
      "⚠️ No improvement for 5 epochs. Best accuracy: 0.9116\n",
      "\n",
      "Epoch 72/100\n",
      "Learning rate: 0.000100\n"
     ]
    },
    {
     "name": "stderr",
     "output_type": "stream",
     "text": [
      "Training: 100%|██████████| 352/352 [01:14<00:00,  4.72it/s]\n",
      "Evaluating: 100%|██████████| 40/40 [00:04<00:00,  9.03it/s]\n"
     ]
    },
    {
     "name": "stdout",
     "output_type": "stream",
     "text": [
      "Train Loss: 0.0187, Acc: 0.9954, Top-5: 1.0000\n",
      "Val Loss: 0.3413, Acc: 0.9088, Top-5: 0.9974\n",
      "⚠️ No improvement for 6 epochs. Best accuracy: 0.9116\n",
      "\n",
      "Epoch 73/100\n",
      "Learning rate: 0.000100\n"
     ]
    },
    {
     "name": "stderr",
     "output_type": "stream",
     "text": [
      "Training: 100%|██████████| 352/352 [01:13<00:00,  4.78it/s]\n",
      "Evaluating: 100%|██████████| 40/40 [00:04<00:00,  9.61it/s]\n"
     ]
    },
    {
     "name": "stdout",
     "output_type": "stream",
     "text": [
      "Train Loss: 0.0191, Acc: 0.9952, Top-5: 1.0000\n",
      "Val Loss: 0.3465, Acc: 0.9108, Top-5: 0.9966\n",
      "⚠️ No improvement for 7 epochs. Best accuracy: 0.9116\n",
      "\n",
      "Epoch 74/100\n",
      "Learning rate: 0.000100\n"
     ]
    },
    {
     "name": "stderr",
     "output_type": "stream",
     "text": [
      "Training: 100%|██████████| 352/352 [01:15<00:00,  4.67it/s]\n",
      "Evaluating: 100%|██████████| 40/40 [00:04<00:00,  9.18it/s]\n"
     ]
    },
    {
     "name": "stdout",
     "output_type": "stream",
     "text": [
      "Train Loss: 0.0182, Acc: 0.9957, Top-5: 1.0000\n",
      "Val Loss: 0.3558, Acc: 0.9056, Top-5: 0.9966\n",
      "⚠️ No improvement for 8 epochs. Best accuracy: 0.9116\n",
      "\n",
      "Epoch 75/100\n",
      "Learning rate: 0.000100\n"
     ]
    },
    {
     "name": "stderr",
     "output_type": "stream",
     "text": [
      "Training: 100%|██████████| 352/352 [01:14<00:00,  4.75it/s]\n",
      "Evaluating: 100%|██████████| 40/40 [00:04<00:00,  9.13it/s]\n"
     ]
    },
    {
     "name": "stdout",
     "output_type": "stream",
     "text": [
      "Train Loss: 0.0185, Acc: 0.9953, Top-5: 1.0000\n",
      "Val Loss: 0.3500, Acc: 0.9082, Top-5: 0.9970\n",
      "⚠️ No improvement for 9 epochs. Best accuracy: 0.9116\n",
      "\n",
      "Epoch 76/100\n",
      "Learning rate: 0.000100\n"
     ]
    },
    {
     "name": "stderr",
     "output_type": "stream",
     "text": [
      "Training: 100%|██████████| 352/352 [01:15<00:00,  4.69it/s]\n",
      "Evaluating: 100%|██████████| 40/40 [00:04<00:00,  8.33it/s]\n"
     ]
    },
    {
     "name": "stdout",
     "output_type": "stream",
     "text": [
      "Train Loss: 0.0184, Acc: 0.9953, Top-5: 1.0000\n",
      "Val Loss: 0.3418, Acc: 0.9102, Top-5: 0.9964\n",
      "⚠️ No improvement for 10 epochs. Best accuracy: 0.9116\n",
      "\n",
      "Epoch 77/100\n",
      "Learning rate: 0.000100\n"
     ]
    },
    {
     "name": "stderr",
     "output_type": "stream",
     "text": [
      "Training: 100%|██████████| 352/352 [01:13<00:00,  4.77it/s]\n",
      "Evaluating: 100%|██████████| 40/40 [00:04<00:00,  9.03it/s]\n"
     ]
    },
    {
     "name": "stdout",
     "output_type": "stream",
     "text": [
      "Train Loss: 0.0183, Acc: 0.9953, Top-5: 1.0000\n",
      "Val Loss: 0.3550, Acc: 0.9090, Top-5: 0.9970\n",
      "⚠️ No improvement for 11 epochs. Best accuracy: 0.9116\n",
      "\n",
      "Epoch 78/100\n",
      "Learning rate: 0.000100\n"
     ]
    },
    {
     "name": "stderr",
     "output_type": "stream",
     "text": [
      "Training: 100%|██████████| 352/352 [01:14<00:00,  4.73it/s]\n",
      "Evaluating: 100%|██████████| 40/40 [00:03<00:00, 11.73it/s]\n"
     ]
    },
    {
     "name": "stdout",
     "output_type": "stream",
     "text": [
      "Train Loss: 0.0177, Acc: 0.9960, Top-5: 1.0000\n",
      "Val Loss: 0.3409, Acc: 0.9090, Top-5: 0.9972\n",
      "⚠️ No improvement for 12 epochs. Best accuracy: 0.9116\n",
      "\n",
      "Epoch 79/100\n",
      "Learning rate: 0.000100\n"
     ]
    },
    {
     "name": "stderr",
     "output_type": "stream",
     "text": [
      "Training: 100%|██████████| 352/352 [01:14<00:00,  4.73it/s]\n",
      "Evaluating: 100%|██████████| 40/40 [00:04<00:00,  9.20it/s]\n"
     ]
    },
    {
     "name": "stdout",
     "output_type": "stream",
     "text": [
      "Train Loss: 0.0180, Acc: 0.9952, Top-5: 1.0000\n",
      "Val Loss: 0.3328, Acc: 0.9098, Top-5: 0.9964\n",
      "⚠️ No improvement for 13 epochs. Best accuracy: 0.9116\n",
      "\n",
      "Epoch 80/100\n",
      "Learning rate: 0.000100\n"
     ]
    },
    {
     "name": "stderr",
     "output_type": "stream",
     "text": [
      "Training: 100%|██████████| 352/352 [01:15<00:00,  4.68it/s]\n",
      "Evaluating: 100%|██████████| 40/40 [00:03<00:00, 13.00it/s]\n"
     ]
    },
    {
     "name": "stdout",
     "output_type": "stream",
     "text": [
      "Train Loss: 0.0174, Acc: 0.9960, Top-5: 1.0000\n",
      "Val Loss: 0.3499, Acc: 0.9112, Top-5: 0.9970\n",
      "⚠️ No improvement for 14 epochs. Best accuracy: 0.9116\n",
      "Saved checkpoint to checkpoints/cbam/cbam_epoch_80.pth\n",
      "\n",
      "Epoch 81/100\n",
      "Learning rate: 0.000100\n"
     ]
    },
    {
     "name": "stderr",
     "output_type": "stream",
     "text": [
      "Training: 100%|██████████| 352/352 [01:14<00:00,  4.70it/s]\n",
      "Evaluating: 100%|██████████| 40/40 [00:04<00:00,  8.63it/s]\n"
     ]
    },
    {
     "name": "stdout",
     "output_type": "stream",
     "text": [
      "Train Loss: 0.0186, Acc: 0.9954, Top-5: 1.0000\n",
      "Val Loss: 0.3417, Acc: 0.9134, Top-5: 0.9964\n",
      "✅ Saved best model with validation accuracy: 0.9134 (improved by 0.0018)\n",
      "\n",
      "Epoch 82/100\n",
      "Learning rate: 0.000100\n"
     ]
    },
    {
     "name": "stderr",
     "output_type": "stream",
     "text": [
      "Training: 100%|██████████| 352/352 [01:12<00:00,  4.85it/s]\n",
      "Evaluating: 100%|██████████| 40/40 [00:04<00:00,  9.28it/s]\n"
     ]
    },
    {
     "name": "stdout",
     "output_type": "stream",
     "text": [
      "Train Loss: 0.0180, Acc: 0.9960, Top-5: 1.0000\n",
      "Val Loss: 0.3505, Acc: 0.9094, Top-5: 0.9964\n",
      "⚠️ No improvement for 1 epochs. Best accuracy: 0.9134\n",
      "\n",
      "Epoch 83/100\n",
      "Learning rate: 0.000100\n"
     ]
    },
    {
     "name": "stderr",
     "output_type": "stream",
     "text": [
      "Training: 100%|██████████| 352/352 [01:15<00:00,  4.68it/s]\n",
      "Evaluating: 100%|██████████| 40/40 [00:04<00:00,  9.55it/s]\n"
     ]
    },
    {
     "name": "stdout",
     "output_type": "stream",
     "text": [
      "Train Loss: 0.0181, Acc: 0.9954, Top-5: 1.0000\n",
      "Val Loss: 0.3549, Acc: 0.9068, Top-5: 0.9970\n",
      "⚠️ No improvement for 2 epochs. Best accuracy: 0.9134\n",
      "\n",
      "Epoch 84/100\n",
      "Learning rate: 0.000100\n"
     ]
    },
    {
     "name": "stderr",
     "output_type": "stream",
     "text": [
      "Training: 100%|██████████| 352/352 [01:13<00:00,  4.81it/s]\n",
      "Evaluating: 100%|██████████| 40/40 [00:04<00:00,  9.25it/s]\n"
     ]
    },
    {
     "name": "stdout",
     "output_type": "stream",
     "text": [
      "Train Loss: 0.0175, Acc: 0.9958, Top-5: 1.0000\n",
      "Val Loss: 0.3493, Acc: 0.9106, Top-5: 0.9968\n",
      "⚠️ No improvement for 3 epochs. Best accuracy: 0.9134\n",
      "\n",
      "Epoch 85/100\n",
      "Learning rate: 0.000100\n"
     ]
    },
    {
     "name": "stderr",
     "output_type": "stream",
     "text": [
      "Training: 100%|██████████| 352/352 [01:14<00:00,  4.73it/s]\n",
      "Evaluating: 100%|██████████| 40/40 [00:04<00:00,  9.14it/s]\n"
     ]
    },
    {
     "name": "stdout",
     "output_type": "stream",
     "text": [
      "Train Loss: 0.0171, Acc: 0.9962, Top-5: 1.0000\n",
      "Val Loss: 0.3514, Acc: 0.9098, Top-5: 0.9964\n",
      "⚠️ No improvement for 4 epochs. Best accuracy: 0.9134\n",
      "\n",
      "Epoch 86/100\n",
      "Learning rate: 0.000100\n"
     ]
    },
    {
     "name": "stderr",
     "output_type": "stream",
     "text": [
      "Training: 100%|██████████| 352/352 [01:14<00:00,  4.75it/s]\n",
      "Evaluating: 100%|██████████| 40/40 [00:04<00:00,  9.29it/s]\n"
     ]
    },
    {
     "name": "stdout",
     "output_type": "stream",
     "text": [
      "Train Loss: 0.0182, Acc: 0.9957, Top-5: 1.0000\n",
      "Val Loss: 0.3444, Acc: 0.9094, Top-5: 0.9964\n",
      "⚠️ No improvement for 5 epochs. Best accuracy: 0.9134\n",
      "\n",
      "Epoch 87/100\n",
      "Learning rate: 0.000100\n"
     ]
    },
    {
     "name": "stderr",
     "output_type": "stream",
     "text": [
      "Training: 100%|██████████| 352/352 [01:14<00:00,  4.73it/s]\n",
      "Evaluating: 100%|██████████| 40/40 [00:04<00:00,  9.00it/s]\n"
     ]
    },
    {
     "name": "stdout",
     "output_type": "stream",
     "text": [
      "Train Loss: 0.0177, Acc: 0.9960, Top-5: 1.0000\n",
      "Val Loss: 0.3474, Acc: 0.9090, Top-5: 0.9964\n",
      "⚠️ No improvement for 6 epochs. Best accuracy: 0.9134\n",
      "\n",
      "Epoch 88/100\n",
      "Learning rate: 0.000100\n"
     ]
    },
    {
     "name": "stderr",
     "output_type": "stream",
     "text": [
      "Training: 100%|██████████| 352/352 [01:13<00:00,  4.81it/s]\n",
      "Evaluating: 100%|██████████| 40/40 [00:04<00:00,  9.15it/s]\n"
     ]
    },
    {
     "name": "stdout",
     "output_type": "stream",
     "text": [
      "Train Loss: 0.0170, Acc: 0.9961, Top-5: 1.0000\n",
      "Val Loss: 0.3570, Acc: 0.9108, Top-5: 0.9964\n",
      "⚠️ No improvement for 7 epochs. Best accuracy: 0.9134\n",
      "\n",
      "Epoch 89/100\n",
      "Learning rate: 0.000100\n"
     ]
    },
    {
     "name": "stderr",
     "output_type": "stream",
     "text": [
      "Training: 100%|██████████| 352/352 [01:15<00:00,  4.67it/s]\n",
      "Evaluating: 100%|██████████| 40/40 [00:04<00:00,  9.15it/s]\n"
     ]
    },
    {
     "name": "stdout",
     "output_type": "stream",
     "text": [
      "Train Loss: 0.0177, Acc: 0.9958, Top-5: 1.0000\n",
      "Val Loss: 0.3514, Acc: 0.9062, Top-5: 0.9966\n",
      "⚠️ No improvement for 8 epochs. Best accuracy: 0.9134\n",
      "\n",
      "Epoch 90/100\n",
      "Learning rate: 0.000100\n"
     ]
    },
    {
     "name": "stderr",
     "output_type": "stream",
     "text": [
      "Training: 100%|██████████| 352/352 [01:13<00:00,  4.80it/s]\n",
      "Evaluating: 100%|██████████| 40/40 [00:04<00:00,  9.53it/s]\n"
     ]
    },
    {
     "name": "stdout",
     "output_type": "stream",
     "text": [
      "Train Loss: 0.0168, Acc: 0.9960, Top-5: 1.0000\n",
      "Val Loss: 0.3333, Acc: 0.9092, Top-5: 0.9968\n",
      "⚠️ No improvement for 9 epochs. Best accuracy: 0.9134\n",
      "Saved checkpoint to checkpoints/cbam/cbam_epoch_90.pth\n",
      "\n",
      "Epoch 91/100\n",
      "Learning rate: 0.000010\n"
     ]
    },
    {
     "name": "stderr",
     "output_type": "stream",
     "text": [
      "Training: 100%|██████████| 352/352 [01:14<00:00,  4.73it/s]\n",
      "Evaluating: 100%|██████████| 40/40 [00:04<00:00,  9.12it/s]\n"
     ]
    },
    {
     "name": "stdout",
     "output_type": "stream",
     "text": [
      "Train Loss: 0.0173, Acc: 0.9957, Top-5: 1.0000\n",
      "Val Loss: 0.3420, Acc: 0.9124, Top-5: 0.9956\n",
      "⚠️ No improvement for 10 epochs. Best accuracy: 0.9134\n",
      "\n",
      "Epoch 92/100\n",
      "Learning rate: 0.000010\n"
     ]
    },
    {
     "name": "stderr",
     "output_type": "stream",
     "text": [
      "Training: 100%|██████████| 352/352 [01:14<00:00,  4.75it/s]\n",
      "Evaluating: 100%|██████████| 40/40 [00:04<00:00,  9.12it/s]\n"
     ]
    },
    {
     "name": "stdout",
     "output_type": "stream",
     "text": [
      "Train Loss: 0.0170, Acc: 0.9962, Top-5: 1.0000\n",
      "Val Loss: 0.3566, Acc: 0.9066, Top-5: 0.9974\n",
      "⚠️ No improvement for 11 epochs. Best accuracy: 0.9134\n",
      "\n",
      "Epoch 93/100\n",
      "Learning rate: 0.000010\n"
     ]
    },
    {
     "name": "stderr",
     "output_type": "stream",
     "text": [
      "Training: 100%|██████████| 352/352 [01:14<00:00,  4.70it/s]\n",
      "Evaluating: 100%|██████████| 40/40 [00:04<00:00,  8.39it/s]\n"
     ]
    },
    {
     "name": "stdout",
     "output_type": "stream",
     "text": [
      "Train Loss: 0.0172, Acc: 0.9960, Top-5: 1.0000\n",
      "Val Loss: 0.3390, Acc: 0.9058, Top-5: 0.9962\n",
      "⚠️ No improvement for 12 epochs. Best accuracy: 0.9134\n",
      "\n",
      "Epoch 94/100\n",
      "Learning rate: 0.000010\n"
     ]
    },
    {
     "name": "stderr",
     "output_type": "stream",
     "text": [
      "Training: 100%|██████████| 352/352 [01:14<00:00,  4.76it/s]\n",
      "Evaluating: 100%|██████████| 40/40 [00:04<00:00,  8.72it/s]\n"
     ]
    },
    {
     "name": "stdout",
     "output_type": "stream",
     "text": [
      "Train Loss: 0.0168, Acc: 0.9959, Top-5: 1.0000\n",
      "Val Loss: 0.3614, Acc: 0.9060, Top-5: 0.9966\n",
      "⚠️ No improvement for 13 epochs. Best accuracy: 0.9134\n",
      "\n",
      "Epoch 95/100\n",
      "Learning rate: 0.000010\n"
     ]
    },
    {
     "name": "stderr",
     "output_type": "stream",
     "text": [
      "Training: 100%|██████████| 352/352 [01:16<00:00,  4.62it/s]\n",
      "Evaluating: 100%|██████████| 40/40 [00:03<00:00, 11.28it/s]\n"
     ]
    },
    {
     "name": "stdout",
     "output_type": "stream",
     "text": [
      "Train Loss: 0.0176, Acc: 0.9956, Top-5: 1.0000\n",
      "Val Loss: 0.3412, Acc: 0.9094, Top-5: 0.9962\n",
      "⚠️ No improvement for 14 epochs. Best accuracy: 0.9134\n",
      "\n",
      "Epoch 96/100\n",
      "Learning rate: 0.000010\n"
     ]
    },
    {
     "name": "stderr",
     "output_type": "stream",
     "text": [
      "Training: 100%|██████████| 352/352 [01:14<00:00,  4.72it/s]\n",
      "Evaluating: 100%|██████████| 40/40 [00:04<00:00,  9.02it/s]\n"
     ]
    },
    {
     "name": "stdout",
     "output_type": "stream",
     "text": [
      "Train Loss: 0.0174, Acc: 0.9960, Top-5: 1.0000\n",
      "Val Loss: 0.3379, Acc: 0.9100, Top-5: 0.9968\n",
      "⚠️ No improvement for 15 epochs. Best accuracy: 0.9134\n",
      "⛔ Early stopping triggered after 96 epochs\n",
      "Training completed. Best validation accuracy: 0.9134\n"
     ]
    }
   ],
   "source": [
    "# 5.3 Train CBAM CNN\n",
    "print(\"=== Training CBAM CNN ===\")\n",
    "cbam_model = DeepCBAMNet18(num_classes=10)\n",
    "cbam_model, cbam_history = train_model(\n",
    "    cbam_model, trainloader, valloader, \n",
    "    \"cbam\", config, device\n",
    ")"
   ]
  },
  {
   "cell_type": "code",
   "execution_count": 22,
   "metadata": {},
   "outputs": [],
   "source": [
    "# Save all histories together for easier comparison\n",
    "all_histories = {\n",
    "    \"baseline\": baseline_history,\n",
    "    \"se\": se_history,\n",
    "    \"cbam\": cbam_history\n",
    "}\n",
    "\n",
    "with open(os.path.join(log_dir, \"all_histories.json\"), \"w\") as f:\n",
    "    json.dump(all_histories, f)"
   ]
  },
  {
   "cell_type": "code",
   "execution_count": 24,
   "metadata": {},
   "outputs": [
    {
     "name": "stdout",
     "output_type": "stream",
     "text": [
      "=== Evaluating on Test Set ===\n",
      "Baseline CNN:\n",
      "Evaluating baseline on test set...\n"
     ]
    },
    {
     "name": "stderr",
     "output_type": "stream",
     "text": [
      "Evaluating: 100%|██████████| 79/79 [00:06<00:00, 12.67it/s]\n"
     ]
    },
    {
     "name": "stdout",
     "output_type": "stream",
     "text": [
      "\n",
      "=== Test Performance ===\n",
      "Accuracy: 0.9168 (91.68%)\n",
      "Loss: 0.3205\n",
      "Top-5 accuracy: 0.9968 (99.68%)\n",
      "Average inference time: 3.89 ms\n",
      "Memory usage: 806.33 MB\n",
      "\n",
      "=== Per-Class Accuracy ===\n",
      "Class 0: 93.70%\n",
      "Class 1: 96.50%\n",
      "Class 2: 89.00%\n",
      "Class 3: 82.60%\n",
      "Class 4: 92.50%\n",
      "Class 5: 84.80%\n",
      "Class 6: 95.20%\n",
      "Class 7: 92.80%\n",
      "Class 8: 95.10%\n",
      "Class 9: 94.60%\n",
      "\n",
      "=== Test Performance Comparison ===\n",
      "Model | Accuracy | Avg Inf. Time (ms) | Memory (MB)\n",
      "-----------------------------------------------------------------\n",
      "baseline | 0.9168 | 3.89 | 806.33\n",
      "\n",
      "SE-Net:\n",
      "Evaluating se on test set...\n"
     ]
    },
    {
     "name": "stderr",
     "output_type": "stream",
     "text": [
      "Evaluating: 100%|██████████| 79/79 [00:05<00:00, 13.30it/s]\n"
     ]
    },
    {
     "name": "stdout",
     "output_type": "stream",
     "text": [
      "\n",
      "=== Test Performance ===\n",
      "Accuracy: 0.9128 (91.28%)\n",
      "Loss: 0.3251\n",
      "Top-5 accuracy: 0.9973 (99.73%)\n",
      "Average inference time: 5.75 ms\n",
      "Memory usage: 806.33 MB\n",
      "\n",
      "=== Per-Class Accuracy ===\n",
      "Class 0: 93.30%\n",
      "Class 1: 96.40%\n",
      "Class 2: 88.00%\n",
      "Class 3: 79.90%\n",
      "Class 4: 91.60%\n",
      "Class 5: 87.90%\n",
      "Class 6: 94.50%\n",
      "Class 7: 92.90%\n",
      "Class 8: 95.10%\n",
      "Class 9: 93.20%\n",
      "\n",
      "=== Test Performance Comparison ===\n",
      "Model | Accuracy | Avg Inf. Time (ms) | Memory (MB)\n",
      "-----------------------------------------------------------------\n",
      "se | 0.9128 | 5.75 | 806.33\n",
      "\n",
      "CBAM-Net:\n",
      "Evaluating cbam on test set...\n"
     ]
    },
    {
     "name": "stderr",
     "output_type": "stream",
     "text": [
      "Evaluating: 100%|██████████| 79/79 [00:06<00:00, 12.55it/s]"
     ]
    },
    {
     "name": "stdout",
     "output_type": "stream",
     "text": [
      "\n",
      "=== Test Performance ===\n",
      "Accuracy: 0.9029 (90.29%)\n",
      "Loss: 0.3872\n",
      "Top-5 accuracy: 0.9963 (99.63%)\n",
      "Average inference time: 9.42 ms\n",
      "Memory usage: 806.33 MB\n",
      "\n",
      "=== Per-Class Accuracy ===\n",
      "Class 0: 91.60%\n",
      "Class 1: 96.80%\n",
      "Class 2: 86.20%\n",
      "Class 3: 79.60%\n",
      "Class 4: 90.90%\n",
      "Class 5: 83.10%\n",
      "Class 6: 92.90%\n",
      "Class 7: 92.70%\n",
      "Class 8: 94.60%\n",
      "Class 9: 94.50%\n",
      "\n",
      "=== Test Performance Comparison ===\n",
      "Model | Accuracy | Avg Inf. Time (ms) | Memory (MB)\n",
      "-----------------------------------------------------------------\n",
      "cbam | 0.9029 | 9.42 | 806.33\n",
      "\n",
      "=== Test Performance Comparison ===\n",
      "Model      | Accuracy   | Avg Inf. Time (ms)   | Memory (MB) \n",
      "-----------------------------------------------------------------\n",
      "Baseline  | 0.9168    | 3890.87 | 806.33\n",
      "SE-Net    | 0.9128    | 5753.56 | 806.33\n",
      "CBAM-Net  | 0.9029    | 9424.47 | 806.33\n",
      "\n",
      "=== Per-Class Accuracy ===\n",
      "Class      | Baseline   | SE-Net     | CBAM-Net  \n",
      "--------------------------------------------------\n",
      "airplane   |     0.00%  |     0.00%  |     0.00%\n",
      "automobile |     0.00%  |     0.00%  |     0.00%\n",
      "bird       |     0.00%  |     0.00%  |     0.00%\n",
      "cat        |     0.00%  |     0.00%  |     0.00%\n",
      "deer       |     0.00%  |     0.00%  |     0.00%\n",
      "dog        |     0.00%  |     0.00%  |     0.00%\n",
      "frog       |     0.00%  |     0.00%  |     0.00%\n",
      "horse      |     0.00%  |     0.00%  |     0.00%\n",
      "ship       |     0.00%  |     0.00%  |     0.00%\n",
      "truck      |     0.00%  |     0.00%  |     0.00%\n"
     ]
    },
    {
     "name": "stderr",
     "output_type": "stream",
     "text": [
      "\n"
     ]
    }
   ],
   "source": [
    "def evaluate_on_test(model, test_loader, model_name, device, class_names=None, log_dir=\"logs\"):\n",
    "    \"\"\"Evaluate a trained model on the CIFAR-10 test set with proper metrics reporting\"\"\"\n",
    "    import os\n",
    "    import json\n",
    "    import numpy as np\n",
    "    import torch\n",
    "    import torch.nn as nn\n",
    "    \n",
    "    model.eval()\n",
    "    model.to(device)\n",
    "    criterion = nn.CrossEntropyLoss()\n",
    "    \n",
    "    print(f\"Evaluating {model_name} on test set...\")\n",
    "    # Evaluate\n",
    "    test_metrics = evaluate(model, test_loader, criterion, device=device)\n",
    "    \n",
    "    # Convert memory from bytes to MB\n",
    "    if 'memory_usage' in test_metrics:\n",
    "        test_metrics['memory_usage'] = test_metrics['memory_usage'] / (1024 * 1024)  # Convert to MB\n",
    "    \n",
    "    # Format inference time in milliseconds\n",
    "    if 'avg_inference_time' in test_metrics:\n",
    "        test_metrics['avg_inference_time'] = test_metrics['avg_inference_time'] * 1000  # Convert to ms\n",
    "    \n",
    "    # Print basic metrics\n",
    "    print(f\"\\n=== Test Performance ===\")\n",
    "    print(f\"Accuracy: {test_metrics['acc']:.4f} ({test_metrics['acc']*100:.2f}%)\")\n",
    "    print(f\"Loss: {test_metrics['loss']:.4f}\")\n",
    "    print(f\"Top-5 accuracy: {test_metrics['top5_acc']:.4f} ({test_metrics['top5_acc']*100:.2f}%)\")\n",
    "    print(f\"Average inference time: {test_metrics.get('avg_inference_time', 0):.2f} ms\")\n",
    "    print(f\"Memory usage: {test_metrics.get('memory_usage', 0):.2f} MB\")\n",
    "    \n",
    "    # Ensure per-class accuracy is calculated correctly\n",
    "    print(\"\\n=== Per-Class Accuracy ===\")\n",
    "    class_accuracy = {}\n",
    "    if 'predictions' in test_metrics and 'ground_truth' in test_metrics:\n",
    "        predictions = np.array(test_metrics['predictions'])\n",
    "        ground_truth = np.array(test_metrics['ground_truth'])\n",
    "        \n",
    "        # Calculate per-class accuracy directly from predictions\n",
    "        for class_id in range(10):  # CIFAR-10 has 10 classes\n",
    "            # Find indices where true label is this class\n",
    "            class_indices = (ground_truth == class_id)\n",
    "            class_total = np.sum(class_indices)\n",
    "            \n",
    "            if class_total > 0:\n",
    "                # Count correct predictions for this class\n",
    "                class_correct = np.sum((predictions == class_id) & class_indices)\n",
    "                accuracy = (class_correct / class_total)\n",
    "            else:\n",
    "                accuracy = 0.0\n",
    "                \n",
    "            class_accuracy[class_id] = accuracy\n",
    "            \n",
    "            # Print class accuracy with name if available\n",
    "            class_name = class_names[class_id] if class_names and class_id < len(class_names) else f\"Class {class_id}\"\n",
    "            print(f\"{class_name}: {accuracy*100:.2f}%\")\n",
    "    \n",
    "    # Update class accuracy in test metrics\n",
    "    test_metrics['class_accuracy'] = class_accuracy\n",
    "    \n",
    "    # Create directory if it doesn't exist\n",
    "    os.makedirs(log_dir, exist_ok=True)\n",
    "    \n",
    "    # Save metrics\n",
    "    with open(os.path.join(log_dir, f\"{model_name}_test_metrics.json\"), \"w\") as f:\n",
    "        # Convert numpy values to Python natives for JSON serialization\n",
    "        serializable_metrics = {}\n",
    "        \n",
    "        for k, v in test_metrics.items():\n",
    "            if k not in ['predictions', 'ground_truth', 'confusion_matrix']:\n",
    "                if isinstance(v, (np.float32, np.float64, np.int32, np.int64)):\n",
    "                    serializable_metrics[k] = float(v)\n",
    "                elif isinstance(v, np.ndarray):\n",
    "                    serializable_metrics[k] = v.tolist()\n",
    "                else:\n",
    "                    serializable_metrics[k] = v\n",
    "        \n",
    "        # Handle class_accuracy - ensure it's presented as percentages\n",
    "        if 'class_accuracy' in test_metrics:\n",
    "            serializable_metrics['class_accuracy'] = {\n",
    "                str(k): float(v) * 100  # Convert to percentage\n",
    "                for k, v in test_metrics['class_accuracy'].items()\n",
    "            }\n",
    "        \n",
    "        json.dump(serializable_metrics, f, indent=4)\n",
    "    \n",
    "    # Save predictions for later analysis\n",
    "    if 'predictions' in test_metrics and 'ground_truth' in test_metrics:\n",
    "        np.savez(\n",
    "            os.path.join(log_dir, f\"{model_name}_predictions.npz\"),\n",
    "            predictions=np.array(test_metrics['predictions']),\n",
    "            ground_truth=np.array(test_metrics['ground_truth'])\n",
    "        )\n",
    "    \n",
    "    # Print comparison friendly format\n",
    "    print(\"\\n=== Test Performance Comparison ===\")\n",
    "    print(f\"Model | Accuracy | Avg Inf. Time (ms) | Memory (MB)\")\n",
    "    print(f\"-----------------------------------------------------------------\")\n",
    "    print(f\"{model_name} | {test_metrics['acc']:.4f} | {test_metrics.get('avg_inference_time', 0):.2f} | {test_metrics.get('memory_usage', 0):.2f}\")\n",
    "    \n",
    "    return test_metrics\n",
    "\n",
    "\n",
    "# Example usage:\n",
    "def compare_all_models(class_names):\n",
    "    \"\"\"Evaluate and compare all models on the test set\"\"\"\n",
    "    import torch\n",
    "    \n",
    "    # Load your trained models\n",
    "    device = torch.device(\"cuda\" if torch.cuda.is_available() else \"cpu\")\n",
    "    \n",
    "    # Define model paths - adjust to your actual paths\n",
    "    model_paths = {\n",
    "        \"Baseline\": \"checkpoints/ResNet18_Base/ResNet18_Base_best.pth\",\n",
    "        \"SE-Net\": \"checkpoints/ResNet18_SE/ResNet18_SE_best.pth\",\n",
    "        \"CBAM-Net\": \"checkpoints/ResNet18_CBAM/ResNet18_CBAM_best.pth\"\n",
    "    }\n",
    "    \n",
    "    # Create model instances\n",
    "    from deeper_networks import DeepResNet18, DeepSENet18, DeepCBAMNet18\n",
    "    models = {\n",
    "        \"Baseline\": DeepResNet18(num_classes=10),\n",
    "        \"SE-Net\": DeepSENet18(num_classes=10),\n",
    "        \"CBAM-Net\": DeepCBAMNet18(num_classes=10)\n",
    "    }\n",
    "    \n",
    "    # Load model weights\n",
    "    for name, model in models.items():\n",
    "        try:\n",
    "            model.load_state_dict(torch.load(model_paths[name], map_location=device))\n",
    "            print(f\"Loaded model {name} from {model_paths[name]}\")\n",
    "        except Exception as e:\n",
    "            print(f\"Error loading model {name}: {e}\")\n",
    "    \n",
    "    # Evaluate each model\n",
    "    results = {}\n",
    "    for name, model in models.items():\n",
    "        results[name] = evaluate_on_test(model, testloader, name, device, class_names)\n",
    "    \n",
    "    # Print comparison table\n",
    "    print(\"\\n=== Test Performance Comparison ===\")\n",
    "    print(f\"Model | Accuracy | Avg Inf. Time (ms) | Memory (MB)\")\n",
    "    print(f\"-----------------------------------------------------------------\")\n",
    "    for name, metrics in results.items():\n",
    "        print(f\"{name} | {metrics['acc']:.4f} | {metrics.get('avg_inference_time', 0):.2f} | {metrics.get('memory_usage', 0):.2f}\")\n",
    "    \n",
    "    # Print per-class comparison\n",
    "    print(\"\\n=== Per-Class Accuracy ===\")\n",
    "    print(f\"Class | {' | '.join(results.keys())}\")\n",
    "    print(f\"--------------------------------------------------\")\n",
    "    \n",
    "    for class_id in range(10):  # CIFAR-10 has 10 classes\n",
    "        class_name = class_names[class_id] if class_names and class_id < len(class_names) else f\"Class {class_id}\"\n",
    "        accuracies = []\n",
    "        \n",
    "        for name, metrics in results.items():\n",
    "            acc = metrics['class_accuracy'].get(class_id, 0) * 100  # Convert to percentage\n",
    "            accuracies.append(f\"{acc:.2f}%\")\n",
    "        \n",
    "        print(f\"{class_name} | {' | '.join(accuracies)}\")\n",
    "    \n",
    "    return results\n",
    "\n",
    "# Evaluate all models on test set\n",
    "print(\"=== Evaluating on Test Set ===\")\n",
    "\n",
    "print(\"Baseline CNN:\")\n",
    "# baseline_model = BaselineCNN(num_classes=10)\n",
    "# baseline_model.load_state_dict(torch.load(os.path.join(model_dir, \"baseline_best.pth\")))\n",
    "# baseline_model.to(device)\n",
    "baseline_test_metrics = evaluate_on_test(baseline_model, testloader, \"baseline\", device)\n",
    "\n",
    "print(\"\\nSE-Net:\")\n",
    "# se_model = SECNN(num_classes=10)\n",
    "# se_model.load_state_dict(torch.load(os.path.join(model_dir, \"se_best.pth\")))\n",
    "# se_model.to(device)\n",
    "se_test_metrics = evaluate_on_test(se_model, testloader, \"se\", device)\n",
    "\n",
    "print(\"\\nCBAM-Net:\")\n",
    "# cbam_model = CBAMCNN(num_classes=10)\n",
    "# cbam_model.load_state_dict(torch.load(os.path.join(model_dir, \"cbam_best.pth\")))\n",
    "# cbam_model.to(device)\n",
    "cbam_test_metrics = evaluate_on_test(cbam_model, testloader, \"cbam\", device)\n",
    "\n",
    "# Print comparison table\n",
    "print(\"\\n=== Test Performance Comparison ===\")\n",
    "print(f\"{'Model':<10} | {'Accuracy':<10} | {'Avg Inf. Time (ms)':<20} | {'Memory (MB)':<12}\")\n",
    "print(\"-\" * 65)\n",
    "print(f\"Baseline  | {baseline_test_metrics['acc']:.4f}    | {baseline_test_metrics['avg_inference_time']*1000:.2f} | {baseline_test_metrics['memory_usage']:.2f}\")\n",
    "print(f\"SE-Net    | {se_test_metrics['acc']:.4f}    | {se_test_metrics['avg_inference_time']*1000:.2f} | {se_test_metrics['memory_usage']:.2f}\")\n",
    "print(f\"CBAM-Net  | {cbam_test_metrics['acc']:.4f}    | {cbam_test_metrics['avg_inference_time']*1000:.2f} | {cbam_test_metrics['memory_usage']:.2f}\")\n",
    "\n",
    "# Add per-class accuracy comparison for CIFAR-10 (since only 10 classes, we can show them all)\n",
    "if 'class_accuracy' in baseline_test_metrics:\n",
    "    class_names = ['airplane', 'automobile', 'bird', 'cat', 'deer', 'dog', 'frog', 'horse', 'ship', 'truck']\n",
    "    \n",
    "    print(\"\\n=== Per-Class Accuracy ===\")\n",
    "    print(f\"{'Class':<10} | {'Baseline':<10} | {'SE-Net':<10} | {'CBAM-Net':<10}\")\n",
    "    print(\"-\" * 50)\n",
    "    \n",
    "    for i, class_name in enumerate(class_names):\n",
    "        baseline_acc = baseline_test_metrics['class_accuracy'].get(str(i), 0) * 100\n",
    "        se_acc = se_test_metrics['class_accuracy'].get(str(i), 0) * 100\n",
    "        cbam_acc = cbam_test_metrics['class_accuracy'].get(str(i), 0) * 100\n",
    "        \n",
    "        print(f\"{class_name:<10} | {baseline_acc:>8.2f}%  | {se_acc:>8.2f}%  | {cbam_acc:>8.2f}%\")"
   ]
  },
  {
   "cell_type": "code",
   "execution_count": 27,
   "metadata": {},
   "outputs": [],
   "source": [
    "def compare_models(models_history, metrics=['acc', 'top5_acc', 'loss'], save_path=None):\n",
    "    \"\"\"\n",
    "    Compare multiple models' performance metrics.\n",
    "    Handles models with different training durations (like when early stopping is used).\n",
    "    \n",
    "    Args:\n",
    "        models_history (dict): Dictionary of dictionaries where the outer dict keys are model names\n",
    "                               and inner dict contains training history for each model\n",
    "        metrics (list): List of metrics to compare\n",
    "        save_path (str, optional): Path to save the figure. If None, figure is not saved.\n",
    "    \"\"\"\n",
    "    import matplotlib.pyplot as plt\n",
    "    import os\n",
    "    \n",
    "    model_names = list(models_history.keys())\n",
    "    num_metrics = len(metrics)\n",
    "    \n",
    "    # Find the number of epochs for each model\n",
    "    epochs_per_model = {}\n",
    "    for model_name in model_names:\n",
    "        # Use any metric to determine length\n",
    "        for metric in metrics:\n",
    "            val_metric = f'val_{metric}'\n",
    "            if val_metric in models_history[model_name]:\n",
    "                epochs_per_model[model_name] = len(models_history[model_name][val_metric])\n",
    "                break\n",
    "    \n",
    "    print(f\"Training epochs per model: {epochs_per_model}\")\n",
    "    \n",
    "    plt.figure(figsize=(15, 5 * num_metrics))\n",
    "    \n",
    "    colors = ['b', 'r', 'g', 'c', 'm', 'y', 'k']\n",
    "    line_styles = ['-', '--', '-.', ':']\n",
    "    \n",
    "    for i, metric in enumerate(metrics):\n",
    "        plt.subplot(num_metrics, 1, i+1)\n",
    "        \n",
    "        for j, model_name in enumerate(model_names):\n",
    "            color = colors[j % len(colors)]\n",
    "            line_style = line_styles[j % len(line_styles)]\n",
    "            val_metric = f'val_{metric}'\n",
    "            \n",
    "            if val_metric in models_history[model_name]:\n",
    "                num_epochs = len(models_history[model_name][val_metric])\n",
    "                x_range = range(1, num_epochs + 1)\n",
    "                \n",
    "                plt.plot(x_range, \n",
    "                         models_history[model_name][val_metric], \n",
    "                         color=color, \n",
    "                         linestyle=line_style,\n",
    "                         label=f'{model_name} ({num_epochs} epochs)')\n",
    "        \n",
    "        # Adjust title based on metric\n",
    "        if metric == 'loss':\n",
    "            plt.title('Validation Loss Comparison')\n",
    "            plt.ylabel('Loss')\n",
    "        elif metric == 'acc':\n",
    "            plt.title('Validation Accuracy Comparison')\n",
    "            plt.ylabel('Accuracy')\n",
    "        elif metric == 'top5_acc':\n",
    "            plt.title('Validation Top-5 Accuracy Comparison')\n",
    "            plt.ylabel('Top-5 Accuracy')\n",
    "        else:\n",
    "            plt.title(f'Validation {metric} Comparison')\n",
    "            plt.ylabel(metric)\n",
    "            \n",
    "        plt.xlabel('Epochs')\n",
    "        plt.legend()\n",
    "        plt.grid(True)\n",
    "    \n",
    "    plt.tight_layout()\n",
    "    \n",
    "    if save_path:\n",
    "        os.makedirs(save_path, exist_ok=True)\n",
    "        plt.savefig(os.path.join(save_path, 'model_comparison.png'), dpi=300, bbox_inches='tight')\n",
    "    \n",
    "    plt.show()\n",
    "    \n",
    "    # Create a summary table of final performance\n",
    "    print(\"\\nFinal Performance Comparison:\")\n",
    "    header = \"Model\"\n",
    "    for metric in metrics:\n",
    "        header += f\" | Val {metric}\"\n",
    "    header += \" | Epochs\"\n",
    "    print(header)\n",
    "    print(\"-\" * len(header) * 2)  # Make the separator line longer\n",
    "    \n",
    "    for model_name in model_names:\n",
    "        row = f\"{model_name}\"\n",
    "        for metric in metrics:\n",
    "            val_metric = f'val_{metric}'\n",
    "            if val_metric in models_history[model_name]:\n",
    "                final_value = models_history[model_name][val_metric][-1]\n",
    "                row += f\" | {final_value:.4f}\"\n",
    "            else:\n",
    "                row += \" | N/A\"\n",
    "        \n",
    "        # Add number of training epochs\n",
    "        row += f\" | {epochs_per_model.get(model_name, 'N/A')}\"\n",
    "        print(row)\n",
    "\n",
    "\n",
    "def combine_histories(model_histories, model_names=None):\n",
    "    \"\"\"\n",
    "    Combine multiple model histories into a dictionary format for the compare_models function.\n",
    "    \n",
    "    Args:\n",
    "        model_histories (list): List of history dictionaries from different models\n",
    "        model_names (list, optional): List of model names. If None, generic names will be used.\n",
    "        \n",
    "    Returns:\n",
    "        dict: Dictionary with model names as keys and history dictionaries as values\n",
    "    \"\"\"\n",
    "    if model_names is None:\n",
    "        model_names = [f\"Model {i+1}\" for i in range(len(model_histories))]\n",
    "    \n",
    "    if len(model_names) != len(model_histories):\n",
    "        raise ValueError(\"Number of model names must match number of histories\")\n",
    "    \n",
    "    combined = {}\n",
    "    for name, history in zip(model_names, model_histories):\n",
    "        combined[name] = history\n",
    "    \n",
    "    return combined\n",
    "\n",
    "\n",
    "# Example usage:\n",
    "# histories = combine_histories(\n",
    "#     [baseline_history, se_history, cbam_history], \n",
    "#     [\"Baseline CNN\", \"SE-Net\", \"CBAM-Net\"]\n",
    "# )\n",
    "# compare_models(histories, metrics=['acc', 'top5_acc', 'loss'], save_path='plots')"
   ]
  },
  {
   "cell_type": "code",
   "execution_count": 28,
   "metadata": {},
   "outputs": [
    {
     "name": "stdout",
     "output_type": "stream",
     "text": [
      "Training epochs per model: {'Baseline CNN': 85, 'SE-Net': 76, 'CBAM-Net': 96}\n"
     ]
    },
    {
     "data": {
      "image/png": "[encoded data removed]",
      "text/plain": [
       "<Figure size 1500x1500 with 3 Axes>"
      ]
     },
     "metadata": {},
     "output_type": "display_data"
    },
    {
     "name": "stdout",
     "output_type": "stream",
     "text": [
      "\n",
      "Final Performance Comparison:\n",
      "Model | Val acc | Val top5_acc | Val loss | Epochs\n",
      "----------------------------------------------------------------------------------------------------\n",
      "Baseline CNN | 0.9192 | 0.9968 | 0.3098 | 85\n",
      "SE-Net | 0.9184 | 0.9974 | 0.2805 | 76\n",
      "CBAM-Net | 0.9100 | 0.9968 | 0.3379 | 96\n",
      "Training epochs per model: {'Baseline CNN': 85, 'SE-Net': 76, 'CBAM-Net': 96}\n"
     ]
    },
    {
     "data": {
      "image/png": "[encoded data removed]",
      "text/plain": [
       "<Figure size 1500x1500 with 3 Axes>"
      ]
     },
     "metadata": {},
     "output_type": "display_data"
    },
    {
     "name": "stdout",
     "output_type": "stream",
     "text": [
      "\n",
      "Final Performance Comparison:\n",
      "Model | Val acc | Val top5_acc | Val loss | Epochs\n",
      "----------------------------------------------------------------------------------------------------\n",
      "Baseline CNN | 0.9192 | 0.9968 | 0.3098 | 85\n",
      "SE-Net | 0.9184 | 0.9974 | 0.2805 | 76\n",
      "CBAM-Net | 0.9100 | 0.9968 | 0.3379 | 96\n"
     ]
    }
   ],
   "source": [
    "# Fix your existing code\n",
    "compare_models(\n",
    "    models_history={\n",
    "        'Baseline CNN': baseline_history,\n",
    "        'SE-Net': se_history,\n",
    "        'CBAM-Net': cbam_history\n",
    "    },\n",
    "    metrics=['acc', 'top5_acc', 'loss'],\n",
    "    save_path=plot_dir\n",
    ")\n",
    "\n",
    "# OR use the new helper function\n",
    "histories = combine_histories(\n",
    "    [baseline_history, se_history, cbam_history],\n",
    "    [\"Baseline CNN\", \"SE-Net\", \"CBAM-Net\"]\n",
    ")\n",
    "compare_models(histories, metrics=['acc', 'top5_acc', 'loss'], save_path=plot_dir)"
   ]
  },
  {
   "cell_type": "code",
   "execution_count": 29,
   "metadata": {},
   "outputs": [],
   "source": [
    "import torch\n",
    "import numpy as np\n",
    "import matplotlib.pyplot as plt\n",
    "import seaborn as sns\n",
    "from sklearn.metrics import confusion_matrix\n",
    "import torchvision.transforms as transforms\n",
    "import torch.nn.functional as F\n",
    "\n",
    "\n",
    "def visualize_attention_maps(model, data_loader, device, class_names, num_images=4, save_path=None):\n",
    "    \"\"\"\n",
    "    Visualizes attention maps from SE-Net or CBAM-Net models.\n",
    "    \n",
    "    Args:\n",
    "        model: The model with attention mechanisms\n",
    "        data_loader: Data loader to get sample images\n",
    "        device: Device to run the model on\n",
    "        class_names: Names of the classes\n",
    "        num_images: Number of images to visualize\n",
    "        save_path: Path to save the visualizations\n",
    "    \"\"\"\n",
    "    # Check if model has attention map support\n",
    "    if not hasattr(model, 'attention_maps') and not hasattr(model, 'get_attention_maps'):\n",
    "        print(\"This model doesn't support attention map visualization\")\n",
    "        return\n",
    "    \n",
    "    model.eval()\n",
    "    model = model.to(device)\n",
    "    \n",
    "    # Get sample images\n",
    "    images, labels = next(iter(data_loader))\n",
    "    images = images[:num_images].to(device)\n",
    "    labels = labels[:num_images].cpu().numpy()\n",
    "    \n",
    "    # Run forward pass to get attention maps\n",
    "    with torch.no_grad():\n",
    "        # Reset attention maps if they exist\n",
    "        if hasattr(model, 'attention_maps'):\n",
    "            model.attention_maps = []\n",
    "        \n",
    "        # Get predictions\n",
    "        outputs = model(images)\n",
    "        _, preds = torch.max(outputs, 1)\n",
    "        preds = preds.cpu().numpy()\n",
    "        \n",
    "        # Get attention maps\n",
    "        attention_maps = []\n",
    "        if hasattr(model, 'attention_maps') and len(model.attention_maps) > 0:\n",
    "            attention_maps = model.attention_maps\n",
    "        elif hasattr(model, 'get_attention_maps'):\n",
    "            # This would be for models where maps need to be explicitly extracted\n",
    "            attention_maps = model.get_attention_maps()\n",
    "    \n",
    "    if not attention_maps:\n",
    "        print(\"No attention maps generated\")\n",
    "        return\n",
    "    \n",
    "    # Get the number of attention maps to show\n",
    "    num_maps = min(4, len(attention_maps))\n",
    "    \n",
    "    # Normalize images for display\n",
    "    inv_normalize = transforms.Normalize(\n",
    "        mean=[-0.4914/0.2470, -0.4822/0.2435, -0.4465/0.2616],\n",
    "        std=[1/0.2470, 1/0.2435, 1/0.2616]\n",
    "    )\n",
    "    \n",
    "    # Create figure\n",
    "    fig = plt.figure(figsize=(15, 4 * num_images))\n",
    "    \n",
    "    for i in range(num_images):\n",
    "        # Display original image\n",
    "        ax = plt.subplot(num_images, num_maps + 1, i * (num_maps + 1) + 1)\n",
    "        img = inv_normalize(images[i]).permute(1, 2, 0).cpu().numpy()\n",
    "        img = np.clip(img, 0, 1)\n",
    "        plt.imshow(img)\n",
    "        title = f\"True: {class_names[labels[i]]}\\nPred: {class_names[preds[i]]}\"\n",
    "        plt.title(title)\n",
    "        plt.axis('off')\n",
    "        \n",
    "        # Display attention maps\n",
    "        for j in range(num_maps):\n",
    "            ax = plt.subplot(num_images, num_maps + 1, i * (num_maps + 1) + j + 2)\n",
    "            \n",
    "            # Handle different attention map formats\n",
    "            if j < len(attention_maps):\n",
    "                if len(attention_maps[j].shape) == 4:  # [batch, channel, height, width]\n",
    "                    att_map = attention_maps[j][i].sum(dim=0)  # Sum over channels\n",
    "                elif len(attention_maps[j].shape) == 3:  # [batch, height, width]\n",
    "                    att_map = attention_maps[j][i]\n",
    "                else:\n",
    "                    att_map = attention_maps[j].reshape(num_images, -1)[i].reshape(8, 8)\n",
    "                \n",
    "                plt.imshow(att_map.cpu().detach().numpy(), cmap='viridis')\n",
    "                plt.title(f\"Attention Layer {j+1}\")\n",
    "                plt.axis('off')\n",
    "    \n",
    "    plt.tight_layout()\n",
    "    if save_path:\n",
    "        plt.savefig(f\"{save_path}/attention_maps.png\", dpi=300, bbox_inches='tight')\n",
    "    plt.show()\n",
    "\n",
    "\n",
    "def class_performance_analysis(models_dict, test_loader, device, class_names, save_path=None):\n",
    "    \"\"\"\n",
    "    Analyzes and compares model performance on each class.\n",
    "    \n",
    "    Args:\n",
    "        models_dict: Dictionary of {model_name: model}\n",
    "        test_loader: Test data loader\n",
    "        device: Device to run the models on\n",
    "        class_names: Names of the classes\n",
    "        save_path: Path to save the visualizations\n",
    "    \"\"\"\n",
    "    results = {}\n",
    "    \n",
    "    # Evaluate each model\n",
    "    for model_name, model in models_dict.items():\n",
    "        model.eval()\n",
    "        model = model.to(device)\n",
    "        \n",
    "        # Initialize class-wise metrics\n",
    "        class_correct = np.zeros(len(class_names))\n",
    "        class_total = np.zeros(len(class_names))\n",
    "        \n",
    "        with torch.no_grad():\n",
    "            for inputs, labels in test_loader:\n",
    "                inputs = inputs.to(device)\n",
    "                labels = labels.to(device)\n",
    "                \n",
    "                # Forward pass\n",
    "                outputs = model(inputs)\n",
    "                _, preds = torch.max(outputs, 1)\n",
    "                \n",
    "                # Update class-wise metrics\n",
    "                for i in range(len(labels)):\n",
    "                    label = labels[i].item()\n",
    "                    class_total[label] += 1\n",
    "                    if preds[i].item() == label:\n",
    "                        class_correct[label] += 1\n",
    "        \n",
    "        # Calculate class-wise accuracy\n",
    "        class_accuracy = class_correct / class_total\n",
    "        results[model_name] = class_accuracy\n",
    "    \n",
    "    # Plot results\n",
    "    plt.figure(figsize=(12, 6))\n",
    "    bar_width = 0.8 / len(models_dict)\n",
    "    \n",
    "    for i, (model_name, accuracies) in enumerate(results.items()):\n",
    "        x = np.arange(len(class_names)) + i * bar_width\n",
    "        plt.bar(x, accuracies * 100, width=bar_width, label=model_name)\n",
    "    \n",
    "    plt.xlabel('Class')\n",
    "    plt.ylabel('Accuracy (%)')\n",
    "    plt.title('Class-wise Performance Comparison')\n",
    "    plt.xticks(np.arange(len(class_names)) + bar_width * (len(models_dict) - 1) / 2, class_names, rotation=45)\n",
    "    plt.legend()\n",
    "    plt.tight_layout()\n",
    "    \n",
    "    if save_path:\n",
    "        plt.savefig(f\"{save_path}/class_performance.png\", dpi=300, bbox_inches='tight')\n",
    "    plt.show()\n",
    "    \n",
    "    # Print performance improvement statistics\n",
    "    if len(results) > 1:\n",
    "        baseline_model = list(results.keys())[0]\n",
    "        print(f\"Class-wise Performance Improvement (compared to {baseline_model}):\")\n",
    "        print(\"Class | \" + \" | \".join([f\"{name}\" for name in results.keys()[1:]]))\n",
    "        print(\"-\" * 50)\n",
    "        \n",
    "        for i, class_name in enumerate(class_names):\n",
    "            baseline_acc = results[baseline_model][i]\n",
    "            improvements = []\n",
    "            \n",
    "            for model_name in list(results.keys())[1:]:\n",
    "                model_acc = results[model_name][i]\n",
    "                improvement = (model_acc - baseline_acc) / baseline_acc * 100\n",
    "                improvements.append(f\"{improvement:+.2f}%\")\n",
    "            \n",
    "            print(f\"{class_name} | \" + \" | \".join(improvements))\n",
    "    \n",
    "    return results\n",
    "\n",
    "\n",
    "def analyze_misclassifications(models_dict, test_loader, device, class_names, num_samples=10, save_path=None):\n",
    "    \"\"\"\n",
    "    Analyzes misclassifications across different models to find interesting patterns.\n",
    "    \n",
    "    Args:\n",
    "        models_dict: Dictionary of {model_name: model}\n",
    "        test_loader: Test data loader\n",
    "        device: Device to run the models on\n",
    "        class_names: Names of the classes\n",
    "        num_samples: Number of misclassified samples to show\n",
    "        save_path: Path to save the visualizations\n",
    "    \"\"\"\n",
    "    model_predictions = {}\n",
    "    \n",
    "    # Get predictions from each model\n",
    "    for model_name, model in models_dict.items():\n",
    "        model.eval()\n",
    "        model = model.to(device)\n",
    "        \n",
    "        all_preds = []\n",
    "        all_labels = []\n",
    "        all_images = []\n",
    "        \n",
    "        with torch.no_grad():\n",
    "            for inputs, labels in test_loader:\n",
    "                inputs = inputs.to(device)\n",
    "                labels = labels.to(device)\n",
    "                \n",
    "                # Forward pass\n",
    "                outputs = model(inputs)\n",
    "                _, preds = torch.max(outputs, 1)\n",
    "                \n",
    "                all_preds.extend(preds.cpu().numpy())\n",
    "                all_labels.extend(labels.cpu().numpy())\n",
    "                all_images.extend(inputs.cpu())\n",
    "                \n",
    "                # Limit collection to save memory\n",
    "                if len(all_labels) > 1000:\n",
    "                    break\n",
    "        \n",
    "        model_predictions[model_name] = {\n",
    "            'preds': np.array(all_preds),\n",
    "            'labels': np.array(all_labels),\n",
    "            'images': all_images\n",
    "        }\n",
    "    \n",
    "    # Find interesting misclassifications\n",
    "    baseline_model = list(models_dict.keys())[0]\n",
    "    baseline_correct = model_predictions[baseline_model]['preds'] == model_predictions[baseline_model]['labels']\n",
    "    \n",
    "    interesting_cases = []\n",
    "    case_types = []\n",
    "    \n",
    "    # Case 1: Baseline wrong, but attention models correct\n",
    "    for i in range(len(baseline_correct)):\n",
    "        if len(interesting_cases) >= num_samples:\n",
    "            break\n",
    "            \n",
    "        # Skip if baseline was correct\n",
    "        if baseline_correct[i]:\n",
    "            continue\n",
    "        \n",
    "        # Check if any attention model got it right\n",
    "        attention_correct = False\n",
    "        for model_name in list(models_dict.keys())[1:]:\n",
    "            if model_predictions[model_name]['preds'][i] == model_predictions[model_name]['labels'][i]:\n",
    "                attention_correct = True\n",
    "                break\n",
    "        \n",
    "        if attention_correct:\n",
    "            interesting_cases.append(i)\n",
    "            case_types.append(\"Baseline wrong, attention model correct\")\n",
    "    \n",
    "    # Case 2: Baseline correct, but attention models wrong\n",
    "    if len(interesting_cases) < num_samples:\n",
    "        for i in range(len(baseline_correct)):\n",
    "            if len(interesting_cases) >= num_samples:\n",
    "                break\n",
    "                \n",
    "            # Skip if baseline was wrong or already included\n",
    "            if not baseline_correct[i] or i in interesting_cases:\n",
    "                continue\n",
    "            \n",
    "            # Check if all attention models got it wrong\n",
    "            attention_all_wrong = True\n",
    "            for model_name in list(models_dict.keys())[1:]:\n",
    "                if model_predictions[model_name]['preds'][i] == model_predictions[model_name]['labels'][i]:\n",
    "                    attention_all_wrong = False\n",
    "                    break\n",
    "            \n",
    "            if attention_all_wrong:\n",
    "                interesting_cases.append(i)\n",
    "                case_types.append(\"Baseline correct, attention models wrong\")\n",
    "    \n",
    "    # Visualize interesting cases\n",
    "    if interesting_cases:\n",
    "        # Normalize images for display\n",
    "        inv_normalize = transforms.Normalize(\n",
    "            mean=[-0.4914/0.2470, -0.4822/0.2435, -0.4465/0.2616],\n",
    "            std=[1/0.2470, 1/0.2435, 1/0.2616]\n",
    "        )\n",
    "        \n",
    "        num_cases = len(interesting_cases)\n",
    "        num_models = len(models_dict)\n",
    "        \n",
    "        plt.figure(figsize=(4 * num_models, 4 * num_cases))\n",
    "        \n",
    "        for i, case_idx in enumerate(interesting_cases):\n",
    "            true_label = model_predictions[baseline_model]['labels'][case_idx]\n",
    "            \n",
    "            for j, model_name in enumerate(models_dict.keys()):\n",
    "                ax = plt.subplot(num_cases, num_models, i * num_models + j + 1)\n",
    "                \n",
    "                # Get image and prediction\n",
    "                img = model_predictions[model_name]['images'][case_idx]\n",
    "                img = inv_normalize(img).permute(1, 2, 0).numpy()\n",
    "                img = np.clip(img, 0, 1)\n",
    "                \n",
    "                pred = model_predictions[model_name]['preds'][case_idx]\n",
    "                \n",
    "                plt.imshow(img)\n",
    "                correct = pred == true_label\n",
    "                color = 'green' if correct else 'red'\n",
    "                \n",
    "                title = f\"{model_name}\\nTrue: {class_names[true_label]}\\nPred: {class_names[pred]}\"\n",
    "                plt.title(title, color=color)\n",
    "                plt.axis('off')\n",
    "        \n",
    "        plt.tight_layout()\n",
    "        if save_path:\n",
    "            plt.savefig(f\"{save_path}/misclassification_analysis.png\", dpi=300, bbox_inches='tight')\n",
    "        plt.show()\n",
    "        \n",
    "        # Print summary of case types\n",
    "        print(\"Misclassification Analysis:\")\n",
    "        for case_type in set(case_types):\n",
    "            count = case_types.count(case_type)\n",
    "            print(f\"- {case_type}: {count} cases\")\n",
    "    else:\n",
    "        print(\"No interesting misclassification patterns found\")\n",
    "\n",
    "\n",
    "def visualize_feature_maps(model, data_loader, device, layer_names=None, num_images=1, num_features=16, save_path=None):\n",
    "    \"\"\"\n",
    "    Visualizes feature maps from intermediate layers of a model.\n",
    "    \n",
    "    Args:\n",
    "        model: The model to visualize\n",
    "        data_loader: Data loader to get sample images\n",
    "        device: Device to run the model on\n",
    "        layer_names: List of layer names to visualize (if None, attempts to find convolutional layers)\n",
    "        num_images: Number of images to visualize\n",
    "        num_features: Number of feature maps to show per layer\n",
    "        save_path: Path to save the visualizations\n",
    "    \"\"\"\n",
    "    model.eval()\n",
    "    model = model.to(device)\n",
    "    \n",
    "    # Get sample images\n",
    "    images, labels = next(iter(data_loader))\n",
    "    image = images[:num_images].to(device)\n",
    "    \n",
    "    # Dictionary to store feature maps\n",
    "    feature_maps = {}\n",
    "    \n",
    "    # Hook function to extract feature maps\n",
    "    def hook_fn(name):\n",
    "        def hook(module, input, output):\n",
    "            feature_maps[name] = output.detach()\n",
    "        return hook\n",
    "    \n",
    "    # Register hooks for extracting feature maps\n",
    "    hooks = []\n",
    "    \n",
    "    if layer_names is None:\n",
    "        # Attempt to find convolutional layers\n",
    "        for name, module in model.named_modules():\n",
    "            if isinstance(module, torch.nn.Conv2d):\n",
    "                hooks.append(module.register_forward_hook(hook_fn(name)))\n",
    "    else:\n",
    "        # Use specified layer names\n",
    "        for name in layer_names:\n",
    "            for n, module in model.named_modules():\n",
    "                if name in n:\n",
    "                    hooks.append(module.register_forward_hook(hook_fn(name)))\n",
    "                    break\n",
    "    \n",
    "    # Forward pass to get feature maps\n",
    "    with torch.no_grad():\n",
    "        _ = model(image)\n",
    "    \n",
    "    # Remove hooks\n",
    "    for hook in hooks:\n",
    "        hook.remove()\n",
    "    \n",
    "    # Visualize feature maps\n",
    "    if not feature_maps:\n",
    "        print(\"No feature maps captured. Check layer names.\")\n",
    "        return\n",
    "    \n",
    "    # Normalize images for display\n",
    "    inv_normalize = transforms.Normalize(\n",
    "        mean=[-0.4914/0.2470, -0.4822/0.2435, -0.4465/0.2616],\n",
    "        std=[1/0.2470, 1/0.2435, 1/0.2616]\n",
    "    )\n",
    "    \n",
    "    for img_idx in range(num_images):\n",
    "        # Display original image\n",
    "        plt.figure(figsize=(15, 5))\n",
    "        plt.subplot(1, 2, 1)\n",
    "        \n",
    "        img = inv_normalize(image[img_idx]).permute(1, 2, 0).cpu().numpy()\n",
    "        img = np.clip(img, 0, 1)\n",
    "        plt.imshow(img)\n",
    "        plt.title(\"Original Image\")\n",
    "        plt.axis('off')\n",
    "        \n",
    "        # Display feature map counts\n",
    "        plt.subplot(1, 2, 2)\n",
    "        plt.axis('off')\n",
    "        plt.text(0.1, 0.5, \"\\n\".join([f\"{name}: {maps.shape[1]} feature maps\" \n",
    "                                     for name, maps in feature_maps.items()]))\n",
    "        plt.title(\"Feature Map Counts\")\n",
    "        \n",
    "        plt.tight_layout()\n",
    "        if save_path:\n",
    "            plt.savefig(f\"{save_path}/feature_map_summary_image_{img_idx}.png\", dpi=300, bbox_inches='tight')\n",
    "        plt.show()\n",
    "        \n",
    "        # Display feature maps for each layer\n",
    "        for layer_name, feature_map in feature_maps.items():\n",
    "            # Get feature maps for current image\n",
    "            layer_maps = feature_map[img_idx]\n",
    "            \n",
    "            # Determine grid size\n",
    "            grid_size = int(np.ceil(np.sqrt(min(num_features, layer_maps.shape[0]))))\n",
    "            \n",
    "            # Create figure\n",
    "            plt.figure(figsize=(15, 15))\n",
    "            plt.suptitle(f\"Feature Maps - {layer_name}\", fontsize=16)\n",
    "            \n",
    "            # Plot feature maps\n",
    "            for i in range(min(num_features, layer_maps.shape[0])):\n",
    "                plt.subplot(grid_size, grid_size, i + 1)\n",
    "                plt.imshow(layer_maps[i].cpu().numpy(), cmap='viridis')\n",
    "                plt.axis('off')\n",
    "                plt.title(f\"Channel {i}\")\n",
    "            \n",
    "            plt.tight_layout(rect=[0, 0, 1, 0.97])\n",
    "            if save_path:\n",
    "                plt.savefig(f\"{save_path}/feature_maps_{layer_name}_image_{img_idx}.png\", dpi=300, bbox_inches='tight')\n",
    "            plt.show()\n",
    "\n",
    "\n",
    "def model_complexity_comparison(models_dict, input_size=(1, 3, 32, 32), device='cuda'):\n",
    "    \"\"\"\n",
    "    Compares model complexity (parameters, FLOPs, inference time).\n",
    "    \n",
    "    Args:\n",
    "        models_dict: Dictionary of {model_name: model}\n",
    "        input_size: Input tensor size\n",
    "        device: Device to run the models on\n",
    "        \n",
    "    Returns:\n",
    "        DataFrame with model complexity metrics\n",
    "    \"\"\"\n",
    "    import time\n",
    "    import pandas as pd\n",
    "    \n",
    "    results = {\n",
    "        'Model': [],\n",
    "        'Parameters (M)': [],\n",
    "        'Inference Time (ms)': [],\n",
    "        'Inference Time Std (ms)': [],\n",
    "        'Memory Usage (MB)': []\n",
    "    }\n",
    "    \n",
    "    dummy_input = torch.randn(input_size).to(device)\n",
    "    \n",
    "    for model_name, model in models_dict.items():\n",
    "        model.eval()\n",
    "        model = model.to(device)\n",
    "        \n",
    "        # Count parameters\n",
    "        num_params = sum(p.numel() for p in model.parameters() if p.requires_grad)\n",
    "        \n",
    "        # Measure inference time (warm-up + measurement)\n",
    "        times = []\n",
    "        \n",
    "        # Warm-up\n",
    "        for _ in range(10):\n",
    "            _ = model(dummy_input)\n",
    "        \n",
    "        # Measure\n",
    "        for _ in range(100):\n",
    "            torch.cuda.synchronize()\n",
    "            start_time = time.time()\n",
    "            _ = model(dummy_input)\n",
    "            torch.cuda.synchronize()\n",
    "            times.append((time.time() - start_time) * 1000)  # Convert to ms\n",
    "        \n",
    "        # Measure memory usage\n",
    "        torch.cuda.reset_peak_memory_stats()\n",
    "        _ = model(dummy_input)\n",
    "        memory_usage = torch.cuda.max_memory_allocated() / (1024 * 1024)  # Convert to MB\n",
    "        \n",
    "        # Store results\n",
    "        results['Model'].append(model_name)\n",
    "        results['Parameters (M)'].append(num_params / 1e6)\n",
    "        results['Inference Time (ms)'].append(np.mean(times))\n",
    "        results['Inference Time Std (ms)'].append(np.std(times))\n",
    "        results['Memory Usage (MB)'].append(memory_usage)\n",
    "    \n",
    "    # Create DataFrame\n",
    "    df = pd.DataFrame(results)\n",
    "    \n",
    "    # Print table\n",
    "    print(\"\\nModel Complexity Comparison:\")\n",
    "    print(df.to_string(index=False))\n",
    "    \n",
    "    # Create bar chart\n",
    "    plt.figure(figsize=(12, 6))\n",
    "    \n",
    "    # Parameters\n",
    "    plt.subplot(1, 3, 1)\n",
    "    plt.bar(df['Model'], df['Parameters (M)'])\n",
    "    plt.title('Parameters (M)')\n",
    "    plt.xticks(rotation=45)\n",
    "    \n",
    "    # Inference time\n",
    "    plt.subplot(1, 3, 2)\n",
    "    plt.bar(df['Model'], df['Inference Time (ms)'])\n",
    "    plt.title('Inference Time (ms)')\n",
    "    plt.xticks(rotation=45)\n",
    "    \n",
    "    # Memory usage\n",
    "    plt.subplot(1, 3, 3)\n",
    "    plt.bar(df['Model'], df['Memory Usage (MB)'])\n",
    "    plt.title('Memory Usage (MB)')\n",
    "    plt.xticks(rotation=45)\n",
    "    \n",
    "    plt.tight_layout()\n",
    "    plt.show()\n",
    "    \n",
    "    return df"
   ]
  },
  {
   "cell_type": "code",
   "execution_count": 31,
   "metadata": {},
   "outputs": [
    {
     "ename": "FileNotFoundError",
     "evalue": "[Errno 2] No such file or directory: 'attention_maps/attention_maps.png'",
     "output_type": "error",
     "traceback": [
      "\u001b[31m---------------------------------------------------------------------------\u001b[39m",
      "\u001b[31mFileNotFoundError\u001b[39m                         Traceback (most recent call last)",
      "\u001b[36mCell\u001b[39m\u001b[36m \u001b[39m\u001b[32mIn[31]\u001b[39m\u001b[32m, line 2\u001b[39m\n\u001b[32m      1\u001b[39m \u001b[38;5;66;03m## SEBlock attention maps\u001b[39;00m\n\u001b[32m----> \u001b[39m\u001b[32m2\u001b[39m \u001b[43mvisualize_attention_maps\u001b[49m\u001b[43m(\u001b[49m\u001b[43mcbam_model\u001b[49m\u001b[43m,\u001b[49m\u001b[43m \u001b[49m\u001b[43mtestloader\u001b[49m\u001b[43m,\u001b[49m\u001b[43m \u001b[49m\u001b[43mdevice\u001b[49m\u001b[43m,\u001b[49m\u001b[43m \u001b[49m\u001b[43mclass_names\u001b[49m\u001b[43m=\u001b[49m\u001b[43m[\u001b[49m\u001b[33;43m'\u001b[39;49m\u001b[33;43mairplane\u001b[39;49m\u001b[33;43m'\u001b[39;49m\u001b[43m,\u001b[49m\u001b[43m \u001b[49m\u001b[33;43m'\u001b[39;49m\u001b[33;43mautomobile\u001b[39;49m\u001b[33;43m'\u001b[39;49m\u001b[43m,\u001b[49m\u001b[43m \u001b[49m\u001b[33;43m'\u001b[39;49m\u001b[33;43mbird\u001b[39;49m\u001b[33;43m'\u001b[39;49m\u001b[43m,\u001b[49m\u001b[43m \u001b[49m\u001b[33;43m'\u001b[39;49m\u001b[33;43mcat\u001b[39;49m\u001b[33;43m'\u001b[39;49m\u001b[43m,\u001b[49m\u001b[43m \u001b[49m\u001b[33;43m'\u001b[39;49m\u001b[33;43mdeer\u001b[39;49m\u001b[33;43m'\u001b[39;49m\u001b[43m,\u001b[49m\u001b[43m \u001b[49m\u001b[33;43m'\u001b[39;49m\u001b[33;43mdog\u001b[39;49m\u001b[33;43m'\u001b[39;49m\u001b[43m,\u001b[49m\u001b[43m \u001b[49m\u001b[33;43m'\u001b[39;49m\u001b[33;43mfrog\u001b[39;49m\u001b[33;43m'\u001b[39;49m\u001b[43m,\u001b[49m\u001b[43m \u001b[49m\u001b[33;43m'\u001b[39;49m\u001b[33;43mhorse\u001b[39;49m\u001b[33;43m'\u001b[39;49m\u001b[43m,\u001b[49m\u001b[43m \u001b[49m\u001b[33;43m'\u001b[39;49m\u001b[33;43mship\u001b[39;49m\u001b[33;43m'\u001b[39;49m\u001b[43m,\u001b[49m\u001b[43m \u001b[49m\u001b[33;43m'\u001b[39;49m\u001b[33;43mtruck\u001b[39;49m\u001b[33;43m'\u001b[39;49m\u001b[43m]\u001b[49m\u001b[43m,\u001b[49m\u001b[43m \u001b[49m\u001b[43mnum_images\u001b[49m\u001b[43m=\u001b[49m\u001b[32;43m4\u001b[39;49m\u001b[43m,\u001b[49m\u001b[43m \u001b[49m\u001b[43msave_path\u001b[49m\u001b[43m=\u001b[49m\u001b[33;43m'\u001b[39;49m\u001b[33;43mattention_maps\u001b[39;49m\u001b[33;43m'\u001b[39;49m\u001b[43m)\u001b[49m\n",
      "\u001b[36mCell\u001b[39m\u001b[36m \u001b[39m\u001b[32mIn[29]\u001b[39m\u001b[32m, line 99\u001b[39m, in \u001b[36mvisualize_attention_maps\u001b[39m\u001b[34m(model, data_loader, device, class_names, num_images, save_path)\u001b[39m\n\u001b[32m     97\u001b[39m plt.tight_layout()\n\u001b[32m     98\u001b[39m \u001b[38;5;28;01mif\u001b[39;00m save_path:\n\u001b[32m---> \u001b[39m\u001b[32m99\u001b[39m     \u001b[43mplt\u001b[49m\u001b[43m.\u001b[49m\u001b[43msavefig\u001b[49m\u001b[43m(\u001b[49m\u001b[33;43mf\u001b[39;49m\u001b[33;43m\"\u001b[39;49m\u001b[38;5;132;43;01m{\u001b[39;49;00m\u001b[43msave_path\u001b[49m\u001b[38;5;132;43;01m}\u001b[39;49;00m\u001b[33;43m/attention_maps.png\u001b[39;49m\u001b[33;43m\"\u001b[39;49m\u001b[43m,\u001b[49m\u001b[43m \u001b[49m\u001b[43mdpi\u001b[49m\u001b[43m=\u001b[49m\u001b[32;43m300\u001b[39;49m\u001b[43m,\u001b[49m\u001b[43m \u001b[49m\u001b[43mbbox_inches\u001b[49m\u001b[43m=\u001b[49m\u001b[33;43m'\u001b[39;49m\u001b[33;43mtight\u001b[39;49m\u001b[33;43m'\u001b[39;49m\u001b[43m)\u001b[49m\n\u001b[32m    100\u001b[39m plt.show()\n",
      "\u001b[36mFile \u001b[39m\u001b[32m~/.pyenv/versions/3.12.5/lib/python3.12/site-packages/matplotlib/pyplot.py:1243\u001b[39m, in \u001b[36msavefig\u001b[39m\u001b[34m(*args, **kwargs)\u001b[39m\n\u001b[32m   1240\u001b[39m fig = gcf()\n\u001b[32m   1241\u001b[39m \u001b[38;5;66;03m# savefig default implementation has no return, so mypy is unhappy\u001b[39;00m\n\u001b[32m   1242\u001b[39m \u001b[38;5;66;03m# presumably this is here because subclasses can return?\u001b[39;00m\n\u001b[32m-> \u001b[39m\u001b[32m1243\u001b[39m res = \u001b[43mfig\u001b[49m\u001b[43m.\u001b[49m\u001b[43msavefig\u001b[49m\u001b[43m(\u001b[49m\u001b[43m*\u001b[49m\u001b[43margs\u001b[49m\u001b[43m,\u001b[49m\u001b[43m \u001b[49m\u001b[43m*\u001b[49m\u001b[43m*\u001b[49m\u001b[43mkwargs\u001b[49m\u001b[43m)\u001b[49m  \u001b[38;5;66;03m# type: ignore[func-returns-value]\u001b[39;00m\n\u001b[32m   1244\u001b[39m fig.canvas.draw_idle()  \u001b[38;5;66;03m# Need this if 'transparent=True', to reset colors.\u001b[39;00m\n\u001b[32m   1245\u001b[39m \u001b[38;5;28;01mreturn\u001b[39;00m res\n",
      "\u001b[36mFile \u001b[39m\u001b[32m~/.pyenv/versions/3.12.5/lib/python3.12/site-packages/matplotlib/figure.py:3490\u001b[39m, in \u001b[36mFigure.savefig\u001b[39m\u001b[34m(self, fname, transparent, **kwargs)\u001b[39m\n\u001b[32m   3488\u001b[39m     \u001b[38;5;28;01mfor\u001b[39;00m ax \u001b[38;5;129;01min\u001b[39;00m \u001b[38;5;28mself\u001b[39m.axes:\n\u001b[32m   3489\u001b[39m         _recursively_make_axes_transparent(stack, ax)\n\u001b[32m-> \u001b[39m\u001b[32m3490\u001b[39m \u001b[38;5;28;43mself\u001b[39;49m\u001b[43m.\u001b[49m\u001b[43mcanvas\u001b[49m\u001b[43m.\u001b[49m\u001b[43mprint_figure\u001b[49m\u001b[43m(\u001b[49m\u001b[43mfname\u001b[49m\u001b[43m,\u001b[49m\u001b[43m \u001b[49m\u001b[43m*\u001b[49m\u001b[43m*\u001b[49m\u001b[43mkwargs\u001b[49m\u001b[43m)\u001b[49m\n",
      "\u001b[36mFile \u001b[39m\u001b[32m~/.pyenv/versions/3.12.5/lib/python3.12/site-packages/matplotlib/backend_bases.py:2184\u001b[39m, in \u001b[36mFigureCanvasBase.print_figure\u001b[39m\u001b[34m(self, filename, dpi, facecolor, edgecolor, orientation, format, bbox_inches, pad_inches, bbox_extra_artists, backend, **kwargs)\u001b[39m\n\u001b[32m   2180\u001b[39m \u001b[38;5;28;01mtry\u001b[39;00m:\n\u001b[32m   2181\u001b[39m     \u001b[38;5;66;03m# _get_renderer may change the figure dpi (as vector formats\u001b[39;00m\n\u001b[32m   2182\u001b[39m     \u001b[38;5;66;03m# force the figure dpi to 72), so we need to set it again here.\u001b[39;00m\n\u001b[32m   2183\u001b[39m     \u001b[38;5;28;01mwith\u001b[39;00m cbook._setattr_cm(\u001b[38;5;28mself\u001b[39m.figure, dpi=dpi):\n\u001b[32m-> \u001b[39m\u001b[32m2184\u001b[39m         result = \u001b[43mprint_method\u001b[49m\u001b[43m(\u001b[49m\n\u001b[32m   2185\u001b[39m \u001b[43m            \u001b[49m\u001b[43mfilename\u001b[49m\u001b[43m,\u001b[49m\n\u001b[32m   2186\u001b[39m \u001b[43m            \u001b[49m\u001b[43mfacecolor\u001b[49m\u001b[43m=\u001b[49m\u001b[43mfacecolor\u001b[49m\u001b[43m,\u001b[49m\n\u001b[32m   2187\u001b[39m \u001b[43m            \u001b[49m\u001b[43medgecolor\u001b[49m\u001b[43m=\u001b[49m\u001b[43medgecolor\u001b[49m\u001b[43m,\u001b[49m\n\u001b[32m   2188\u001b[39m \u001b[43m            \u001b[49m\u001b[43morientation\u001b[49m\u001b[43m=\u001b[49m\u001b[43morientation\u001b[49m\u001b[43m,\u001b[49m\n\u001b[32m   2189\u001b[39m \u001b[43m            \u001b[49m\u001b[43mbbox_inches_restore\u001b[49m\u001b[43m=\u001b[49m\u001b[43m_bbox_inches_restore\u001b[49m\u001b[43m,\u001b[49m\n\u001b[32m   2190\u001b[39m \u001b[43m            \u001b[49m\u001b[43m*\u001b[49m\u001b[43m*\u001b[49m\u001b[43mkwargs\u001b[49m\u001b[43m)\u001b[49m\n\u001b[32m   2191\u001b[39m \u001b[38;5;28;01mfinally\u001b[39;00m:\n\u001b[32m   2192\u001b[39m     \u001b[38;5;28;01mif\u001b[39;00m bbox_inches \u001b[38;5;129;01mand\u001b[39;00m restore_bbox:\n",
      "\u001b[36mFile \u001b[39m\u001b[32m~/.pyenv/versions/3.12.5/lib/python3.12/site-packages/matplotlib/backend_bases.py:2040\u001b[39m, in \u001b[36mFigureCanvasBase._switch_canvas_and_return_print_method.<locals>.<lambda>\u001b[39m\u001b[34m(*args, **kwargs)\u001b[39m\n\u001b[32m   2036\u001b[39m     optional_kws = {  \u001b[38;5;66;03m# Passed by print_figure for other renderers.\u001b[39;00m\n\u001b[32m   2037\u001b[39m         \u001b[33m\"\u001b[39m\u001b[33mdpi\u001b[39m\u001b[33m\"\u001b[39m, \u001b[33m\"\u001b[39m\u001b[33mfacecolor\u001b[39m\u001b[33m\"\u001b[39m, \u001b[33m\"\u001b[39m\u001b[33medgecolor\u001b[39m\u001b[33m\"\u001b[39m, \u001b[33m\"\u001b[39m\u001b[33morientation\u001b[39m\u001b[33m\"\u001b[39m,\n\u001b[32m   2038\u001b[39m         \u001b[33m\"\u001b[39m\u001b[33mbbox_inches_restore\u001b[39m\u001b[33m\"\u001b[39m}\n\u001b[32m   2039\u001b[39m     skip = optional_kws - {*inspect.signature(meth).parameters}\n\u001b[32m-> \u001b[39m\u001b[32m2040\u001b[39m     print_method = functools.wraps(meth)(\u001b[38;5;28;01mlambda\u001b[39;00m *args, **kwargs: \u001b[43mmeth\u001b[49m\u001b[43m(\u001b[49m\n\u001b[32m   2041\u001b[39m \u001b[43m        \u001b[49m\u001b[43m*\u001b[49m\u001b[43margs\u001b[49m\u001b[43m,\u001b[49m\u001b[43m \u001b[49m\u001b[43m*\u001b[49m\u001b[43m*\u001b[49m\u001b[43m{\u001b[49m\u001b[43mk\u001b[49m\u001b[43m:\u001b[49m\u001b[43m \u001b[49m\u001b[43mv\u001b[49m\u001b[43m \u001b[49m\u001b[38;5;28;43;01mfor\u001b[39;49;00m\u001b[43m \u001b[49m\u001b[43mk\u001b[49m\u001b[43m,\u001b[49m\u001b[43m \u001b[49m\u001b[43mv\u001b[49m\u001b[43m \u001b[49m\u001b[38;5;129;43;01min\u001b[39;49;00m\u001b[43m \u001b[49m\u001b[43mkwargs\u001b[49m\u001b[43m.\u001b[49m\u001b[43mitems\u001b[49m\u001b[43m(\u001b[49m\u001b[43m)\u001b[49m\u001b[43m \u001b[49m\u001b[38;5;28;43;01mif\u001b[39;49;00m\u001b[43m \u001b[49m\u001b[43mk\u001b[49m\u001b[43m \u001b[49m\u001b[38;5;129;43;01mnot\u001b[39;49;00m\u001b[43m \u001b[49m\u001b[38;5;129;43;01min\u001b[39;49;00m\u001b[43m \u001b[49m\u001b[43mskip\u001b[49m\u001b[43m}\u001b[49m\u001b[43m)\u001b[49m)\n\u001b[32m   2042\u001b[39m \u001b[38;5;28;01melse\u001b[39;00m:  \u001b[38;5;66;03m# Let third-parties do as they see fit.\u001b[39;00m\n\u001b[32m   2043\u001b[39m     print_method = meth\n",
      "\u001b[36mFile \u001b[39m\u001b[32m~/.pyenv/versions/3.12.5/lib/python3.12/site-packages/matplotlib/backends/backend_agg.py:481\u001b[39m, in \u001b[36mFigureCanvasAgg.print_png\u001b[39m\u001b[34m(self, filename_or_obj, metadata, pil_kwargs)\u001b[39m\n\u001b[32m    434\u001b[39m \u001b[38;5;28;01mdef\u001b[39;00m \u001b[34mprint_png\u001b[39m(\u001b[38;5;28mself\u001b[39m, filename_or_obj, *, metadata=\u001b[38;5;28;01mNone\u001b[39;00m, pil_kwargs=\u001b[38;5;28;01mNone\u001b[39;00m):\n\u001b[32m    435\u001b[39m \u001b[38;5;250m    \u001b[39m\u001b[33;03m\"\"\"\u001b[39;00m\n\u001b[32m    436\u001b[39m \u001b[33;03m    Write the figure to a PNG file.\u001b[39;00m\n\u001b[32m    437\u001b[39m \n\u001b[32m   (...)\u001b[39m\u001b[32m    479\u001b[39m \u001b[33;03m        *metadata*, including the default 'Software' key.\u001b[39;00m\n\u001b[32m    480\u001b[39m \u001b[33;03m    \"\"\"\u001b[39;00m\n\u001b[32m--> \u001b[39m\u001b[32m481\u001b[39m     \u001b[38;5;28;43mself\u001b[39;49m\u001b[43m.\u001b[49m\u001b[43m_print_pil\u001b[49m\u001b[43m(\u001b[49m\u001b[43mfilename_or_obj\u001b[49m\u001b[43m,\u001b[49m\u001b[43m \u001b[49m\u001b[33;43m\"\u001b[39;49m\u001b[33;43mpng\u001b[39;49m\u001b[33;43m\"\u001b[39;49m\u001b[43m,\u001b[49m\u001b[43m \u001b[49m\u001b[43mpil_kwargs\u001b[49m\u001b[43m,\u001b[49m\u001b[43m \u001b[49m\u001b[43mmetadata\u001b[49m\u001b[43m)\u001b[49m\n",
      "\u001b[36mFile \u001b[39m\u001b[32m~/.pyenv/versions/3.12.5/lib/python3.12/site-packages/matplotlib/backends/backend_agg.py:430\u001b[39m, in \u001b[36mFigureCanvasAgg._print_pil\u001b[39m\u001b[34m(self, filename_or_obj, fmt, pil_kwargs, metadata)\u001b[39m\n\u001b[32m    425\u001b[39m \u001b[38;5;250m\u001b[39m\u001b[33;03m\"\"\"\u001b[39;00m\n\u001b[32m    426\u001b[39m \u001b[33;03mDraw the canvas, then save it using `.image.imsave` (to which\u001b[39;00m\n\u001b[32m    427\u001b[39m \u001b[33;03m*pil_kwargs* and *metadata* are forwarded).\u001b[39;00m\n\u001b[32m    428\u001b[39m \u001b[33;03m\"\"\"\u001b[39;00m\n\u001b[32m    429\u001b[39m FigureCanvasAgg.draw(\u001b[38;5;28mself\u001b[39m)\n\u001b[32m--> \u001b[39m\u001b[32m430\u001b[39m \u001b[43mmpl\u001b[49m\u001b[43m.\u001b[49m\u001b[43mimage\u001b[49m\u001b[43m.\u001b[49m\u001b[43mimsave\u001b[49m\u001b[43m(\u001b[49m\n\u001b[32m    431\u001b[39m \u001b[43m    \u001b[49m\u001b[43mfilename_or_obj\u001b[49m\u001b[43m,\u001b[49m\u001b[43m \u001b[49m\u001b[38;5;28;43mself\u001b[39;49m\u001b[43m.\u001b[49m\u001b[43mbuffer_rgba\u001b[49m\u001b[43m(\u001b[49m\u001b[43m)\u001b[49m\u001b[43m,\u001b[49m\u001b[43m \u001b[49m\u001b[38;5;28;43mformat\u001b[39;49m\u001b[43m=\u001b[49m\u001b[43mfmt\u001b[49m\u001b[43m,\u001b[49m\u001b[43m \u001b[49m\u001b[43morigin\u001b[49m\u001b[43m=\u001b[49m\u001b[33;43m\"\u001b[39;49m\u001b[33;43mupper\u001b[39;49m\u001b[33;43m\"\u001b[39;49m\u001b[43m,\u001b[49m\n\u001b[32m    432\u001b[39m \u001b[43m    \u001b[49m\u001b[43mdpi\u001b[49m\u001b[43m=\u001b[49m\u001b[38;5;28;43mself\u001b[39;49m\u001b[43m.\u001b[49m\u001b[43mfigure\u001b[49m\u001b[43m.\u001b[49m\u001b[43mdpi\u001b[49m\u001b[43m,\u001b[49m\u001b[43m \u001b[49m\u001b[43mmetadata\u001b[49m\u001b[43m=\u001b[49m\u001b[43mmetadata\u001b[49m\u001b[43m,\u001b[49m\u001b[43m \u001b[49m\u001b[43mpil_kwargs\u001b[49m\u001b[43m=\u001b[49m\u001b[43mpil_kwargs\u001b[49m\u001b[43m)\u001b[49m\n",
      "\u001b[36mFile \u001b[39m\u001b[32m~/.pyenv/versions/3.12.5/lib/python3.12/site-packages/matplotlib/image.py:1644\u001b[39m, in \u001b[36mimsave\u001b[39m\u001b[34m(fname, arr, vmin, vmax, cmap, format, origin, dpi, metadata, pil_kwargs)\u001b[39m\n\u001b[32m   1642\u001b[39m pil_kwargs.setdefault(\u001b[33m\"\u001b[39m\u001b[33mformat\u001b[39m\u001b[33m\"\u001b[39m, \u001b[38;5;28mformat\u001b[39m)\n\u001b[32m   1643\u001b[39m pil_kwargs.setdefault(\u001b[33m\"\u001b[39m\u001b[33mdpi\u001b[39m\u001b[33m\"\u001b[39m, (dpi, dpi))\n\u001b[32m-> \u001b[39m\u001b[32m1644\u001b[39m \u001b[43mimage\u001b[49m\u001b[43m.\u001b[49m\u001b[43msave\u001b[49m\u001b[43m(\u001b[49m\u001b[43mfname\u001b[49m\u001b[43m,\u001b[49m\u001b[43m \u001b[49m\u001b[43m*\u001b[49m\u001b[43m*\u001b[49m\u001b[43mpil_kwargs\u001b[49m\u001b[43m)\u001b[49m\n",
      "\u001b[36mFile \u001b[39m\u001b[32m~/.pyenv/versions/3.12.5/lib/python3.12/site-packages/PIL/Image.py:2591\u001b[39m, in \u001b[36mImage.save\u001b[39m\u001b[34m(self, fp, format, **params)\u001b[39m\n\u001b[32m   2589\u001b[39m         fp = builtins.open(filename, \u001b[33m\"\u001b[39m\u001b[33mr+b\u001b[39m\u001b[33m\"\u001b[39m)\n\u001b[32m   2590\u001b[39m     \u001b[38;5;28;01melse\u001b[39;00m:\n\u001b[32m-> \u001b[39m\u001b[32m2591\u001b[39m         fp = \u001b[43mbuiltins\u001b[49m\u001b[43m.\u001b[49m\u001b[43mopen\u001b[49m\u001b[43m(\u001b[49m\u001b[43mfilename\u001b[49m\u001b[43m,\u001b[49m\u001b[43m \u001b[49m\u001b[33;43m\"\u001b[39;49m\u001b[33;43mw+b\u001b[39;49m\u001b[33;43m\"\u001b[39;49m\u001b[43m)\u001b[49m\n\u001b[32m   2592\u001b[39m \u001b[38;5;28;01melse\u001b[39;00m:\n\u001b[32m   2593\u001b[39m     fp = cast(IO[\u001b[38;5;28mbytes\u001b[39m], fp)\n",
      "\u001b[31mFileNotFoundError\u001b[39m: [Errno 2] No such file or directory: 'attention_maps/attention_maps.png'"
     ]
    },
    {
     "data": {
      "image/png": "[encoded data removed]",
      "text/plain": [
       "<Figure size 1500x1600 with 20 Axes>"
      ]
     },
     "metadata": {},
     "output_type": "display_data"
    }
   ],
   "source": [
    "## SEBlock attention maps\n",
    "visualize_attention_maps(cbam_model, testloader, device, class_names=['airplane', 'automobile', 'bird', 'cat', 'deer', 'dog', 'frog', 'horse', 'ship', 'truck'], num_images=4, save_path='attention_maps')"
   ]
  },
  {
   "cell_type": "code",
   "execution_count": null,
   "metadata": {},
   "outputs": [],
   "source": []
  }
 ],
 "metadata": {
  "kernelspec": {
   "display_name": "Python 3",
   "language": "python",
   "name": "python3"
  },
  "language_info": {
   "codemirror_mode": {
    "name": "ipython",
    "version": 3
   },
   "file_extension": ".py",
   "mimetype": "text/x-python",
   "name": "python",
   "nbconvert_exporter": "python",
   "pygments_lexer": "ipython3",
   "version": "3.12.5"
  }
 },
 "nbformat": 4,
 "nbformat_minor": 2
}
